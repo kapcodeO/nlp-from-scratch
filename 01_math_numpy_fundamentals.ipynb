{
  "nbformat": 4,
  "nbformat_minor": 0,
  "metadata": {
    "colab": {
      "provenance": []
    },
    "kernelspec": {
      "name": "python3",
      "display_name": "Python 3"
    },
    "language_info": {
      "name": "python"
    }
  },
  "cells": [
    {
      "cell_type": "markdown",
      "source": [
        "# Math and Numpy Fundamentals for Deep Learning :"
      ],
      "metadata": {
        "id": "IpcXzJIDNQYZ"
      }
    },
    {
      "cell_type": "markdown",
      "source": [
        "### Vectors :     "
      ],
      "metadata": {
        "id": "PfdEIjJTNp2i"
      }
    },
    {
      "cell_type": "code",
      "source": [
        "import numpy as np\n",
        "\n",
        "# 1D vector\n",
        "vector = np.array([1, 1])\n",
        "\n",
        "\n",
        "# 2D vector\n",
        "matrix_2d = np.array([[1, 1],\n",
        "                   [1, 1]])\n",
        "\n",
        "# 3D vector\n",
        "matrix_3d = np.array([[[1, 2],\n",
        "                       [3, 4]],\n",
        "                      [[5, 6],\n",
        "                       [7, 8]],\n",
        "                      [[9, 10],\n",
        "                       [11, 12]]])"
      ],
      "metadata": {
        "id": "PaZ8ZFJEOJJb"
      },
      "execution_count": 1,
      "outputs": []
    },
    {
      "cell_type": "code",
      "source": [
        "vector, vector.ndim"
      ],
      "metadata": {
        "colab": {
          "base_uri": "https://localhost:8080/"
        },
        "id": "8b3_Lw-oOqnE",
        "outputId": "3019d74c-f349-4d06-bfd5-33b09a7ca6cd"
      },
      "execution_count": 2,
      "outputs": [
        {
          "output_type": "execute_result",
          "data": {
            "text/plain": [
              "(array([1, 1]), 1)"
            ]
          },
          "metadata": {},
          "execution_count": 2
        }
      ]
    },
    {
      "cell_type": "code",
      "source": [
        "matrix_2d, matrix_2d.ndim"
      ],
      "metadata": {
        "colab": {
          "base_uri": "https://localhost:8080/"
        },
        "id": "gu9cusTFOr21",
        "outputId": "a94ccf5b-816f-49b9-cbfd-545e8418e737"
      },
      "execution_count": 3,
      "outputs": [
        {
          "output_type": "execute_result",
          "data": {
            "text/plain": [
              "(array([[1, 1],\n",
              "        [1, 1]]),\n",
              " 2)"
            ]
          },
          "metadata": {},
          "execution_count": 3
        }
      ]
    },
    {
      "cell_type": "code",
      "source": [
        "matrix_3d, matrix_3d.ndim"
      ],
      "metadata": {
        "colab": {
          "base_uri": "https://localhost:8080/"
        },
        "id": "RxufhZnmO887",
        "outputId": "a544e1dc-8491-43a0-fa56-f365a3a5ddfb"
      },
      "execution_count": 4,
      "outputs": [
        {
          "output_type": "execute_result",
          "data": {
            "text/plain": [
              "(array([[[ 1,  2],\n",
              "         [ 3,  4]],\n",
              " \n",
              "        [[ 5,  6],\n",
              "         [ 7,  8]],\n",
              " \n",
              "        [[ 9, 10],\n",
              "         [11, 12]]]),\n",
              " 3)"
            ]
          },
          "metadata": {},
          "execution_count": 4
        }
      ]
    },
    {
      "cell_type": "code",
      "source": [
        "matrix_3d[2][1]"
      ],
      "metadata": {
        "colab": {
          "base_uri": "https://localhost:8080/"
        },
        "id": "PX7uUlmXcs46",
        "outputId": "538d00e8-d70c-4db5-c7b3-51c641abc461"
      },
      "execution_count": 5,
      "outputs": [
        {
          "output_type": "execute_result",
          "data": {
            "text/plain": [
              "array([11, 12])"
            ]
          },
          "metadata": {},
          "execution_count": 5
        }
      ]
    },
    {
      "cell_type": "markdown",
      "source": [
        "**Plotting a 1D vector :**"
      ],
      "metadata": {
        "id": "35_oyukbO-sF"
      }
    },
    {
      "cell_type": "code",
      "source": [
        "import matplotlib.pyplot as plt\n",
        "\n",
        "plt.figure(figsize = (5, 4))\n",
        "\n",
        "plt.xlim(0, 3)\n",
        "plt.ylim(0, 3)\n",
        "\n",
        "plt.arrow(0, 0, vector[0], vector[1], head_width = 0.1, head_length = 0.2)\n",
        "plt.show();"
      ],
      "metadata": {
        "colab": {
          "base_uri": "https://localhost:8080/",
          "height": 374
        },
        "id": "BrgEDvGWP9_I",
        "outputId": "b5e9010f-d978-4251-a191-1b5afd3b3c82"
      },
      "execution_count": 6,
      "outputs": [
        {
          "output_type": "display_data",
          "data": {
            "text/plain": [
              "<Figure size 500x400 with 1 Axes>"
            ],
            "image/png": "[encoded data removed]"
          },
          "metadata": {}
        }
      ]
    },
    {
      "cell_type": "markdown",
      "source": [
        "Length of the vector can be found using:\n",
        "- Euclidean Distance\n",
        "- L2 Norm\n",
        "\n",
        "Both are same by the way here is the formula to calculate L2 Norm:\n",
        "- $$||x||_2 = \\sqrt{x^2_1 + x^2_2 + \\cdots + x^2_n} $$"
      ],
      "metadata": {
        "id": "xNCS4yZ5QdsL"
      }
    },
    {
      "cell_type": "code",
      "source": [
        "# calculate the length of the above vector\n",
        "vector_length = np.sqrt(np.sum(vector ** 2))\n",
        "vector_length"
      ],
      "metadata": {
        "colab": {
          "base_uri": "https://localhost:8080/"
        },
        "id": "ebHRuvvvRwHt",
        "outputId": "a4964f75-e858-41bd-dbad-6ae552cb35a8"
      },
      "execution_count": 7,
      "outputs": [
        {
          "output_type": "execute_result",
          "data": {
            "text/plain": [
              "np.float64(1.4142135623730951)"
            ]
          },
          "metadata": {},
          "execution_count": 7
        }
      ]
    },
    {
      "cell_type": "markdown",
      "source": [
        "**Plotting a 3D vector :**"
      ],
      "metadata": {
        "id": "qXqfcU2ZSGO6"
      }
    },
    {
      "cell_type": "code",
      "source": [
        "v = np.array([0, 1, 1])\n",
        "\n",
        "# plots 3d vector\n",
        "fig = plt.figure()\n",
        "\n",
        "ax = fig.add_subplot(111, projection = \"3d\")\n",
        "\n",
        "ax.set_xlim([0, 3])\n",
        "ax.set_ylim([0, 3])\n",
        "ax.set_zlim([0, 3])\n",
        "\n",
        "ax.quiver(0, 0, 0, v[0], v[1], v[2], length = 1)\n",
        "fig.show();"
      ],
      "metadata": {
        "colab": {
          "base_uri": "https://localhost:8080/",
          "height": 420
        },
        "id": "2cLQ-FxVSgg9",
        "outputId": "a38496fc-08cc-45d9-f3b2-d469bf1112ea"
      },
      "execution_count": 8,
      "outputs": [
        {
          "output_type": "display_data",
          "data": {
            "text/plain": [
              "<Figure size 640x480 with 1 Axes>"
            ],
            "image/png": "[encoded data removed]"
          },
          "metadata": {}
        }
      ]
    },
    {
      "cell_type": "code",
      "source": [
        "# element wise vector addition\n",
        "v1 = np.array([1, 1])\n",
        "v2 = np.array([0, 1])\n",
        "\n",
        "v3 = v1 + v2\n",
        "v3"
      ],
      "metadata": {
        "colab": {
          "base_uri": "https://localhost:8080/"
        },
        "id": "POOS4rWBXJ5e",
        "outputId": "b3f6a5c4-d9d1-4af5-935b-883a7f2b8038"
      },
      "execution_count": 9,
      "outputs": [
        {
          "output_type": "execute_result",
          "data": {
            "text/plain": [
              "array([1, 2])"
            ]
          },
          "metadata": {},
          "execution_count": 9
        }
      ]
    },
    {
      "cell_type": "markdown",
      "source": [
        "### Basis Vector:\n",
        "\n",
        "plotting the basis vectors [0, 1] and [1 ,0]"
      ],
      "metadata": {
        "id": "NgnOdU3uXjVC"
      }
    },
    {
      "cell_type": "code",
      "source": [
        "v1 = np.array([1, 0])\n",
        "v2 = np.array([0, 1])\n",
        "\n",
        "plt.xlim(-1, 3)\n",
        "plt.ylim(-1, 3)\n",
        "\n",
        "plt.quiver([0, 0], [0, 0], [v1[0], v1[1]], [v2[0], v2[1]], angles=\"xy\",\n",
        "           scale_units=\"xy\", scale=1)\n",
        "plt.show();"
      ],
      "metadata": {
        "colab": {
          "base_uri": "https://localhost:8080/",
          "height": 435
        },
        "id": "4-WpUq-xYc7-",
        "outputId": "b2e488c0-b91f-4ac5-beb2-c064f99193e6"
      },
      "execution_count": 10,
      "outputs": [
        {
          "output_type": "display_data",
          "data": {
            "text/plain": [
              "<Figure size 640x480 with 1 Axes>"
            ],
            "image/png": "[encoded data removed]"
          },
          "metadata": {}
        }
      ]
    },
    {
      "cell_type": "code",
      "source": [
        "# reaching .3, 1\n",
        ".3 * v1 + v2"
      ],
      "metadata": {
        "colab": {
          "base_uri": "https://localhost:8080/"
        },
        "id": "tKWEvXdkZHzP",
        "outputId": "38f1a7a3-14fd-4261-c081-164fe996a2f1"
      },
      "execution_count": 11,
      "outputs": [
        {
          "output_type": "execute_result",
          "data": {
            "text/plain": [
              "array([0.3, 1. ])"
            ]
          },
          "metadata": {},
          "execution_count": 11
        }
      ]
    },
    {
      "cell_type": "code",
      "source": [
        "# reaching 5, 3\n",
        "5 * v1 + 3 * v2"
      ],
      "metadata": {
        "colab": {
          "base_uri": "https://localhost:8080/"
        },
        "id": "aUpkL1jvZgiR",
        "outputId": "1b3d8f17-1fa7-485e-8c09-68477721e195"
      },
      "execution_count": 12,
      "outputs": [
        {
          "output_type": "execute_result",
          "data": {
            "text/plain": [
              "array([5, 3])"
            ]
          },
          "metadata": {},
          "execution_count": 12
        }
      ]
    },
    {
      "cell_type": "markdown",
      "source": [
        "It means how many basis vector do we need to reach a certain point.\n",
        "\n",
        "**Note :** Basis vectors are orthogonal to each other:\n",
        "means they have a 90 degree angle between them"
      ],
      "metadata": {
        "id": "LGzyB3ovZpyd"
      }
    },
    {
      "cell_type": "code",
      "source": [
        "np.dot(v1, v2)"
      ],
      "metadata": {
        "colab": {
          "base_uri": "https://localhost:8080/"
        },
        "id": "G9OO8LSiaFBQ",
        "outputId": "58b2a169-9317-4e6a-ea6a-274053059fe7"
      },
      "execution_count": 13,
      "outputs": [
        {
          "output_type": "execute_result",
          "data": {
            "text/plain": [
              "np.int64(0)"
            ]
          },
          "metadata": {},
          "execution_count": 13
        }
      ]
    },
    {
      "cell_type": "markdown",
      "source": [
        "## **Matrix Operations :**"
      ],
      "metadata": {
        "id": "17m81UViaHlP"
      }
    },
    {
      "cell_type": "code",
      "source": [
        "M = np.array([[0, 1, 2], [1, 0, 2], [2, 1, 0]])\n",
        "M"
      ],
      "metadata": {
        "colab": {
          "base_uri": "https://localhost:8080/"
        },
        "id": "wmzeWImmcKJt",
        "outputId": "72d2ed50-909a-4333-e280-eb62c3cef39d"
      },
      "execution_count": 14,
      "outputs": [
        {
          "output_type": "execute_result",
          "data": {
            "text/plain": [
              "array([[0, 1, 2],\n",
              "       [1, 0, 2],\n",
              "       [2, 1, 0]])"
            ]
          },
          "metadata": {},
          "execution_count": 14
        }
      ]
    },
    {
      "cell_type": "code",
      "source": [
        "M.shape"
      ],
      "metadata": {
        "colab": {
          "base_uri": "https://localhost:8080/"
        },
        "id": "RfpsjCvOcWMF",
        "outputId": "d01eb98e-2764-4865-91dc-6f648a0890f0"
      },
      "execution_count": 15,
      "outputs": [
        {
          "output_type": "execute_result",
          "data": {
            "text/plain": [
              "(3, 3)"
            ]
          },
          "metadata": {},
          "execution_count": 15
        }
      ]
    },
    {
      "cell_type": "code",
      "source": [
        "M[0][0] = 10\n",
        "M"
      ],
      "metadata": {
        "colab": {
          "base_uri": "https://localhost:8080/"
        },
        "id": "aoOF2nW_cbjk",
        "outputId": "02b3285a-35c5-4912-e543-a98902f2e38c"
      },
      "execution_count": 16,
      "outputs": [
        {
          "output_type": "execute_result",
          "data": {
            "text/plain": [
              "array([[10,  1,  2],\n",
              "       [ 1,  0,  2],\n",
              "       [ 2,  1,  0]])"
            ]
          },
          "metadata": {},
          "execution_count": 16
        }
      ]
    },
    {
      "cell_type": "markdown",
      "source": [
        "### **Linear Regression :**\n",
        "\n",
        "$$\\hat{y} = wx + b$$\n",
        "\n",
        "- w = slope of the line\n",
        "- b = intercept of the line"
      ],
      "metadata": {
        "id": "lZqKjkuHdPob"
      }
    },
    {
      "cell_type": "code",
      "source": [
        "import pandas as pd\n",
        "\n",
        "# read in data\n",
        "data = pd.read_csv(\"/content/drive/MyDrive/NLP_from_scratch/data/clean_weather.csv\")\n",
        "# fill in any missing values in the data with the past values\n",
        "data.ffill()\n",
        "data.drop(\"Unnamed: 0\", inplace = True, axis = 1)\n",
        "targets = data[\"tmax_tomorrow\"]\n",
        "\n",
        "data.head()"
      ],
      "metadata": {
        "colab": {
          "base_uri": "https://localhost:8080/",
          "height": 201
        },
        "id": "q5WOcpt7dh4N",
        "outputId": "c72a04b9-079d-4c3d-a1bd-8d01a997bfd1"
      },
      "execution_count": 17,
      "outputs": [
        {
          "output_type": "execute_result",
          "data": {
            "text/plain": [
              "   tmax  tmin  rain  tmax_tomorrow\n",
              "0  60.0  35.0   0.0           52.0\n",
              "1  52.0  39.0   0.0           52.0\n",
              "2  52.0  35.0   0.0           53.0\n",
              "3  53.0  36.0   0.0           52.0\n",
              "4  52.0  35.0   0.0           50.0"
            ],
            "text/html": [
              "\n",
              "  <div id=\"df-83ba2a13-7b68-4519-8296-77c2e65ba9b2\" class=\"colab-df-container\">\n",
              "    <div>\n",
              "<style scoped>\n",
              "    .dataframe tbody tr th:only-of-type {\n",
              "        vertical-align: middle;\n",
              "    }\n",
              "\n",
              "    .dataframe tbody tr th {\n",
              "        vertical-align: top;\n",
              "    }\n",
              "\n",
              "    .dataframe thead th {\n",
              "        text-align: right;\n",
              "    }\n",
              "</style>\n",
              "<table border=\"1\" class=\"dataframe\">\n",
              "  <thead>\n",
              "    <tr style=\"text-align: right;\">\n",
              "      <th></th>\n",
              "      <th>tmax</th>\n",
              "      <th>tmin</th>\n",
              "      <th>rain</th>\n",
              "      <th>tmax_tomorrow</th>\n",
              "    </tr>\n",
              "  </thead>\n",
              "  <tbody>\n",
              "    <tr>\n",
              "      <th>0</th>\n",
              "      <td>60.0</td>\n",
              "      <td>35.0</td>\n",
              "      <td>0.0</td>\n",
              "      <td>52.0</td>\n",
              "    </tr>\n",
              "    <tr>\n",
              "      <th>1</th>\n",
              "      <td>52.0</td>\n",
              "      <td>39.0</td>\n",
              "      <td>0.0</td>\n",
              "      <td>52.0</td>\n",
              "    </tr>\n",
              "    <tr>\n",
              "      <th>2</th>\n",
              "      <td>52.0</td>\n",
              "      <td>35.0</td>\n",
              "      <td>0.0</td>\n",
              "      <td>53.0</td>\n",
              "    </tr>\n",
              "    <tr>\n",
              "      <th>3</th>\n",
              "      <td>53.0</td>\n",
              "      <td>36.0</td>\n",
              "      <td>0.0</td>\n",
              "      <td>52.0</td>\n",
              "    </tr>\n",
              "    <tr>\n",
              "      <th>4</th>\n",
              "      <td>52.0</td>\n",
              "      <td>35.0</td>\n",
              "      <td>0.0</td>\n",
              "      <td>50.0</td>\n",
              "    </tr>\n",
              "  </tbody>\n",
              "</table>\n",
              "</div>\n",
              "    <div class=\"colab-df-buttons\">\n",
              "\n",
              "  <div class=\"colab-df-container\">\n",
              "    <button class=\"colab-df-convert\" onclick=\"convertToInteractive('df-83ba2a13-7b68-4519-8296-77c2e65ba9b2')\"\n",
              "            title=\"Convert this dataframe to an interactive table.\"\n",
              "            style=\"display:none;\">\n",
              "\n",
              "  <svg xmlns=\"http://www.w3.org/2000/svg\" height=\"24px\" viewBox=\"0 -960 960 960\">\n",
              "    <path d=\"M120-120v-720h720v720H120Zm60-500h600v-160H180v160Zm220 220h160v-160H400v160Zm0 220h160v-160H400v160ZM180-400h160v-160H180v160Zm440 0h160v-160H620v160ZM180-180h160v-160H180v160Zm440 0h160v-160H620v160Z\"/>\n",
              "  </svg>\n",
              "    </button>\n",
              "\n",
              "  <style>\n",
              "    .colab-df-container {\n",
              "      display:flex;\n",
              "      gap: 12px;\n",
              "    }\n",
              "\n",
              "    .colab-df-convert {\n",
              "      background-color: #E8F0FE;\n",
              "      border: none;\n",
              "      border-radius: 50%;\n",
              "      cursor: pointer;\n",
              "      display: none;\n",
              "      fill: #1967D2;\n",
              "      height: 32px;\n",
              "      padding: 0 0 0 0;\n",
              "      width: 32px;\n",
              "    }\n",
              "\n",
              "    .colab-df-convert:hover {\n",
              "      background-color: #E2EBFA;\n",
              "      box-shadow: 0px 1px 2px rgba(60, 64, 67, 0.3), 0px 1px 3px 1px rgba(60, 64, 67, 0.15);\n",
              "      fill: #174EA6;\n",
              "    }\n",
              "\n",
              "    .colab-df-buttons div {\n",
              "      margin-bottom: 4px;\n",
              "    }\n",
              "\n",
              "    [theme=dark] .colab-df-convert {\n",
              "      background-color: #3B4455;\n",
              "      fill: #D2E3FC;\n",
              "    }\n",
              "\n",
              "    [theme=dark] .colab-df-convert:hover {\n",
              "      background-color: #434B5C;\n",
              "      box-shadow: 0px 1px 3px 1px rgba(0, 0, 0, 0.15);\n",
              "      filter: drop-shadow(0px 1px 2px rgba(0, 0, 0, 0.3));\n",
              "      fill: #FFFFFF;\n",
              "    }\n",
              "  </style>\n",
              "\n",
              "    <script>\n",
              "      const buttonEl =\n",
              "        document.querySelector('#df-83ba2a13-7b68-4519-8296-77c2e65ba9b2 button.colab-df-convert');\n",
              "      buttonEl.style.display =\n",
              "        google.colab.kernel.accessAllowed ? 'block' : 'none';\n",
              "\n",
              "      async function convertToInteractive(key) {\n",
              "        const element = document.querySelector('#df-83ba2a13-7b68-4519-8296-77c2e65ba9b2');\n",
              "        const dataTable =\n",
              "          await google.colab.kernel.invokeFunction('convertToInteractive',\n",
              "                                                    [key], {});\n",
              "        if (!dataTable) return;\n",
              "\n",
              "        const docLinkHtml = 'Like what you see? Visit the ' +\n",
              "          '<a target=\"_blank\" href=https://colab.research.google.com/notebooks/data_table.ipynb>data table notebook</a>'\n",
              "          + ' to learn more about interactive tables.';\n",
              "        element.innerHTML = '';\n",
              "        dataTable['output_type'] = 'display_data';\n",
              "        await google.colab.output.renderOutput(dataTable, element);\n",
              "        const docLink = document.createElement('div');\n",
              "        docLink.innerHTML = docLinkHtml;\n",
              "        element.appendChild(docLink);\n",
              "      }\n",
              "    </script>\n",
              "  </div>\n",
              "\n",
              "\n",
              "    <div id=\"df-81eefcc2-4eff-41b0-a129-9ad0b5995f61\">\n",
              "      <button class=\"colab-df-quickchart\" onclick=\"quickchart('df-81eefcc2-4eff-41b0-a129-9ad0b5995f61')\"\n",
              "                title=\"Suggest charts\"\n",
              "                style=\"display:none;\">\n",
              "\n",
              "<svg xmlns=\"http://www.w3.org/2000/svg\" height=\"24px\"viewBox=\"0 0 24 24\"\n",
              "     width=\"24px\">\n",
              "    <g>\n",
              "        <path d=\"M19 3H5c-1.1 0-2 .9-2 2v14c0 1.1.9 2 2 2h14c1.1 0 2-.9 2-2V5c0-1.1-.9-2-2-2zM9 17H7v-7h2v7zm4 0h-2V7h2v10zm4 0h-2v-4h2v4z\"/>\n",
              "    </g>\n",
              "</svg>\n",
              "      </button>\n",
              "\n",
              "<style>\n",
              "  .colab-df-quickchart {\n",
              "      --bg-color: #E8F0FE;\n",
              "      --fill-color: #1967D2;\n",
              "      --hover-bg-color: #E2EBFA;\n",
              "      --hover-fill-color: #174EA6;\n",
              "      --disabled-fill-color: #AAA;\n",
              "      --disabled-bg-color: #DDD;\n",
              "  }\n",
              "\n",
              "  [theme=dark] .colab-df-quickchart {\n",
              "      --bg-color: #3B4455;\n",
              "      --fill-color: #D2E3FC;\n",
              "      --hover-bg-color: #434B5C;\n",
              "      --hover-fill-color: #FFFFFF;\n",
              "      --disabled-bg-color: #3B4455;\n",
              "      --disabled-fill-color: #666;\n",
              "  }\n",
              "\n",
              "  .colab-df-quickchart {\n",
              "    background-color: var(--bg-color);\n",
              "    border: none;\n",
              "    border-radius: 50%;\n",
              "    cursor: pointer;\n",
              "    display: none;\n",
              "    fill: var(--fill-color);\n",
              "    height: 32px;\n",
              "    padding: 0;\n",
              "    width: 32px;\n",
              "  }\n",
              "\n",
              "  .colab-df-quickchart:hover {\n",
              "    background-color: var(--hover-bg-color);\n",
              "    box-shadow: 0 1px 2px rgba(60, 64, 67, 0.3), 0 1px 3px 1px rgba(60, 64, 67, 0.15);\n",
              "    fill: var(--button-hover-fill-color);\n",
              "  }\n",
              "\n",
              "  .colab-df-quickchart-complete:disabled,\n",
              "  .colab-df-quickchart-complete:disabled:hover {\n",
              "    background-color: var(--disabled-bg-color);\n",
              "    fill: var(--disabled-fill-color);\n",
              "    box-shadow: none;\n",
              "  }\n",
              "\n",
              "  .colab-df-spinner {\n",
              "    border: 2px solid var(--fill-color);\n",
              "    border-color: transparent;\n",
              "    border-bottom-color: var(--fill-color);\n",
              "    animation:\n",
              "      spin 1s steps(1) infinite;\n",
              "  }\n",
              "\n",
              "  @keyframes spin {\n",
              "    0% {\n",
              "      border-color: transparent;\n",
              "      border-bottom-color: var(--fill-color);\n",
              "      border-left-color: var(--fill-color);\n",
              "    }\n",
              "    20% {\n",
              "      border-color: transparent;\n",
              "      border-left-color: var(--fill-color);\n",
              "      border-top-color: var(--fill-color);\n",
              "    }\n",
              "    30% {\n",
              "      border-color: transparent;\n",
              "      border-left-color: var(--fill-color);\n",
              "      border-top-color: var(--fill-color);\n",
              "      border-right-color: var(--fill-color);\n",
              "    }\n",
              "    40% {\n",
              "      border-color: transparent;\n",
              "      border-right-color: var(--fill-color);\n",
              "      border-top-color: var(--fill-color);\n",
              "    }\n",
              "    60% {\n",
              "      border-color: transparent;\n",
              "      border-right-color: var(--fill-color);\n",
              "    }\n",
              "    80% {\n",
              "      border-color: transparent;\n",
              "      border-right-color: var(--fill-color);\n",
              "      border-bottom-color: var(--fill-color);\n",
              "    }\n",
              "    90% {\n",
              "      border-color: transparent;\n",
              "      border-bottom-color: var(--fill-color);\n",
              "    }\n",
              "  }\n",
              "</style>\n",
              "\n",
              "      <script>\n",
              "        async function quickchart(key) {\n",
              "          const quickchartButtonEl =\n",
              "            document.querySelector('#' + key + ' button');\n",
              "          quickchartButtonEl.disabled = true;  // To prevent multiple clicks.\n",
              "          quickchartButtonEl.classList.add('colab-df-spinner');\n",
              "          try {\n",
              "            const charts = await google.colab.kernel.invokeFunction(\n",
              "                'suggestCharts', [key], {});\n",
              "          } catch (error) {\n",
              "            console.error('Error during call to suggestCharts:', error);\n",
              "          }\n",
              "          quickchartButtonEl.classList.remove('colab-df-spinner');\n",
              "          quickchartButtonEl.classList.add('colab-df-quickchart-complete');\n",
              "        }\n",
              "        (() => {\n",
              "          let quickchartButtonEl =\n",
              "            document.querySelector('#df-81eefcc2-4eff-41b0-a129-9ad0b5995f61 button');\n",
              "          quickchartButtonEl.style.display =\n",
              "            google.colab.kernel.accessAllowed ? 'block' : 'none';\n",
              "        })();\n",
              "      </script>\n",
              "    </div>\n",
              "\n",
              "    </div>\n",
              "  </div>\n"
            ],
            "application/vnd.google.colaboratory.intrinsic+json": {
              "type": "dataframe",
              "variable_name": "data",
              "summary": "{\n  \"name\": \"data\",\n  \"rows\": 13509,\n  \"fields\": [\n    {\n      \"column\": \"tmax\",\n      \"properties\": {\n        \"dtype\": \"number\",\n        \"std\": 8.321769458469971,\n        \"min\": 38.0,\n        \"max\": 122.0,\n        \"num_unique_values\": 66,\n        \"samples\": [\n          43.0,\n          122.0,\n          60.0\n        ],\n        \"semantic_type\": \"\",\n        \"description\": \"\"\n      }\n    },\n    {\n      \"column\": \"tmin\",\n      \"properties\": {\n        \"dtype\": \"number\",\n        \"std\": 6.78579770467797,\n        \"min\": 1.0,\n        \"max\": 69.0,\n        \"num_unique_values\": 48,\n        \"samples\": [\n          37.0,\n          68.0,\n          40.0\n        ],\n        \"semantic_type\": \"\",\n        \"description\": \"\"\n      }\n    },\n    {\n      \"column\": \"rain\",\n      \"properties\": {\n        \"dtype\": \"number\",\n        \"std\": 0.18153310034630646,\n        \"min\": 0.0,\n        \"max\": 3.58,\n        \"num_unique_values\": 161,\n        \"samples\": [\n          1.29,\n          0.61,\n          1.52\n        ],\n        \"semantic_type\": \"\",\n        \"description\": \"\"\n      }\n    },\n    {\n      \"column\": \"tmax_tomorrow\",\n      \"properties\": {\n        \"dtype\": \"number\",\n        \"std\": 8.321625140373289,\n        \"min\": 38.0,\n        \"max\": 122.0,\n        \"num_unique_values\": 66,\n        \"samples\": [\n          43.0,\n          122.0,\n          52.0\n        ],\n        \"semantic_type\": \"\",\n        \"description\": \"\"\n      }\n    }\n  ]\n}"
            }
          },
          "metadata": {},
          "execution_count": 17
        }
      ]
    },
    {
      "cell_type": "markdown",
      "source": [
        "$$\\hat{y} = w_1x_1 + w_2x_2 + w_3x_3 + b$$\n",
        "\n",
        "- $x_1$ = tmax\n",
        "- $x_2$ = tmin\n",
        "- $x_3$ = rain"
      ],
      "metadata": {
        "id": "VygYmIskfICy"
      }
    },
    {
      "cell_type": "code",
      "source": [
        "data.drop([\"tmax_tomorrow\"], inplace = True, axis = 1)"
      ],
      "metadata": {
        "id": "2nqkYZZtjEdU"
      },
      "execution_count": 18,
      "outputs": []
    },
    {
      "cell_type": "code",
      "source": [
        " # first row prediction basis\n",
        "\n",
        "w1 = .7\n",
        "w2 = .3\n",
        "w3 = .1\n",
        "b = 10\n",
        "\n",
        "predicted_row_1 = w1 * 60 + w2 * 35 + w3 * 0 + 10\n",
        "predicted_row_1"
      ],
      "metadata": {
        "colab": {
          "base_uri": "https://localhost:8080/"
        },
        "id": "zJagkDf6gU7V",
        "outputId": "6aa16ea7-8d35-423b-8de4-0c9a14e54a39"
      },
      "execution_count": 19,
      "outputs": [
        {
          "output_type": "execute_result",
          "data": {
            "text/plain": [
              "62.5"
            ]
          },
          "metadata": {},
          "execution_count": 19
        }
      ]
    },
    {
      "cell_type": "markdown",
      "source": [
        "Now we just want to find the **weights** and **biases** to get an accurate\n",
        "prediction using Linear Regression.\n",
        "\n",
        "What we are doing is essentially matrix multiplication."
      ],
      "metadata": {
        "id": "YMKXzm3eg83B"
      }
    },
    {
      "cell_type": "code",
      "source": [
        "w = np.array([.7, .3, .1])\n",
        "x = np.array([60, 35, 0])\n",
        "b = 10\n",
        "\n",
        "np.dot(w, x) + b"
      ],
      "metadata": {
        "colab": {
          "base_uri": "https://localhost:8080/"
        },
        "id": "Lv1nekPChI06",
        "outputId": "7f27d898-3572-4e42-a42f-cc51bb26325d"
      },
      "execution_count": 20,
      "outputs": [
        {
          "output_type": "execute_result",
          "data": {
            "text/plain": [
              "np.float64(62.5)"
            ]
          },
          "metadata": {},
          "execution_count": 20
        }
      ]
    },
    {
      "cell_type": "code",
      "source": [
        "# first 3 row of data\n",
        "\n",
        "X = data.iloc[:3].to_numpy()\n",
        "X"
      ],
      "metadata": {
        "colab": {
          "base_uri": "https://localhost:8080/"
        },
        "id": "jiam8FmHhrNe",
        "outputId": "9d9bd5ed-3283-4635-a7df-526c0c6f64b4"
      },
      "execution_count": 21,
      "outputs": [
        {
          "output_type": "execute_result",
          "data": {
            "text/plain": [
              "array([[60., 35.,  0.],\n",
              "       [52., 39.,  0.],\n",
              "       [52., 35.,  0.]])"
            ]
          },
          "metadata": {},
          "execution_count": 21
        }
      ]
    },
    {
      "cell_type": "code",
      "source": [
        "X.shape"
      ],
      "metadata": {
        "colab": {
          "base_uri": "https://localhost:8080/"
        },
        "id": "MsvqMJleinT5",
        "outputId": "4815eaba-e0db-402f-a8c9-ce310014e946"
      },
      "execution_count": 22,
      "outputs": [
        {
          "output_type": "execute_result",
          "data": {
            "text/plain": [
              "(3, 3)"
            ]
          },
          "metadata": {},
          "execution_count": 22
        }
      ]
    },
    {
      "cell_type": "code",
      "source": [
        "w.shape"
      ],
      "metadata": {
        "colab": {
          "base_uri": "https://localhost:8080/"
        },
        "id": "3Ou_FzPrjLbd",
        "outputId": "30cd5870-0dae-4119-c9d0-768f3e5afe80"
      },
      "execution_count": 23,
      "outputs": [
        {
          "output_type": "execute_result",
          "data": {
            "text/plain": [
              "(3,)"
            ]
          },
          "metadata": {},
          "execution_count": 23
        }
      ]
    },
    {
      "cell_type": "code",
      "source": [
        "W = w.reshape(3, 1)\n",
        "W.shape, X.shape"
      ],
      "metadata": {
        "colab": {
          "base_uri": "https://localhost:8080/"
        },
        "id": "GyhALJA7jM1T",
        "outputId": "2b3eed3a-5532-4535-dec7-e5a2c2a9d482"
      },
      "execution_count": 24,
      "outputs": [
        {
          "output_type": "execute_result",
          "data": {
            "text/plain": [
              "((3, 1), (3, 3))"
            ]
          },
          "metadata": {},
          "execution_count": 24
        }
      ]
    },
    {
      "cell_type": "code",
      "source": [
        "b = np.array([10])\n",
        "\n",
        "# multiply matrix X to W\n",
        "X @ W + b"
      ],
      "metadata": {
        "colab": {
          "base_uri": "https://localhost:8080/"
        },
        "id": "3f6_Su_GjY4L",
        "outputId": "c7734fb1-2ebb-4dd3-92eb-6616a6100f8a"
      },
      "execution_count": 25,
      "outputs": [
        {
          "output_type": "execute_result",
          "data": {
            "text/plain": [
              "array([[62.5],\n",
              "       [58.1],\n",
              "       [56.9]])"
            ]
          },
          "metadata": {},
          "execution_count": 25
        }
      ]
    },
    {
      "cell_type": "code",
      "source": [
        "targets[:3].to_numpy().reshape(3, 1)"
      ],
      "metadata": {
        "colab": {
          "base_uri": "https://localhost:8080/"
        },
        "id": "sAHIIAT1jmbV",
        "outputId": "2e42ee73-7416-40e1-fb8e-3d09680101ac"
      },
      "execution_count": 26,
      "outputs": [
        {
          "output_type": "execute_result",
          "data": {
            "text/plain": [
              "array([[52.],\n",
              "       [52.],\n",
              "       [53.]])"
            ]
          },
          "metadata": {},
          "execution_count": 26
        }
      ]
    },
    {
      "cell_type": "markdown",
      "source": [
        "**finding W using vector projection technique :**\n",
        "$$W = (X^{T}X)^{-1}X^{T}Y$$\n",
        "\n",
        "- above equation is called **Normal Equation**.\n",
        "- provides a closed form solution without using iterative optimizations.\n",
        "- unstable if matrix is singular or close to being singular.\n",
        "- takes way high storage to store nxn matrix doesen't scale well with increase in data."
      ],
      "metadata": {
        "id": "8EfcxsCKjopv"
      }
    },
    {
      "cell_type": "code",
      "source": [
        "# test the normal equation\n",
        "(W.T @ X.T + b).T"
      ],
      "metadata": {
        "colab": {
          "base_uri": "https://localhost:8080/"
        },
        "id": "53brPpy-kOpX",
        "outputId": "d7cc8263-4a35-4408-e205-10204d1371ae"
      },
      "execution_count": 27,
      "outputs": [
        {
          "output_type": "execute_result",
          "data": {
            "text/plain": [
              "array([[62.5],\n",
              "       [58.1],\n",
              "       [56.9]])"
            ]
          },
          "metadata": {},
          "execution_count": 27
        }
      ]
    },
    {
      "cell_type": "code",
      "source": [
        "np.allclose((W.T @ X.T).T, X @ W)"
      ],
      "metadata": {
        "colab": {
          "base_uri": "https://localhost:8080/"
        },
        "id": "yXZdBTBjG6LN",
        "outputId": "90bbe584-298d-4225-97ec-bfbb3aaaaa21"
      },
      "execution_count": 28,
      "outputs": [
        {
          "output_type": "execute_result",
          "data": {
            "text/plain": [
              "True"
            ]
          },
          "metadata": {},
          "execution_count": 28
        }
      ]
    },
    {
      "cell_type": "markdown",
      "source": [
        "### **Matrix Inversion :**\n",
        "\n",
        "$I = (X^{T}X)^{-1}$"
      ],
      "metadata": {
        "id": "lzYTHo1iHydG"
      }
    },
    {
      "cell_type": "code",
      "source": [
        "np.eye(3)"
      ],
      "metadata": {
        "colab": {
          "base_uri": "https://localhost:8080/"
        },
        "id": "X_mCvXreIgny",
        "outputId": "7af322ca-e7e3-42d6-aaad-035646de1e2a"
      },
      "execution_count": 29,
      "outputs": [
        {
          "output_type": "execute_result",
          "data": {
            "text/plain": [
              "array([[1., 0., 0.],\n",
              "       [0., 1., 0.],\n",
              "       [0., 0., 1.]])"
            ]
          },
          "metadata": {},
          "execution_count": 29
        }
      ]
    },
    {
      "cell_type": "markdown",
      "source": [
        " Identity matrix is always a square matrix."
      ],
      "metadata": {
        "id": "Ol5m9TeKItf4"
      }
    },
    {
      "cell_type": "code",
      "source": [
        "# inverse a matrix\n",
        "try:\n",
        "  np.linalg.inv(X)\n",
        "except np.linalg.LinAlgError:\n",
        "  print(\"matrix is singluar so cannot be inversed.\")\n"
      ],
      "metadata": {
        "colab": {
          "base_uri": "https://localhost:8080/"
        },
        "id": "6l_P6hh-I5Lt",
        "outputId": "ae449273-f6c6-4e47-f2af-493994ed1cd2"
      },
      "execution_count": 30,
      "outputs": [
        {
          "output_type": "stream",
          "name": "stdout",
          "text": [
            "matrix is singluar so cannot be inversed.\n"
          ]
        }
      ]
    },
    {
      "cell_type": "code",
      "source": [
        "def inverse_matrix(matrix):\n",
        "  if np.linalg.det(matrix):\n",
        "    np.linalg.inv(matrix)\n",
        "  else:\n",
        "    print(\"matrix is singular so cannot be inversed.\")"
      ],
      "metadata": {
        "id": "PilJwVVvI_2i"
      },
      "execution_count": 31,
      "outputs": []
    },
    {
      "cell_type": "code",
      "source": [
        "inverse_matrix(X)"
      ],
      "metadata": {
        "colab": {
          "base_uri": "https://localhost:8080/"
        },
        "id": "2LkiIPdUJndx",
        "outputId": "e02b9f6a-445e-4ecd-d759-b23ff04975ea"
      },
      "execution_count": 32,
      "outputs": [
        {
          "output_type": "stream",
          "name": "stdout",
          "text": [
            "matrix is singular so cannot be inversed.\n"
          ]
        }
      ]
    },
    {
      "cell_type": "markdown",
      "source": [
        "The above problem can be tackled if we use:\n",
        "\n",
        "- **smoothing while inverse :**\n",
        "  - smoothing means to add a small value to every element so the determinant\n",
        "  doesen't become 0."
      ],
      "metadata": {
        "id": "zG3Blf1hJ73L"
      }
    },
    {
      "cell_type": "code",
      "source": [
        "# inverse using smoothing\n",
        "np.linalg.inv(X + .1 * np.eye(3))"
      ],
      "metadata": {
        "colab": {
          "base_uri": "https://localhost:8080/"
        },
        "id": "a0nG1k5wKljh",
        "outputId": "b5af8db8-811b-432a-ba22-d2cdf0a9c3bc"
      },
      "execution_count": 33,
      "outputs": [
        {
          "output_type": "execute_result",
          "data": {
            "text/plain": [
              "array([[ 0.07378611, -0.06604895,  0.        ],\n",
              "       [-0.09812987,  0.11341549,  0.        ],\n",
              "       [-4.02332472, -5.34996509, 10.        ]])"
            ]
          },
          "metadata": {},
          "execution_count": 33
        }
      ]
    },
    {
      "cell_type": "code",
      "source": [
        "# we inverted this matrix\n",
        "X + .1 * np.eye(3)"
      ],
      "metadata": {
        "colab": {
          "base_uri": "https://localhost:8080/"
        },
        "id": "jgS1QK2nKtuU",
        "outputId": "a5725d88-df9d-49ef-fc01-9d25bd4aeece"
      },
      "execution_count": 34,
      "outputs": [
        {
          "output_type": "execute_result",
          "data": {
            "text/plain": [
              "array([[60.1, 35. ,  0. ],\n",
              "       [52. , 39.1,  0. ],\n",
              "       [52. , 35. ,  0.1]])"
            ]
          },
          "metadata": {},
          "execution_count": 34
        }
      ]
    },
    {
      "cell_type": "code",
      "source": [
        "# this was the original matrix\n",
        "X"
      ],
      "metadata": {
        "colab": {
          "base_uri": "https://localhost:8080/"
        },
        "id": "LtbxP3qfK8cv",
        "outputId": "8ff03c42-6bc4-4a10-9aaa-3c9a45ce6669"
      },
      "execution_count": 35,
      "outputs": [
        {
          "output_type": "execute_result",
          "data": {
            "text/plain": [
              "array([[60., 35.,  0.],\n",
              "       [52., 39.,  0.],\n",
              "       [52., 35.,  0.]])"
            ]
          },
          "metadata": {},
          "execution_count": 35
        }
      ]
    },
    {
      "cell_type": "code",
      "source": [
        "# check the property inverse * matrix = identity(1)\n",
        "ridge = X + .1 * np.eye(3)\n",
        "inverse = np.linalg.inv(ridge)\n",
        "\n",
        "identity = (ridge @ inverse)\n",
        "identity"
      ],
      "metadata": {
        "colab": {
          "base_uri": "https://localhost:8080/"
        },
        "id": "pHebmyj0LE-i",
        "outputId": "45d7ab1c-3241-45d9-9485-beb5f300c483"
      },
      "execution_count": 36,
      "outputs": [
        {
          "output_type": "execute_result",
          "data": {
            "text/plain": [
              "array([[ 1.00000000e+00,  5.41233725e-16,  0.00000000e+00],\n",
              "       [ 1.06185910e-16,  1.00000000e+00,  0.00000000e+00],\n",
              "       [-1.12317084e-17,  5.25413240e-16,  1.00000000e+00]])"
            ]
          },
          "metadata": {},
          "execution_count": 36
        }
      ]
    },
    {
      "cell_type": "code",
      "source": [
        "# you can see we get the identity matrix by rounding\n",
        "identity.round(1)"
      ],
      "metadata": {
        "colab": {
          "base_uri": "https://localhost:8080/"
        },
        "id": "1078QbT3LiPr",
        "outputId": "2dcc44a1-c8a1-4cc8-ac1c-ccb0126e3cfa"
      },
      "execution_count": 37,
      "outputs": [
        {
          "output_type": "execute_result",
          "data": {
            "text/plain": [
              "array([[ 1.,  0.,  0.],\n",
              "       [ 0.,  1.,  0.],\n",
              "       [-0.,  0.,  1.]])"
            ]
          },
          "metadata": {},
          "execution_count": 37
        }
      ]
    },
    {
      "cell_type": "code",
      "source": [
        "# alternate approach to check the property\n",
        "np.allclose(identity, np.eye(3))"
      ],
      "metadata": {
        "colab": {
          "base_uri": "https://localhost:8080/"
        },
        "id": "fnP8Qx64Mav1",
        "outputId": "02abf7c3-9d2d-49da-8ffe-5b22fdb0d464"
      },
      "execution_count": 38,
      "outputs": [
        {
          "output_type": "execute_result",
          "data": {
            "text/plain": [
              "True"
            ]
          },
          "metadata": {},
          "execution_count": 38
        }
      ]
    },
    {
      "cell_type": "code",
      "source": [
        "# calculate the W using normal equation\n",
        "\n",
        "Y = targets.iloc[:3].to_numpy().reshape(3, 1)\n",
        "W = np.linalg.inv(X.T @ X + .1 * np.eye(3)) @ X.T @ Y\n",
        "\n",
        "W"
      ],
      "metadata": {
        "colab": {
          "base_uri": "https://localhost:8080/"
        },
        "id": "fe9W180QNF5F",
        "outputId": "26f89779-9748-443c-b1ab-bffaa85bb212"
      },
      "execution_count": 39,
      "outputs": [
        {
          "output_type": "execute_result",
          "data": {
            "text/plain": [
              "array([[0.38283829],\n",
              "       [0.86270249],\n",
              "       [0.        ]])"
            ]
          },
          "metadata": {},
          "execution_count": 39
        }
      ]
    },
    {
      "cell_type": "code",
      "source": [
        "# predicted values\n",
        "X @ W"
      ],
      "metadata": {
        "colab": {
          "base_uri": "https://localhost:8080/"
        },
        "id": "DeCdLhLROXAf",
        "outputId": "ae044d79-b5a7-42d5-9623-38c2db544793"
      },
      "execution_count": 40,
      "outputs": [
        {
          "output_type": "execute_result",
          "data": {
            "text/plain": [
              "array([[53.16488447],\n",
              "       [53.55298814],\n",
              "       [50.10217817]])"
            ]
          },
          "metadata": {},
          "execution_count": 40
        }
      ]
    },
    {
      "cell_type": "code",
      "source": [
        "# actual values\n",
        "Y"
      ],
      "metadata": {
        "colab": {
          "base_uri": "https://localhost:8080/"
        },
        "id": "0YvIoNwPOqrE",
        "outputId": "936495d9-9ee9-4801-e328-369a92d0a396"
      },
      "execution_count": 41,
      "outputs": [
        {
          "output_type": "execute_result",
          "data": {
            "text/plain": [
              "array([[52.],\n",
              "       [52.],\n",
              "       [53.]])"
            ]
          },
          "metadata": {},
          "execution_count": 41
        }
      ]
    },
    {
      "cell_type": "markdown",
      "source": [
        "We actually overfitted on our small dataset and we didn't calculated b which is important too."
      ],
      "metadata": {
        "id": "sVwW9o-NOszl"
      }
    },
    {
      "cell_type": "markdown",
      "source": [
        "### **Broadcasting :**\n",
        "\n",
        "Only possible if:\n",
        "* The smaller array has all of it's dimensions exactly matching the length dimensions of the larger array.\n",
        "* Or the smaller array is length 1 in the non-matching dimensions."
      ],
      "metadata": {
        "id": "Dgaxedl0PMmK"
      }
    },
    {
      "cell_type": "code",
      "source": [
        "# example\n",
        "b = np.array([10])\n",
        "\n",
        "X @ W"
      ],
      "metadata": {
        "colab": {
          "base_uri": "https://localhost:8080/"
        },
        "id": "9U0aOEMHQEfz",
        "outputId": "a7e92a28-b42e-46a1-ed30-20f508f93d43"
      },
      "execution_count": 42,
      "outputs": [
        {
          "output_type": "execute_result",
          "data": {
            "text/plain": [
              "array([[53.16488447],\n",
              "       [53.55298814],\n",
              "       [50.10217817]])"
            ]
          },
          "metadata": {},
          "execution_count": 42
        }
      ]
    },
    {
      "cell_type": "code",
      "source": [
        "# after broadcasting\n",
        "X @ W + b"
      ],
      "metadata": {
        "colab": {
          "base_uri": "https://localhost:8080/"
        },
        "id": "G4ohocn4Qk6k",
        "outputId": "9e9f454d-983a-4406-d365-8a0d08750936"
      },
      "execution_count": 43,
      "outputs": [
        {
          "output_type": "execute_result",
          "data": {
            "text/plain": [
              "array([[63.16488447],\n",
              "       [63.55298814],\n",
              "       [60.10217817]])"
            ]
          },
          "metadata": {},
          "execution_count": 43
        }
      ]
    },
    {
      "cell_type": "markdown",
      "source": [
        "numpy automatically broadcasted the 1D vector to 2D Matrix\n",
        "```\n",
        "[10] -> [[10],[10],[10]]\n",
        "```"
      ],
      "metadata": {
        "id": "vBViHkTmQ-Du"
      }
    },
    {
      "cell_type": "code",
      "source": [
        "# broadcasting examples\n",
        "\n",
        "A = np.ones((5, 1))\n",
        "A + np.ones((1, 1))"
      ],
      "metadata": {
        "colab": {
          "base_uri": "https://localhost:8080/"
        },
        "id": "hr2LJotmRRVv",
        "outputId": "d29161de-908e-4998-819a-6dc907f06546"
      },
      "execution_count": 44,
      "outputs": [
        {
          "output_type": "execute_result",
          "data": {
            "text/plain": [
              "array([[2.],\n",
              "       [2.],\n",
              "       [2.],\n",
              "       [2.],\n",
              "       [2.]])"
            ]
          },
          "metadata": {},
          "execution_count": 44
        }
      ]
    },
    {
      "cell_type": "code",
      "source": [
        "A + np.ones(1)"
      ],
      "metadata": {
        "colab": {
          "base_uri": "https://localhost:8080/"
        },
        "id": "7hMF2N9DSkS3",
        "outputId": "b23486f3-0189-4ed3-d8a1-796b04f898ba"
      },
      "execution_count": 45,
      "outputs": [
        {
          "output_type": "execute_result",
          "data": {
            "text/plain": [
              "array([[2.],\n",
              "       [2.],\n",
              "       [2.],\n",
              "       [2.],\n",
              "       [2.]])"
            ]
          },
          "metadata": {},
          "execution_count": 45
        }
      ]
    },
    {
      "cell_type": "code",
      "source": [
        "try :\n",
        "  A + np.ones((2, 1))\n",
        "except Exception as e:\n",
        "  print(e)"
      ],
      "metadata": {
        "colab": {
          "base_uri": "https://localhost:8080/"
        },
        "id": "qgTKouTWSnRp",
        "outputId": "695b883b-6a6a-4cad-be8c-321b43299228"
      },
      "execution_count": 46,
      "outputs": [
        {
          "output_type": "stream",
          "name": "stdout",
          "text": [
            "operands could not be broadcast together with shapes (5,1) (2,1) \n"
          ]
        }
      ]
    },
    {
      "cell_type": "markdown",
      "source": [
        "**⚠️ Note:** You can either have the same shapes or 1 in the row position."
      ],
      "metadata": {
        "id": "XOThGPNOSsz0"
      }
    },
    {
      "cell_type": "code",
      "source": [
        "try :\n",
        "  A + np.ones((1, 2))\n",
        "  print(True)\n",
        "except Exception as e:\n",
        "  print(e)"
      ],
      "metadata": {
        "colab": {
          "base_uri": "https://localhost:8080/"
        },
        "id": "4GIVSI0XTiia",
        "outputId": "3f5cfe13-8b32-4052-f2ed-b4cdc271498c"
      },
      "execution_count": 47,
      "outputs": [
        {
          "output_type": "stream",
          "name": "stdout",
          "text": [
            "True\n"
          ]
        }
      ]
    },
    {
      "cell_type": "code",
      "source": [
        "# broadcasting can also be used to multiply the matrix\n",
        "A * np.full((1, 1), 2)"
      ],
      "metadata": {
        "colab": {
          "base_uri": "https://localhost:8080/"
        },
        "id": "twRsEoomTmvc",
        "outputId": "3e5d3477-9da1-4e8e-ecb9-49c856bdfc4f"
      },
      "execution_count": 48,
      "outputs": [
        {
          "output_type": "execute_result",
          "data": {
            "text/plain": [
              "array([[2.],\n",
              "       [2.],\n",
              "       [2.],\n",
              "       [2.],\n",
              "       [2.]])"
            ]
          },
          "metadata": {},
          "execution_count": 48
        }
      ]
    },
    {
      "cell_type": "code",
      "source": [
        "A * np.random.randn(5, 1)"
      ],
      "metadata": {
        "colab": {
          "base_uri": "https://localhost:8080/"
        },
        "id": "awdi_w6lUZ3S",
        "outputId": "2e725f6c-3d96-42b1-86d5-c69951205548"
      },
      "execution_count": 49,
      "outputs": [
        {
          "output_type": "execute_result",
          "data": {
            "text/plain": [
              "array([[-0.49929855],\n",
              "       [ 0.01003562],\n",
              "       [ 1.24194583],\n",
              "       [-0.45827811],\n",
              "       [-1.18862163]])"
            ]
          },
          "metadata": {},
          "execution_count": 49
        }
      ]
    },
    {
      "cell_type": "code",
      "source": [
        "# Generate 10000 random numbers from a standard normal distribution\n",
        "normal_samples = np.random.randn(10000)\n",
        "\n",
        "plt.figure(figsize = (5, 4))\n",
        "plt.hist(normal_samples, bins=30, edgecolor='black')\n",
        "plt.title('Distribution of np.random.randn() samples (Standard Normal)')\n",
        "plt.xlabel('Value')\n",
        "plt.ylabel('Frequency')\n",
        "plt.show()"
      ],
      "metadata": {
        "colab": {
          "base_uri": "https://localhost:8080/",
          "height": 409
        },
        "id": "i77Zebd-UsdO",
        "outputId": "ac8b572c-935e-4310-a0cb-bd845346ce78"
      },
      "execution_count": 50,
      "outputs": [
        {
          "output_type": "display_data",
          "data": {
            "text/plain": [
              "<Figure size 500x400 with 1 Axes>"
            ],
            "image/png": "[encoded data removed]"
          },
          "metadata": {}
        }
      ]
    },
    {
      "cell_type": "code",
      "source": [
        "# Generate 10000 random numbers from a uniform distribution\n",
        "uniform_samples = np.random.rand(10000)\n",
        "\n",
        "plt.figure(figsize=(5, 4))\n",
        "plt.hist(uniform_samples, bins=20, edgecolor='black')\n",
        "plt.title('Distribution of np.random.rand() samples (Uniform)')\n",
        "plt.xlabel('Value')\n",
        "plt.ylabel('Frequency')\n",
        "plt.show()"
      ],
      "metadata": {
        "colab": {
          "base_uri": "https://localhost:8080/",
          "height": 409
        },
        "id": "HCIrYq-ZVFbI",
        "outputId": "63863686-b8bc-42d3-c6f4-af286488db93"
      },
      "execution_count": 51,
      "outputs": [
        {
          "output_type": "display_data",
          "data": {
            "text/plain": [
              "<Figure size 500x400 with 1 Axes>"
            ],
            "image/png": "[encoded data removed]"
          },
          "metadata": {}
        }
      ]
    },
    {
      "cell_type": "markdown",
      "source": [
        "## **Derivatives :**\n",
        "\n",
        "The derivative will tell us :     \n",
        "* The slope of the curve at any given point x.\n",
        "* The instantaneous rate at which y is increasing or decreasing with respect to x at that point.\n",
        "* An excellent approximation for the amount y will change (Δy) if x changes by a very small amount (Δx), given by Δy≈2x⋅Δx."
      ],
      "metadata": {
        "id": "5luBRuoaVIpv"
      }
    },
    {
      "cell_type": "code",
      "source": [
        "import matplotlib.pyplot as plt\n",
        "\n",
        "xs = np.arange(-10, 10, .1)\n",
        "ys = np.square(xs)\n",
        "plt.figure(figsize = (5, 4))\n",
        "plt.plot(xs, ys)\n",
        "plt.title(\"Parabola\")\n",
        "plt.show();"
      ],
      "metadata": {
        "colab": {
          "base_uri": "https://localhost:8080/",
          "height": 390
        },
        "id": "r4Fat8PuWKl7",
        "outputId": "6d1a3f59-2e55-4c1b-ce94-0f933b3f904c"
      },
      "execution_count": 52,
      "outputs": [
        {
          "output_type": "display_data",
          "data": {
            "text/plain": [
              "<Figure size 500x400 with 1 Axes>"
            ],
            "image/png": "[encoded data removed]"
          },
          "metadata": {}
        }
      ]
    },
    {
      "cell_type": "markdown",
      "source": [
        "The diffrence between the y values increases as the value of x increases."
      ],
      "metadata": {
        "id": "z0TCuzJ1XiTd"
      }
    },
    {
      "cell_type": "code",
      "source": [
        "# two values close to 5\n",
        "x1 = 5 - 1e-8\n",
        "x2 = 5 + 1e-8\n",
        "\n",
        "# calculate the corresponding y values\n",
        "y1 = x1 ** 2\n",
        "y2 = x2 ** 2\n",
        "\n",
        "# calculate the slope between those points\n",
        "slope = (y2-y1) / (x2-x1)\n",
        "slope"
      ],
      "metadata": {
        "colab": {
          "base_uri": "https://localhost:8080/"
        },
        "id": "7-EkbYYTYAHd",
        "outputId": "740fdd2a-f631-49c7-e8c2-90dd30053fdb"
      },
      "execution_count": 53,
      "outputs": [
        {
          "output_type": "execute_result",
          "data": {
            "text/plain": [
              "10.0"
            ]
          },
          "metadata": {},
          "execution_count": 53
        }
      ]
    },
    {
      "cell_type": "markdown",
      "source": [
        "$f'(5) = 10$"
      ],
      "metadata": {
        "id": "-CBuoiFAc_md"
      }
    },
    {
      "cell_type": "code",
      "source": [
        "ys = xs * 2\n",
        "\n",
        "plt.figure(figsize=(5, 4))\n",
        "plt.plot(xs, ys)\n",
        "plt.show();"
      ],
      "metadata": {
        "colab": {
          "base_uri": "https://localhost:8080/",
          "height": 368
        },
        "id": "0hKGBMYmdbwK",
        "outputId": "5db0ed0d-97d8-4c95-872b-8099309ed246"
      },
      "execution_count": 54,
      "outputs": [
        {
          "output_type": "display_data",
          "data": {
            "text/plain": [
              "<Figure size 500x400 with 1 Axes>"
            ],
            "image/png": "[encoded data removed]"
          },
          "metadata": {}
        }
      ]
    },
    {
      "cell_type": "code",
      "source": [],
      "metadata": {
        "id": "pVgN0VUtd4G9"
      },
      "execution_count": 54,
      "outputs": []
    }
  ]
}