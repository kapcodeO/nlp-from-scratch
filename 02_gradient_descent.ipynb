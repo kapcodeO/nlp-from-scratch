{
  "nbformat": 4,
  "nbformat_minor": 0,
  "metadata": {
    "colab": {
      "provenance": []
    },
    "kernelspec": {
      "name": "python3",
      "display_name": "Python 3"
    },
    "language_info": {
      "name": "python"
    }
  },
  "cells": [
    {
      "cell_type": "markdown",
      "source": [
        "# **Gradient Descent from Scratch :**\n",
        "\n",
        "Most important optimization technique used with conjuction of BackPropagation to train diffrent models including ANN, CNN, RNN, Trannsformers, etc..\n",
        "\n",
        "**🎯GOAL :** Use gradient descent to train linear regression model to predict `tmax_tomorrow` using `tmax, tmin, rain`."
      ],
      "metadata": {
        "id": "zndOCzw_ggN4"
      }
    },
    {
      "cell_type": "markdown",
      "source": [
        "## **Handling Data :**"
      ],
      "metadata": {
        "id": "5TT9XW3i704w"
      }
    },
    {
      "cell_type": "code",
      "source": [
        "# mount google drive\n",
        "from google.colab import drive\n",
        "drive.mount(\"/content/drive\", force_remount = True)"
      ],
      "metadata": {
        "colab": {
          "base_uri": "https://localhost:8080/"
        },
        "id": "Jo2QjrlJiCp0",
        "outputId": "ecee95a3-45af-4390-f2db-db2b0d638e6a"
      },
      "execution_count": 1,
      "outputs": [
        {
          "output_type": "stream",
          "name": "stdout",
          "text": [
            "Mounted at /content/drive\n"
          ]
        }
      ]
    },
    {
      "cell_type": "code",
      "source": [
        "# necessary imports\n",
        "import numpy as np\n",
        "import pandas as pd\n",
        "import seaborn as sns\n",
        "import matplotlib.pyplot as plt\n",
        "plt.rcParams[\"figure.figsize\"] = (5, 4)\n",
        "import warnings\n",
        "warnings.filterwarnings(\"ignore\")"
      ],
      "metadata": {
        "id": "SVkMxQFq6Wvg"
      },
      "execution_count": 1,
      "outputs": []
    },
    {
      "cell_type": "code",
      "source": [
        "# fetch the data\n",
        "data = pd.read_csv(\"/content/drive/MyDrive/NLP_from_scratch/data/clean_weather.csv\",\n",
        "                   index_col = 0)\n",
        "data.ffill(inplace = True)\n",
        "data.head()"
      ],
      "metadata": {
        "id": "L8ygOd1S5v5j",
        "colab": {
          "base_uri": "https://localhost:8080/",
          "height": 201
        },
        "outputId": "7c2289b0-f3ac-41e0-87c1-7b3ab2cc7bbb"
      },
      "execution_count": 49,
      "outputs": [
        {
          "output_type": "execute_result",
          "data": {
            "text/plain": [
              "            tmax  tmin  rain  tmax_tomorrow\n",
              "1970-01-01  60.0  35.0   0.0           52.0\n",
              "1970-01-02  52.0  39.0   0.0           52.0\n",
              "1970-01-03  52.0  35.0   0.0           53.0\n",
              "1970-01-04  53.0  36.0   0.0           52.0\n",
              "1970-01-05  52.0  35.0   0.0           50.0"
            ],
            "text/html": [
              "\n",
              "  <div id=\"df-b5527e26-c44f-4b7d-a273-bbabb42a3f62\" class=\"colab-df-container\">\n",
              "    <div>\n",
              "<style scoped>\n",
              "    .dataframe tbody tr th:only-of-type {\n",
              "        vertical-align: middle;\n",
              "    }\n",
              "\n",
              "    .dataframe tbody tr th {\n",
              "        vertical-align: top;\n",
              "    }\n",
              "\n",
              "    .dataframe thead th {\n",
              "        text-align: right;\n",
              "    }\n",
              "</style>\n",
              "<table border=\"1\" class=\"dataframe\">\n",
              "  <thead>\n",
              "    <tr style=\"text-align: right;\">\n",
              "      <th></th>\n",
              "      <th>tmax</th>\n",
              "      <th>tmin</th>\n",
              "      <th>rain</th>\n",
              "      <th>tmax_tomorrow</th>\n",
              "    </tr>\n",
              "  </thead>\n",
              "  <tbody>\n",
              "    <tr>\n",
              "      <th>1970-01-01</th>\n",
              "      <td>60.0</td>\n",
              "      <td>35.0</td>\n",
              "      <td>0.0</td>\n",
              "      <td>52.0</td>\n",
              "    </tr>\n",
              "    <tr>\n",
              "      <th>1970-01-02</th>\n",
              "      <td>52.0</td>\n",
              "      <td>39.0</td>\n",
              "      <td>0.0</td>\n",
              "      <td>52.0</td>\n",
              "    </tr>\n",
              "    <tr>\n",
              "      <th>1970-01-03</th>\n",
              "      <td>52.0</td>\n",
              "      <td>35.0</td>\n",
              "      <td>0.0</td>\n",
              "      <td>53.0</td>\n",
              "    </tr>\n",
              "    <tr>\n",
              "      <th>1970-01-04</th>\n",
              "      <td>53.0</td>\n",
              "      <td>36.0</td>\n",
              "      <td>0.0</td>\n",
              "      <td>52.0</td>\n",
              "    </tr>\n",
              "    <tr>\n",
              "      <th>1970-01-05</th>\n",
              "      <td>52.0</td>\n",
              "      <td>35.0</td>\n",
              "      <td>0.0</td>\n",
              "      <td>50.0</td>\n",
              "    </tr>\n",
              "  </tbody>\n",
              "</table>\n",
              "</div>\n",
              "    <div class=\"colab-df-buttons\">\n",
              "\n",
              "  <div class=\"colab-df-container\">\n",
              "    <button class=\"colab-df-convert\" onclick=\"convertToInteractive('df-b5527e26-c44f-4b7d-a273-bbabb42a3f62')\"\n",
              "            title=\"Convert this dataframe to an interactive table.\"\n",
              "            style=\"display:none;\">\n",
              "\n",
              "  <svg xmlns=\"http://www.w3.org/2000/svg\" height=\"24px\" viewBox=\"0 -960 960 960\">\n",
              "    <path d=\"M120-120v-720h720v720H120Zm60-500h600v-160H180v160Zm220 220h160v-160H400v160Zm0 220h160v-160H400v160ZM180-400h160v-160H180v160Zm440 0h160v-160H620v160ZM180-180h160v-160H180v160Zm440 0h160v-160H620v160Z\"/>\n",
              "  </svg>\n",
              "    </button>\n",
              "\n",
              "  <style>\n",
              "    .colab-df-container {\n",
              "      display:flex;\n",
              "      gap: 12px;\n",
              "    }\n",
              "\n",
              "    .colab-df-convert {\n",
              "      background-color: #E8F0FE;\n",
              "      border: none;\n",
              "      border-radius: 50%;\n",
              "      cursor: pointer;\n",
              "      display: none;\n",
              "      fill: #1967D2;\n",
              "      height: 32px;\n",
              "      padding: 0 0 0 0;\n",
              "      width: 32px;\n",
              "    }\n",
              "\n",
              "    .colab-df-convert:hover {\n",
              "      background-color: #E2EBFA;\n",
              "      box-shadow: 0px 1px 2px rgba(60, 64, 67, 0.3), 0px 1px 3px 1px rgba(60, 64, 67, 0.15);\n",
              "      fill: #174EA6;\n",
              "    }\n",
              "\n",
              "    .colab-df-buttons div {\n",
              "      margin-bottom: 4px;\n",
              "    }\n",
              "\n",
              "    [theme=dark] .colab-df-convert {\n",
              "      background-color: #3B4455;\n",
              "      fill: #D2E3FC;\n",
              "    }\n",
              "\n",
              "    [theme=dark] .colab-df-convert:hover {\n",
              "      background-color: #434B5C;\n",
              "      box-shadow: 0px 1px 3px 1px rgba(0, 0, 0, 0.15);\n",
              "      filter: drop-shadow(0px 1px 2px rgba(0, 0, 0, 0.3));\n",
              "      fill: #FFFFFF;\n",
              "    }\n",
              "  </style>\n",
              "\n",
              "    <script>\n",
              "      const buttonEl =\n",
              "        document.querySelector('#df-b5527e26-c44f-4b7d-a273-bbabb42a3f62 button.colab-df-convert');\n",
              "      buttonEl.style.display =\n",
              "        google.colab.kernel.accessAllowed ? 'block' : 'none';\n",
              "\n",
              "      async function convertToInteractive(key) {\n",
              "        const element = document.querySelector('#df-b5527e26-c44f-4b7d-a273-bbabb42a3f62');\n",
              "        const dataTable =\n",
              "          await google.colab.kernel.invokeFunction('convertToInteractive',\n",
              "                                                    [key], {});\n",
              "        if (!dataTable) return;\n",
              "\n",
              "        const docLinkHtml = 'Like what you see? Visit the ' +\n",
              "          '<a target=\"_blank\" href=https://colab.research.google.com/notebooks/data_table.ipynb>data table notebook</a>'\n",
              "          + ' to learn more about interactive tables.';\n",
              "        element.innerHTML = '';\n",
              "        dataTable['output_type'] = 'display_data';\n",
              "        await google.colab.output.renderOutput(dataTable, element);\n",
              "        const docLink = document.createElement('div');\n",
              "        docLink.innerHTML = docLinkHtml;\n",
              "        element.appendChild(docLink);\n",
              "      }\n",
              "    </script>\n",
              "  </div>\n",
              "\n",
              "\n",
              "    <div id=\"df-c8767fd5-4780-4340-9dda-552144ed0622\">\n",
              "      <button class=\"colab-df-quickchart\" onclick=\"quickchart('df-c8767fd5-4780-4340-9dda-552144ed0622')\"\n",
              "                title=\"Suggest charts\"\n",
              "                style=\"display:none;\">\n",
              "\n",
              "<svg xmlns=\"http://www.w3.org/2000/svg\" height=\"24px\"viewBox=\"0 0 24 24\"\n",
              "     width=\"24px\">\n",
              "    <g>\n",
              "        <path d=\"M19 3H5c-1.1 0-2 .9-2 2v14c0 1.1.9 2 2 2h14c1.1 0 2-.9 2-2V5c0-1.1-.9-2-2-2zM9 17H7v-7h2v7zm4 0h-2V7h2v10zm4 0h-2v-4h2v4z\"/>\n",
              "    </g>\n",
              "</svg>\n",
              "      </button>\n",
              "\n",
              "<style>\n",
              "  .colab-df-quickchart {\n",
              "      --bg-color: #E8F0FE;\n",
              "      --fill-color: #1967D2;\n",
              "      --hover-bg-color: #E2EBFA;\n",
              "      --hover-fill-color: #174EA6;\n",
              "      --disabled-fill-color: #AAA;\n",
              "      --disabled-bg-color: #DDD;\n",
              "  }\n",
              "\n",
              "  [theme=dark] .colab-df-quickchart {\n",
              "      --bg-color: #3B4455;\n",
              "      --fill-color: #D2E3FC;\n",
              "      --hover-bg-color: #434B5C;\n",
              "      --hover-fill-color: #FFFFFF;\n",
              "      --disabled-bg-color: #3B4455;\n",
              "      --disabled-fill-color: #666;\n",
              "  }\n",
              "\n",
              "  .colab-df-quickchart {\n",
              "    background-color: var(--bg-color);\n",
              "    border: none;\n",
              "    border-radius: 50%;\n",
              "    cursor: pointer;\n",
              "    display: none;\n",
              "    fill: var(--fill-color);\n",
              "    height: 32px;\n",
              "    padding: 0;\n",
              "    width: 32px;\n",
              "  }\n",
              "\n",
              "  .colab-df-quickchart:hover {\n",
              "    background-color: var(--hover-bg-color);\n",
              "    box-shadow: 0 1px 2px rgba(60, 64, 67, 0.3), 0 1px 3px 1px rgba(60, 64, 67, 0.15);\n",
              "    fill: var(--button-hover-fill-color);\n",
              "  }\n",
              "\n",
              "  .colab-df-quickchart-complete:disabled,\n",
              "  .colab-df-quickchart-complete:disabled:hover {\n",
              "    background-color: var(--disabled-bg-color);\n",
              "    fill: var(--disabled-fill-color);\n",
              "    box-shadow: none;\n",
              "  }\n",
              "\n",
              "  .colab-df-spinner {\n",
              "    border: 2px solid var(--fill-color);\n",
              "    border-color: transparent;\n",
              "    border-bottom-color: var(--fill-color);\n",
              "    animation:\n",
              "      spin 1s steps(1) infinite;\n",
              "  }\n",
              "\n",
              "  @keyframes spin {\n",
              "    0% {\n",
              "      border-color: transparent;\n",
              "      border-bottom-color: var(--fill-color);\n",
              "      border-left-color: var(--fill-color);\n",
              "    }\n",
              "    20% {\n",
              "      border-color: transparent;\n",
              "      border-left-color: var(--fill-color);\n",
              "      border-top-color: var(--fill-color);\n",
              "    }\n",
              "    30% {\n",
              "      border-color: transparent;\n",
              "      border-left-color: var(--fill-color);\n",
              "      border-top-color: var(--fill-color);\n",
              "      border-right-color: var(--fill-color);\n",
              "    }\n",
              "    40% {\n",
              "      border-color: transparent;\n",
              "      border-right-color: var(--fill-color);\n",
              "      border-top-color: var(--fill-color);\n",
              "    }\n",
              "    60% {\n",
              "      border-color: transparent;\n",
              "      border-right-color: var(--fill-color);\n",
              "    }\n",
              "    80% {\n",
              "      border-color: transparent;\n",
              "      border-right-color: var(--fill-color);\n",
              "      border-bottom-color: var(--fill-color);\n",
              "    }\n",
              "    90% {\n",
              "      border-color: transparent;\n",
              "      border-bottom-color: var(--fill-color);\n",
              "    }\n",
              "  }\n",
              "</style>\n",
              "\n",
              "      <script>\n",
              "        async function quickchart(key) {\n",
              "          const quickchartButtonEl =\n",
              "            document.querySelector('#' + key + ' button');\n",
              "          quickchartButtonEl.disabled = true;  // To prevent multiple clicks.\n",
              "          quickchartButtonEl.classList.add('colab-df-spinner');\n",
              "          try {\n",
              "            const charts = await google.colab.kernel.invokeFunction(\n",
              "                'suggestCharts', [key], {});\n",
              "          } catch (error) {\n",
              "            console.error('Error during call to suggestCharts:', error);\n",
              "          }\n",
              "          quickchartButtonEl.classList.remove('colab-df-spinner');\n",
              "          quickchartButtonEl.classList.add('colab-df-quickchart-complete');\n",
              "        }\n",
              "        (() => {\n",
              "          let quickchartButtonEl =\n",
              "            document.querySelector('#df-c8767fd5-4780-4340-9dda-552144ed0622 button');\n",
              "          quickchartButtonEl.style.display =\n",
              "            google.colab.kernel.accessAllowed ? 'block' : 'none';\n",
              "        })();\n",
              "      </script>\n",
              "    </div>\n",
              "\n",
              "    </div>\n",
              "  </div>\n"
            ],
            "application/vnd.google.colaboratory.intrinsic+json": {
              "type": "dataframe",
              "variable_name": "data",
              "summary": "{\n  \"name\": \"data\",\n  \"rows\": 13509,\n  \"fields\": [\n    {\n      \"column\": \"tmax\",\n      \"properties\": {\n        \"dtype\": \"number\",\n        \"std\": 8.328976736053626,\n        \"min\": 38.0,\n        \"max\": 122.0,\n        \"num_unique_values\": 66,\n        \"samples\": [\n          43.0,\n          122.0,\n          60.0\n        ],\n        \"semantic_type\": \"\",\n        \"description\": \"\"\n      }\n    },\n    {\n      \"column\": \"tmin\",\n      \"properties\": {\n        \"dtype\": \"number\",\n        \"std\": 6.792530879740785,\n        \"min\": 1.0,\n        \"max\": 69.0,\n        \"num_unique_values\": 48,\n        \"samples\": [\n          37.0,\n          68.0,\n          40.0\n        ],\n        \"semantic_type\": \"\",\n        \"description\": \"\"\n      }\n    },\n    {\n      \"column\": \"rain\",\n      \"properties\": {\n        \"dtype\": \"number\",\n        \"std\": 0.1805763898947246,\n        \"min\": 0.0,\n        \"max\": 3.58,\n        \"num_unique_values\": 161,\n        \"samples\": [\n          1.29,\n          0.61,\n          1.52\n        ],\n        \"semantic_type\": \"\",\n        \"description\": \"\"\n      }\n    },\n    {\n      \"column\": \"tmax_tomorrow\",\n      \"properties\": {\n        \"dtype\": \"number\",\n        \"std\": 8.328832488077406,\n        \"min\": 38.0,\n        \"max\": 122.0,\n        \"num_unique_values\": 66,\n        \"samples\": [\n          43.0,\n          122.0,\n          52.0\n        ],\n        \"semantic_type\": \"\",\n        \"description\": \"\"\n      }\n    }\n  ]\n}"
            }
          },
          "metadata": {},
          "execution_count": 49
        }
      ]
    },
    {
      "cell_type": "code",
      "source": [
        "data.info()"
      ],
      "metadata": {
        "colab": {
          "base_uri": "https://localhost:8080/"
        },
        "id": "26F_PUdE6zhH",
        "outputId": "954cf44e-c2fb-4ad1-8bde-c0d7ecd765f8"
      },
      "execution_count": 4,
      "outputs": [
        {
          "output_type": "stream",
          "name": "stdout",
          "text": [
            "<class 'pandas.core.frame.DataFrame'>\n",
            "Index: 13509 entries, 1970-01-01 to 2022-11-26\n",
            "Data columns (total 4 columns):\n",
            " #   Column         Non-Null Count  Dtype  \n",
            "---  ------         --------------  -----  \n",
            " 0   tmax           13509 non-null  float64\n",
            " 1   tmin           13509 non-null  float64\n",
            " 2   rain           13509 non-null  float64\n",
            " 3   tmax_tomorrow  13509 non-null  float64\n",
            "dtypes: float64(4)\n",
            "memory usage: 1.0+ MB\n"
          ]
        }
      ]
    },
    {
      "cell_type": "code",
      "source": [
        "data.shape"
      ],
      "metadata": {
        "colab": {
          "base_uri": "https://localhost:8080/"
        },
        "id": "zZVotZql7Evj",
        "outputId": "a8b11e49-c05d-42e7-a8b7-df1a44e3b626"
      },
      "execution_count": 5,
      "outputs": [
        {
          "output_type": "execute_result",
          "data": {
            "text/plain": [
              "(13509, 4)"
            ]
          },
          "metadata": {},
          "execution_count": 5
        }
      ]
    },
    {
      "cell_type": "markdown",
      "source": [
        "## **Linear Regression :**\n",
        "\n",
        "$$\\hat{y} = wx + b$$\n",
        "\n",
        "* $w$ is the weights.\n",
        "* $x$ is the row vector of data.\n",
        "* $b$ is the bias.\n",
        "* **Goal:** To find the \"best-fit\" straight line (or hyperplane in higher dimensions) that describes the linear relationship between the input features and the output variable\n",
        "\n"
      ],
      "metadata": {
        "id": "-6hAKx-X7riH"
      }
    },
    {
      "cell_type": "markdown",
      "source": [
        "**Exploring the data :**"
      ],
      "metadata": {
        "id": "aaBAXc4-8BWQ"
      }
    },
    {
      "cell_type": "code",
      "source": [
        "data.plot.scatter(\"tmax\", \"tmax_tomorrow\", alpha = 0.2, figsize=(5, 4));\n",
        "plt.plot([30, 120], [30, 120], c = \"r\", linestyle = \"--\", linewidth = 0.4);"
      ],
      "metadata": {
        "colab": {
          "base_uri": "https://localhost:8080/",
          "height": 388
        },
        "id": "QCu3Zb6O9Ff7",
        "outputId": "7e5a75f2-8914-4bea-cc62-15ecdabd4a5c"
      },
      "execution_count": 6,
      "outputs": [
        {
          "output_type": "display_data",
          "data": {
            "text/plain": [
              "<Figure size 500x400 with 1 Axes>"
            ],
            "image/png": "[encoded data removed]"
          },
          "metadata": {}
        }
      ]
    },
    {
      "cell_type": "code",
      "source": [
        "correlation_matrix = data.corr()\n",
        "correlation_matrix"
      ],
      "metadata": {
        "colab": {
          "base_uri": "https://localhost:8080/",
          "height": 170
        },
        "id": "Wzq-LHCy9X3R",
        "outputId": "c549b7aa-b16f-4256-ef8f-72066e4b4de9"
      },
      "execution_count": 7,
      "outputs": [
        {
          "output_type": "execute_result",
          "data": {
            "text/plain": [
              "                   tmax      tmin      rain  tmax_tomorrow\n",
              "tmax           1.000000  0.615604 -0.219941       0.818561\n",
              "tmin           0.615604  1.000000 -0.019546       0.585572\n",
              "rain          -0.219941 -0.019546  1.000000      -0.211799\n",
              "tmax_tomorrow  0.818561  0.585572 -0.211799       1.000000"
            ],
            "text/html": [
              "\n",
              "  <div id=\"df-77d11099-63e6-4ed1-8365-a560ac893080\" class=\"colab-df-container\">\n",
              "    <div>\n",
              "<style scoped>\n",
              "    .dataframe tbody tr th:only-of-type {\n",
              "        vertical-align: middle;\n",
              "    }\n",
              "\n",
              "    .dataframe tbody tr th {\n",
              "        vertical-align: top;\n",
              "    }\n",
              "\n",
              "    .dataframe thead th {\n",
              "        text-align: right;\n",
              "    }\n",
              "</style>\n",
              "<table border=\"1\" class=\"dataframe\">\n",
              "  <thead>\n",
              "    <tr style=\"text-align: right;\">\n",
              "      <th></th>\n",
              "      <th>tmax</th>\n",
              "      <th>tmin</th>\n",
              "      <th>rain</th>\n",
              "      <th>tmax_tomorrow</th>\n",
              "    </tr>\n",
              "  </thead>\n",
              "  <tbody>\n",
              "    <tr>\n",
              "      <th>tmax</th>\n",
              "      <td>1.000000</td>\n",
              "      <td>0.615604</td>\n",
              "      <td>-0.219941</td>\n",
              "      <td>0.818561</td>\n",
              "    </tr>\n",
              "    <tr>\n",
              "      <th>tmin</th>\n",
              "      <td>0.615604</td>\n",
              "      <td>1.000000</td>\n",
              "      <td>-0.019546</td>\n",
              "      <td>0.585572</td>\n",
              "    </tr>\n",
              "    <tr>\n",
              "      <th>rain</th>\n",
              "      <td>-0.219941</td>\n",
              "      <td>-0.019546</td>\n",
              "      <td>1.000000</td>\n",
              "      <td>-0.211799</td>\n",
              "    </tr>\n",
              "    <tr>\n",
              "      <th>tmax_tomorrow</th>\n",
              "      <td>0.818561</td>\n",
              "      <td>0.585572</td>\n",
              "      <td>-0.211799</td>\n",
              "      <td>1.000000</td>\n",
              "    </tr>\n",
              "  </tbody>\n",
              "</table>\n",
              "</div>\n",
              "    <div class=\"colab-df-buttons\">\n",
              "\n",
              "  <div class=\"colab-df-container\">\n",
              "    <button class=\"colab-df-convert\" onclick=\"convertToInteractive('df-77d11099-63e6-4ed1-8365-a560ac893080')\"\n",
              "            title=\"Convert this dataframe to an interactive table.\"\n",
              "            style=\"display:none;\">\n",
              "\n",
              "  <svg xmlns=\"http://www.w3.org/2000/svg\" height=\"24px\" viewBox=\"0 -960 960 960\">\n",
              "    <path d=\"M120-120v-720h720v720H120Zm60-500h600v-160H180v160Zm220 220h160v-160H400v160Zm0 220h160v-160H400v160ZM180-400h160v-160H180v160Zm440 0h160v-160H620v160ZM180-180h160v-160H180v160Zm440 0h160v-160H620v160Z\"/>\n",
              "  </svg>\n",
              "    </button>\n",
              "\n",
              "  <style>\n",
              "    .colab-df-container {\n",
              "      display:flex;\n",
              "      gap: 12px;\n",
              "    }\n",
              "\n",
              "    .colab-df-convert {\n",
              "      background-color: #E8F0FE;\n",
              "      border: none;\n",
              "      border-radius: 50%;\n",
              "      cursor: pointer;\n",
              "      display: none;\n",
              "      fill: #1967D2;\n",
              "      height: 32px;\n",
              "      padding: 0 0 0 0;\n",
              "      width: 32px;\n",
              "    }\n",
              "\n",
              "    .colab-df-convert:hover {\n",
              "      background-color: #E2EBFA;\n",
              "      box-shadow: 0px 1px 2px rgba(60, 64, 67, 0.3), 0px 1px 3px 1px rgba(60, 64, 67, 0.15);\n",
              "      fill: #174EA6;\n",
              "    }\n",
              "\n",
              "    .colab-df-buttons div {\n",
              "      margin-bottom: 4px;\n",
              "    }\n",
              "\n",
              "    [theme=dark] .colab-df-convert {\n",
              "      background-color: #3B4455;\n",
              "      fill: #D2E3FC;\n",
              "    }\n",
              "\n",
              "    [theme=dark] .colab-df-convert:hover {\n",
              "      background-color: #434B5C;\n",
              "      box-shadow: 0px 1px 3px 1px rgba(0, 0, 0, 0.15);\n",
              "      filter: drop-shadow(0px 1px 2px rgba(0, 0, 0, 0.3));\n",
              "      fill: #FFFFFF;\n",
              "    }\n",
              "  </style>\n",
              "\n",
              "    <script>\n",
              "      const buttonEl =\n",
              "        document.querySelector('#df-77d11099-63e6-4ed1-8365-a560ac893080 button.colab-df-convert');\n",
              "      buttonEl.style.display =\n",
              "        google.colab.kernel.accessAllowed ? 'block' : 'none';\n",
              "\n",
              "      async function convertToInteractive(key) {\n",
              "        const element = document.querySelector('#df-77d11099-63e6-4ed1-8365-a560ac893080');\n",
              "        const dataTable =\n",
              "          await google.colab.kernel.invokeFunction('convertToInteractive',\n",
              "                                                    [key], {});\n",
              "        if (!dataTable) return;\n",
              "\n",
              "        const docLinkHtml = 'Like what you see? Visit the ' +\n",
              "          '<a target=\"_blank\" href=https://colab.research.google.com/notebooks/data_table.ipynb>data table notebook</a>'\n",
              "          + ' to learn more about interactive tables.';\n",
              "        element.innerHTML = '';\n",
              "        dataTable['output_type'] = 'display_data';\n",
              "        await google.colab.output.renderOutput(dataTable, element);\n",
              "        const docLink = document.createElement('div');\n",
              "        docLink.innerHTML = docLinkHtml;\n",
              "        element.appendChild(docLink);\n",
              "      }\n",
              "    </script>\n",
              "  </div>\n",
              "\n",
              "\n",
              "    <div id=\"df-b813a02c-381a-463d-b70c-758461c9dc60\">\n",
              "      <button class=\"colab-df-quickchart\" onclick=\"quickchart('df-b813a02c-381a-463d-b70c-758461c9dc60')\"\n",
              "                title=\"Suggest charts\"\n",
              "                style=\"display:none;\">\n",
              "\n",
              "<svg xmlns=\"http://www.w3.org/2000/svg\" height=\"24px\"viewBox=\"0 0 24 24\"\n",
              "     width=\"24px\">\n",
              "    <g>\n",
              "        <path d=\"M19 3H5c-1.1 0-2 .9-2 2v14c0 1.1.9 2 2 2h14c1.1 0 2-.9 2-2V5c0-1.1-.9-2-2-2zM9 17H7v-7h2v7zm4 0h-2V7h2v10zm4 0h-2v-4h2v4z\"/>\n",
              "    </g>\n",
              "</svg>\n",
              "      </button>\n",
              "\n",
              "<style>\n",
              "  .colab-df-quickchart {\n",
              "      --bg-color: #E8F0FE;\n",
              "      --fill-color: #1967D2;\n",
              "      --hover-bg-color: #E2EBFA;\n",
              "      --hover-fill-color: #174EA6;\n",
              "      --disabled-fill-color: #AAA;\n",
              "      --disabled-bg-color: #DDD;\n",
              "  }\n",
              "\n",
              "  [theme=dark] .colab-df-quickchart {\n",
              "      --bg-color: #3B4455;\n",
              "      --fill-color: #D2E3FC;\n",
              "      --hover-bg-color: #434B5C;\n",
              "      --hover-fill-color: #FFFFFF;\n",
              "      --disabled-bg-color: #3B4455;\n",
              "      --disabled-fill-color: #666;\n",
              "  }\n",
              "\n",
              "  .colab-df-quickchart {\n",
              "    background-color: var(--bg-color);\n",
              "    border: none;\n",
              "    border-radius: 50%;\n",
              "    cursor: pointer;\n",
              "    display: none;\n",
              "    fill: var(--fill-color);\n",
              "    height: 32px;\n",
              "    padding: 0;\n",
              "    width: 32px;\n",
              "  }\n",
              "\n",
              "  .colab-df-quickchart:hover {\n",
              "    background-color: var(--hover-bg-color);\n",
              "    box-shadow: 0 1px 2px rgba(60, 64, 67, 0.3), 0 1px 3px 1px rgba(60, 64, 67, 0.15);\n",
              "    fill: var(--button-hover-fill-color);\n",
              "  }\n",
              "\n",
              "  .colab-df-quickchart-complete:disabled,\n",
              "  .colab-df-quickchart-complete:disabled:hover {\n",
              "    background-color: var(--disabled-bg-color);\n",
              "    fill: var(--disabled-fill-color);\n",
              "    box-shadow: none;\n",
              "  }\n",
              "\n",
              "  .colab-df-spinner {\n",
              "    border: 2px solid var(--fill-color);\n",
              "    border-color: transparent;\n",
              "    border-bottom-color: var(--fill-color);\n",
              "    animation:\n",
              "      spin 1s steps(1) infinite;\n",
              "  }\n",
              "\n",
              "  @keyframes spin {\n",
              "    0% {\n",
              "      border-color: transparent;\n",
              "      border-bottom-color: var(--fill-color);\n",
              "      border-left-color: var(--fill-color);\n",
              "    }\n",
              "    20% {\n",
              "      border-color: transparent;\n",
              "      border-left-color: var(--fill-color);\n",
              "      border-top-color: var(--fill-color);\n",
              "    }\n",
              "    30% {\n",
              "      border-color: transparent;\n",
              "      border-left-color: var(--fill-color);\n",
              "      border-top-color: var(--fill-color);\n",
              "      border-right-color: var(--fill-color);\n",
              "    }\n",
              "    40% {\n",
              "      border-color: transparent;\n",
              "      border-right-color: var(--fill-color);\n",
              "      border-top-color: var(--fill-color);\n",
              "    }\n",
              "    60% {\n",
              "      border-color: transparent;\n",
              "      border-right-color: var(--fill-color);\n",
              "    }\n",
              "    80% {\n",
              "      border-color: transparent;\n",
              "      border-right-color: var(--fill-color);\n",
              "      border-bottom-color: var(--fill-color);\n",
              "    }\n",
              "    90% {\n",
              "      border-color: transparent;\n",
              "      border-bottom-color: var(--fill-color);\n",
              "    }\n",
              "  }\n",
              "</style>\n",
              "\n",
              "      <script>\n",
              "        async function quickchart(key) {\n",
              "          const quickchartButtonEl =\n",
              "            document.querySelector('#' + key + ' button');\n",
              "          quickchartButtonEl.disabled = true;  // To prevent multiple clicks.\n",
              "          quickchartButtonEl.classList.add('colab-df-spinner');\n",
              "          try {\n",
              "            const charts = await google.colab.kernel.invokeFunction(\n",
              "                'suggestCharts', [key], {});\n",
              "          } catch (error) {\n",
              "            console.error('Error during call to suggestCharts:', error);\n",
              "          }\n",
              "          quickchartButtonEl.classList.remove('colab-df-spinner');\n",
              "          quickchartButtonEl.classList.add('colab-df-quickchart-complete');\n",
              "        }\n",
              "        (() => {\n",
              "          let quickchartButtonEl =\n",
              "            document.querySelector('#df-b813a02c-381a-463d-b70c-758461c9dc60 button');\n",
              "          quickchartButtonEl.style.display =\n",
              "            google.colab.kernel.accessAllowed ? 'block' : 'none';\n",
              "        })();\n",
              "      </script>\n",
              "    </div>\n",
              "\n",
              "  <div id=\"id_76e25ae6-ae51-4842-a8b4-dca7c8ced117\">\n",
              "    <style>\n",
              "      .colab-df-generate {\n",
              "        background-color: #E8F0FE;\n",
              "        border: none;\n",
              "        border-radius: 50%;\n",
              "        cursor: pointer;\n",
              "        display: none;\n",
              "        fill: #1967D2;\n",
              "        height: 32px;\n",
              "        padding: 0 0 0 0;\n",
              "        width: 32px;\n",
              "      }\n",
              "\n",
              "      .colab-df-generate:hover {\n",
              "        background-color: #E2EBFA;\n",
              "        box-shadow: 0px 1px 2px rgba(60, 64, 67, 0.3), 0px 1px 3px 1px rgba(60, 64, 67, 0.15);\n",
              "        fill: #174EA6;\n",
              "      }\n",
              "\n",
              "      [theme=dark] .colab-df-generate {\n",
              "        background-color: #3B4455;\n",
              "        fill: #D2E3FC;\n",
              "      }\n",
              "\n",
              "      [theme=dark] .colab-df-generate:hover {\n",
              "        background-color: #434B5C;\n",
              "        box-shadow: 0px 1px 3px 1px rgba(0, 0, 0, 0.15);\n",
              "        filter: drop-shadow(0px 1px 2px rgba(0, 0, 0, 0.3));\n",
              "        fill: #FFFFFF;\n",
              "      }\n",
              "    </style>\n",
              "    <button class=\"colab-df-generate\" onclick=\"generateWithVariable('correlation_matrix')\"\n",
              "            title=\"Generate code using this dataframe.\"\n",
              "            style=\"display:none;\">\n",
              "\n",
              "  <svg xmlns=\"http://www.w3.org/2000/svg\" height=\"24px\"viewBox=\"0 0 24 24\"\n",
              "       width=\"24px\">\n",
              "    <path d=\"M7,19H8.4L18.45,9,17,7.55,7,17.6ZM5,21V16.75L18.45,3.32a2,2,0,0,1,2.83,0l1.4,1.43a1.91,1.91,0,0,1,.58,1.4,1.91,1.91,0,0,1-.58,1.4L9.25,21ZM18.45,9,17,7.55Zm-12,3A5.31,5.31,0,0,0,4.9,8.1,5.31,5.31,0,0,0,1,6.5,5.31,5.31,0,0,0,4.9,4.9,5.31,5.31,0,0,0,6.5,1,5.31,5.31,0,0,0,8.1,4.9,5.31,5.31,0,0,0,12,6.5,5.46,5.46,0,0,0,6.5,12Z\"/>\n",
              "  </svg>\n",
              "    </button>\n",
              "    <script>\n",
              "      (() => {\n",
              "      const buttonEl =\n",
              "        document.querySelector('#id_76e25ae6-ae51-4842-a8b4-dca7c8ced117 button.colab-df-generate');\n",
              "      buttonEl.style.display =\n",
              "        google.colab.kernel.accessAllowed ? 'block' : 'none';\n",
              "\n",
              "      buttonEl.onclick = () => {\n",
              "        google.colab.notebook.generateWithVariable('correlation_matrix');\n",
              "      }\n",
              "      })();\n",
              "    </script>\n",
              "  </div>\n",
              "\n",
              "    </div>\n",
              "  </div>\n"
            ],
            "application/vnd.google.colaboratory.intrinsic+json": {
              "type": "dataframe",
              "variable_name": "correlation_matrix",
              "summary": "{\n  \"name\": \"correlation_matrix\",\n  \"rows\": 4,\n  \"fields\": [\n    {\n      \"column\": \"tmax\",\n      \"properties\": {\n        \"dtype\": \"number\",\n        \"std\": 0.5390384134963232,\n        \"min\": -0.21994085051457024,\n        \"max\": 1.0,\n        \"num_unique_values\": 4,\n        \"samples\": [\n          0.6156040224863463,\n          0.8185610069102122,\n          1.0\n        ],\n        \"semantic_type\": \"\",\n        \"description\": \"\"\n      }\n    },\n    {\n      \"column\": \"tmin\",\n      \"properties\": {\n        \"dtype\": \"number\",\n        \"std\": 0.42125508089609565,\n        \"min\": -0.019546003379352268,\n        \"max\": 1.0,\n        \"num_unique_values\": 4,\n        \"samples\": [\n          1.0,\n          0.585571859030141,\n          0.6156040224863463\n        ],\n        \"semantic_type\": \"\",\n        \"description\": \"\"\n      }\n    },\n    {\n      \"column\": \"rain\",\n      \"properties\": {\n        \"dtype\": \"number\",\n        \"std\": 0.582621382171492,\n        \"min\": -0.21994085051457024,\n        \"max\": 1.0,\n        \"num_unique_values\": 4,\n        \"samples\": [\n          -0.019546003379352268,\n          -0.2117989828789997,\n          -0.21994085051457024\n        ],\n        \"semantic_type\": \"\",\n        \"description\": \"\"\n      }\n    },\n    {\n      \"column\": \"tmax_tomorrow\",\n      \"properties\": {\n        \"dtype\": \"number\",\n        \"std\": 0.5342325865406491,\n        \"min\": -0.2117989828789997,\n        \"max\": 1.0,\n        \"num_unique_values\": 4,\n        \"samples\": [\n          0.585571859030141,\n          1.0,\n          0.8185610069102122\n        ],\n        \"semantic_type\": \"\",\n        \"description\": \"\"\n      }\n    }\n  ]\n}"
            }
          },
          "metadata": {},
          "execution_count": 7
        }
      ]
    },
    {
      "cell_type": "code",
      "source": [
        "plt.figure(figsize=(5, 4))\n",
        "sns.heatmap(correlation_matrix,\n",
        "            annot=True,\n",
        "            cmap='coolwarm',\n",
        "            fmt=\".2f\",\n",
        "            linewidths=.5)\n",
        "plt.title('Correlation Matrix Heatmap of Iris Dataset Features')\n",
        "plt.show();"
      ],
      "metadata": {
        "colab": {
          "base_uri": "https://localhost:8080/",
          "height": 390
        },
        "id": "602odMba9kJG",
        "outputId": "f2add441-b461-42bf-ced9-5b72452cabc8"
      },
      "execution_count": 8,
      "outputs": [
        {
          "output_type": "display_data",
          "data": {
            "text/plain": [
              "<Figure size 500x400 with 2 Axes>"
            ],
            "image/png": "[encoded data removed]"
          },
          "metadata": {}
        }
      ]
    },
    {
      "cell_type": "markdown",
      "source": [
        "We can see that we have almost a linear relationship with `tmax` and `tmax_tomorrow`.\n",
        "\n",
        "* The equation which we need to optimize is $\\hat{y} = w_1x_1 + w_2x_2 + w_3x_3 + b$\n",
        "* We need to use gradient descent to optimize $w$ and $b$."
      ],
      "metadata": {
        "id": "ZrHis2kj-HJI"
      }
    },
    {
      "cell_type": "markdown",
      "source": [
        "## **Training Linear Regression using Scikit-Learn :**"
      ],
      "metadata": {
        "id": "JI-kILA6AaVX"
      }
    },
    {
      "cell_type": "code",
      "source": [
        "from sklearn.linear_model import LinearRegression\n",
        "from sklearn.model_selection import train_test_split\n",
        "# scale the features before training\n",
        "from sklearn.preprocessing import StandardScaler\n",
        "\n",
        "PREDICTORS = [\"tmax\", \"tmin\", \"rain\"]\n",
        "TARGET = [\"tmax_tomorrow\"]\n",
        "\n",
        "np.random.seed(0)\n",
        "split_data = np.split(data, [int(0.7 * len(data)), int(0.85 * len(data))])\n",
        "(train_x, train_y), (valid_x, valid_y), (test_x, test_y) = [[d[PREDICTORS].to_numpy(), d[TARGET].to_numpy()] for d in split_data ]\n",
        "\n",
        "scaler = StandardScaler()\n",
        "train_x = scaler.fit_transform(train_x)\n",
        "valid_x = scaler.fit_transform(valid_x)\n",
        "\n",
        "model = LinearRegression()\n",
        "model.fit(train_x, train_y)\n",
        "\n",
        "y_pred = model.predict(X_test)"
      ],
      "metadata": {
        "id": "jxoMR2P9CC1v"
      },
      "execution_count": 53,
      "outputs": []
    },
    {
      "cell_type": "code",
      "source": [
        "y_test.shape, y_pred.shape, X_test.shape"
      ],
      "metadata": {
        "colab": {
          "base_uri": "https://localhost:8080/"
        },
        "id": "zx9lvWyAgve1",
        "outputId": "5a242a9a-bd3f-46b4-b0ba-1d4270eaa870"
      },
      "execution_count": 10,
      "outputs": [
        {
          "output_type": "execute_result",
          "data": {
            "text/plain": [
              "((4053,), (4053,), (4053, 3))"
            ]
          },
          "metadata": {},
          "execution_count": 10
        }
      ]
    },
    {
      "cell_type": "code",
      "source": [
        "x = X_test[\"tmax\"]\n",
        "y_true = y_test\n",
        "y_pred = y_pred\n",
        "\n",
        "plt.scatter(x, y_true, label = \"True Values\", s = 0.5)\n",
        "plt.scatter(x, y_pred, color = \"red\", label = \"Predictions\", s = 0.5)\n",
        "plt.legend()\n",
        "plt.show();"
      ],
      "metadata": {
        "colab": {
          "base_uri": "https://localhost:8080/",
          "height": 368
        },
        "id": "klaCwtG6fA-J",
        "outputId": "e17757f7-3ae4-45d0-a614-fb8ee66d5d99"
      },
      "execution_count": 11,
      "outputs": [
        {
          "output_type": "display_data",
          "data": {
            "text/plain": [
              "<Figure size 500x400 with 1 Axes>"
            ],
            "image/png": "[encoded data removed]"
          },
          "metadata": {}
        }
      ]
    },
    {
      "cell_type": "code",
      "source": [
        "# params extraction\n",
        "weights_lr = model.coef_\n",
        "biases_lr = model.intercept_\n",
        "\n",
        "weights_lr, biases_lr"
      ],
      "metadata": {
        "colab": {
          "base_uri": "https://localhost:8080/"
        },
        "id": "FMSDVAt1hmQL",
        "outputId": "f54b47f1-9f78-460a-dd9e-91c5cd48e4c7"
      },
      "execution_count": 54,
      "outputs": [
        {
          "output_type": "execute_result",
          "data": {
            "text/plain": [
              "(array([[ 5.91306141,  1.23953724, -0.38903148]]), array([65.28807107]))"
            ]
          },
          "metadata": {},
          "execution_count": 54
        }
      ]
    },
    {
      "cell_type": "code",
      "source": [
        "print(f\"Weight: {model.coef_[0]:.2f}\")\n",
        "print(f\"Bias : {model.intercept_:.2f}\")"
      ],
      "metadata": {
        "colab": {
          "base_uri": "https://localhost:8080/"
        },
        "id": "xNJ5IAfgQBlW",
        "outputId": "e3eb3d8d-af66-4468-deb9-abaf348c3618"
      },
      "execution_count": 14,
      "outputs": [
        {
          "output_type": "stream",
          "name": "stdout",
          "text": [
            "Weight: 0.73\n",
            "Bias : 9.56\n"
          ]
        }
      ]
    },
    {
      "cell_type": "markdown",
      "source": [
        "Now we need to calculate the loss:\n",
        "\n",
        "* Here the loss is Mean Squared Error (MSE):\n",
        "$$MSE = \\frac{1}n\\sum_{i=1}^n(y_i - \\hat{y}_i)^2$$"
      ],
      "metadata": {
        "id": "af6OUlUxPrf3"
      }
    },
    {
      "cell_type": "code",
      "source": [
        "# calculate and plot diffrent losses for diffrent weight values\n",
        "loss = lambda w, y: ((w * 80 + 11.99) - y) ** 2\n",
        "y = 81\n",
        "ws = np.arange(-1, 3, .1)\n",
        "losses = loss(ws, y)\n",
        "\n",
        "plt.scatter(ws, losses)\n",
        "plt.plot(1, loss(1, y), \"ro\")\n",
        "plt.show();"
      ],
      "metadata": {
        "colab": {
          "base_uri": "https://localhost:8080/",
          "height": 368
        },
        "id": "2rUavNWuQMhr",
        "outputId": "ccec30c4-dc40-49b0-dd09-fca802cd7b77"
      },
      "execution_count": 15,
      "outputs": [
        {
          "output_type": "display_data",
          "data": {
            "text/plain": [
              "<Figure size 500x400 with 1 Axes>"
            ],
            "image/png": "[encoded data removed]"
          },
          "metadata": {}
        }
      ]
    },
    {
      "cell_type": "code",
      "source": [
        "# calculate the gradient at a certain point\n",
        "gradient = lambda w, y: ((w * 80 + 11.99) - y) * 2\n",
        "gradients = gradient(ws, y)\n",
        "\n",
        "plt.scatter(ws, gradients)\n",
        "plt.plot(1, gradient(1, y), \"ro\")\n",
        "plt.show();"
      ],
      "metadata": {
        "colab": {
          "base_uri": "https://localhost:8080/",
          "height": 368
        },
        "id": "J-W2RAlFsafs",
        "outputId": "3f131870-4e76-4e8e-80e9-eb917d826fb3"
      },
      "execution_count": 16,
      "outputs": [
        {
          "output_type": "display_data",
          "data": {
            "text/plain": [
              "<Figure size 500x400 with 1 Axes>"
            ],
            "image/png": "[encoded data removed]"
          },
          "metadata": {}
        }
      ]
    },
    {
      "cell_type": "markdown",
      "source": [
        "We can now see that the weights is directly proportional to loss\n",
        "\n",
        "* if we increase the weight a little bit the loss changes a lot.\n",
        "* to optimize the loss $L$ we need to take the partial derivative\n",
        " w.r.t both $w$ and $b$.\n",
        "* $$RSS\\;(L) = \\sum_{i=1}^n\\;(y - (wx_i + b))^2$$\n",
        "&nbsp;\n",
        "* $$\\frac{\\partial L}{\\partial w} = -2\\sum_{i=1}^n\\;x_i(y-(wx_i + b))$$\n",
        "&nbsp;\n",
        "* $$\\frac{\\partial L}{\\partial b} = -2\\sum_{i=1}^n\\;(y - (wx_i + b))$$"
      ],
      "metadata": {
        "id": "NwF8OhQ0ssYa"
      }
    },
    {
      "cell_type": "code",
      "source": [
        "ws = np.arange(-4000, 100, 100)\n",
        "losses = loss(ws, y)\n",
        "\n",
        "plt.scatter(ws, losses)\n",
        "plt.plot(1, loss(1, y), \"ro\")\n",
        "new_weight = 1 - gradient(1, y) * 80\n",
        "plt.plot(new_weight, loss(new_weight, y), \"go\")\n",
        "plt.show();"
      ],
      "metadata": {
        "colab": {
          "base_uri": "https://localhost:8080/",
          "height": 383
        },
        "id": "esJHAKhzl_wi",
        "outputId": "0d5d5b31-492b-4567-d389-b710b3f5d014"
      },
      "execution_count": 17,
      "outputs": [
        {
          "output_type": "display_data",
          "data": {
            "text/plain": [
              "<Figure size 500x400 with 1 Axes>"
            ],
            "image/png": "[encoded data removed]"
          },
          "metadata": {}
        }
      ]
    },
    {
      "cell_type": "code",
      "source": [
        "ws = np.arange(-.5, 1.5, .1)\n",
        "losses = loss(ws, y)\n",
        "\n",
        "lr = 5e-5\n",
        "plt.scatter(ws, losses)\n",
        "plt.plot(1, loss(1, y), \"ro\")\n",
        "new_weight = 1 - lr * gradient(1, y) * 80\n",
        "plt.plot(new_weight, loss(new_weight, y), \"go\")\n",
        "plt.show();"
      ],
      "metadata": {
        "colab": {
          "base_uri": "https://localhost:8080/",
          "height": 368
        },
        "id": "Djyjk6DTuhkx",
        "outputId": "15d5c519-d604-44ae-d6a1-943b483e4bb8"
      },
      "execution_count": 18,
      "outputs": [
        {
          "output_type": "display_data",
          "data": {
            "text/plain": [
              "<Figure size 500x400 with 1 Axes>"
            ],
            "image/png": "[encoded data removed]"
          },
          "metadata": {}
        }
      ]
    },
    {
      "cell_type": "code",
      "source": [
        "new_weight"
      ],
      "metadata": {
        "colab": {
          "base_uri": "https://localhost:8080/"
        },
        "id": "5f4f-DwWwAnR",
        "outputId": "1afb3261-7bfe-4aba-cd8f-dc43b2f2ca49"
      },
      "execution_count": 19,
      "outputs": [
        {
          "output_type": "execute_result",
          "data": {
            "text/plain": [
              "0.91208"
            ]
          },
          "metadata": {},
          "execution_count": 19
        }
      ]
    },
    {
      "cell_type": "markdown",
      "source": [
        "## **Implementing Linear Regression :**"
      ],
      "metadata": {
        "id": "ECx8jpWGwn5Z"
      }
    },
    {
      "cell_type": "code",
      "source": [
        "int(.7 * len(data)), int(.85 * len(data)), len(data)"
      ],
      "metadata": {
        "colab": {
          "base_uri": "https://localhost:8080/"
        },
        "id": "T29VY8c6xW0A",
        "outputId": "98b01e1b-e2cc-44d9-bb51-200d87014f0a"
      },
      "execution_count": 20,
      "outputs": [
        {
          "output_type": "execute_result",
          "data": {
            "text/plain": [
              "(9456, 11482, 13509)"
            ]
          },
          "metadata": {},
          "execution_count": 20
        }
      ]
    },
    {
      "cell_type": "markdown",
      "source": [
        "training indexes : 0-9456\n",
        "\n",
        "validation indexes : 9457-11482\n",
        "\n",
        "\n",
        "testing indexes : 11483-13509"
      ],
      "metadata": {
        "id": "ZEMkskIXETVp"
      }
    },
    {
      "cell_type": "code",
      "source": [
        "PREDICTORS = [\"tmax\", \"tmin\", \"rain\"]\n",
        "TARGET = [\"tmax_tomorrow\"]\n",
        "\n",
        "np.random.seed(0)\n",
        "split_data = np.split(data, [int(0.7 * len(data)), int(0.85 * len(data))])\n",
        "(train_x, train_y), (valid_x, valid_y), (test_x, test_y) = [[d[PREDICTORS].to_numpy(), d[TARGET].to_numpy()] for d in split_data ]"
      ],
      "metadata": {
        "id": "DREVrAnOFJRi"
      },
      "execution_count": 4,
      "outputs": []
    },
    {
      "cell_type": "code",
      "source": [
        "# define a function which will initialize weights and biases\n",
        "\n",
        "def init_params(predictors):\n",
        "  np.random.seed(0)\n",
        "  weights = np.random.rand(predictors, 1)\n",
        "  biases = np.ones((1, 1))\n",
        "  return [weights, biases]"
      ],
      "metadata": {
        "id": "UY67sNXpGyyR"
      },
      "execution_count": 22,
      "outputs": []
    },
    {
      "cell_type": "code",
      "source": [
        "init_params(3)"
      ],
      "metadata": {
        "colab": {
          "base_uri": "https://localhost:8080/"
        },
        "id": "JqBd0uYkLLbM",
        "outputId": "675efcc5-d58e-4ebd-ae3b-aaf9157d46a0"
      },
      "execution_count": 23,
      "outputs": [
        {
          "output_type": "execute_result",
          "data": {
            "text/plain": [
              "[array([[0.5488135 ],\n",
              "        [0.71518937],\n",
              "        [0.60276338]]),\n",
              " array([[1.]])]"
            ]
          },
          "metadata": {},
          "execution_count": 23
        }
      ]
    },
    {
      "cell_type": "code",
      "source": [
        "# define a forward pass for linear regression\n",
        "\n",
        "def forward(params, x):\n",
        "  weights, biases = params\n",
        "  prediction = x @ weights + biases\n",
        "  return prediction"
      ],
      "metadata": {
        "id": "c_9yD3MSLPbx"
      },
      "execution_count": 24,
      "outputs": []
    },
    {
      "cell_type": "code",
      "source": [
        "# define loss function and gradient functions\n",
        "\n",
        "def mse(y_true, y_pred):\n",
        "  return np.mean(np.square(y_true - y_pred))\n",
        "\n",
        "def mse_gradient(y_true, y_pred):\n",
        "  return y_pred - y_true"
      ],
      "metadata": {
        "id": "WbqnoCJ_MHe-"
      },
      "execution_count": 25,
      "outputs": []
    },
    {
      "cell_type": "code",
      "source": [
        "# implement backward pass for gradient descent\n",
        "\n",
        "def backward(params, x, lr, grad):\n",
        "  N = x.shape[0]\n",
        "  # x1 * g, x2 * g, x3 * g\n",
        "  w_grad = (x.T / N) @ grad\n",
        "  b_grad = np.mean(grad, axis = 0)\n",
        "\n",
        "  params[0] -= lr * w_grad\n",
        "  params[1] -= lr * b_grad\n",
        "\n",
        "  return params"
      ],
      "metadata": {
        "id": "zdlO6zpZOTm6"
      },
      "execution_count": 26,
      "outputs": []
    },
    {
      "cell_type": "code",
      "source": [
        "# implement a training loop\n",
        "\n",
        "lr = 1e-4\n",
        "epoch = 100\n",
        "params = init_params(train_x.shape[1])\n",
        "\n",
        "for i in range(epoch):\n",
        "  predictions = forward(params, train_x)\n",
        "  grad = mse_gradient(train_y, predictions)\n",
        "\n",
        "  params = backward(params, train_x, lr, grad)\n",
        "\n",
        "  if (i%10 == 0):\n",
        "    valid_pred = forward(params, valid_x)\n",
        "    valid_loss = mse(valid_y, valid_pred)\n",
        "    train_loss = mse(train_y, predictions)\n",
        "\n",
        "    print(f\"for epoch {i} train loss : {train_loss:.4f}, validation loss : {valid_loss:.4f}\")"
      ],
      "metadata": {
        "id": "1GV54nfmYNat",
        "colab": {
          "base_uri": "https://localhost:8080/"
        },
        "outputId": "cb6c1574-1f94-4b63-bbae-1a7076062487"
      },
      "execution_count": 27,
      "outputs": [
        {
          "output_type": "stream",
          "name": "stdout",
          "text": [
            "for epoch 0 train loss : 88.6116, validation loss : 31.5640\n",
            "for epoch 10 train loss : 28.4802, validation loss : 30.6620\n",
            "for epoch 20 train loss : 28.2736, validation loss : 30.3802\n",
            "for epoch 30 train loss : 28.0750, validation loss : 30.1089\n",
            "for epoch 40 train loss : 27.8842, validation loss : 29.8475\n",
            "for epoch 50 train loss : 27.7009, validation loss : 29.5957\n",
            "for epoch 60 train loss : 27.5247, validation loss : 29.3532\n",
            "for epoch 70 train loss : 27.3554, validation loss : 29.1195\n",
            "for epoch 80 train loss : 27.1926, validation loss : 28.8944\n",
            "for epoch 90 train loss : 27.0363, validation loss : 28.6776\n"
          ]
        }
      ]
    },
    {
      "cell_type": "markdown",
      "source": [
        "| Variable              | Shape                  | Reason                             |\n",
        "| --------------------- | ---------------------- | ---------------------------------- |\n",
        "| `x`                   | `(N, D)`                 | N samples, D features              |\n",
        "| `weights`             | `(D, 1)`                 | one weight per feature             |\n",
        "| `grad`                | `(N, 1)`                 | loss gradient w\\.r.t. prediction   |\n",
        "| `x.T @ grad`          | `(D, 1)`                 | gives gradient w\\.r.t. each weight |\n",
        "| `b_grad = mean(grad)` | `scalar (or shape (1,)`) | average error = bias gradient      |\n"
      ],
      "metadata": {
        "id": "5SWiavLSV0jQ"
      }
    },
    {
      "cell_type": "code",
      "source": [
        "def gradient_descent(train_x, train_y, valid_x, valid_y, predictors, epochs=100):\n",
        "\n",
        "  def init_params(predictors):\n",
        "    np.random.seed(0)\n",
        "    weights = np.random.rand(predictors, 1)\n",
        "    biases = np.ones((1, 1))\n",
        "    return [weights, biases]\n",
        "\n",
        "  def forward(params, x):\n",
        "    weights, biases = params\n",
        "    prediction = x @ weights + biases\n",
        "    return prediction\n",
        "\n",
        "  def mse(y_true, y_pred):\n",
        "    return np.mean(np.square(y_true - y_pred))\n",
        "\n",
        "  def mse_gradient(y_true, y_pred):\n",
        "    return y_pred - y_true\n",
        "\n",
        "  def backward(params, x, lr, grad):\n",
        "    w_grad = (x.T / x.shape[0]) @ grad\n",
        "    b_grad = np.mean(grad, axis = 0)\n",
        "\n",
        "    params[0] -= w_grad * lr\n",
        "    params[1] -= b_grad * lr\n",
        "\n",
        "    return params\n",
        "\n",
        "  lr = 1e-4\n",
        "  params = init_params(train_x.shape[1])\n",
        "\n",
        "  for i in range(epochs):\n",
        "    predictions = forward(params, train_x)\n",
        "    grad = mse_gradient(train_y, predictions)\n",
        "\n",
        "    params = backward(params, train_x, lr, grad)\n",
        "\n",
        "    if (i%10000 == 0):\n",
        "      validation_prediction = forward(params, valid_x)\n",
        "      valid_loss = mse(valid_y, validation_prediction)\n",
        "      train_loss = mse(train_y, predictions)\n",
        "\n",
        "      print(f\"for epoch {i} train loss : {train_loss:.4f}, validation loss : {valid_loss:.4f}\")\n",
        "\n",
        "  return params"
      ],
      "metadata": {
        "id": "Ye9NAMCgR0_0"
      },
      "execution_count": 32,
      "outputs": []
    },
    {
      "cell_type": "code",
      "source": [
        "weights, biases = gradient_descent(train_x, train_y,\n",
        "                                   valid_x, valid_y, predictors = 3,\n",
        "                                   epochs = 100000)"
      ],
      "metadata": {
        "colab": {
          "base_uri": "https://localhost:8080/"
        },
        "id": "ihKcDyp0SHN-",
        "outputId": "43bfa97e-a9d3-4c87-cfb7-d92ee07dd05f"
      },
      "execution_count": 29,
      "outputs": [
        {
          "output_type": "stream",
          "name": "stdout",
          "text": [
            "for epoch 0 train loss : 88.6116, validation loss : 31.5640\n",
            "for epoch 10000 train loss : 23.1573, validation loss : 22.6109\n",
            "for epoch 20000 train loss : 23.1308, validation loss : 22.5770\n",
            "for epoch 30000 train loss : 23.1051, validation loss : 22.5439\n",
            "for epoch 40000 train loss : 23.0801, validation loss : 22.5117\n",
            "for epoch 50000 train loss : 23.0558, validation loss : 22.4803\n",
            "for epoch 60000 train loss : 23.0322, validation loss : 22.4496\n",
            "for epoch 70000 train loss : 23.0091, validation loss : 22.4198\n",
            "for epoch 80000 train loss : 22.9867, validation loss : 22.3907\n",
            "for epoch 90000 train loss : 22.9650, validation loss : 22.3622\n"
          ]
        }
      ]
    },
    {
      "cell_type": "code",
      "source": [
        "weights, biases"
      ],
      "metadata": {
        "colab": {
          "base_uri": "https://localhost:8080/"
        },
        "id": "MzvGUgsAcr7D",
        "outputId": "76c901d8-6e05-44f2-ee66-c03d330a1295"
      },
      "execution_count": 30,
      "outputs": [
        {
          "output_type": "execute_result",
          "data": {
            "text/plain": [
              "(array([[0.78592064],\n",
              "        [0.2360652 ],\n",
              "        [0.12406522]]),\n",
              " array([[1.9860877]]))"
            ]
          },
          "metadata": {},
          "execution_count": 30
        }
      ]
    },
    {
      "cell_type": "code",
      "source": [
        "weights_lr, biases_lr"
      ],
      "metadata": {
        "colab": {
          "base_uri": "https://localhost:8080/"
        },
        "id": "FUlBAvuBcyFs",
        "outputId": "98545bdc-cacc-4fbc-c10b-3895418d719f"
      },
      "execution_count": 31,
      "outputs": [
        {
          "output_type": "execute_result",
          "data": {
            "text/plain": [
              "(array([ 0.72946941,  0.16753227, -2.40344305]), np.float64(9.55939808651597))"
            ]
          },
          "metadata": {},
          "execution_count": 31
        }
      ]
    },
    {
      "cell_type": "code",
      "source": [
        "# scale the features before training\n",
        "from sklearn.preprocessing import StandardScaler\n",
        "\n",
        "scaler = StandardScaler()\n",
        "train_x = scaler.fit_transform(train_x)\n",
        "valid_x = scaler.fit_transform(valid_x)"
      ],
      "metadata": {
        "id": "UDtwMLn75cuh"
      },
      "execution_count": 5,
      "outputs": []
    },
    {
      "cell_type": "code",
      "source": [
        "# implement more complex gradient descent with correct formulaes\n",
        "\n",
        "def gradient_descent(train_x, train_y, valid_x, valid_y, epochs=10000):\n",
        "\n",
        "  # initialize the weights and biases\n",
        "  def init_params(predictors):\n",
        "    np.random.seed(42)\n",
        "    weights = np.random.rand(predictors, 1)\n",
        "    biases = np.ones((1, 1))\n",
        "    return [weights, biases]\n",
        "\n",
        "  predictors = train_x.shape[1]\n",
        "  params = init_params(predictors)\n",
        "\n",
        "  # make a prediction\n",
        "  def forward(params, x):\n",
        "    weights, biases = params\n",
        "    prediction = x @ weights + biases\n",
        "    return prediction\n",
        "\n",
        "  # calculates loss\n",
        "  def mse(y_true, y_pred):\n",
        "    return np.mean(np.square(y_true - y_pred))\n",
        "\n",
        "  # calculated gradient\n",
        "  def mse_gradient(y_true, y_pred):\n",
        "    return (2 / y_true.shape[0]) * (y_pred - y_true)\n",
        "\n",
        "  lr = 1e-1\n",
        "\n",
        "  # update the weights and biases\n",
        "  def backward(params, x, lr, grad):\n",
        "    w, b = params\n",
        "    w_grad = x.T @ grad\n",
        "    b_grad = np.mean(grad)\n",
        "\n",
        "    w -= w_grad * lr\n",
        "    b -= b_grad * lr\n",
        "\n",
        "    return [w, b]\n",
        "\n",
        "  # training loop to update the params\n",
        "  for i in range(epochs):\n",
        "    predictions = forward(params, train_x)\n",
        "    grad = mse_gradient(train_y, predictions)\n",
        "\n",
        "    w, b = backward(params, train_x, lr, grad)\n",
        "\n",
        "    if (i%10000 == 0 or i == 199999):\n",
        "      valid_predictions = forward(params, valid_x)\n",
        "      valid_loss = mse(valid_y, valid_predictions)\n",
        "      train_loss = mse(train_y, predictions)\n",
        "\n",
        "      losses = [train_loss, valid_loss]\n",
        "\n",
        "      print(f\"for epoch {i} |   training loss : {train_loss:.4f} |   validation loss : {valid_loss:.4f}\")\n",
        "\n",
        "    prev_loss = mse(train_y, predictions)\n",
        "\n",
        "\n",
        "  return w, b, losses"
      ],
      "metadata": {
        "id": "YTU_QEYyh2eH"
      },
      "execution_count": 55,
      "outputs": []
    },
    {
      "cell_type": "code",
      "source": [
        "weights, biases , loss = gradient_descent(train_x, train_y, valid_x, valid_y, epochs=200000)"
      ],
      "metadata": {
        "colab": {
          "base_uri": "https://localhost:8080/"
        },
        "id": "u7YJzY-I4-5-",
        "outputId": "5b97b4b7-4555-467a-a83b-88b9be5c7952"
      },
      "execution_count": 56,
      "outputs": [
        {
          "output_type": "stream",
          "name": "stdout",
          "text": [
            "for epoch 0 |   training loss : 4191.9485 |   validation loss : 4433.6212\n",
            "for epoch 10000 |   training loss : 2729.5096 |   validation loss : 2944.2527\n",
            "for epoch 20000 |   training loss : 1795.6519 |   validation loss : 1970.0397\n",
            "for epoch 30000 |   training loss : 1183.9117 |   validation loss : 1325.6313\n",
            "for epoch 40000 |   training loss : 783.1803 |   validation loss : 898.4555\n",
            "for epoch 50000 |   training loss : 520.6740 |   validation loss : 614.5435\n",
            "for epoch 60000 |   training loss : 348.7145 |   validation loss : 425.2573\n",
            "for epoch 70000 |   training loss : 236.0694 |   validation loss : 298.5875\n",
            "for epoch 80000 |   training loss : 162.2792 |   validation loss : 213.4454\n",
            "for epoch 90000 |   training loss : 113.9415 |   validation loss : 155.9196\n",
            "for epoch 100000 |   training loss : 82.2771 |   validation loss : 116.8183\n",
            "for epoch 110000 |   training loss : 61.5348 |   validation loss : 90.0566\n",
            "for epoch 120000 |   training loss : 47.9471 |   validation loss : 71.5970\n",
            "for epoch 130000 |   training loss : 39.0463 |   validation loss : 58.7528\n",
            "for epoch 140000 |   training loss : 33.2157 |   validation loss : 49.7306\n",
            "for epoch 150000 |   training loss : 29.3962 |   validation loss : 43.3279\n",
            "for epoch 160000 |   training loss : 26.8942 |   validation loss : 38.7351\n",
            "for epoch 170000 |   training loss : 25.2552 |   validation loss : 35.4039\n",
            "for epoch 180000 |   training loss : 24.1815 |   validation loss : 32.9606\n",
            "for epoch 190000 |   training loss : 23.4782 |   validation loss : 31.1488\n",
            "for epoch 199999 |   training loss : 23.0176 |   validation loss : 29.7910\n"
          ]
        }
      ]
    },
    {
      "cell_type": "code",
      "source": [
        "weights, biases"
      ],
      "metadata": {
        "colab": {
          "base_uri": "https://localhost:8080/"
        },
        "id": "saM68ONH1Z8p",
        "outputId": "1a26470c-57e6-4413-f194-01517ac129bf"
      },
      "execution_count": 57,
      "outputs": [
        {
          "output_type": "execute_result",
          "data": {
            "text/plain": [
              "(array([[ 5.91306141],\n",
              "        [ 1.23953724],\n",
              "        [-0.38903148]]),\n",
              " array([[64.3526786]]))"
            ]
          },
          "metadata": {},
          "execution_count": 57
        }
      ]
    },
    {
      "cell_type": "code",
      "source": [
        "weights_lr, biases_lr"
      ],
      "metadata": {
        "colab": {
          "base_uri": "https://localhost:8080/"
        },
        "id": "OlV1dwZs2dhv",
        "outputId": "51f42a3c-2a39-4d62-df1a-e6568267f377"
      },
      "execution_count": 58,
      "outputs": [
        {
          "output_type": "execute_result",
          "data": {
            "text/plain": [
              "(array([[ 5.91306141,  1.23953724, -0.38903148]]), array([65.28807107]))"
            ]
          },
          "metadata": {},
          "execution_count": 58
        }
      ]
    },
    {
      "cell_type": "code",
      "source": [
        "loss"
      ],
      "metadata": {
        "colab": {
          "base_uri": "https://localhost:8080/"
        },
        "id": "ercC8x4D2gue",
        "outputId": "8c200db9-e360-4c5c-bb1f-37ec1353081f"
      },
      "execution_count": 59,
      "outputs": [
        {
          "output_type": "execute_result",
          "data": {
            "text/plain": [
              "[np.float64(23.017550446605014), np.float64(29.790968283470036)]"
            ]
          },
          "metadata": {},
          "execution_count": 59
        }
      ]
    },
    {
      "cell_type": "markdown",
      "source": [
        "\n",
        "\n",
        "### 🔍 Parameter Comparison: Gradient Descent vs scikit-learn (on Scaled Features)\n",
        "\n",
        "| Parameter     | Gradient Descent (Final) | scikit-learn (Scaled) | Match |\n",
        "|---------------|---------------------------|------------------------|-------|\n",
        "| Weight 1      | 5.91306141                | 5.91306141             | ✅     |\n",
        "| Weight 2      | 1.23953724                | 1.23953724             | ✅     |\n",
        "| Weight 3      | -0.38903148               | -0.38903148            | ✅     |\n",
        "| Bias          | 64.3526786                | 65.28807107            | ⚠️ Close |\n",
        "\n",
        "> ✅ The weights match exactly, confirming that the gradient descent implementation is correct.  \n",
        "> ⚠️ The bias differs slightly due to rounding and the iterative nature of gradient descent (vs the exact solution of sklearn).\n"
      ],
      "metadata": {
        "id": "1Ivy4zYo7NDP"
      }
    },
    {
      "cell_type": "code",
      "source": [],
      "metadata": {
        "id": "8u5XVtVu-9Tz"
      },
      "execution_count": null,
      "outputs": []
    }
  ]
}