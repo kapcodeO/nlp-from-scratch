{
  "nbformat": 4,
  "nbformat_minor": 0,
  "metadata": {
    "colab": {
      "provenance": []
    },
    "kernelspec": {
      "name": "python3",
      "display_name": "Python 3"
    },
    "language_info": {
      "name": "python"
    }
  },
  "cells": [
    {
      "cell_type": "markdown",
      "source": [
        "# **Neural Network from Scratch : 🤖**"
      ],
      "metadata": {
        "id": "jU9IlocMg0G9"
      }
    },
    {
      "cell_type": "code",
      "source": [
        "# necessary imports\n",
        "import pandas as pd\n",
        "import numpy as np\n",
        "import matplotlib.pyplot as plt\n",
        "\n",
        "# handle formatting\n",
        "plt.rcParams[\"figure.figsize\"] = (5, 4)\n",
        "import warnings\n",
        "warnings.filterwarnings(\"ignore\")\n",
        "# to supress the tsensor warnings\n",
        "import logging\n",
        "logging.getLogger(\"matplotlib.font_manager\").setLevel(logging.ERROR)"
      ],
      "metadata": {
        "id": "RCWw3yqfGbat"
      },
      "execution_count": 1,
      "outputs": []
    },
    {
      "cell_type": "code",
      "source": [
        "# mount google drive\n",
        "from google.colab import drive\n",
        "drive.mount(\"/content/drive\")"
      ],
      "metadata": {
        "colab": {
          "base_uri": "https://localhost:8080/"
        },
        "id": "YGCHFj7oHBnt",
        "outputId": "6c21faed-6c25-4255-f303-3c87ce32a1f7"
      },
      "execution_count": 2,
      "outputs": [
        {
          "output_type": "stream",
          "name": "stdout",
          "text": [
            "Drive already mounted at /content/drive; to attempt to forcibly remount, call drive.mount(\"/content/drive\", force_remount=True).\n"
          ]
        }
      ]
    },
    {
      "cell_type": "code",
      "source": [
        "# load in the data\n",
        "data = pd.read_csv(\"/content/drive/MyDrive/NLP_from_scratch/data/clean_weather.csv\",\n",
        "                   index_col = 0)\n",
        "data.ffill(axis = 0, inplace = True)\n",
        "\n",
        "data.head()"
      ],
      "metadata": {
        "colab": {
          "base_uri": "https://localhost:8080/",
          "height": 206
        },
        "id": "UCuNGTKBG6YT",
        "outputId": "2cc281ab-c963-451c-d62e-deef183b2945"
      },
      "execution_count": 3,
      "outputs": [
        {
          "output_type": "execute_result",
          "data": {
            "text/plain": [
              "            tmax  tmin  rain  tmax_tomorrow\n",
              "1970-01-01  60.0  35.0   0.0           52.0\n",
              "1970-01-02  52.0  39.0   0.0           52.0\n",
              "1970-01-03  52.0  35.0   0.0           53.0\n",
              "1970-01-04  53.0  36.0   0.0           52.0\n",
              "1970-01-05  52.0  35.0   0.0           50.0"
            ],
            "text/html": [
              "\n",
              "  <div id=\"df-a48a87d9-c28d-4909-a146-42cef31b0576\" class=\"colab-df-container\">\n",
              "    <div>\n",
              "<style scoped>\n",
              "    .dataframe tbody tr th:only-of-type {\n",
              "        vertical-align: middle;\n",
              "    }\n",
              "\n",
              "    .dataframe tbody tr th {\n",
              "        vertical-align: top;\n",
              "    }\n",
              "\n",
              "    .dataframe thead th {\n",
              "        text-align: right;\n",
              "    }\n",
              "</style>\n",
              "<table border=\"1\" class=\"dataframe\">\n",
              "  <thead>\n",
              "    <tr style=\"text-align: right;\">\n",
              "      <th></th>\n",
              "      <th>tmax</th>\n",
              "      <th>tmin</th>\n",
              "      <th>rain</th>\n",
              "      <th>tmax_tomorrow</th>\n",
              "    </tr>\n",
              "  </thead>\n",
              "  <tbody>\n",
              "    <tr>\n",
              "      <th>1970-01-01</th>\n",
              "      <td>60.0</td>\n",
              "      <td>35.0</td>\n",
              "      <td>0.0</td>\n",
              "      <td>52.0</td>\n",
              "    </tr>\n",
              "    <tr>\n",
              "      <th>1970-01-02</th>\n",
              "      <td>52.0</td>\n",
              "      <td>39.0</td>\n",
              "      <td>0.0</td>\n",
              "      <td>52.0</td>\n",
              "    </tr>\n",
              "    <tr>\n",
              "      <th>1970-01-03</th>\n",
              "      <td>52.0</td>\n",
              "      <td>35.0</td>\n",
              "      <td>0.0</td>\n",
              "      <td>53.0</td>\n",
              "    </tr>\n",
              "    <tr>\n",
              "      <th>1970-01-04</th>\n",
              "      <td>53.0</td>\n",
              "      <td>36.0</td>\n",
              "      <td>0.0</td>\n",
              "      <td>52.0</td>\n",
              "    </tr>\n",
              "    <tr>\n",
              "      <th>1970-01-05</th>\n",
              "      <td>52.0</td>\n",
              "      <td>35.0</td>\n",
              "      <td>0.0</td>\n",
              "      <td>50.0</td>\n",
              "    </tr>\n",
              "  </tbody>\n",
              "</table>\n",
              "</div>\n",
              "    <div class=\"colab-df-buttons\">\n",
              "\n",
              "  <div class=\"colab-df-container\">\n",
              "    <button class=\"colab-df-convert\" onclick=\"convertToInteractive('df-a48a87d9-c28d-4909-a146-42cef31b0576')\"\n",
              "            title=\"Convert this dataframe to an interactive table.\"\n",
              "            style=\"display:none;\">\n",
              "\n",
              "  <svg xmlns=\"http://www.w3.org/2000/svg\" height=\"24px\" viewBox=\"0 -960 960 960\">\n",
              "    <path d=\"M120-120v-720h720v720H120Zm60-500h600v-160H180v160Zm220 220h160v-160H400v160Zm0 220h160v-160H400v160ZM180-400h160v-160H180v160Zm440 0h160v-160H620v160ZM180-180h160v-160H180v160Zm440 0h160v-160H620v160Z\"/>\n",
              "  </svg>\n",
              "    </button>\n",
              "\n",
              "  <style>\n",
              "    .colab-df-container {\n",
              "      display:flex;\n",
              "      gap: 12px;\n",
              "    }\n",
              "\n",
              "    .colab-df-convert {\n",
              "      background-color: #E8F0FE;\n",
              "      border: none;\n",
              "      border-radius: 50%;\n",
              "      cursor: pointer;\n",
              "      display: none;\n",
              "      fill: #1967D2;\n",
              "      height: 32px;\n",
              "      padding: 0 0 0 0;\n",
              "      width: 32px;\n",
              "    }\n",
              "\n",
              "    .colab-df-convert:hover {\n",
              "      background-color: #E2EBFA;\n",
              "      box-shadow: 0px 1px 2px rgba(60, 64, 67, 0.3), 0px 1px 3px 1px rgba(60, 64, 67, 0.15);\n",
              "      fill: #174EA6;\n",
              "    }\n",
              "\n",
              "    .colab-df-buttons div {\n",
              "      margin-bottom: 4px;\n",
              "    }\n",
              "\n",
              "    [theme=dark] .colab-df-convert {\n",
              "      background-color: #3B4455;\n",
              "      fill: #D2E3FC;\n",
              "    }\n",
              "\n",
              "    [theme=dark] .colab-df-convert:hover {\n",
              "      background-color: #434B5C;\n",
              "      box-shadow: 0px 1px 3px 1px rgba(0, 0, 0, 0.15);\n",
              "      filter: drop-shadow(0px 1px 2px rgba(0, 0, 0, 0.3));\n",
              "      fill: #FFFFFF;\n",
              "    }\n",
              "  </style>\n",
              "\n",
              "    <script>\n",
              "      const buttonEl =\n",
              "        document.querySelector('#df-a48a87d9-c28d-4909-a146-42cef31b0576 button.colab-df-convert');\n",
              "      buttonEl.style.display =\n",
              "        google.colab.kernel.accessAllowed ? 'block' : 'none';\n",
              "\n",
              "      async function convertToInteractive(key) {\n",
              "        const element = document.querySelector('#df-a48a87d9-c28d-4909-a146-42cef31b0576');\n",
              "        const dataTable =\n",
              "          await google.colab.kernel.invokeFunction('convertToInteractive',\n",
              "                                                    [key], {});\n",
              "        if (!dataTable) return;\n",
              "\n",
              "        const docLinkHtml = 'Like what you see? Visit the ' +\n",
              "          '<a target=\"_blank\" href=https://colab.research.google.com/notebooks/data_table.ipynb>data table notebook</a>'\n",
              "          + ' to learn more about interactive tables.';\n",
              "        element.innerHTML = '';\n",
              "        dataTable['output_type'] = 'display_data';\n",
              "        await google.colab.output.renderOutput(dataTable, element);\n",
              "        const docLink = document.createElement('div');\n",
              "        docLink.innerHTML = docLinkHtml;\n",
              "        element.appendChild(docLink);\n",
              "      }\n",
              "    </script>\n",
              "  </div>\n",
              "\n",
              "\n",
              "    <div id=\"df-d29bb6b2-c517-436c-bc77-1cd6f39330c0\">\n",
              "      <button class=\"colab-df-quickchart\" onclick=\"quickchart('df-d29bb6b2-c517-436c-bc77-1cd6f39330c0')\"\n",
              "                title=\"Suggest charts\"\n",
              "                style=\"display:none;\">\n",
              "\n",
              "<svg xmlns=\"http://www.w3.org/2000/svg\" height=\"24px\"viewBox=\"0 0 24 24\"\n",
              "     width=\"24px\">\n",
              "    <g>\n",
              "        <path d=\"M19 3H5c-1.1 0-2 .9-2 2v14c0 1.1.9 2 2 2h14c1.1 0 2-.9 2-2V5c0-1.1-.9-2-2-2zM9 17H7v-7h2v7zm4 0h-2V7h2v10zm4 0h-2v-4h2v4z\"/>\n",
              "    </g>\n",
              "</svg>\n",
              "      </button>\n",
              "\n",
              "<style>\n",
              "  .colab-df-quickchart {\n",
              "      --bg-color: #E8F0FE;\n",
              "      --fill-color: #1967D2;\n",
              "      --hover-bg-color: #E2EBFA;\n",
              "      --hover-fill-color: #174EA6;\n",
              "      --disabled-fill-color: #AAA;\n",
              "      --disabled-bg-color: #DDD;\n",
              "  }\n",
              "\n",
              "  [theme=dark] .colab-df-quickchart {\n",
              "      --bg-color: #3B4455;\n",
              "      --fill-color: #D2E3FC;\n",
              "      --hover-bg-color: #434B5C;\n",
              "      --hover-fill-color: #FFFFFF;\n",
              "      --disabled-bg-color: #3B4455;\n",
              "      --disabled-fill-color: #666;\n",
              "  }\n",
              "\n",
              "  .colab-df-quickchart {\n",
              "    background-color: var(--bg-color);\n",
              "    border: none;\n",
              "    border-radius: 50%;\n",
              "    cursor: pointer;\n",
              "    display: none;\n",
              "    fill: var(--fill-color);\n",
              "    height: 32px;\n",
              "    padding: 0;\n",
              "    width: 32px;\n",
              "  }\n",
              "\n",
              "  .colab-df-quickchart:hover {\n",
              "    background-color: var(--hover-bg-color);\n",
              "    box-shadow: 0 1px 2px rgba(60, 64, 67, 0.3), 0 1px 3px 1px rgba(60, 64, 67, 0.15);\n",
              "    fill: var(--button-hover-fill-color);\n",
              "  }\n",
              "\n",
              "  .colab-df-quickchart-complete:disabled,\n",
              "  .colab-df-quickchart-complete:disabled:hover {\n",
              "    background-color: var(--disabled-bg-color);\n",
              "    fill: var(--disabled-fill-color);\n",
              "    box-shadow: none;\n",
              "  }\n",
              "\n",
              "  .colab-df-spinner {\n",
              "    border: 2px solid var(--fill-color);\n",
              "    border-color: transparent;\n",
              "    border-bottom-color: var(--fill-color);\n",
              "    animation:\n",
              "      spin 1s steps(1) infinite;\n",
              "  }\n",
              "\n",
              "  @keyframes spin {\n",
              "    0% {\n",
              "      border-color: transparent;\n",
              "      border-bottom-color: var(--fill-color);\n",
              "      border-left-color: var(--fill-color);\n",
              "    }\n",
              "    20% {\n",
              "      border-color: transparent;\n",
              "      border-left-color: var(--fill-color);\n",
              "      border-top-color: var(--fill-color);\n",
              "    }\n",
              "    30% {\n",
              "      border-color: transparent;\n",
              "      border-left-color: var(--fill-color);\n",
              "      border-top-color: var(--fill-color);\n",
              "      border-right-color: var(--fill-color);\n",
              "    }\n",
              "    40% {\n",
              "      border-color: transparent;\n",
              "      border-right-color: var(--fill-color);\n",
              "      border-top-color: var(--fill-color);\n",
              "    }\n",
              "    60% {\n",
              "      border-color: transparent;\n",
              "      border-right-color: var(--fill-color);\n",
              "    }\n",
              "    80% {\n",
              "      border-color: transparent;\n",
              "      border-right-color: var(--fill-color);\n",
              "      border-bottom-color: var(--fill-color);\n",
              "    }\n",
              "    90% {\n",
              "      border-color: transparent;\n",
              "      border-bottom-color: var(--fill-color);\n",
              "    }\n",
              "  }\n",
              "</style>\n",
              "\n",
              "      <script>\n",
              "        async function quickchart(key) {\n",
              "          const quickchartButtonEl =\n",
              "            document.querySelector('#' + key + ' button');\n",
              "          quickchartButtonEl.disabled = true;  // To prevent multiple clicks.\n",
              "          quickchartButtonEl.classList.add('colab-df-spinner');\n",
              "          try {\n",
              "            const charts = await google.colab.kernel.invokeFunction(\n",
              "                'suggestCharts', [key], {});\n",
              "          } catch (error) {\n",
              "            console.error('Error during call to suggestCharts:', error);\n",
              "          }\n",
              "          quickchartButtonEl.classList.remove('colab-df-spinner');\n",
              "          quickchartButtonEl.classList.add('colab-df-quickchart-complete');\n",
              "        }\n",
              "        (() => {\n",
              "          let quickchartButtonEl =\n",
              "            document.querySelector('#df-d29bb6b2-c517-436c-bc77-1cd6f39330c0 button');\n",
              "          quickchartButtonEl.style.display =\n",
              "            google.colab.kernel.accessAllowed ? 'block' : 'none';\n",
              "        })();\n",
              "      </script>\n",
              "    </div>\n",
              "\n",
              "    </div>\n",
              "  </div>\n"
            ],
            "application/vnd.google.colaboratory.intrinsic+json": {
              "type": "dataframe",
              "variable_name": "data",
              "summary": "{\n  \"name\": \"data\",\n  \"rows\": 13509,\n  \"fields\": [\n    {\n      \"column\": \"tmax\",\n      \"properties\": {\n        \"dtype\": \"number\",\n        \"std\": 8.328976736053626,\n        \"min\": 38.0,\n        \"max\": 122.0,\n        \"num_unique_values\": 66,\n        \"samples\": [\n          43.0,\n          122.0,\n          60.0\n        ],\n        \"semantic_type\": \"\",\n        \"description\": \"\"\n      }\n    },\n    {\n      \"column\": \"tmin\",\n      \"properties\": {\n        \"dtype\": \"number\",\n        \"std\": 6.792530879740785,\n        \"min\": 1.0,\n        \"max\": 69.0,\n        \"num_unique_values\": 48,\n        \"samples\": [\n          37.0,\n          68.0,\n          40.0\n        ],\n        \"semantic_type\": \"\",\n        \"description\": \"\"\n      }\n    },\n    {\n      \"column\": \"rain\",\n      \"properties\": {\n        \"dtype\": \"number\",\n        \"std\": 0.1805763898947246,\n        \"min\": 0.0,\n        \"max\": 3.58,\n        \"num_unique_values\": 161,\n        \"samples\": [\n          1.29,\n          0.61,\n          1.52\n        ],\n        \"semantic_type\": \"\",\n        \"description\": \"\"\n      }\n    },\n    {\n      \"column\": \"tmax_tomorrow\",\n      \"properties\": {\n        \"dtype\": \"number\",\n        \"std\": 8.328832488077406,\n        \"min\": 38.0,\n        \"max\": 122.0,\n        \"num_unique_values\": 66,\n        \"samples\": [\n          43.0,\n          122.0,\n          52.0\n        ],\n        \"semantic_type\": \"\",\n        \"description\": \"\"\n      }\n    }\n  ]\n}"
            }
          },
          "metadata": {},
          "execution_count": 3
        }
      ]
    },
    {
      "cell_type": "code",
      "source": [
        "plt.scatter(data[\"tmax\"], data[\"tmax_tomorrow\"])\n",
        "plt.show();"
      ],
      "metadata": {
        "colab": {
          "base_uri": "https://localhost:8080/",
          "height": 368
        },
        "id": "QKx_ivr4HnCv",
        "outputId": "4b647c0c-91c4-4736-e016-d70d4f2aaf57"
      },
      "execution_count": null,
      "outputs": [
        {
          "output_type": "display_data",
          "data": {
            "text/plain": [
              "<Figure size 500x400 with 1 Axes>"
            ],
            "image/png": "[encoded data removed]"
          },
          "metadata": {}
        }
      ]
    },
    {
      "cell_type": "code",
      "source": [],
      "metadata": {
        "id": "EgtrEuIkd7hj"
      },
      "execution_count": null,
      "outputs": []
    },
    {
      "cell_type": "code",
      "source": [
        "# check the data correlation\n",
        "data.corr()"
      ],
      "metadata": {
        "id": "iDlE8cn1IVLg",
        "colab": {
          "base_uri": "https://localhost:8080/",
          "height": 174
        },
        "outputId": "91929c13-bdd2-4bf5-dd18-1c01dadceb19"
      },
      "execution_count": null,
      "outputs": [
        {
          "output_type": "execute_result",
          "data": {
            "text/plain": [
              "                   tmax      tmin      rain  tmax_tomorrow\n",
              "tmax           1.000000  0.615604 -0.219941       0.818561\n",
              "tmin           0.615604  1.000000 -0.019546       0.585572\n",
              "rain          -0.219941 -0.019546  1.000000      -0.211799\n",
              "tmax_tomorrow  0.818561  0.585572 -0.211799       1.000000"
            ],
            "text/html": [
              "\n",
              "  <div id=\"df-ce3d2f87-5725-4d5f-9512-cbc753f6b501\" class=\"colab-df-container\">\n",
              "    <div>\n",
              "<style scoped>\n",
              "    .dataframe tbody tr th:only-of-type {\n",
              "        vertical-align: middle;\n",
              "    }\n",
              "\n",
              "    .dataframe tbody tr th {\n",
              "        vertical-align: top;\n",
              "    }\n",
              "\n",
              "    .dataframe thead th {\n",
              "        text-align: right;\n",
              "    }\n",
              "</style>\n",
              "<table border=\"1\" class=\"dataframe\">\n",
              "  <thead>\n",
              "    <tr style=\"text-align: right;\">\n",
              "      <th></th>\n",
              "      <th>tmax</th>\n",
              "      <th>tmin</th>\n",
              "      <th>rain</th>\n",
              "      <th>tmax_tomorrow</th>\n",
              "    </tr>\n",
              "  </thead>\n",
              "  <tbody>\n",
              "    <tr>\n",
              "      <th>tmax</th>\n",
              "      <td>1.000000</td>\n",
              "      <td>0.615604</td>\n",
              "      <td>-0.219941</td>\n",
              "      <td>0.818561</td>\n",
              "    </tr>\n",
              "    <tr>\n",
              "      <th>tmin</th>\n",
              "      <td>0.615604</td>\n",
              "      <td>1.000000</td>\n",
              "      <td>-0.019546</td>\n",
              "      <td>0.585572</td>\n",
              "    </tr>\n",
              "    <tr>\n",
              "      <th>rain</th>\n",
              "      <td>-0.219941</td>\n",
              "      <td>-0.019546</td>\n",
              "      <td>1.000000</td>\n",
              "      <td>-0.211799</td>\n",
              "    </tr>\n",
              "    <tr>\n",
              "      <th>tmax_tomorrow</th>\n",
              "      <td>0.818561</td>\n",
              "      <td>0.585572</td>\n",
              "      <td>-0.211799</td>\n",
              "      <td>1.000000</td>\n",
              "    </tr>\n",
              "  </tbody>\n",
              "</table>\n",
              "</div>\n",
              "    <div class=\"colab-df-buttons\">\n",
              "\n",
              "  <div class=\"colab-df-container\">\n",
              "    <button class=\"colab-df-convert\" onclick=\"convertToInteractive('df-ce3d2f87-5725-4d5f-9512-cbc753f6b501')\"\n",
              "            title=\"Convert this dataframe to an interactive table.\"\n",
              "            style=\"display:none;\">\n",
              "\n",
              "  <svg xmlns=\"http://www.w3.org/2000/svg\" height=\"24px\" viewBox=\"0 -960 960 960\">\n",
              "    <path d=\"M120-120v-720h720v720H120Zm60-500h600v-160H180v160Zm220 220h160v-160H400v160Zm0 220h160v-160H400v160ZM180-400h160v-160H180v160Zm440 0h160v-160H620v160ZM180-180h160v-160H180v160Zm440 0h160v-160H620v160Z\"/>\n",
              "  </svg>\n",
              "    </button>\n",
              "\n",
              "  <style>\n",
              "    .colab-df-container {\n",
              "      display:flex;\n",
              "      gap: 12px;\n",
              "    }\n",
              "\n",
              "    .colab-df-convert {\n",
              "      background-color: #E8F0FE;\n",
              "      border: none;\n",
              "      border-radius: 50%;\n",
              "      cursor: pointer;\n",
              "      display: none;\n",
              "      fill: #1967D2;\n",
              "      height: 32px;\n",
              "      padding: 0 0 0 0;\n",
              "      width: 32px;\n",
              "    }\n",
              "\n",
              "    .colab-df-convert:hover {\n",
              "      background-color: #E2EBFA;\n",
              "      box-shadow: 0px 1px 2px rgba(60, 64, 67, 0.3), 0px 1px 3px 1px rgba(60, 64, 67, 0.15);\n",
              "      fill: #174EA6;\n",
              "    }\n",
              "\n",
              "    .colab-df-buttons div {\n",
              "      margin-bottom: 4px;\n",
              "    }\n",
              "\n",
              "    [theme=dark] .colab-df-convert {\n",
              "      background-color: #3B4455;\n",
              "      fill: #D2E3FC;\n",
              "    }\n",
              "\n",
              "    [theme=dark] .colab-df-convert:hover {\n",
              "      background-color: #434B5C;\n",
              "      box-shadow: 0px 1px 3px 1px rgba(0, 0, 0, 0.15);\n",
              "      filter: drop-shadow(0px 1px 2px rgba(0, 0, 0, 0.3));\n",
              "      fill: #FFFFFF;\n",
              "    }\n",
              "  </style>\n",
              "\n",
              "    <script>\n",
              "      const buttonEl =\n",
              "        document.querySelector('#df-ce3d2f87-5725-4d5f-9512-cbc753f6b501 button.colab-df-convert');\n",
              "      buttonEl.style.display =\n",
              "        google.colab.kernel.accessAllowed ? 'block' : 'none';\n",
              "\n",
              "      async function convertToInteractive(key) {\n",
              "        const element = document.querySelector('#df-ce3d2f87-5725-4d5f-9512-cbc753f6b501');\n",
              "        const dataTable =\n",
              "          await google.colab.kernel.invokeFunction('convertToInteractive',\n",
              "                                                    [key], {});\n",
              "        if (!dataTable) return;\n",
              "\n",
              "        const docLinkHtml = 'Like what you see? Visit the ' +\n",
              "          '<a target=\"_blank\" href=https://colab.research.google.com/notebooks/data_table.ipynb>data table notebook</a>'\n",
              "          + ' to learn more about interactive tables.';\n",
              "        element.innerHTML = '';\n",
              "        dataTable['output_type'] = 'display_data';\n",
              "        await google.colab.output.renderOutput(dataTable, element);\n",
              "        const docLink = document.createElement('div');\n",
              "        docLink.innerHTML = docLinkHtml;\n",
              "        element.appendChild(docLink);\n",
              "      }\n",
              "    </script>\n",
              "  </div>\n",
              "\n",
              "\n",
              "    <div id=\"df-be649eaa-0678-4ee6-84e0-6f4558415502\">\n",
              "      <button class=\"colab-df-quickchart\" onclick=\"quickchart('df-be649eaa-0678-4ee6-84e0-6f4558415502')\"\n",
              "                title=\"Suggest charts\"\n",
              "                style=\"display:none;\">\n",
              "\n",
              "<svg xmlns=\"http://www.w3.org/2000/svg\" height=\"24px\"viewBox=\"0 0 24 24\"\n",
              "     width=\"24px\">\n",
              "    <g>\n",
              "        <path d=\"M19 3H5c-1.1 0-2 .9-2 2v14c0 1.1.9 2 2 2h14c1.1 0 2-.9 2-2V5c0-1.1-.9-2-2-2zM9 17H7v-7h2v7zm4 0h-2V7h2v10zm4 0h-2v-4h2v4z\"/>\n",
              "    </g>\n",
              "</svg>\n",
              "      </button>\n",
              "\n",
              "<style>\n",
              "  .colab-df-quickchart {\n",
              "      --bg-color: #E8F0FE;\n",
              "      --fill-color: #1967D2;\n",
              "      --hover-bg-color: #E2EBFA;\n",
              "      --hover-fill-color: #174EA6;\n",
              "      --disabled-fill-color: #AAA;\n",
              "      --disabled-bg-color: #DDD;\n",
              "  }\n",
              "\n",
              "  [theme=dark] .colab-df-quickchart {\n",
              "      --bg-color: #3B4455;\n",
              "      --fill-color: #D2E3FC;\n",
              "      --hover-bg-color: #434B5C;\n",
              "      --hover-fill-color: #FFFFFF;\n",
              "      --disabled-bg-color: #3B4455;\n",
              "      --disabled-fill-color: #666;\n",
              "  }\n",
              "\n",
              "  .colab-df-quickchart {\n",
              "    background-color: var(--bg-color);\n",
              "    border: none;\n",
              "    border-radius: 50%;\n",
              "    cursor: pointer;\n",
              "    display: none;\n",
              "    fill: var(--fill-color);\n",
              "    height: 32px;\n",
              "    padding: 0;\n",
              "    width: 32px;\n",
              "  }\n",
              "\n",
              "  .colab-df-quickchart:hover {\n",
              "    background-color: var(--hover-bg-color);\n",
              "    box-shadow: 0 1px 2px rgba(60, 64, 67, 0.3), 0 1px 3px 1px rgba(60, 64, 67, 0.15);\n",
              "    fill: var(--button-hover-fill-color);\n",
              "  }\n",
              "\n",
              "  .colab-df-quickchart-complete:disabled,\n",
              "  .colab-df-quickchart-complete:disabled:hover {\n",
              "    background-color: var(--disabled-bg-color);\n",
              "    fill: var(--disabled-fill-color);\n",
              "    box-shadow: none;\n",
              "  }\n",
              "\n",
              "  .colab-df-spinner {\n",
              "    border: 2px solid var(--fill-color);\n",
              "    border-color: transparent;\n",
              "    border-bottom-color: var(--fill-color);\n",
              "    animation:\n",
              "      spin 1s steps(1) infinite;\n",
              "  }\n",
              "\n",
              "  @keyframes spin {\n",
              "    0% {\n",
              "      border-color: transparent;\n",
              "      border-bottom-color: var(--fill-color);\n",
              "      border-left-color: var(--fill-color);\n",
              "    }\n",
              "    20% {\n",
              "      border-color: transparent;\n",
              "      border-left-color: var(--fill-color);\n",
              "      border-top-color: var(--fill-color);\n",
              "    }\n",
              "    30% {\n",
              "      border-color: transparent;\n",
              "      border-left-color: var(--fill-color);\n",
              "      border-top-color: var(--fill-color);\n",
              "      border-right-color: var(--fill-color);\n",
              "    }\n",
              "    40% {\n",
              "      border-color: transparent;\n",
              "      border-right-color: var(--fill-color);\n",
              "      border-top-color: var(--fill-color);\n",
              "    }\n",
              "    60% {\n",
              "      border-color: transparent;\n",
              "      border-right-color: var(--fill-color);\n",
              "    }\n",
              "    80% {\n",
              "      border-color: transparent;\n",
              "      border-right-color: var(--fill-color);\n",
              "      border-bottom-color: var(--fill-color);\n",
              "    }\n",
              "    90% {\n",
              "      border-color: transparent;\n",
              "      border-bottom-color: var(--fill-color);\n",
              "    }\n",
              "  }\n",
              "</style>\n",
              "\n",
              "      <script>\n",
              "        async function quickchart(key) {\n",
              "          const quickchartButtonEl =\n",
              "            document.querySelector('#' + key + ' button');\n",
              "          quickchartButtonEl.disabled = true;  // To prevent multiple clicks.\n",
              "          quickchartButtonEl.classList.add('colab-df-spinner');\n",
              "          try {\n",
              "            const charts = await google.colab.kernel.invokeFunction(\n",
              "                'suggestCharts', [key], {});\n",
              "          } catch (error) {\n",
              "            console.error('Error during call to suggestCharts:', error);\n",
              "          }\n",
              "          quickchartButtonEl.classList.remove('colab-df-spinner');\n",
              "          quickchartButtonEl.classList.add('colab-df-quickchart-complete');\n",
              "        }\n",
              "        (() => {\n",
              "          let quickchartButtonEl =\n",
              "            document.querySelector('#df-be649eaa-0678-4ee6-84e0-6f4558415502 button');\n",
              "          quickchartButtonEl.style.display =\n",
              "            google.colab.kernel.accessAllowed ? 'block' : 'none';\n",
              "        })();\n",
              "      </script>\n",
              "    </div>\n",
              "\n",
              "    </div>\n",
              "  </div>\n"
            ],
            "application/vnd.google.colaboratory.intrinsic+json": {
              "type": "dataframe",
              "summary": "{\n  \"name\": \"data\",\n  \"rows\": 4,\n  \"fields\": [\n    {\n      \"column\": \"tmax\",\n      \"properties\": {\n        \"dtype\": \"number\",\n        \"std\": 0.5390384134963232,\n        \"min\": -0.21994085051457024,\n        \"max\": 1.0,\n        \"num_unique_values\": 4,\n        \"samples\": [\n          0.6156040224863463,\n          0.8185610069102122,\n          1.0\n        ],\n        \"semantic_type\": \"\",\n        \"description\": \"\"\n      }\n    },\n    {\n      \"column\": \"tmin\",\n      \"properties\": {\n        \"dtype\": \"number\",\n        \"std\": 0.42125508089609565,\n        \"min\": -0.019546003379352268,\n        \"max\": 1.0,\n        \"num_unique_values\": 4,\n        \"samples\": [\n          1.0,\n          0.585571859030141,\n          0.6156040224863463\n        ],\n        \"semantic_type\": \"\",\n        \"description\": \"\"\n      }\n    },\n    {\n      \"column\": \"rain\",\n      \"properties\": {\n        \"dtype\": \"number\",\n        \"std\": 0.582621382171492,\n        \"min\": -0.21994085051457024,\n        \"max\": 1.0,\n        \"num_unique_values\": 4,\n        \"samples\": [\n          -0.019546003379352268,\n          -0.2117989828789997,\n          -0.21994085051457024\n        ],\n        \"semantic_type\": \"\",\n        \"description\": \"\"\n      }\n    },\n    {\n      \"column\": \"tmax_tomorrow\",\n      \"properties\": {\n        \"dtype\": \"number\",\n        \"std\": 0.5342325865406491,\n        \"min\": -0.2117989828789997,\n        \"max\": 1.0,\n        \"num_unique_values\": 4,\n        \"samples\": [\n          0.585571859030141,\n          1.0,\n          0.8185610069102122\n        ],\n        \"semantic_type\": \"\",\n        \"description\": \"\"\n      }\n    }\n  ]\n}"
            }
          },
          "metadata": {},
          "execution_count": 5
        }
      ]
    },
    {
      "cell_type": "markdown",
      "source": [
        "As we can see that we do not have any feature that has a perfect linear relationship with our data.\n",
        "\n",
        "Let's plot a actual linear relationship."
      ],
      "metadata": {
        "id": "ou-F9-gqJK1R"
      }
    },
    {
      "cell_type": "code",
      "source": [
        "data.plot.scatter(\"tmax\", \"tmax_tomorrow\")\n",
        "prediction = lambda x, w1=.82, b=11.99: x * w1 + b\n",
        "plt.plot([30, 120], [prediction(30), prediction(120)], c = \"black\",\n",
        "         linestyle = \"--\", linewidth = 0.9)\n",
        "plt.plot();"
      ],
      "metadata": {
        "colab": {
          "base_uri": "https://localhost:8080/",
          "height": 388
        },
        "id": "Z4JvuqMuKBu3",
        "outputId": "27aa4b42-2d2e-4bfa-e240-7231ecd0e452"
      },
      "execution_count": null,
      "outputs": [
        {
          "output_type": "display_data",
          "data": {
            "text/plain": [
              "<Figure size 500x400 with 1 Axes>"
            ],
            "image/png": "[encoded data removed]"
          },
          "metadata": {}
        }
      ]
    },
    {
      "cell_type": "code",
      "source": [
        "# let's check the baseline mse\n",
        "\n",
        "mse = lambda y_true, y_pred: np.mean(np.square(y_true - y_pred))\n",
        "\n",
        "# testing with diffent weights and biases\n",
        "print(mse(data[\"tmax\"], prediction(data[\"tmax\"])))\n",
        "print(mse(data[\"tmax\"], prediction(data[\"tmax\"], 0.83)))\n",
        "print(mse(data[\"tmax\"], prediction(data[\"tmax\"], 0.82, 13)))"
      ],
      "metadata": {
        "colab": {
          "base_uri": "https://localhost:8080/"
        },
        "id": "_BMxyFiIKwkX",
        "outputId": "50d02faa-25b9-4301-cf10-16b4f9b1ea18"
      },
      "execution_count": null,
      "outputs": [
        {
          "output_type": "stream",
          "name": "stdout",
          "text": [
            "2.2574271152564998\n",
            "2.582750566289143\n",
            "3.478975349766814\n"
          ]
        }
      ]
    },
    {
      "cell_type": "markdown",
      "source": [
        "We can see that by tweaking the w, b the error also gets tweaked obviously.\n",
        "\n",
        "We'll now check how the relationship of tmax changes as tmax_tomorrow changes."
      ],
      "metadata": {
        "id": "oVKuyJ9IMOq_"
      }
    },
    {
      "cell_type": "code",
      "source": [
        "tmax_bins = pd.cut(data[\"tmax\"], 25)\n",
        "\n",
        "# actually weight w\n",
        "ratios = (data[\"tmax_tomorrow\"] - 11.99) / data[\"tmax\"]\n",
        "binned_ratios = ratios.groupby(tmax_bins).mean()\n",
        "binned_ratios[:10]"
      ],
      "metadata": {
        "colab": {
          "base_uri": "https://localhost:8080/",
          "height": 429
        },
        "id": "LQLbyAcpNBIm",
        "outputId": "a39d3fe4-bf7f-4f97-b95f-6d779907ad77"
      },
      "execution_count": null,
      "outputs": [
        {
          "output_type": "execute_result",
          "data": {
            "text/plain": [
              "tmax\n",
              "(37.916, 41.36]    0.773904\n",
              "(41.36, 44.72]     0.762256\n",
              "(44.72, 48.08]     0.798484\n",
              "(48.08, 51.44]     0.805470\n",
              "(51.44, 54.8]      0.803930\n",
              "(54.8, 58.16]      0.802731\n",
              "(58.16, 61.52]     0.812934\n",
              "(61.52, 64.88]     0.821545\n",
              "(64.88, 68.24]     0.829101\n",
              "(68.24, 71.6]      0.830022\n",
              "dtype: float64"
            ],
            "text/html": [
              "<div>\n",
              "<style scoped>\n",
              "    .dataframe tbody tr th:only-of-type {\n",
              "        vertical-align: middle;\n",
              "    }\n",
              "\n",
              "    .dataframe tbody tr th {\n",
              "        vertical-align: top;\n",
              "    }\n",
              "\n",
              "    .dataframe thead th {\n",
              "        text-align: right;\n",
              "    }\n",
              "</style>\n",
              "<table border=\"1\" class=\"dataframe\">\n",
              "  <thead>\n",
              "    <tr style=\"text-align: right;\">\n",
              "      <th></th>\n",
              "      <th>0</th>\n",
              "    </tr>\n",
              "    <tr>\n",
              "      <th>tmax</th>\n",
              "      <th></th>\n",
              "    </tr>\n",
              "  </thead>\n",
              "  <tbody>\n",
              "    <tr>\n",
              "      <th>(37.916, 41.36]</th>\n",
              "      <td>0.773904</td>\n",
              "    </tr>\n",
              "    <tr>\n",
              "      <th>(41.36, 44.72]</th>\n",
              "      <td>0.762256</td>\n",
              "    </tr>\n",
              "    <tr>\n",
              "      <th>(44.72, 48.08]</th>\n",
              "      <td>0.798484</td>\n",
              "    </tr>\n",
              "    <tr>\n",
              "      <th>(48.08, 51.44]</th>\n",
              "      <td>0.805470</td>\n",
              "    </tr>\n",
              "    <tr>\n",
              "      <th>(51.44, 54.8]</th>\n",
              "      <td>0.803930</td>\n",
              "    </tr>\n",
              "    <tr>\n",
              "      <th>(54.8, 58.16]</th>\n",
              "      <td>0.802731</td>\n",
              "    </tr>\n",
              "    <tr>\n",
              "      <th>(58.16, 61.52]</th>\n",
              "      <td>0.812934</td>\n",
              "    </tr>\n",
              "    <tr>\n",
              "      <th>(61.52, 64.88]</th>\n",
              "      <td>0.821545</td>\n",
              "    </tr>\n",
              "    <tr>\n",
              "      <th>(64.88, 68.24]</th>\n",
              "      <td>0.829101</td>\n",
              "    </tr>\n",
              "    <tr>\n",
              "      <th>(68.24, 71.6]</th>\n",
              "      <td>0.830022</td>\n",
              "    </tr>\n",
              "  </tbody>\n",
              "</table>\n",
              "</div><br><label><b>dtype:</b> float64</label>"
            ]
          },
          "metadata": {},
          "execution_count": 8
        }
      ]
    },
    {
      "cell_type": "code",
      "source": [
        "# let's plot the change\n",
        "binned_tmax = data[\"tmax\"].groupby(tmax_bins).mean()\n",
        "binned_ratios = ratios.groupby(tmax_bins).mean()\n",
        "\n",
        "plt.scatter(binned_tmax, binned_ratios, alpha = 0.8)\n",
        "plt.xlabel(\"binned_tmax\")\n",
        "plt.ylabel(\"binned_ratios(w)\")\n",
        "plt.show();"
      ],
      "metadata": {
        "colab": {
          "base_uri": "https://localhost:8080/",
          "height": 388
        },
        "id": "XSrMgQUfP1Em",
        "outputId": "d165ea89-dd4e-4979-b76d-ab201000a049"
      },
      "execution_count": null,
      "outputs": [
        {
          "output_type": "display_data",
          "data": {
            "text/plain": [
              "<Figure size 500x400 with 1 Axes>"
            ],
            "image/png": "[encoded data removed]"
          },
          "metadata": {}
        }
      ]
    },
    {
      "cell_type": "markdown",
      "source": [
        "What a `Neural Network` actually does:\n",
        " * is actually based on linear regression itself.\n",
        " * implement a non-linear transformation on top of a linear transformation.\n",
        " * has multiple layers, which can capture interactions between features.\n",
        " * have multiple hidden units, which each have slightly diffrent linear and non-linear transformations.\n",
        " * most common non-linear transformation used in neural network is called `ReLU`:\n",
        " * ReLU(z) = $max(0, z)$\n",
        " * some more functions are :    \n",
        " * softplus(x) = $log_e(1 + e^x)$\n",
        "\n",
        " * sigmoid(x) = $\\frac{1}{1 + e^{-x}}$\n",
        "\n",
        " * softmax(x) = $\\frac{e^x}{e^x + e^y + \\cdots + e^z}$"
      ],
      "metadata": {
        "id": "ynsJbJ_vXMgg"
      }
    },
    {
      "cell_type": "code",
      "source": [
        "# let's visualize these functions\n",
        "\n",
        "# generate artificial data\n",
        "z = np.linspace(-50, 50)\n",
        "\n",
        "# non-linear functions\n",
        "relu = lambda z: np.maximum(0, z)\n",
        "\n",
        "softplus = lambda z: np.logaddexp(0, z)\n",
        "\n",
        "sigmoid = lambda z: 0.5 * (1 + np.tanh(0.5 * z))"
      ],
      "metadata": {
        "id": "lC4nN1jdY2pI"
      },
      "execution_count": null,
      "outputs": []
    },
    {
      "cell_type": "code",
      "source": [
        "# plot ReLU\n",
        "\n",
        "plt.plot(z, relu(prediction(z)))\n",
        "plt.show();"
      ],
      "metadata": {
        "colab": {
          "base_uri": "https://localhost:8080/",
          "height": 368
        },
        "id": "uGy2Zh-9eARD",
        "outputId": "297c3887-4b60-44f1-811e-fb528c7c5d3b"
      },
      "execution_count": null,
      "outputs": [
        {
          "output_type": "display_data",
          "data": {
            "text/plain": [
              "<Figure size 500x400 with 1 Axes>"
            ],
            "image/png": "[encoded data removed]"
          },
          "metadata": {}
        }
      ]
    },
    {
      "cell_type": "markdown",
      "source": [
        "What we actually did above is that :    \n",
        " * we applied a linear transformation using linear regression.\n",
        " * then applied a non-linear transformation using those functions."
      ],
      "metadata": {
        "id": "P__xRYXliS2c"
      }
    },
    {
      "cell_type": "code",
      "source": [
        "# plot softplus\n",
        "\n",
        "plt.plot(z, softplus(prediction(z)))\n",
        "plt.show();"
      ],
      "metadata": {
        "colab": {
          "base_uri": "https://localhost:8080/",
          "height": 368
        },
        "id": "zrgK9hQPezQO",
        "outputId": "bb7a8001-e6d6-4847-ee4d-c0640bb4c433"
      },
      "execution_count": null,
      "outputs": [
        {
          "output_type": "display_data",
          "data": {
            "text/plain": [
              "<Figure size 500x400 with 1 Axes>"
            ],
            "image/png": "[encoded data removed]"
          },
          "metadata": {}
        }
      ]
    },
    {
      "cell_type": "code",
      "source": [
        "# plot sigmoid\n",
        "\n",
        "plt.plot(z, sigmoid(prediction(z)))\n",
        "plt.show();"
      ],
      "metadata": {
        "colab": {
          "base_uri": "https://localhost:8080/",
          "height": 368
        },
        "id": "BR4yHpKChCng",
        "outputId": "d617f524-4d24-4308-9029-12d83c5e8292"
      },
      "execution_count": null,
      "outputs": [
        {
          "output_type": "display_data",
          "data": {
            "text/plain": [
              "<Figure size 500x400 with 1 Axes>"
            ],
            "image/png": "[encoded data removed]"
          },
          "metadata": {}
        }
      ]
    },
    {
      "cell_type": "markdown",
      "source": [
        "This is what actually happens:\n",
        "$\\hat{y} = w_2\\;relu(w_1x+b_1)+ b_2$"
      ],
      "metadata": {
        "id": "MffKaHEBhkGR"
      }
    },
    {
      "cell_type": "code",
      "source": [
        "temps = np.arange(-50, 50)\n",
        "\n",
        "layer1 = np.maximum(0, prediction(temps))\n",
        "layer2 = prediction(layer1, 0.5, 10)\n",
        "\n",
        "plt.plot(temps, layer2)\n",
        "plt.ylim((0, 40))\n",
        "plt.show();"
      ],
      "metadata": {
        "colab": {
          "base_uri": "https://localhost:8080/",
          "height": 374
        },
        "id": "GOd5iJ1dkKko",
        "outputId": "c503c473-1513-46cc-bcdb-a57bb24e7099"
      },
      "execution_count": null,
      "outputs": [
        {
          "output_type": "display_data",
          "data": {
            "text/plain": [
              "<Figure size 500x400 with 1 Axes>"
            ],
            "image/png": "[encoded data removed]"
          },
          "metadata": {}
        }
      ]
    },
    {
      "cell_type": "markdown",
      "source": [
        "We have a slight improvement instead of predictig 0 we now predict 10.\n",
        "\n",
        "To solve our problem of non-linearity we need to add multiple hidden units per layer."
      ],
      "metadata": {
        "id": "oqjN4jhXkwIr"
      }
    },
    {
      "cell_type": "code",
      "source": [
        "# adding more units per layer\n",
        "temps = np.arange(-50, 50)\n",
        "layer1_1 = np.maximum(0, prediction(temps))\n",
        "layer1_2 = np.maximum(0, prediction(temps, .1, 10))\n",
        "\n",
        "plt.plot(temps, layer1_1, c = \"steelblue\", label = \"layer1_1\")\n",
        "plt.plot(temps, layer1_2, c = \"orange\", label = \"layer1_2\")\n",
        "\n",
        "plt.legend()\n",
        "plt.show();"
      ],
      "metadata": {
        "colab": {
          "base_uri": "https://localhost:8080/",
          "height": 368
        },
        "id": "_SafoVISlP20",
        "outputId": "628fb5be-250f-422f-8571-f0fb9e744b64"
      },
      "execution_count": null,
      "outputs": [
        {
          "output_type": "display_data",
          "data": {
            "text/plain": [
              "<Figure size 500x400 with 1 Axes>"
            ],
            "image/png": "[encoded data removed]"
          },
          "metadata": {}
        }
      ]
    },
    {
      "cell_type": "code",
      "source": [
        "layer1_2"
      ],
      "metadata": {
        "colab": {
          "base_uri": "https://localhost:8080/"
        },
        "id": "w1shqj5sz2F4",
        "outputId": "72d0a8ea-d70e-40eb-9d60-8357cf0d28d7"
      },
      "execution_count": null,
      "outputs": [
        {
          "output_type": "execute_result",
          "data": {
            "text/plain": [
              "array([ 5. ,  5.1,  5.2,  5.3,  5.4,  5.5,  5.6,  5.7,  5.8,  5.9,  6. ,\n",
              "        6.1,  6.2,  6.3,  6.4,  6.5,  6.6,  6.7,  6.8,  6.9,  7. ,  7.1,\n",
              "        7.2,  7.3,  7.4,  7.5,  7.6,  7.7,  7.8,  7.9,  8. ,  8.1,  8.2,\n",
              "        8.3,  8.4,  8.5,  8.6,  8.7,  8.8,  8.9,  9. ,  9.1,  9.2,  9.3,\n",
              "        9.4,  9.5,  9.6,  9.7,  9.8,  9.9, 10. , 10.1, 10.2, 10.3, 10.4,\n",
              "       10.5, 10.6, 10.7, 10.8, 10.9, 11. , 11.1, 11.2, 11.3, 11.4, 11.5,\n",
              "       11.6, 11.7, 11.8, 11.9, 12. , 12.1, 12.2, 12.3, 12.4, 12.5, 12.6,\n",
              "       12.7, 12.8, 12.9, 13. , 13.1, 13.2, 13.3, 13.4, 13.5, 13.6, 13.7,\n",
              "       13.8, 13.9, 14. , 14.1, 14.2, 14.3, 14.4, 14.5, 14.6, 14.7, 14.8,\n",
              "       14.9])"
            ]
          },
          "metadata": {},
          "execution_count": 16
        }
      ]
    },
    {
      "cell_type": "markdown",
      "source": [
        "As we can see that the `ReLU` function does not get's activated in the `layer1_2` since our `weights` and `bias` ensures a output > 0.\n",
        "\n",
        "Now let's add both units of the layer and plot to see if anything changes?"
      ],
      "metadata": {
        "id": "kgJM-uUjz5j3"
      }
    },
    {
      "cell_type": "code",
      "source": [
        "plt.plot(layer1_1 + layer1_2, label = \"2 units combined\")\n",
        "plt.legend()\n",
        "plt.show();"
      ],
      "metadata": {
        "colab": {
          "base_uri": "https://localhost:8080/",
          "height": 373
        },
        "id": "1U1uPkmP0chl",
        "outputId": "864bf25f-c418-48a7-f932-47ca561c0e72"
      },
      "execution_count": null,
      "outputs": [
        {
          "output_type": "display_data",
          "data": {
            "text/plain": [
              "<Figure size 500x400 with 1 Axes>"
            ],
            "image/png": "[encoded data removed]"
          },
          "metadata": {}
        }
      ]
    },
    {
      "cell_type": "markdown",
      "source": [
        "We can see that we are getting a non-linear relationship here.\n",
        "But we have not lost the input signal (unlike the case of layer1_2) and if we add a lot more units the algorithm will make it more and more non-linear(curvy).\n",
        "\n",
        "Let's add another unit with `w = 2` and `b = -50`."
      ],
      "metadata": {
        "id": "vwAHVVPb0xU_"
      }
    },
    {
      "cell_type": "code",
      "source": [
        "layer1_3 = np.maximum(0, prediction(temps, 2, -50))\n",
        "\n",
        "plt.plot(layer1_1 + layer1_2 + layer1_3, label = \"3 units combined\")\n",
        "plt.legend()\n",
        "plt.plot();"
      ],
      "metadata": {
        "colab": {
          "base_uri": "https://localhost:8080/",
          "height": 372
        },
        "id": "2FE8op9i1F6s",
        "outputId": "08fdd51c-0823-4d8e-f964-7604ebd26dc3"
      },
      "execution_count": null,
      "outputs": [
        {
          "output_type": "display_data",
          "data": {
            "text/plain": [
              "<Figure size 500x400 with 1 Axes>"
            ],
            "image/png": "[encoded data removed]"
          },
          "metadata": {}
        }
      ]
    },
    {
      "cell_type": "markdown",
      "source": [
        "So with more units and correct parameters we can actually implement a non-linear line on top of a linear function like linear regression which is the base for our prediction function which should most likely be called as transformation function because all it does it multiply the weight and add in the bias to the input signal and transforms it."
      ],
      "metadata": {
        "id": "ec1kDD6A2-el"
      }
    },
    {
      "cell_type": "code",
      "source": [
        "!pip install tensor-sensor"
      ],
      "metadata": {
        "id": "p7_EYUaN3sbP",
        "colab": {
          "base_uri": "https://localhost:8080/"
        },
        "outputId": "4a974418-8556-4c69-f152-10264a890d51"
      },
      "execution_count": null,
      "outputs": [
        {
          "output_type": "stream",
          "name": "stdout",
          "text": [
            "Collecting tensor-sensor\n",
            "  Downloading tensor-sensor-1.0.tar.gz (23 kB)\n",
            "  Preparing metadata (setup.py) ... \u001b[?25l\u001b[?25hdone\n",
            "Requirement already satisfied: graphviz>=0.14.1 in /usr/local/lib/python3.11/dist-packages (from tensor-sensor) (0.21)\n",
            "Requirement already satisfied: numpy in /usr/local/lib/python3.11/dist-packages (from tensor-sensor) (2.0.2)\n",
            "Requirement already satisfied: IPython in /usr/local/lib/python3.11/dist-packages (from tensor-sensor) (7.34.0)\n",
            "Requirement already satisfied: matplotlib in /usr/local/lib/python3.11/dist-packages (from tensor-sensor) (3.10.0)\n",
            "Requirement already satisfied: setuptools>=18.5 in /usr/local/lib/python3.11/dist-packages (from IPython->tensor-sensor) (75.2.0)\n",
            "Collecting jedi>=0.16 (from IPython->tensor-sensor)\n",
            "  Downloading jedi-0.19.2-py2.py3-none-any.whl.metadata (22 kB)\n",
            "Requirement already satisfied: decorator in /usr/local/lib/python3.11/dist-packages (from IPython->tensor-sensor) (4.4.2)\n",
            "Requirement already satisfied: pickleshare in /usr/local/lib/python3.11/dist-packages (from IPython->tensor-sensor) (0.7.5)\n",
            "Requirement already satisfied: traitlets>=4.2 in /usr/local/lib/python3.11/dist-packages (from IPython->tensor-sensor) (5.7.1)\n",
            "Requirement already satisfied: prompt-toolkit!=3.0.0,!=3.0.1,<3.1.0,>=2.0.0 in /usr/local/lib/python3.11/dist-packages (from IPython->tensor-sensor) (3.0.51)\n",
            "Requirement already satisfied: pygments in /usr/local/lib/python3.11/dist-packages (from IPython->tensor-sensor) (2.19.1)\n",
            "Requirement already satisfied: backcall in /usr/local/lib/python3.11/dist-packages (from IPython->tensor-sensor) (0.2.0)\n",
            "Requirement already satisfied: matplotlib-inline in /usr/local/lib/python3.11/dist-packages (from IPython->tensor-sensor) (0.1.7)\n",
            "Requirement already satisfied: pexpect>4.3 in /usr/local/lib/python3.11/dist-packages (from IPython->tensor-sensor) (4.9.0)\n",
            "Requirement already satisfied: contourpy>=1.0.1 in /usr/local/lib/python3.11/dist-packages (from matplotlib->tensor-sensor) (1.3.2)\n",
            "Requirement already satisfied: cycler>=0.10 in /usr/local/lib/python3.11/dist-packages (from matplotlib->tensor-sensor) (0.12.1)\n",
            "Requirement already satisfied: fonttools>=4.22.0 in /usr/local/lib/python3.11/dist-packages (from matplotlib->tensor-sensor) (4.58.4)\n",
            "Requirement already satisfied: kiwisolver>=1.3.1 in /usr/local/lib/python3.11/dist-packages (from matplotlib->tensor-sensor) (1.4.8)\n",
            "Requirement already satisfied: packaging>=20.0 in /usr/local/lib/python3.11/dist-packages (from matplotlib->tensor-sensor) (24.2)\n",
            "Requirement already satisfied: pillow>=8 in /usr/local/lib/python3.11/dist-packages (from matplotlib->tensor-sensor) (11.2.1)\n",
            "Requirement already satisfied: pyparsing>=2.3.1 in /usr/local/lib/python3.11/dist-packages (from matplotlib->tensor-sensor) (3.2.3)\n",
            "Requirement already satisfied: python-dateutil>=2.7 in /usr/local/lib/python3.11/dist-packages (from matplotlib->tensor-sensor) (2.9.0.post0)\n",
            "Requirement already satisfied: parso<0.9.0,>=0.8.4 in /usr/local/lib/python3.11/dist-packages (from jedi>=0.16->IPython->tensor-sensor) (0.8.4)\n",
            "Requirement already satisfied: ptyprocess>=0.5 in /usr/local/lib/python3.11/dist-packages (from pexpect>4.3->IPython->tensor-sensor) (0.7.0)\n",
            "Requirement already satisfied: wcwidth in /usr/local/lib/python3.11/dist-packages (from prompt-toolkit!=3.0.0,!=3.0.1,<3.1.0,>=2.0.0->IPython->tensor-sensor) (0.2.13)\n",
            "Requirement already satisfied: six>=1.5 in /usr/local/lib/python3.11/dist-packages (from python-dateutil>=2.7->matplotlib->tensor-sensor) (1.17.0)\n",
            "Downloading jedi-0.19.2-py2.py3-none-any.whl (1.6 MB)\n",
            "\u001b[2K   \u001b[90m━━━━━━━━━━━━━━━━━━━━━━━━━━━━━━━━━━━━━━━━\u001b[0m \u001b[32m1.6/1.6 MB\u001b[0m \u001b[31m17.6 MB/s\u001b[0m eta \u001b[36m0:00:00\u001b[0m\n",
            "\u001b[?25hBuilding wheels for collected packages: tensor-sensor\n",
            "  Building wheel for tensor-sensor (setup.py) ... \u001b[?25l\u001b[?25hdone\n",
            "  Created wheel for tensor-sensor: filename=tensor_sensor-1.0-py3-none-any.whl size=26890 sha256=615bacbfe5e32ec4dcfd4dce5f5e136d267ce635ab003d54e70eaee3dfbf1961\n",
            "  Stored in directory: /root/.cache/pip/wheels/cc/96/59/872b1f1957b3c703a22e0f48e014a9be3f8a1298be6e7974ae\n",
            "Successfully built tensor-sensor\n",
            "Installing collected packages: jedi, tensor-sensor\n",
            "Successfully installed jedi-0.19.2 tensor-sensor-1.0\n"
          ]
        }
      ]
    },
    {
      "cell_type": "code",
      "source": [
        "import tsensor\n",
        "\n",
        "input_ = np.array([[80], [90], [100], [-20], [-10]])\n",
        "l1_weights = np.array([[.82, .1]])\n",
        "l1_bias = np.array([[11.99, 10]])"
      ],
      "metadata": {
        "id": "stbn5jMT7lqj"
      },
      "execution_count": null,
      "outputs": []
    },
    {
      "cell_type": "code",
      "source": [
        "with tsensor.explain():\n",
        "  l1_output = input_ @ l1_weights + l1_bias"
      ],
      "metadata": {
        "colab": {
          "base_uri": "https://localhost:8080/",
          "height": 476
        },
        "id": "iQPiFilc8A4Q",
        "outputId": "81167a46-91e6-4913-b96a-1c6baf34c0e2"
      },
      "execution_count": null,
      "outputs": [
        {
          "output_type": "stream",
          "name": "stderr",
          "text": [
            "\n",
            "PYDEV DEBUGGER WARNING:\n",
            "sys.settrace() should not be used when the debugger is being used.\n",
            "This may cause the debugger to stop working correctly.\n",
            "If this is needed, please check: \n",
            "http://pydev.blogspot.com/2007/06/why-cant-pydev-debugger-work-with.html\n",
            "to see how to restore the debug tracing back correctly.\n",
            "Call Location:\n",
            "  File \"/usr/local/lib/python3.11/dist-packages/tsensor/analysis.py\", line 257, in __enter__\n",
            "    sys.settrace(self.tracer.listener)\n",
            "\n"
          ]
        },
        {
          "output_type": "display_data",
          "data": {
            "text/plain": [
              "<IPython.core.display.SVG object>"
            ],
            "image/svg+xml": "<svg xmlns:xlink=\"http://www.w3.org/1999/xlink\" xmlns=\"http://www.w3.org/2000/svg\" width=\"275.945406pt\" height=\"54.546474pt\" viewBox=\"0 0 275.945406 54.546474\" version=\"1.1\">\n <metadata>\n  <rdf:RDF xmlns:dc=\"http://purl.org/dc/elements/1.1/\" xmlns:cc=\"http://creativecommons.org/ns#\" xmlns:rdf=\"http://www.w3.org/1999/02/22-rdf-syntax-ns#\">\n   <cc:Work>\n    <dc:type rdf:resource=\"http://purl.org/dc/dcmitype/StillImage\"/>\n    <dc:date>2025-06-21T13:16:03.746160</dc:date>\n    <dc:format>image/svg+xml</dc:format>\n    <dc:creator>\n     <cc:Agent>\n      <dc:title>Matplotlib v3.10.0, https://matplotlib.org/</dc:title>\n     </cc:Agent>\n    </dc:creator>\n   </cc:Work>\n  </rdf:RDF>\n </metadata>\n <defs>\n  <style type=\"text/css\">*{stroke-linejoin: round; stroke-linecap: butt}</style>\n </defs>\n <g id=\"figure_1\">\n  <g id=\"patch_1\">\n   <path d=\"M 0 54.546474  L 275.945406 54.546474  L 275.945406 0  L 0 0  z \" style=\"fill: #ffffff\"/>\n  </g>\n  <g id=\"axes_1\">\n   <g id=\"patch_2\">\n    <path d=\"M 24.92865 46.385787  L 47.77875 46.385787  L 47.77875 23.683107  L 24.92865 23.683107  z \" clip-path=\"url(#p4a109ace02)\" style=\"fill: #a8e1b0; fill-opacity: 0.75; stroke: #808080; stroke-width: 0.7; stroke-linejoin: miter\"/>\n   </g>\n   <g id=\"patch_3\">\n    <path d=\"M 102.29256 46.385787  L 107.51544 46.385787  L 107.51544 23.683107  L 102.29256 23.683107  z \" clip-path=\"url(#p4a109ace02)\" style=\"fill: #7fa4d3; fill-opacity: 0.75; stroke: #808080; stroke-width: 0.7; stroke-linejoin: miter\"/>\n   </g>\n   <g id=\"patch_4\">\n    <path d=\"M 165.29355 28.872291  L 188.14365 28.872291  L 188.14365 23.683107  L 165.29355 23.683107  z \" clip-path=\"url(#p4a109ace02)\" style=\"fill: #a8e1b0; fill-opacity: 0.75; stroke: #808080; stroke-width: 0.7; stroke-linejoin: miter\"/>\n   </g>\n   <g id=\"patch_5\">\n    <path d=\"M 240.37245 28.872291  L 263.22255 28.872291  L 263.22255 23.683107  L 240.37245 23.683107  z \" clip-path=\"url(#p4a109ace02)\" style=\"fill: #a8e1b0; fill-opacity: 0.75; stroke: #808080; stroke-width: 0.7; stroke-linejoin: miter\"/>\n   </g>\n   <g id=\"line2d_1\">\n    <path d=\"M 6.32214 13.762608  L 66.38526 13.762608  \" clip-path=\"url(#p4a109ace02)\" style=\"fill: none; stroke: #c2c2c2; stroke-width: 0.5; stroke-linecap: square\"/>\n   </g>\n   <g id=\"line2d_2\">\n    <path d=\"M 84.66534 13.762608  L 125.14266 13.762608  \" clip-path=\"url(#p4a109ace02)\" style=\"fill: none; stroke: #c2c2c2; stroke-width: 0.5; stroke-linecap: square\"/>\n   </g>\n   <g id=\"line2d_3\">\n    <path d=\"M 143.42274 13.762608  L 210.01446 13.762608  \" clip-path=\"url(#p4a109ace02)\" style=\"fill: none; stroke: #c2c2c2; stroke-width: 0.5; stroke-linecap: square\"/>\n   </g>\n   <g id=\"line2d_4\">\n    <path d=\"M 228.29454 13.762608  L 275.30046 13.762608  \" clip-path=\"url(#p4a109ace02)\" style=\"fill: none; stroke: #c2c2c2; stroke-width: 0.5; stroke-linecap: square\"/>\n   </g>\n   <g id=\"text_1\">\n    <!-- l -->\n    <g style=\"fill: #444443\" transform=\"translate(6.975 9.947031) scale(0.13 -0.13)\">\n     <defs>\n      <path id=\"DejaVuSansMono-6c\" d=\"M 1997 1269  Q 1997 881 2139 684  Q 2281 488 2559 488  L 3231 488  L 3231 0  L 2503 0  Q 1988 0 1705 331  Q 1422 663 1422 1269  L 1422 4447  L 500 4447  L 500 4897  L 1997 4897  L 1997 1269  z \" transform=\"scale(0.015625)\"/>\n     </defs>\n     <use xlink:href=\"#DejaVuSansMono-6c\"/>\n    </g>\n   </g>\n   <g id=\"text_2\">\n    <!-- 1 -->\n    <g style=\"fill: #444443\" transform=\"translate(13.5036 9.947031) scale(0.13 -0.13)\">\n     <defs>\n      <path id=\"DejaVuSansMono-31\" d=\"M 844 531  L 1825 531  L 1825 4097  L 769 3859  L 769 4434  L 1819 4666  L 2450 4666  L 2450 531  L 3419 531  L 3419 0  L 844 0  L 844 531  z \" transform=\"scale(0.015625)\"/>\n     </defs>\n     <use xlink:href=\"#DejaVuSansMono-31\"/>\n    </g>\n   </g>\n   <g id=\"text_3\">\n    <!-- _ -->\n    <g style=\"fill: #444443\" transform=\"translate(20.0322 9.947031) scale(0.13 -0.13)\">\n     <defs>\n      <path id=\"DejaVuSansMono-5f\" d=\"M 3853 -1259  L 3853 -1509  L 0 -1509  L 0 -1259  L 3853 -1259  z \" transform=\"scale(0.015625)\"/>\n     </defs>\n     <use xlink:href=\"#DejaVuSansMono-5f\"/>\n    </g>\n   </g>\n   <g id=\"text_4\">\n    <!-- o -->\n    <g style=\"fill: #444443\" transform=\"translate(26.5608 9.947031) scale(0.13 -0.13)\">\n     <defs>\n      <path id=\"DejaVuSansMono-6f\" d=\"M 1925 3097  Q 1488 3097 1263 2756  Q 1038 2416 1038 1747  Q 1038 1081 1263 739  Q 1488 397 1925 397  Q 2366 397 2591 739  Q 2816 1081 2816 1747  Q 2816 2416 2591 2756  Q 2366 3097 1925 3097  z M 1925 3584  Q 2653 3584 3039 3112  Q 3425 2641 3425 1747  Q 3425 850 3040 379  Q 2656 -91 1925 -91  Q 1197 -91 812 379  Q 428 850 428 1747  Q 428 2641 812 3112  Q 1197 3584 1925 3584  z \" transform=\"scale(0.015625)\"/>\n     </defs>\n     <use xlink:href=\"#DejaVuSansMono-6f\"/>\n    </g>\n   </g>\n   <g id=\"text_5\">\n    <!-- u -->\n    <g style=\"fill: #444443\" transform=\"translate(33.0894 9.947031) scale(0.13 -0.13)\">\n     <defs>\n      <path id=\"DejaVuSansMono-75\" d=\"M 609 1325  L 609 3494  L 1184 3494  L 1184 1325  Q 1184 853 1351 631  Q 1519 409 1869 409  Q 2275 409 2490 695  Q 2706 981 2706 1516  L 2706 3494  L 3284 3494  L 3284 0  L 2706 0  L 2706 525  Q 2553 222 2289 65  Q 2025 -91 1672 -91  Q 1134 -91 871 261  Q 609 613 609 1325  z \" transform=\"scale(0.015625)\"/>\n     </defs>\n     <use xlink:href=\"#DejaVuSansMono-75\"/>\n    </g>\n   </g>\n   <g id=\"text_6\">\n    <!-- t -->\n    <g style=\"fill: #444443\" transform=\"translate(39.618 9.947031) scale(0.13 -0.13)\">\n     <defs>\n      <path id=\"DejaVuSansMono-74\" d=\"M 1919 4494  L 1919 3500  L 3225 3500  L 3225 3053  L 1919 3053  L 1919 1153  Q 1919 766 2066 612  Q 2213 459 2578 459  L 3225 459  L 3225 0  L 2522 0  Q 1875 0 1609 259  Q 1344 519 1344 1153  L 1344 3053  L 409 3053  L 409 3500  L 1344 3500  L 1344 4494  L 1919 4494  z \" transform=\"scale(0.015625)\"/>\n     </defs>\n     <use xlink:href=\"#DejaVuSansMono-74\"/>\n    </g>\n   </g>\n   <g id=\"text_7\">\n    <!-- p -->\n    <g style=\"fill: #444443\" transform=\"translate(46.1466 9.947031) scale(0.13 -0.13)\">\n     <defs>\n      <path id=\"DejaVuSansMono-70\" d=\"M 1172 441  L 1172 -1331  L 594 -1331  L 594 3500  L 1172 3500  L 1172 3053  Q 1316 3313 1555 3448  Q 1794 3584 2106 3584  Q 2741 3584 3102 3093  Q 3463 2603 3463 1734  Q 3463 881 3100 395  Q 2738 -91 2106 -91  Q 1788 -91 1548 45  Q 1309 181 1172 441  z M 2859 1747  Q 2859 2416 2648 2756  Q 2438 3097 2022 3097  Q 1603 3097 1387 2755  Q 1172 2413 1172 1747  Q 1172 1084 1387 740  Q 1603 397 2022 397  Q 2438 397 2648 737  Q 2859 1078 2859 1747  z \" transform=\"scale(0.015625)\"/>\n     </defs>\n     <use xlink:href=\"#DejaVuSansMono-70\"/>\n    </g>\n   </g>\n   <g id=\"text_8\">\n    <!-- u -->\n    <g style=\"fill: #444443\" transform=\"translate(52.6752 9.947031) scale(0.13 -0.13)\">\n     <use xlink:href=\"#DejaVuSansMono-75\"/>\n    </g>\n   </g>\n   <g id=\"text_9\">\n    <!-- t -->\n    <g style=\"fill: #444443\" transform=\"translate(59.2038 9.947031) scale(0.13 -0.13)\">\n     <use xlink:href=\"#DejaVuSansMono-74\"/>\n    </g>\n   </g>\n   <g id=\"text_10\">\n    <!--   -->\n    <g style=\"fill: #444443\" transform=\"translate(65.7324 9.947031) scale(0.13 -0.13)\">\n     <defs>\n      <path id=\"DejaVuSansMono-20\" transform=\"scale(0.015625)\"/>\n     </defs>\n     <use xlink:href=\"#DejaVuSansMono-20\"/>\n    </g>\n   </g>\n   <g id=\"text_11\">\n    <!-- = -->\n    <g style=\"fill: #444443\" transform=\"translate(72.261 9.947031) scale(0.13 -0.13)\">\n     <defs>\n      <path id=\"DejaVuSansMono-3d\" d=\"M 275 1638  L 3578 1638  L 3578 1100  L 275 1100  L 275 1638  z M 275 2906  L 3578 2906  L 3578 2375  L 275 2375  L 275 2906  z \" transform=\"scale(0.015625)\"/>\n     </defs>\n     <use xlink:href=\"#DejaVuSansMono-3d\"/>\n    </g>\n   </g>\n   <g id=\"text_12\">\n    <!--   -->\n    <g style=\"fill: #444443\" transform=\"translate(78.7896 9.947031) scale(0.13 -0.13)\">\n     <use xlink:href=\"#DejaVuSansMono-20\"/>\n    </g>\n   </g>\n   <g id=\"text_13\">\n    <!-- i -->\n    <g style=\"fill: #444443\" transform=\"translate(85.3182 9.947031) scale(0.13 -0.13)\">\n     <defs>\n      <path id=\"DejaVuSansMono-69\" d=\"M 800 3500  L 2272 3500  L 2272 447  L 3413 447  L 3413 0  L 556 0  L 556 447  L 1697 447  L 1697 3053  L 800 3053  L 800 3500  z M 1697 4863  L 2272 4863  L 2272 4134  L 1697 4134  L 1697 4863  z \" transform=\"scale(0.015625)\"/>\n     </defs>\n     <use xlink:href=\"#DejaVuSansMono-69\"/>\n    </g>\n   </g>\n   <g id=\"text_14\">\n    <!-- n -->\n    <g style=\"fill: #444443\" transform=\"translate(91.8468 9.947031) scale(0.13 -0.13)\">\n     <defs>\n      <path id=\"DejaVuSansMono-6e\" d=\"M 3284 2169  L 3284 0  L 2706 0  L 2706 2169  Q 2706 2641 2540 2862  Q 2375 3084 2022 3084  Q 1619 3084 1401 2798  Q 1184 2513 1184 1978  L 1184 0  L 609 0  L 609 3500  L 1184 3500  L 1184 2975  Q 1338 3275 1600 3429  Q 1863 3584 2222 3584  Q 2756 3584 3020 3232  Q 3284 2881 3284 2169  z \" transform=\"scale(0.015625)\"/>\n     </defs>\n     <use xlink:href=\"#DejaVuSansMono-6e\"/>\n    </g>\n   </g>\n   <g id=\"text_15\">\n    <!-- p -->\n    <g style=\"fill: #444443\" transform=\"translate(98.3754 9.947031) scale(0.13 -0.13)\">\n     <use xlink:href=\"#DejaVuSansMono-70\"/>\n    </g>\n   </g>\n   <g id=\"text_16\">\n    <!-- u -->\n    <g style=\"fill: #444443\" transform=\"translate(104.904 9.947031) scale(0.13 -0.13)\">\n     <use xlink:href=\"#DejaVuSansMono-75\"/>\n    </g>\n   </g>\n   <g id=\"text_17\">\n    <!-- t -->\n    <g style=\"fill: #444443\" transform=\"translate(111.4326 9.947031) scale(0.13 -0.13)\">\n     <use xlink:href=\"#DejaVuSansMono-74\"/>\n    </g>\n   </g>\n   <g id=\"text_18\">\n    <!-- _ -->\n    <g style=\"fill: #444443\" transform=\"translate(117.9612 9.947031) scale(0.13 -0.13)\">\n     <use xlink:href=\"#DejaVuSansMono-5f\"/>\n    </g>\n   </g>\n   <g id=\"text_19\">\n    <!--   -->\n    <g style=\"fill: #444443\" transform=\"translate(124.4898 9.947031) scale(0.13 -0.13)\">\n     <use xlink:href=\"#DejaVuSansMono-20\"/>\n    </g>\n   </g>\n   <g id=\"text_20\">\n    <!-- @ -->\n    <g style=\"fill: #444443\" transform=\"translate(131.0184 9.947031) scale(0.13 -0.13)\">\n     <defs>\n      <path id=\"DejaVuSansMono-40\" d=\"M 3244 1703  Q 3244 2106 3044 2348  Q 2844 2591 2509 2591  Q 2175 2591 1973 2348  Q 1772 2106 1772 1703  Q 1772 1297 1973 1055  Q 2175 813 2509 813  Q 2844 813 3044 1055  Q 3244 1297 3244 1703  z M 3681 422  L 3231 422  L 3231 769  Q 3116 572 2911 465  Q 2706 359 2450 359  Q 1947 359 1617 737  Q 1288 1116 1288 1703  Q 1288 2291 1617 2669  Q 1947 3047 2450 3047  Q 2700 3047 2909 2937  Q 3119 2828 3231 2638  L 3231 2834  Q 3231 3322 2956 3619  Q 2681 3916 2228 3916  Q 1459 3916 1004 3317  Q 550 2719 550 1697  Q 550 669 1065 59  Q 1581 -550 2438 -550  Q 2606 -550 2775 -519  Q 2944 -488 3122 -422  L 3272 -844  Q 3075 -922 2883 -959  Q 2691 -997 2509 -997  Q 1394 -997 739 -269  Q 84 459 84 1697  Q 84 2916 671 3637  Q 1259 4359 2247 4359  Q 2900 4359 3290 3943  Q 3681 3528 3681 2828  L 3681 422  z \" transform=\"scale(0.015625)\"/>\n     </defs>\n     <use xlink:href=\"#DejaVuSansMono-40\"/>\n    </g>\n   </g>\n   <g id=\"text_21\">\n    <!--   -->\n    <g style=\"fill: #444443\" transform=\"translate(137.547 9.947031) scale(0.13 -0.13)\">\n     <use xlink:href=\"#DejaVuSansMono-20\"/>\n    </g>\n   </g>\n   <g id=\"text_22\">\n    <!-- l -->\n    <g style=\"fill: #444443\" transform=\"translate(144.0756 9.947031) scale(0.13 -0.13)\">\n     <use xlink:href=\"#DejaVuSansMono-6c\"/>\n    </g>\n   </g>\n   <g id=\"text_23\">\n    <!-- 1 -->\n    <g style=\"fill: #444443\" transform=\"translate(150.6042 9.947031) scale(0.13 -0.13)\">\n     <use xlink:href=\"#DejaVuSansMono-31\"/>\n    </g>\n   </g>\n   <g id=\"text_24\">\n    <!-- _ -->\n    <g style=\"fill: #444443\" transform=\"translate(157.1328 9.947031) scale(0.13 -0.13)\">\n     <use xlink:href=\"#DejaVuSansMono-5f\"/>\n    </g>\n   </g>\n   <g id=\"text_25\">\n    <!-- w -->\n    <g style=\"fill: #444443\" transform=\"translate(163.6614 9.947031) scale(0.13 -0.13)\">\n     <defs>\n      <path id=\"DejaVuSansMono-77\" d=\"M 0 3500  L 569 3500  L 1178 672  L 1678 2478  L 2169 2478  L 2675 672  L 3284 3500  L 3853 3500  L 3034 0  L 2484 0  L 1925 1919  L 1369 0  L 819 0  L 0 3500  z \" transform=\"scale(0.015625)\"/>\n     </defs>\n     <use xlink:href=\"#DejaVuSansMono-77\"/>\n    </g>\n   </g>\n   <g id=\"text_26\">\n    <!-- e -->\n    <g style=\"fill: #444443\" transform=\"translate(170.19 9.947031) scale(0.13 -0.13)\">\n     <defs>\n      <path id=\"DejaVuSansMono-65\" d=\"M 3475 1894  L 3475 1613  L 984 1613  L 984 1594  Q 984 1022 1282 709  Q 1581 397 2125 397  Q 2400 397 2700 484  Q 3000 572 3341 750  L 3341 178  Q 3013 44 2708 -23  Q 2403 -91 2119 -91  Q 1303 -91 843 398  Q 384 888 384 1747  Q 384 2584 834 3084  Q 1284 3584 2034 3584  Q 2703 3584 3089 3131  Q 3475 2678 3475 1894  z M 2900 2063  Q 2888 2569 2661 2833  Q 2434 3097 2009 3097  Q 1594 3097 1325 2822  Q 1056 2547 1006 2059  L 2900 2063  z \" transform=\"scale(0.015625)\"/>\n     </defs>\n     <use xlink:href=\"#DejaVuSansMono-65\"/>\n    </g>\n   </g>\n   <g id=\"text_27\">\n    <!-- i -->\n    <g style=\"fill: #444443\" transform=\"translate(176.7186 9.947031) scale(0.13 -0.13)\">\n     <use xlink:href=\"#DejaVuSansMono-69\"/>\n    </g>\n   </g>\n   <g id=\"text_28\">\n    <!-- g -->\n    <g style=\"fill: #444443\" transform=\"translate(183.2472 9.947031) scale(0.13 -0.13)\">\n     <defs>\n      <path id=\"DejaVuSansMono-67\" d=\"M 2681 1778  Q 2681 2425 2470 2761  Q 2259 3097 1856 3097  Q 1434 3097 1212 2761  Q 991 2425 991 1778  Q 991 1131 1214 792  Q 1438 453 1863 453  Q 2259 453 2470 793  Q 2681 1134 2681 1778  z M 3256 225  Q 3256 -563 2884 -969  Q 2513 -1375 1791 -1375  Q 1553 -1375 1293 -1331  Q 1034 -1288 775 -1203  L 775 -634  Q 1081 -778 1331 -847  Q 1581 -916 1791 -916  Q 2256 -916 2468 -662  Q 2681 -409 2681 141  L 2681 166  L 2681 556  Q 2544 263 2306 119  Q 2069 -25 1728 -25  Q 1116 -25 750 465  Q 384 956 384 1778  Q 384 2603 750 3093  Q 1116 3584 1728 3584  Q 2066 3584 2300 3450  Q 2534 3316 2681 3034  L 2681 3488  L 3256 3488  L 3256 225  z \" transform=\"scale(0.015625)\"/>\n     </defs>\n     <use xlink:href=\"#DejaVuSansMono-67\"/>\n    </g>\n   </g>\n   <g id=\"text_29\">\n    <!-- h -->\n    <g style=\"fill: #444443\" transform=\"translate(189.7758 9.947031) scale(0.13 -0.13)\">\n     <defs>\n      <path id=\"DejaVuSansMono-68\" d=\"M 3284 2169  L 3284 0  L 2706 0  L 2706 2169  Q 2706 2641 2540 2862  Q 2375 3084 2022 3084  Q 1619 3084 1401 2798  Q 1184 2513 1184 1978  L 1184 0  L 609 0  L 609 4863  L 1184 4863  L 1184 2975  Q 1338 3275 1600 3429  Q 1863 3584 2222 3584  Q 2756 3584 3020 3232  Q 3284 2881 3284 2169  z \" transform=\"scale(0.015625)\"/>\n     </defs>\n     <use xlink:href=\"#DejaVuSansMono-68\"/>\n    </g>\n   </g>\n   <g id=\"text_30\">\n    <!-- t -->\n    <g style=\"fill: #444443\" transform=\"translate(196.3044 9.947031) scale(0.13 -0.13)\">\n     <use xlink:href=\"#DejaVuSansMono-74\"/>\n    </g>\n   </g>\n   <g id=\"text_31\">\n    <!-- s -->\n    <g style=\"fill: #444443\" transform=\"translate(202.833 9.947031) scale(0.13 -0.13)\">\n     <defs>\n      <path id=\"DejaVuSansMono-73\" d=\"M 3041 3378  L 3041 2816  Q 2794 2959 2544 3031  Q 2294 3103 2034 3103  Q 1644 3103 1451 2976  Q 1259 2850 1259 2591  Q 1259 2356 1403 2240  Q 1547 2125 2119 2016  L 2350 1972  Q 2778 1891 2998 1647  Q 3219 1403 3219 1013  Q 3219 494 2850 201  Q 2481 -91 1825 -91  Q 1566 -91 1281 -36  Q 997 19 666 128  L 666 722  Q 988 556 1281 473  Q 1575 391 1838 391  Q 2219 391 2428 545  Q 2638 700 2638 978  Q 2638 1378 1872 1531  L 1847 1538  L 1631 1581  Q 1134 1678 906 1908  Q 678 2138 678 2534  Q 678 3038 1018 3311  Q 1359 3584 1991 3584  Q 2272 3584 2531 3532  Q 2791 3481 3041 3378  z \" transform=\"scale(0.015625)\"/>\n     </defs>\n     <use xlink:href=\"#DejaVuSansMono-73\"/>\n    </g>\n   </g>\n   <g id=\"text_32\">\n    <!--   -->\n    <g style=\"fill: #444443\" transform=\"translate(209.3616 9.947031) scale(0.13 -0.13)\">\n     <use xlink:href=\"#DejaVuSansMono-20\"/>\n    </g>\n   </g>\n   <g id=\"text_33\">\n    <!-- + -->\n    <g style=\"fill: #444443\" transform=\"translate(215.8902 9.947031) scale(0.13 -0.13)\">\n     <defs>\n      <path id=\"DejaVuSansMono-2b\" d=\"M 2188 3659  L 2188 2272  L 3578 2272  L 3578 1741  L 2188 1741  L 2188 353  L 1663 353  L 1663 1741  L 275 1741  L 275 2272  L 1663 2272  L 1663 3659  L 2188 3659  z \" transform=\"scale(0.015625)\"/>\n     </defs>\n     <use xlink:href=\"#DejaVuSansMono-2b\"/>\n    </g>\n   </g>\n   <g id=\"text_34\">\n    <!--   -->\n    <g style=\"fill: #444443\" transform=\"translate(222.4188 9.947031) scale(0.13 -0.13)\">\n     <use xlink:href=\"#DejaVuSansMono-20\"/>\n    </g>\n   </g>\n   <g id=\"text_35\">\n    <!-- l -->\n    <g style=\"fill: #444443\" transform=\"translate(228.9474 9.947031) scale(0.13 -0.13)\">\n     <use xlink:href=\"#DejaVuSansMono-6c\"/>\n    </g>\n   </g>\n   <g id=\"text_36\">\n    <!-- 1 -->\n    <g style=\"fill: #444443\" transform=\"translate(235.476 9.947031) scale(0.13 -0.13)\">\n     <use xlink:href=\"#DejaVuSansMono-31\"/>\n    </g>\n   </g>\n   <g id=\"text_37\">\n    <!-- _ -->\n    <g style=\"fill: #444443\" transform=\"translate(242.0046 9.947031) scale(0.13 -0.13)\">\n     <use xlink:href=\"#DejaVuSansMono-5f\"/>\n    </g>\n   </g>\n   <g id=\"text_38\">\n    <!-- b -->\n    <g style=\"fill: #444443\" transform=\"translate(248.5332 9.947031) scale(0.13 -0.13)\">\n     <defs>\n      <path id=\"DejaVuSansMono-62\" d=\"M 2869 1747  Q 2869 2416 2656 2756  Q 2444 3097 2028 3097  Q 1609 3097 1393 2755  Q 1178 2413 1178 1747  Q 1178 1084 1393 740  Q 1609 397 2028 397  Q 2444 397 2656 737  Q 2869 1078 2869 1747  z M 1178 3053  Q 1316 3309 1558 3446  Q 1800 3584 2119 3584  Q 2750 3584 3112 3098  Q 3475 2613 3475 1759  Q 3475 894 3111 401  Q 2747 -91 2113 -91  Q 1800 -91 1561 45  Q 1322 181 1178 441  L 1178 0  L 603 0  L 603 4863  L 1178 4863  L 1178 3053  z \" transform=\"scale(0.015625)\"/>\n     </defs>\n     <use xlink:href=\"#DejaVuSansMono-62\"/>\n    </g>\n   </g>\n   <g id=\"text_39\">\n    <!-- i -->\n    <g style=\"fill: #444443\" transform=\"translate(255.0618 9.947031) scale(0.13 -0.13)\">\n     <use xlink:href=\"#DejaVuSansMono-69\"/>\n    </g>\n   </g>\n   <g id=\"text_40\">\n    <!-- a -->\n    <g style=\"fill: #444443\" transform=\"translate(261.5904 9.947031) scale(0.13 -0.13)\">\n     <defs>\n      <path id=\"DejaVuSansMono-61\" d=\"M 2194 1759  L 2003 1759  Q 1500 1759 1245 1582  Q 991 1406 991 1056  Q 991 741 1181 566  Q 1372 391 1709 391  Q 2184 391 2456 720  Q 2728 1050 2731 1631  L 2731 1759  L 2194 1759  z M 3309 1997  L 3309 0  L 2731 0  L 2731 519  Q 2547 206 2267 57  Q 1988 -91 1588 -91  Q 1053 -91 734 211  Q 416 513 416 1019  Q 416 1603 808 1906  Q 1200 2209 1959 2209  L 2731 2209  L 2731 2300  Q 2728 2719 2518 2908  Q 2309 3097 1850 3097  Q 1556 3097 1256 3012  Q 956 2928 672 2766  L 672 3341  Q 991 3463 1283 3523  Q 1575 3584 1850 3584  Q 2284 3584 2592 3456  Q 2900 3328 3091 3072  Q 3209 2916 3259 2686  Q 3309 2456 3309 1997  z \" transform=\"scale(0.015625)\"/>\n     </defs>\n     <use xlink:href=\"#DejaVuSansMono-61\"/>\n    </g>\n   </g>\n   <g id=\"text_41\">\n    <!-- s -->\n    <g style=\"fill: #444443\" transform=\"translate(268.119 9.947031) scale(0.13 -0.13)\">\n     <use xlink:href=\"#DejaVuSansMono-73\"/>\n    </g>\n   </g>\n   <g id=\"text_42\">\n    <!-- 5 -->\n    <g transform=\"translate(23.056931 37.897572) rotate(-90) scale(0.09 -0.09)\">\n     <defs>\n      <path id=\"DejaVuSans-35\" d=\"M 691 4666  L 3169 4666  L 3169 4134  L 1269 4134  L 1269 2991  Q 1406 3038 1543 3061  Q 1681 3084 1819 3084  Q 2600 3084 3056 2656  Q 3513 2228 3513 1497  Q 3513 744 3044 326  Q 2575 -91 1722 -91  Q 1428 -91 1123 -41  Q 819 9 494 109  L 494 744  Q 775 591 1075 516  Q 1375 441 1709 441  Q 2250 441 2565 725  Q 2881 1009 2881 1497  Q 2881 1984 2565 2268  Q 2250 2553 1709 2553  Q 1456 2553 1204 2497  Q 953 2441 691 2322  L 691 4666  z \" transform=\"scale(0.015625)\"/>\n     </defs>\n     <use xlink:href=\"#DejaVuSans-35\"/>\n    </g>\n   </g>\n   <g id=\"text_43\">\n    <!-- 2 -->\n    <g transform=\"translate(33.490575 22.297107) scale(0.09 -0.09)\">\n     <defs>\n      <path id=\"DejaVuSans-32\" d=\"M 1228 531  L 3431 531  L 3431 0  L 469 0  L 469 531  Q 828 903 1448 1529  Q 2069 2156 2228 2338  Q 2531 2678 2651 2914  Q 2772 3150 2772 3378  Q 2772 3750 2511 3984  Q 2250 4219 1831 4219  Q 1534 4219 1204 4116  Q 875 4013 500 3803  L 500 4441  Q 881 4594 1212 4672  Q 1544 4750 1819 4750  Q 2544 4750 2975 4387  Q 3406 4025 3406 3419  Q 3406 3131 3298 2873  Q 3191 2616 2906 2266  Q 2828 2175 2409 1742  Q 1991 1309 1228 531  z \" transform=\"scale(0.015625)\"/>\n     </defs>\n     <use xlink:href=\"#DejaVuSans-32\"/>\n    </g>\n   </g>\n   <g id=\"text_44\">\n    <!-- &lt;${\\mathit{float64}}$&gt; -->\n    <g transform=\"translate(18.1537 53.090693) scale(0.07 -0.07)\">\n     <defs>\n      <path id=\"DejaVuSans-3c\" d=\"M 4684 3150  L 1459 2003  L 4684 863  L 4684 294  L 678 1747  L 678 2266  L 4684 3719  L 4684 3150  z \" transform=\"scale(0.015625)\"/>\n      <path id=\"DejaVuSans-Oblique-66\" d=\"M 3059 4863  L 2969 4384  L 2419 4384  Q 2106 4384 1964 4261  Q 1822 4138 1753 3809  L 1691 3500  L 2638 3500  L 2553 3053  L 1606 3053  L 1013 0  L 434 0  L 1031 3053  L 481 3053  L 563 3500  L 1113 3500  L 1159 3744  Q 1278 4363 1576 4613  Q 1875 4863 2516 4863  L 3059 4863  z \" transform=\"scale(0.015625)\"/>\n      <path id=\"DejaVuSans-Oblique-6c\" d=\"M 1172 4863  L 1747 4863  L 800 0  L 225 0  L 1172 4863  z \" transform=\"scale(0.015625)\"/>\n      <path id=\"DejaVuSans-Oblique-6f\" d=\"M 1625 -91  Q 1009 -91 651 289  Q 294 669 294 1325  Q 294 1706 417 2101  Q 541 2497 738 2766  Q 1047 3184 1428 3384  Q 1809 3584 2291 3584  Q 2888 3584 3255 3212  Q 3622 2841 3622 2241  Q 3622 1825 3500 1412  Q 3378 1000 3181 728  Q 2875 309 2494 109  Q 2113 -91 1625 -91  z M 891 1344  Q 891 869 1089 633  Q 1288 397 1691 397  Q 2269 397 2648 901  Q 3028 1406 3028 2181  Q 3028 2634 2825 2865  Q 2622 3097 2228 3097  Q 1903 3097 1650 2945  Q 1397 2794 1197 2484  Q 1050 2253 970 1956  Q 891 1659 891 1344  z \" transform=\"scale(0.015625)\"/>\n      <path id=\"DejaVuSans-Oblique-61\" d=\"M 3438 1997  L 3047 0  L 2472 0  L 2578 531  Q 2325 219 2001 64  Q 1678 -91 1281 -91  Q 834 -91 548 182  Q 263 456 263 884  Q 263 1497 752 1853  Q 1241 2209 2100 2209  L 2900 2209  L 2931 2363  Q 2938 2388 2941 2417  Q 2944 2447 2944 2509  Q 2944 2788 2717 2942  Q 2491 3097 2081 3097  Q 1800 3097 1504 3025  Q 1209 2953 897 2809  L 997 3341  Q 1322 3463 1633 3523  Q 1944 3584 2234 3584  Q 2853 3584 3176 3315  Q 3500 3047 3500 2534  Q 3500 2431 3484 2292  Q 3469 2153 3438 1997  z M 2816 1759  L 2241 1759  Q 1534 1759 1195 1570  Q 856 1381 856 984  Q 856 709 1029 553  Q 1203 397 1509 397  Q 1978 397 2328 733  Q 2678 1069 2791 1631  L 2816 1759  z \" transform=\"scale(0.015625)\"/>\n      <path id=\"DejaVuSans-Oblique-74\" d=\"M 2706 3500  L 2619 3053  L 1472 3053  L 1100 1153  Q 1081 1047 1072 975  Q 1063 903 1063 863  Q 1063 663 1183 572  Q 1303 481 1569 481  L 2150 481  L 2053 0  L 1503 0  Q 991 0 739 200  Q 488 400 488 806  Q 488 878 497 964  Q 506 1050 525 1153  L 897 3053  L 409 3053  L 500 3500  L 978 3500  L 1172 4494  L 1747 4494  L 1556 3500  L 2706 3500  z \" transform=\"scale(0.015625)\"/>\n      <path id=\"DejaVuSans-36\" d=\"M 2113 2584  Q 1688 2584 1439 2293  Q 1191 2003 1191 1497  Q 1191 994 1439 701  Q 1688 409 2113 409  Q 2538 409 2786 701  Q 3034 994 3034 1497  Q 3034 2003 2786 2293  Q 2538 2584 2113 2584  z M 3366 4563  L 3366 3988  Q 3128 4100 2886 4159  Q 2644 4219 2406 4219  Q 1781 4219 1451 3797  Q 1122 3375 1075 2522  Q 1259 2794 1537 2939  Q 1816 3084 2150 3084  Q 2853 3084 3261 2657  Q 3669 2231 3669 1497  Q 3669 778 3244 343  Q 2819 -91 2113 -91  Q 1303 -91 875 529  Q 447 1150 447 2328  Q 447 3434 972 4092  Q 1497 4750 2381 4750  Q 2619 4750 2861 4703  Q 3103 4656 3366 4563  z \" transform=\"scale(0.015625)\"/>\n      <path id=\"DejaVuSans-34\" d=\"M 2419 4116  L 825 1625  L 2419 1625  L 2419 4116  z M 2253 4666  L 3047 4666  L 3047 1625  L 3713 1625  L 3713 1100  L 3047 1100  L 3047 0  L 2419 0  L 2419 1100  L 313 1100  L 313 1709  L 2253 4666  z \" transform=\"scale(0.015625)\"/>\n      <path id=\"DejaVuSans-3e\" d=\"M 678 3150  L 678 3719  L 4684 2266  L 4684 1747  L 678 294  L 678 863  L 3897 2003  L 678 3150  z \" transform=\"scale(0.015625)\"/>\n     </defs>\n     <use xlink:href=\"#DejaVuSans-3c\" transform=\"translate(0 0.015625)\"/>\n     <use xlink:href=\"#DejaVuSans-Oblique-66\" transform=\"translate(83.789062 0.015625)\"/>\n     <use xlink:href=\"#DejaVuSans-Oblique-6c\" transform=\"translate(118.994141 0.015625)\"/>\n     <use xlink:href=\"#DejaVuSans-Oblique-6f\" transform=\"translate(146.777344 0.015625)\"/>\n     <use xlink:href=\"#DejaVuSans-Oblique-61\" transform=\"translate(207.958984 0.015625)\"/>\n     <use xlink:href=\"#DejaVuSans-Oblique-74\" transform=\"translate(269.238281 0.015625)\"/>\n     <use xlink:href=\"#DejaVuSans-36\" transform=\"translate(308.447266 0.015625)\"/>\n     <use xlink:href=\"#DejaVuSans-34\" transform=\"translate(372.070312 0.015625)\"/>\n     <use xlink:href=\"#DejaVuSans-3e\" transform=\"translate(435.693359 0.015625)\"/>\n    </g>\n   </g>\n   <g id=\"text_45\">\n    <!-- 5 -->\n    <g transform=\"translate(100.420841 37.897572) rotate(-90) scale(0.09 -0.09)\">\n     <use xlink:href=\"#DejaVuSans-35\"/>\n    </g>\n   </g>\n   <g id=\"text_46\">\n    <!-- 1 -->\n    <g transform=\"translate(102.040875 22.297107) scale(0.09 -0.09)\">\n     <defs>\n      <path id=\"DejaVuSans-31\" d=\"M 794 531  L 1825 531  L 1825 4091  L 703 3866  L 703 4441  L 1819 4666  L 2450 4666  L 2450 531  L 3481 531  L 3481 0  L 794 0  L 794 531  z \" transform=\"scale(0.015625)\"/>\n     </defs>\n     <use xlink:href=\"#DejaVuSans-31\"/>\n    </g>\n   </g>\n   <g id=\"text_47\">\n    <!-- &lt;${\\mathit{int64}}$&gt; -->\n    <g transform=\"translate(89.994 53.090693) scale(0.07 -0.07)\">\n     <defs>\n      <path id=\"DejaVuSans-Oblique-69\" d=\"M 1172 4863  L 1747 4863  L 1606 4134  L 1031 4134  L 1172 4863  z M 909 3500  L 1484 3500  L 800 0  L 225 0  L 909 3500  z \" transform=\"scale(0.015625)\"/>\n      <path id=\"DejaVuSans-Oblique-6e\" d=\"M 3566 2113  L 3156 0  L 2578 0  L 2988 2091  Q 3016 2238 3031 2350  Q 3047 2463 3047 2528  Q 3047 2791 2881 2937  Q 2716 3084 2419 3084  Q 1956 3084 1622 2776  Q 1288 2469 1184 1941  L 800 0  L 225 0  L 903 3500  L 1478 3500  L 1363 2950  Q 1603 3253 1940 3418  Q 2278 3584 2650 3584  Q 3113 3584 3367 3334  Q 3622 3084 3622 2631  Q 3622 2519 3608 2391  Q 3594 2263 3566 2113  z \" transform=\"scale(0.015625)\"/>\n     </defs>\n     <use xlink:href=\"#DejaVuSans-3c\" transform=\"translate(0 0.015625)\"/>\n     <use xlink:href=\"#DejaVuSans-Oblique-69\" transform=\"translate(83.789062 0.015625)\"/>\n     <use xlink:href=\"#DejaVuSans-Oblique-6e\" transform=\"translate(111.572266 0.015625)\"/>\n     <use xlink:href=\"#DejaVuSans-Oblique-74\" transform=\"translate(174.951172 0.015625)\"/>\n     <use xlink:href=\"#DejaVuSans-36\" transform=\"translate(214.160156 0.015625)\"/>\n     <use xlink:href=\"#DejaVuSans-34\" transform=\"translate(277.783203 0.015625)\"/>\n     <use xlink:href=\"#DejaVuSans-3e\" transform=\"translate(341.40625 0.015625)\"/>\n    </g>\n   </g>\n   <g id=\"text_48\">\n    <!-- 1 -->\n    <g transform=\"translate(163.421831 29.140824) rotate(-90) scale(0.09 -0.09)\">\n     <use xlink:href=\"#DejaVuSans-31\"/>\n    </g>\n   </g>\n   <g id=\"text_49\">\n    <!-- 2 -->\n    <g transform=\"translate(173.855475 22.297107) scale(0.09 -0.09)\">\n     <use xlink:href=\"#DejaVuSans-32\"/>\n    </g>\n   </g>\n   <g id=\"text_50\">\n    <!-- &lt;${\\mathit{float64}}$&gt; -->\n    <g transform=\"translate(158.5186 35.577197) scale(0.07 -0.07)\">\n     <use xlink:href=\"#DejaVuSans-3c\" transform=\"translate(0 0.015625)\"/>\n     <use xlink:href=\"#DejaVuSans-Oblique-66\" transform=\"translate(83.789062 0.015625)\"/>\n     <use xlink:href=\"#DejaVuSans-Oblique-6c\" transform=\"translate(118.994141 0.015625)\"/>\n     <use xlink:href=\"#DejaVuSans-Oblique-6f\" transform=\"translate(146.777344 0.015625)\"/>\n     <use xlink:href=\"#DejaVuSans-Oblique-61\" transform=\"translate(207.958984 0.015625)\"/>\n     <use xlink:href=\"#DejaVuSans-Oblique-74\" transform=\"translate(269.238281 0.015625)\"/>\n     <use xlink:href=\"#DejaVuSans-36\" transform=\"translate(308.447266 0.015625)\"/>\n     <use xlink:href=\"#DejaVuSans-34\" transform=\"translate(372.070312 0.015625)\"/>\n     <use xlink:href=\"#DejaVuSans-3e\" transform=\"translate(435.693359 0.015625)\"/>\n    </g>\n   </g>\n   <g id=\"text_51\">\n    <!-- 1 -->\n    <g transform=\"translate(238.500731 29.140824) rotate(-90) scale(0.09 -0.09)\">\n     <use xlink:href=\"#DejaVuSans-31\"/>\n    </g>\n   </g>\n   <g id=\"text_52\">\n    <!-- 2 -->\n    <g transform=\"translate(248.934375 22.297107) scale(0.09 -0.09)\">\n     <use xlink:href=\"#DejaVuSans-32\"/>\n    </g>\n   </g>\n   <g id=\"text_53\">\n    <!-- &lt;${\\mathit{float64}}$&gt; -->\n    <g transform=\"translate(233.5975 35.577197) scale(0.07 -0.07)\">\n     <use xlink:href=\"#DejaVuSans-3c\" transform=\"translate(0 0.015625)\"/>\n     <use xlink:href=\"#DejaVuSans-Oblique-66\" transform=\"translate(83.789062 0.015625)\"/>\n     <use xlink:href=\"#DejaVuSans-Oblique-6c\" transform=\"translate(118.994141 0.015625)\"/>\n     <use xlink:href=\"#DejaVuSans-Oblique-6f\" transform=\"translate(146.777344 0.015625)\"/>\n     <use xlink:href=\"#DejaVuSans-Oblique-61\" transform=\"translate(207.958984 0.015625)\"/>\n     <use xlink:href=\"#DejaVuSans-Oblique-74\" transform=\"translate(269.238281 0.015625)\"/>\n     <use xlink:href=\"#DejaVuSans-36\" transform=\"translate(308.447266 0.015625)\"/>\n     <use xlink:href=\"#DejaVuSans-34\" transform=\"translate(372.070312 0.015625)\"/>\n     <use xlink:href=\"#DejaVuSans-3e\" transform=\"translate(435.693359 0.015625)\"/>\n    </g>\n   </g>\n  </g>\n </g>\n <defs>\n  <clipPath id=\"p4a109ace02\">\n   <rect x=\"0\" y=\"4.901991\" width=\"274.6476\" height=\"42.315395\"/>\n  </clipPath>\n </defs>\n</svg>"
          },
          "metadata": {}
        },
        {
          "output_type": "stream",
          "name": "stderr",
          "text": [
            "\n",
            "PYDEV DEBUGGER WARNING:\n",
            "sys.settrace() should not be used when the debugger is being used.\n",
            "This may cause the debugger to stop working correctly.\n",
            "If this is needed, please check: \n",
            "http://pydev.blogspot.com/2007/06/why-cant-pydev-debugger-work-with.html\n",
            "to see how to restore the debug tracing back correctly.\n",
            "Call Location:\n",
            "  File \"/usr/local/lib/python3.11/dist-packages/tsensor/analysis.py\", line 265, in __exit__\n",
            "    sys.settrace(None)\n",
            "\n"
          ]
        }
      ]
    },
    {
      "cell_type": "code",
      "source": [
        "input_ @ l1_weights + l1_bias"
      ],
      "metadata": {
        "colab": {
          "base_uri": "https://localhost:8080/"
        },
        "id": "JK9av5Zs9WIJ",
        "outputId": "844f1b1c-6f49-4745-882d-7eb552b656b9"
      },
      "execution_count": null,
      "outputs": [
        {
          "output_type": "execute_result",
          "data": {
            "text/plain": [
              "array([[77.59, 18.  ],\n",
              "       [85.79, 19.  ],\n",
              "       [93.99, 20.  ],\n",
              "       [-4.41,  8.  ],\n",
              "       [ 3.79,  9.  ]])"
            ]
          },
          "metadata": {},
          "execution_count": 22
        }
      ]
    },
    {
      "cell_type": "code",
      "source": [
        "l1_output"
      ],
      "metadata": {
        "colab": {
          "base_uri": "https://localhost:8080/"
        },
        "id": "aNbcWnOk-p7P",
        "outputId": "b6c4cdd0-5d76-4756-988a-29fae21622af"
      },
      "execution_count": null,
      "outputs": [
        {
          "output_type": "execute_result",
          "data": {
            "text/plain": [
              "array([[77.59, 18.  ],\n",
              "       [85.79, 19.  ],\n",
              "       [93.99, 20.  ],\n",
              "       [-4.41,  8.  ],\n",
              "       [ 3.79,  9.  ]])"
            ]
          },
          "metadata": {},
          "execution_count": 23
        }
      ]
    },
    {
      "cell_type": "markdown",
      "source": [
        "On top of this we can apply our activation function which is just ReLU."
      ],
      "metadata": {
        "id": "kQGjyTk4-x74"
      }
    },
    {
      "cell_type": "code",
      "source": [
        "l1_activated = np.maximum(0, l1_output)\n",
        "l1_activated"
      ],
      "metadata": {
        "colab": {
          "base_uri": "https://localhost:8080/"
        },
        "id": "4fRjZu-8_ffL",
        "outputId": "887e2f20-a7a6-40a8-bbcd-524fb8437f27"
      },
      "execution_count": null,
      "outputs": [
        {
          "output_type": "execute_result",
          "data": {
            "text/plain": [
              "array([[77.59, 18.  ],\n",
              "       [85.79, 19.  ],\n",
              "       [93.99, 20.  ],\n",
              "       [ 0.  ,  8.  ],\n",
              "       [ 3.79,  9.  ]])"
            ]
          },
          "metadata": {},
          "execution_count": 24
        }
      ]
    },
    {
      "cell_type": "markdown",
      "source": [
        "We set one number to zero after the activation.\n",
        "\n",
        "$$layer_1 = ReLU(W_1X + b_1)$$\n",
        "&nbsp;\n",
        "$$layer_2 = W_2 * ReLU(W_1X + b_1) + b_2 \\;\\;→ \\;\\; W_2 * layer_1 + b_2$$"
      ],
      "metadata": {
        "id": "X-c29aLg_lu6"
      }
    },
    {
      "cell_type": "code",
      "source": [
        "l2_weights = np.array([[.5], [.2]])\n",
        "l2_bias = np.array([[5]])\n",
        "\n",
        "with tsensor.explain():\n",
        "  l2_output = l1_activated @ l2_weights + l2_bias"
      ],
      "metadata": {
        "colab": {
          "base_uri": "https://localhost:8080/",
          "height": 94
        },
        "id": "nfIDTVAbB3TG",
        "outputId": "fc2cdaf3-46a1-4b5c-d751-f4e7118e8787"
      },
      "execution_count": null,
      "outputs": [
        {
          "output_type": "display_data",
          "data": {
            "text/plain": [
              "<IPython.core.display.SVG object>"
            ],
            "image/svg+xml": "<svg xmlns:xlink=\"http://www.w3.org/1999/xlink\" xmlns=\"http://www.w3.org/2000/svg\" width=\"315.117006pt\" height=\"54.546474pt\" viewBox=\"0 0 315.117006 54.546474\" version=\"1.1\">\n <metadata>\n  <rdf:RDF xmlns:dc=\"http://purl.org/dc/elements/1.1/\" xmlns:cc=\"http://creativecommons.org/ns#\" xmlns:rdf=\"http://www.w3.org/1999/02/22-rdf-syntax-ns#\">\n   <cc:Work>\n    <dc:type rdf:resource=\"http://purl.org/dc/dcmitype/StillImage\"/>\n    <dc:date>2025-06-21T13:16:04.075143</dc:date>\n    <dc:format>image/svg+xml</dc:format>\n    <dc:creator>\n     <cc:Agent>\n      <dc:title>Matplotlib v3.10.0, https://matplotlib.org/</dc:title>\n     </cc:Agent>\n    </dc:creator>\n   </cc:Work>\n  </rdf:RDF>\n </metadata>\n <defs>\n  <style type=\"text/css\">*{stroke-linejoin: round; stroke-linecap: butt}</style>\n </defs>\n <g id=\"figure_1\">\n  <g id=\"patch_1\">\n   <path d=\"M 0 54.546474  L 315.117006 54.546474  L 315.117006 0  L 0 0  z \" style=\"fill: #ffffff\"/>\n  </g>\n  <g id=\"axes_1\">\n   <g id=\"patch_2\">\n    <path d=\"M 33.74226 46.385787  L 38.96514 46.385787  L 38.96514 23.683107  L 33.74226 23.683107  z \" clip-path=\"url(#pee1666e087)\" style=\"fill: #a8e1b0; fill-opacity: 0.75; stroke: #808080; stroke-width: 0.7; stroke-linejoin: miter\"/>\n   </g>\n   <g id=\"patch_3\">\n    <path d=\"M 113.06475 46.385787  L 135.91485 46.385787  L 135.91485 23.683107  L 113.06475 23.683107  z \" clip-path=\"url(#pee1666e087)\" style=\"fill: #a8e1b0; fill-opacity: 0.75; stroke: #808080; stroke-width: 0.7; stroke-linejoin: miter\"/>\n   </g>\n   <g id=\"patch_4\">\n    <path d=\"M 213.27876 46.385787  L 218.50164 46.385787  L 218.50164 23.683107  L 213.27876 23.683107  z \" clip-path=\"url(#pee1666e087)\" style=\"fill: #a8e1b0; fill-opacity: 0.75; stroke: #808080; stroke-width: 0.7; stroke-linejoin: miter\"/>\n   </g>\n   <g id=\"patch_5\">\n    <path d=\"M 285.74622 34.061475  L 296.19198 34.061475  L 296.19198 23.683107  L 285.74622 23.683107  z \" clip-path=\"url(#pee1666e087)\" style=\"fill: #7fa4d3; fill-opacity: 0.75; stroke: #808080; stroke-width: 0.7; stroke-linejoin: miter\"/>\n   </g>\n   <g id=\"line2d_1\">\n    <path d=\"M 6.32214 13.762608  L 66.38526 13.762608  \" clip-path=\"url(#pee1666e087)\" style=\"fill: none; stroke: #c2c2c2; stroke-width: 0.5; stroke-linecap: square\"/>\n   </g>\n   <g id=\"line2d_2\">\n    <path d=\"M 84.66534 13.762608  L 164.31426 13.762608  \" clip-path=\"url(#pee1666e087)\" style=\"fill: none; stroke: #c2c2c2; stroke-width: 0.5; stroke-linecap: square\"/>\n   </g>\n   <g id=\"line2d_3\">\n    <path d=\"M 182.59434 13.762608  L 249.18606 13.762608  \" clip-path=\"url(#pee1666e087)\" style=\"fill: none; stroke: #c2c2c2; stroke-width: 0.5; stroke-linecap: square\"/>\n   </g>\n   <g id=\"line2d_4\">\n    <path d=\"M 267.46614 13.762608  L 314.47206 13.762608  \" clip-path=\"url(#pee1666e087)\" style=\"fill: none; stroke: #c2c2c2; stroke-width: 0.5; stroke-linecap: square\"/>\n   </g>\n   <g id=\"text_1\">\n    <!-- l -->\n    <g style=\"fill: #444443\" transform=\"translate(6.975 9.947031) scale(0.13 -0.13)\">\n     <defs>\n      <path id=\"DejaVuSansMono-6c\" d=\"M 1997 1269  Q 1997 881 2139 684  Q 2281 488 2559 488  L 3231 488  L 3231 0  L 2503 0  Q 1988 0 1705 331  Q 1422 663 1422 1269  L 1422 4447  L 500 4447  L 500 4897  L 1997 4897  L 1997 1269  z \" transform=\"scale(0.015625)\"/>\n     </defs>\n     <use xlink:href=\"#DejaVuSansMono-6c\"/>\n    </g>\n   </g>\n   <g id=\"text_2\">\n    <!-- 2 -->\n    <g style=\"fill: #444443\" transform=\"translate(13.5036 9.947031) scale(0.13 -0.13)\">\n     <defs>\n      <path id=\"DejaVuSansMono-32\" d=\"M 1166 531  L 3309 531  L 3309 0  L 475 0  L 475 531  Q 1059 1147 1496 1619  Q 1934 2091 2100 2284  Q 2413 2666 2522 2902  Q 2631 3138 2631 3384  Q 2631 3775 2401 3997  Q 2172 4219 1772 4219  Q 1488 4219 1175 4116  Q 863 4013 513 3803  L 513 4441  Q 834 4594 1145 4672  Q 1456 4750 1759 4750  Q 2444 4750 2861 4386  Q 3278 4022 3278 3431  Q 3278 3131 3139 2831  Q 3000 2531 2688 2169  Q 2513 1966 2180 1606  Q 1847 1247 1166 531  z \" transform=\"scale(0.015625)\"/>\n     </defs>\n     <use xlink:href=\"#DejaVuSansMono-32\"/>\n    </g>\n   </g>\n   <g id=\"text_3\">\n    <!-- _ -->\n    <g style=\"fill: #444443\" transform=\"translate(20.0322 9.947031) scale(0.13 -0.13)\">\n     <defs>\n      <path id=\"DejaVuSansMono-5f\" d=\"M 3853 -1259  L 3853 -1509  L 0 -1509  L 0 -1259  L 3853 -1259  z \" transform=\"scale(0.015625)\"/>\n     </defs>\n     <use xlink:href=\"#DejaVuSansMono-5f\"/>\n    </g>\n   </g>\n   <g id=\"text_4\">\n    <!-- o -->\n    <g style=\"fill: #444443\" transform=\"translate(26.5608 9.947031) scale(0.13 -0.13)\">\n     <defs>\n      <path id=\"DejaVuSansMono-6f\" d=\"M 1925 3097  Q 1488 3097 1263 2756  Q 1038 2416 1038 1747  Q 1038 1081 1263 739  Q 1488 397 1925 397  Q 2366 397 2591 739  Q 2816 1081 2816 1747  Q 2816 2416 2591 2756  Q 2366 3097 1925 3097  z M 1925 3584  Q 2653 3584 3039 3112  Q 3425 2641 3425 1747  Q 3425 850 3040 379  Q 2656 -91 1925 -91  Q 1197 -91 812 379  Q 428 850 428 1747  Q 428 2641 812 3112  Q 1197 3584 1925 3584  z \" transform=\"scale(0.015625)\"/>\n     </defs>\n     <use xlink:href=\"#DejaVuSansMono-6f\"/>\n    </g>\n   </g>\n   <g id=\"text_5\">\n    <!-- u -->\n    <g style=\"fill: #444443\" transform=\"translate(33.0894 9.947031) scale(0.13 -0.13)\">\n     <defs>\n      <path id=\"DejaVuSansMono-75\" d=\"M 609 1325  L 609 3494  L 1184 3494  L 1184 1325  Q 1184 853 1351 631  Q 1519 409 1869 409  Q 2275 409 2490 695  Q 2706 981 2706 1516  L 2706 3494  L 3284 3494  L 3284 0  L 2706 0  L 2706 525  Q 2553 222 2289 65  Q 2025 -91 1672 -91  Q 1134 -91 871 261  Q 609 613 609 1325  z \" transform=\"scale(0.015625)\"/>\n     </defs>\n     <use xlink:href=\"#DejaVuSansMono-75\"/>\n    </g>\n   </g>\n   <g id=\"text_6\">\n    <!-- t -->\n    <g style=\"fill: #444443\" transform=\"translate(39.618 9.947031) scale(0.13 -0.13)\">\n     <defs>\n      <path id=\"DejaVuSansMono-74\" d=\"M 1919 4494  L 1919 3500  L 3225 3500  L 3225 3053  L 1919 3053  L 1919 1153  Q 1919 766 2066 612  Q 2213 459 2578 459  L 3225 459  L 3225 0  L 2522 0  Q 1875 0 1609 259  Q 1344 519 1344 1153  L 1344 3053  L 409 3053  L 409 3500  L 1344 3500  L 1344 4494  L 1919 4494  z \" transform=\"scale(0.015625)\"/>\n     </defs>\n     <use xlink:href=\"#DejaVuSansMono-74\"/>\n    </g>\n   </g>\n   <g id=\"text_7\">\n    <!-- p -->\n    <g style=\"fill: #444443\" transform=\"translate(46.1466 9.947031) scale(0.13 -0.13)\">\n     <defs>\n      <path id=\"DejaVuSansMono-70\" d=\"M 1172 441  L 1172 -1331  L 594 -1331  L 594 3500  L 1172 3500  L 1172 3053  Q 1316 3313 1555 3448  Q 1794 3584 2106 3584  Q 2741 3584 3102 3093  Q 3463 2603 3463 1734  Q 3463 881 3100 395  Q 2738 -91 2106 -91  Q 1788 -91 1548 45  Q 1309 181 1172 441  z M 2859 1747  Q 2859 2416 2648 2756  Q 2438 3097 2022 3097  Q 1603 3097 1387 2755  Q 1172 2413 1172 1747  Q 1172 1084 1387 740  Q 1603 397 2022 397  Q 2438 397 2648 737  Q 2859 1078 2859 1747  z \" transform=\"scale(0.015625)\"/>\n     </defs>\n     <use xlink:href=\"#DejaVuSansMono-70\"/>\n    </g>\n   </g>\n   <g id=\"text_8\">\n    <!-- u -->\n    <g style=\"fill: #444443\" transform=\"translate(52.6752 9.947031) scale(0.13 -0.13)\">\n     <use xlink:href=\"#DejaVuSansMono-75\"/>\n    </g>\n   </g>\n   <g id=\"text_9\">\n    <!-- t -->\n    <g style=\"fill: #444443\" transform=\"translate(59.2038 9.947031) scale(0.13 -0.13)\">\n     <use xlink:href=\"#DejaVuSansMono-74\"/>\n    </g>\n   </g>\n   <g id=\"text_10\">\n    <!--   -->\n    <g style=\"fill: #444443\" transform=\"translate(65.7324 9.947031) scale(0.13 -0.13)\">\n     <defs>\n      <path id=\"DejaVuSansMono-20\" transform=\"scale(0.015625)\"/>\n     </defs>\n     <use xlink:href=\"#DejaVuSansMono-20\"/>\n    </g>\n   </g>\n   <g id=\"text_11\">\n    <!-- = -->\n    <g style=\"fill: #444443\" transform=\"translate(72.261 9.947031) scale(0.13 -0.13)\">\n     <defs>\n      <path id=\"DejaVuSansMono-3d\" d=\"M 275 1638  L 3578 1638  L 3578 1100  L 275 1100  L 275 1638  z M 275 2906  L 3578 2906  L 3578 2375  L 275 2375  L 275 2906  z \" transform=\"scale(0.015625)\"/>\n     </defs>\n     <use xlink:href=\"#DejaVuSansMono-3d\"/>\n    </g>\n   </g>\n   <g id=\"text_12\">\n    <!--   -->\n    <g style=\"fill: #444443\" transform=\"translate(78.7896 9.947031) scale(0.13 -0.13)\">\n     <use xlink:href=\"#DejaVuSansMono-20\"/>\n    </g>\n   </g>\n   <g id=\"text_13\">\n    <!-- l -->\n    <g style=\"fill: #444443\" transform=\"translate(85.3182 9.947031) scale(0.13 -0.13)\">\n     <use xlink:href=\"#DejaVuSansMono-6c\"/>\n    </g>\n   </g>\n   <g id=\"text_14\">\n    <!-- 1 -->\n    <g style=\"fill: #444443\" transform=\"translate(91.8468 9.947031) scale(0.13 -0.13)\">\n     <defs>\n      <path id=\"DejaVuSansMono-31\" d=\"M 844 531  L 1825 531  L 1825 4097  L 769 3859  L 769 4434  L 1819 4666  L 2450 4666  L 2450 531  L 3419 531  L 3419 0  L 844 0  L 844 531  z \" transform=\"scale(0.015625)\"/>\n     </defs>\n     <use xlink:href=\"#DejaVuSansMono-31\"/>\n    </g>\n   </g>\n   <g id=\"text_15\">\n    <!-- _ -->\n    <g style=\"fill: #444443\" transform=\"translate(98.3754 9.947031) scale(0.13 -0.13)\">\n     <use xlink:href=\"#DejaVuSansMono-5f\"/>\n    </g>\n   </g>\n   <g id=\"text_16\">\n    <!-- a -->\n    <g style=\"fill: #444443\" transform=\"translate(104.904 9.947031) scale(0.13 -0.13)\">\n     <defs>\n      <path id=\"DejaVuSansMono-61\" d=\"M 2194 1759  L 2003 1759  Q 1500 1759 1245 1582  Q 991 1406 991 1056  Q 991 741 1181 566  Q 1372 391 1709 391  Q 2184 391 2456 720  Q 2728 1050 2731 1631  L 2731 1759  L 2194 1759  z M 3309 1997  L 3309 0  L 2731 0  L 2731 519  Q 2547 206 2267 57  Q 1988 -91 1588 -91  Q 1053 -91 734 211  Q 416 513 416 1019  Q 416 1603 808 1906  Q 1200 2209 1959 2209  L 2731 2209  L 2731 2300  Q 2728 2719 2518 2908  Q 2309 3097 1850 3097  Q 1556 3097 1256 3012  Q 956 2928 672 2766  L 672 3341  Q 991 3463 1283 3523  Q 1575 3584 1850 3584  Q 2284 3584 2592 3456  Q 2900 3328 3091 3072  Q 3209 2916 3259 2686  Q 3309 2456 3309 1997  z \" transform=\"scale(0.015625)\"/>\n     </defs>\n     <use xlink:href=\"#DejaVuSansMono-61\"/>\n    </g>\n   </g>\n   <g id=\"text_17\">\n    <!-- c -->\n    <g style=\"fill: #444443\" transform=\"translate(111.4326 9.947031) scale(0.13 -0.13)\">\n     <defs>\n      <path id=\"DejaVuSansMono-63\" d=\"M 3316 178  Q 3084 44 2839 -23  Q 2594 -91 2338 -91  Q 1525 -91 1067 396  Q 609 884 609 1747  Q 609 2609 1067 3096  Q 1525 3584 2338 3584  Q 2591 3584 2831 3518  Q 3072 3453 3316 3316  L 3316 2713  Q 3088 2916 2858 3006  Q 2628 3097 2338 3097  Q 1797 3097 1506 2747  Q 1216 2397 1216 1747  Q 1216 1100 1508 748  Q 1800 397 2338 397  Q 2638 397 2875 489  Q 3113 581 3316 775  L 3316 178  z \" transform=\"scale(0.015625)\"/>\n     </defs>\n     <use xlink:href=\"#DejaVuSansMono-63\"/>\n    </g>\n   </g>\n   <g id=\"text_18\">\n    <!-- t -->\n    <g style=\"fill: #444443\" transform=\"translate(117.9612 9.947031) scale(0.13 -0.13)\">\n     <use xlink:href=\"#DejaVuSansMono-74\"/>\n    </g>\n   </g>\n   <g id=\"text_19\">\n    <!-- i -->\n    <g style=\"fill: #444443\" transform=\"translate(124.4898 9.947031) scale(0.13 -0.13)\">\n     <defs>\n      <path id=\"DejaVuSansMono-69\" d=\"M 800 3500  L 2272 3500  L 2272 447  L 3413 447  L 3413 0  L 556 0  L 556 447  L 1697 447  L 1697 3053  L 800 3053  L 800 3500  z M 1697 4863  L 2272 4863  L 2272 4134  L 1697 4134  L 1697 4863  z \" transform=\"scale(0.015625)\"/>\n     </defs>\n     <use xlink:href=\"#DejaVuSansMono-69\"/>\n    </g>\n   </g>\n   <g id=\"text_20\">\n    <!-- v -->\n    <g style=\"fill: #444443\" transform=\"translate(131.0184 9.947031) scale(0.13 -0.13)\">\n     <defs>\n      <path id=\"DejaVuSansMono-76\" d=\"M 313 3500  L 909 3500  L 1925 563  L 2944 3500  L 3541 3500  L 2297 0  L 1556 0  L 313 3500  z \" transform=\"scale(0.015625)\"/>\n     </defs>\n     <use xlink:href=\"#DejaVuSansMono-76\"/>\n    </g>\n   </g>\n   <g id=\"text_21\">\n    <!-- a -->\n    <g style=\"fill: #444443\" transform=\"translate(137.547 9.947031) scale(0.13 -0.13)\">\n     <use xlink:href=\"#DejaVuSansMono-61\"/>\n    </g>\n   </g>\n   <g id=\"text_22\">\n    <!-- t -->\n    <g style=\"fill: #444443\" transform=\"translate(144.0756 9.947031) scale(0.13 -0.13)\">\n     <use xlink:href=\"#DejaVuSansMono-74\"/>\n    </g>\n   </g>\n   <g id=\"text_23\">\n    <!-- e -->\n    <g style=\"fill: #444443\" transform=\"translate(150.6042 9.947031) scale(0.13 -0.13)\">\n     <defs>\n      <path id=\"DejaVuSansMono-65\" d=\"M 3475 1894  L 3475 1613  L 984 1613  L 984 1594  Q 984 1022 1282 709  Q 1581 397 2125 397  Q 2400 397 2700 484  Q 3000 572 3341 750  L 3341 178  Q 3013 44 2708 -23  Q 2403 -91 2119 -91  Q 1303 -91 843 398  Q 384 888 384 1747  Q 384 2584 834 3084  Q 1284 3584 2034 3584  Q 2703 3584 3089 3131  Q 3475 2678 3475 1894  z M 2900 2063  Q 2888 2569 2661 2833  Q 2434 3097 2009 3097  Q 1594 3097 1325 2822  Q 1056 2547 1006 2059  L 2900 2063  z \" transform=\"scale(0.015625)\"/>\n     </defs>\n     <use xlink:href=\"#DejaVuSansMono-65\"/>\n    </g>\n   </g>\n   <g id=\"text_24\">\n    <!-- d -->\n    <g style=\"fill: #444443\" transform=\"translate(157.1328 9.947031) scale(0.13 -0.13)\">\n     <defs>\n      <path id=\"DejaVuSansMono-64\" d=\"M 2681 3053  L 2681 4863  L 3256 4863  L 3256 0  L 2681 0  L 2681 441  Q 2538 181 2298 45  Q 2059 -91 1747 -91  Q 1113 -91 748 401  Q 384 894 384 1759  Q 384 2613 750 3098  Q 1116 3584 1747 3584  Q 2063 3584 2303 3448  Q 2544 3313 2681 3053  z M 991 1747  Q 991 1078 1203 737  Q 1416 397 1831 397  Q 2247 397 2464 740  Q 2681 1084 2681 1747  Q 2681 2413 2464 2755  Q 2247 3097 1831 3097  Q 1416 3097 1203 2756  Q 991 2416 991 1747  z \" transform=\"scale(0.015625)\"/>\n     </defs>\n     <use xlink:href=\"#DejaVuSansMono-64\"/>\n    </g>\n   </g>\n   <g id=\"text_25\">\n    <!--   -->\n    <g style=\"fill: #444443\" transform=\"translate(163.6614 9.947031) scale(0.13 -0.13)\">\n     <use xlink:href=\"#DejaVuSansMono-20\"/>\n    </g>\n   </g>\n   <g id=\"text_26\">\n    <!-- @ -->\n    <g style=\"fill: #444443\" transform=\"translate(170.19 9.947031) scale(0.13 -0.13)\">\n     <defs>\n      <path id=\"DejaVuSansMono-40\" d=\"M 3244 1703  Q 3244 2106 3044 2348  Q 2844 2591 2509 2591  Q 2175 2591 1973 2348  Q 1772 2106 1772 1703  Q 1772 1297 1973 1055  Q 2175 813 2509 813  Q 2844 813 3044 1055  Q 3244 1297 3244 1703  z M 3681 422  L 3231 422  L 3231 769  Q 3116 572 2911 465  Q 2706 359 2450 359  Q 1947 359 1617 737  Q 1288 1116 1288 1703  Q 1288 2291 1617 2669  Q 1947 3047 2450 3047  Q 2700 3047 2909 2937  Q 3119 2828 3231 2638  L 3231 2834  Q 3231 3322 2956 3619  Q 2681 3916 2228 3916  Q 1459 3916 1004 3317  Q 550 2719 550 1697  Q 550 669 1065 59  Q 1581 -550 2438 -550  Q 2606 -550 2775 -519  Q 2944 -488 3122 -422  L 3272 -844  Q 3075 -922 2883 -959  Q 2691 -997 2509 -997  Q 1394 -997 739 -269  Q 84 459 84 1697  Q 84 2916 671 3637  Q 1259 4359 2247 4359  Q 2900 4359 3290 3943  Q 3681 3528 3681 2828  L 3681 422  z \" transform=\"scale(0.015625)\"/>\n     </defs>\n     <use xlink:href=\"#DejaVuSansMono-40\"/>\n    </g>\n   </g>\n   <g id=\"text_27\">\n    <!--   -->\n    <g style=\"fill: #444443\" transform=\"translate(176.7186 9.947031) scale(0.13 -0.13)\">\n     <use xlink:href=\"#DejaVuSansMono-20\"/>\n    </g>\n   </g>\n   <g id=\"text_28\">\n    <!-- l -->\n    <g style=\"fill: #444443\" transform=\"translate(183.2472 9.947031) scale(0.13 -0.13)\">\n     <use xlink:href=\"#DejaVuSansMono-6c\"/>\n    </g>\n   </g>\n   <g id=\"text_29\">\n    <!-- 2 -->\n    <g style=\"fill: #444443\" transform=\"translate(189.7758 9.947031) scale(0.13 -0.13)\">\n     <use xlink:href=\"#DejaVuSansMono-32\"/>\n    </g>\n   </g>\n   <g id=\"text_30\">\n    <!-- _ -->\n    <g style=\"fill: #444443\" transform=\"translate(196.3044 9.947031) scale(0.13 -0.13)\">\n     <use xlink:href=\"#DejaVuSansMono-5f\"/>\n    </g>\n   </g>\n   <g id=\"text_31\">\n    <!-- w -->\n    <g style=\"fill: #444443\" transform=\"translate(202.833 9.947031) scale(0.13 -0.13)\">\n     <defs>\n      <path id=\"DejaVuSansMono-77\" d=\"M 0 3500  L 569 3500  L 1178 672  L 1678 2478  L 2169 2478  L 2675 672  L 3284 3500  L 3853 3500  L 3034 0  L 2484 0  L 1925 1919  L 1369 0  L 819 0  L 0 3500  z \" transform=\"scale(0.015625)\"/>\n     </defs>\n     <use xlink:href=\"#DejaVuSansMono-77\"/>\n    </g>\n   </g>\n   <g id=\"text_32\">\n    <!-- e -->\n    <g style=\"fill: #444443\" transform=\"translate(209.3616 9.947031) scale(0.13 -0.13)\">\n     <use xlink:href=\"#DejaVuSansMono-65\"/>\n    </g>\n   </g>\n   <g id=\"text_33\">\n    <!-- i -->\n    <g style=\"fill: #444443\" transform=\"translate(215.8902 9.947031) scale(0.13 -0.13)\">\n     <use xlink:href=\"#DejaVuSansMono-69\"/>\n    </g>\n   </g>\n   <g id=\"text_34\">\n    <!-- g -->\n    <g style=\"fill: #444443\" transform=\"translate(222.4188 9.947031) scale(0.13 -0.13)\">\n     <defs>\n      <path id=\"DejaVuSansMono-67\" d=\"M 2681 1778  Q 2681 2425 2470 2761  Q 2259 3097 1856 3097  Q 1434 3097 1212 2761  Q 991 2425 991 1778  Q 991 1131 1214 792  Q 1438 453 1863 453  Q 2259 453 2470 793  Q 2681 1134 2681 1778  z M 3256 225  Q 3256 -563 2884 -969  Q 2513 -1375 1791 -1375  Q 1553 -1375 1293 -1331  Q 1034 -1288 775 -1203  L 775 -634  Q 1081 -778 1331 -847  Q 1581 -916 1791 -916  Q 2256 -916 2468 -662  Q 2681 -409 2681 141  L 2681 166  L 2681 556  Q 2544 263 2306 119  Q 2069 -25 1728 -25  Q 1116 -25 750 465  Q 384 956 384 1778  Q 384 2603 750 3093  Q 1116 3584 1728 3584  Q 2066 3584 2300 3450  Q 2534 3316 2681 3034  L 2681 3488  L 3256 3488  L 3256 225  z \" transform=\"scale(0.015625)\"/>\n     </defs>\n     <use xlink:href=\"#DejaVuSansMono-67\"/>\n    </g>\n   </g>\n   <g id=\"text_35\">\n    <!-- h -->\n    <g style=\"fill: #444443\" transform=\"translate(228.9474 9.947031) scale(0.13 -0.13)\">\n     <defs>\n      <path id=\"DejaVuSansMono-68\" d=\"M 3284 2169  L 3284 0  L 2706 0  L 2706 2169  Q 2706 2641 2540 2862  Q 2375 3084 2022 3084  Q 1619 3084 1401 2798  Q 1184 2513 1184 1978  L 1184 0  L 609 0  L 609 4863  L 1184 4863  L 1184 2975  Q 1338 3275 1600 3429  Q 1863 3584 2222 3584  Q 2756 3584 3020 3232  Q 3284 2881 3284 2169  z \" transform=\"scale(0.015625)\"/>\n     </defs>\n     <use xlink:href=\"#DejaVuSansMono-68\"/>\n    </g>\n   </g>\n   <g id=\"text_36\">\n    <!-- t -->\n    <g style=\"fill: #444443\" transform=\"translate(235.476 9.947031) scale(0.13 -0.13)\">\n     <use xlink:href=\"#DejaVuSansMono-74\"/>\n    </g>\n   </g>\n   <g id=\"text_37\">\n    <!-- s -->\n    <g style=\"fill: #444443\" transform=\"translate(242.0046 9.947031) scale(0.13 -0.13)\">\n     <defs>\n      <path id=\"DejaVuSansMono-73\" d=\"M 3041 3378  L 3041 2816  Q 2794 2959 2544 3031  Q 2294 3103 2034 3103  Q 1644 3103 1451 2976  Q 1259 2850 1259 2591  Q 1259 2356 1403 2240  Q 1547 2125 2119 2016  L 2350 1972  Q 2778 1891 2998 1647  Q 3219 1403 3219 1013  Q 3219 494 2850 201  Q 2481 -91 1825 -91  Q 1566 -91 1281 -36  Q 997 19 666 128  L 666 722  Q 988 556 1281 473  Q 1575 391 1838 391  Q 2219 391 2428 545  Q 2638 700 2638 978  Q 2638 1378 1872 1531  L 1847 1538  L 1631 1581  Q 1134 1678 906 1908  Q 678 2138 678 2534  Q 678 3038 1018 3311  Q 1359 3584 1991 3584  Q 2272 3584 2531 3532  Q 2791 3481 3041 3378  z \" transform=\"scale(0.015625)\"/>\n     </defs>\n     <use xlink:href=\"#DejaVuSansMono-73\"/>\n    </g>\n   </g>\n   <g id=\"text_38\">\n    <!--   -->\n    <g style=\"fill: #444443\" transform=\"translate(248.5332 9.947031) scale(0.13 -0.13)\">\n     <use xlink:href=\"#DejaVuSansMono-20\"/>\n    </g>\n   </g>\n   <g id=\"text_39\">\n    <!-- + -->\n    <g style=\"fill: #444443\" transform=\"translate(255.0618 9.947031) scale(0.13 -0.13)\">\n     <defs>\n      <path id=\"DejaVuSansMono-2b\" d=\"M 2188 3659  L 2188 2272  L 3578 2272  L 3578 1741  L 2188 1741  L 2188 353  L 1663 353  L 1663 1741  L 275 1741  L 275 2272  L 1663 2272  L 1663 3659  L 2188 3659  z \" transform=\"scale(0.015625)\"/>\n     </defs>\n     <use xlink:href=\"#DejaVuSansMono-2b\"/>\n    </g>\n   </g>\n   <g id=\"text_40\">\n    <!--   -->\n    <g style=\"fill: #444443\" transform=\"translate(261.5904 9.947031) scale(0.13 -0.13)\">\n     <use xlink:href=\"#DejaVuSansMono-20\"/>\n    </g>\n   </g>\n   <g id=\"text_41\">\n    <!-- l -->\n    <g style=\"fill: #444443\" transform=\"translate(268.119 9.947031) scale(0.13 -0.13)\">\n     <use xlink:href=\"#DejaVuSansMono-6c\"/>\n    </g>\n   </g>\n   <g id=\"text_42\">\n    <!-- 2 -->\n    <g style=\"fill: #444443\" transform=\"translate(274.6476 9.947031) scale(0.13 -0.13)\">\n     <use xlink:href=\"#DejaVuSansMono-32\"/>\n    </g>\n   </g>\n   <g id=\"text_43\">\n    <!-- _ -->\n    <g style=\"fill: #444443\" transform=\"translate(281.1762 9.947031) scale(0.13 -0.13)\">\n     <use xlink:href=\"#DejaVuSansMono-5f\"/>\n    </g>\n   </g>\n   <g id=\"text_44\">\n    <!-- b -->\n    <g style=\"fill: #444443\" transform=\"translate(287.7048 9.947031) scale(0.13 -0.13)\">\n     <defs>\n      <path id=\"DejaVuSansMono-62\" d=\"M 2869 1747  Q 2869 2416 2656 2756  Q 2444 3097 2028 3097  Q 1609 3097 1393 2755  Q 1178 2413 1178 1747  Q 1178 1084 1393 740  Q 1609 397 2028 397  Q 2444 397 2656 737  Q 2869 1078 2869 1747  z M 1178 3053  Q 1316 3309 1558 3446  Q 1800 3584 2119 3584  Q 2750 3584 3112 3098  Q 3475 2613 3475 1759  Q 3475 894 3111 401  Q 2747 -91 2113 -91  Q 1800 -91 1561 45  Q 1322 181 1178 441  L 1178 0  L 603 0  L 603 4863  L 1178 4863  L 1178 3053  z \" transform=\"scale(0.015625)\"/>\n     </defs>\n     <use xlink:href=\"#DejaVuSansMono-62\"/>\n    </g>\n   </g>\n   <g id=\"text_45\">\n    <!-- i -->\n    <g style=\"fill: #444443\" transform=\"translate(294.2334 9.947031) scale(0.13 -0.13)\">\n     <use xlink:href=\"#DejaVuSansMono-69\"/>\n    </g>\n   </g>\n   <g id=\"text_46\">\n    <!-- a -->\n    <g style=\"fill: #444443\" transform=\"translate(300.762 9.947031) scale(0.13 -0.13)\">\n     <use xlink:href=\"#DejaVuSansMono-61\"/>\n    </g>\n   </g>\n   <g id=\"text_47\">\n    <!-- s -->\n    <g style=\"fill: #444443\" transform=\"translate(307.2906 9.947031) scale(0.13 -0.13)\">\n     <use xlink:href=\"#DejaVuSansMono-73\"/>\n    </g>\n   </g>\n   <g id=\"text_48\">\n    <!-- 5 -->\n    <g transform=\"translate(31.870541 37.897572) rotate(-90) scale(0.09 -0.09)\">\n     <defs>\n      <path id=\"DejaVuSans-35\" d=\"M 691 4666  L 3169 4666  L 3169 4134  L 1269 4134  L 1269 2991  Q 1406 3038 1543 3061  Q 1681 3084 1819 3084  Q 2600 3084 3056 2656  Q 3513 2228 3513 1497  Q 3513 744 3044 326  Q 2575 -91 1722 -91  Q 1428 -91 1123 -41  Q 819 9 494 109  L 494 744  Q 775 591 1075 516  Q 1375 441 1709 441  Q 2250 441 2565 725  Q 2881 1009 2881 1497  Q 2881 1984 2565 2268  Q 2250 2553 1709 2553  Q 1456 2553 1204 2497  Q 953 2441 691 2322  L 691 4666  z \" transform=\"scale(0.015625)\"/>\n     </defs>\n     <use xlink:href=\"#DejaVuSans-35\"/>\n    </g>\n   </g>\n   <g id=\"text_49\">\n    <!-- 1 -->\n    <g transform=\"translate(33.490575 22.297107) scale(0.09 -0.09)\">\n     <defs>\n      <path id=\"DejaVuSans-31\" d=\"M 794 531  L 1825 531  L 1825 4091  L 703 3866  L 703 4441  L 1819 4666  L 2450 4666  L 2450 531  L 3481 531  L 3481 0  L 794 0  L 794 531  z \" transform=\"scale(0.015625)\"/>\n     </defs>\n     <use xlink:href=\"#DejaVuSans-31\"/>\n    </g>\n   </g>\n   <g id=\"text_50\">\n    <!-- &lt;${\\mathit{float64}}$&gt; -->\n    <g transform=\"translate(18.1537 53.090693) scale(0.07 -0.07)\">\n     <defs>\n      <path id=\"DejaVuSans-3c\" d=\"M 4684 3150  L 1459 2003  L 4684 863  L 4684 294  L 678 1747  L 678 2266  L 4684 3719  L 4684 3150  z \" transform=\"scale(0.015625)\"/>\n      <path id=\"DejaVuSans-Oblique-66\" d=\"M 3059 4863  L 2969 4384  L 2419 4384  Q 2106 4384 1964 4261  Q 1822 4138 1753 3809  L 1691 3500  L 2638 3500  L 2553 3053  L 1606 3053  L 1013 0  L 434 0  L 1031 3053  L 481 3053  L 563 3500  L 1113 3500  L 1159 3744  Q 1278 4363 1576 4613  Q 1875 4863 2516 4863  L 3059 4863  z \" transform=\"scale(0.015625)\"/>\n      <path id=\"DejaVuSans-Oblique-6c\" d=\"M 1172 4863  L 1747 4863  L 800 0  L 225 0  L 1172 4863  z \" transform=\"scale(0.015625)\"/>\n      <path id=\"DejaVuSans-Oblique-6f\" d=\"M 1625 -91  Q 1009 -91 651 289  Q 294 669 294 1325  Q 294 1706 417 2101  Q 541 2497 738 2766  Q 1047 3184 1428 3384  Q 1809 3584 2291 3584  Q 2888 3584 3255 3212  Q 3622 2841 3622 2241  Q 3622 1825 3500 1412  Q 3378 1000 3181 728  Q 2875 309 2494 109  Q 2113 -91 1625 -91  z M 891 1344  Q 891 869 1089 633  Q 1288 397 1691 397  Q 2269 397 2648 901  Q 3028 1406 3028 2181  Q 3028 2634 2825 2865  Q 2622 3097 2228 3097  Q 1903 3097 1650 2945  Q 1397 2794 1197 2484  Q 1050 2253 970 1956  Q 891 1659 891 1344  z \" transform=\"scale(0.015625)\"/>\n      <path id=\"DejaVuSans-Oblique-61\" d=\"M 3438 1997  L 3047 0  L 2472 0  L 2578 531  Q 2325 219 2001 64  Q 1678 -91 1281 -91  Q 834 -91 548 182  Q 263 456 263 884  Q 263 1497 752 1853  Q 1241 2209 2100 2209  L 2900 2209  L 2931 2363  Q 2938 2388 2941 2417  Q 2944 2447 2944 2509  Q 2944 2788 2717 2942  Q 2491 3097 2081 3097  Q 1800 3097 1504 3025  Q 1209 2953 897 2809  L 997 3341  Q 1322 3463 1633 3523  Q 1944 3584 2234 3584  Q 2853 3584 3176 3315  Q 3500 3047 3500 2534  Q 3500 2431 3484 2292  Q 3469 2153 3438 1997  z M 2816 1759  L 2241 1759  Q 1534 1759 1195 1570  Q 856 1381 856 984  Q 856 709 1029 553  Q 1203 397 1509 397  Q 1978 397 2328 733  Q 2678 1069 2791 1631  L 2816 1759  z \" transform=\"scale(0.015625)\"/>\n      <path id=\"DejaVuSans-Oblique-74\" d=\"M 2706 3500  L 2619 3053  L 1472 3053  L 1100 1153  Q 1081 1047 1072 975  Q 1063 903 1063 863  Q 1063 663 1183 572  Q 1303 481 1569 481  L 2150 481  L 2053 0  L 1503 0  Q 991 0 739 200  Q 488 400 488 806  Q 488 878 497 964  Q 506 1050 525 1153  L 897 3053  L 409 3053  L 500 3500  L 978 3500  L 1172 4494  L 1747 4494  L 1556 3500  L 2706 3500  z \" transform=\"scale(0.015625)\"/>\n      <path id=\"DejaVuSans-36\" d=\"M 2113 2584  Q 1688 2584 1439 2293  Q 1191 2003 1191 1497  Q 1191 994 1439 701  Q 1688 409 2113 409  Q 2538 409 2786 701  Q 3034 994 3034 1497  Q 3034 2003 2786 2293  Q 2538 2584 2113 2584  z M 3366 4563  L 3366 3988  Q 3128 4100 2886 4159  Q 2644 4219 2406 4219  Q 1781 4219 1451 3797  Q 1122 3375 1075 2522  Q 1259 2794 1537 2939  Q 1816 3084 2150 3084  Q 2853 3084 3261 2657  Q 3669 2231 3669 1497  Q 3669 778 3244 343  Q 2819 -91 2113 -91  Q 1303 -91 875 529  Q 447 1150 447 2328  Q 447 3434 972 4092  Q 1497 4750 2381 4750  Q 2619 4750 2861 4703  Q 3103 4656 3366 4563  z \" transform=\"scale(0.015625)\"/>\n      <path id=\"DejaVuSans-34\" d=\"M 2419 4116  L 825 1625  L 2419 1625  L 2419 4116  z M 2253 4666  L 3047 4666  L 3047 1625  L 3713 1625  L 3713 1100  L 3047 1100  L 3047 0  L 2419 0  L 2419 1100  L 313 1100  L 313 1709  L 2253 4666  z \" transform=\"scale(0.015625)\"/>\n      <path id=\"DejaVuSans-3e\" d=\"M 678 3150  L 678 3719  L 4684 2266  L 4684 1747  L 678 294  L 678 863  L 3897 2003  L 678 3150  z \" transform=\"scale(0.015625)\"/>\n     </defs>\n     <use xlink:href=\"#DejaVuSans-3c\" transform=\"translate(0 0.015625)\"/>\n     <use xlink:href=\"#DejaVuSans-Oblique-66\" transform=\"translate(83.789062 0.015625)\"/>\n     <use xlink:href=\"#DejaVuSans-Oblique-6c\" transform=\"translate(118.994141 0.015625)\"/>\n     <use xlink:href=\"#DejaVuSans-Oblique-6f\" transform=\"translate(146.777344 0.015625)\"/>\n     <use xlink:href=\"#DejaVuSans-Oblique-61\" transform=\"translate(207.958984 0.015625)\"/>\n     <use xlink:href=\"#DejaVuSans-Oblique-74\" transform=\"translate(269.238281 0.015625)\"/>\n     <use xlink:href=\"#DejaVuSans-36\" transform=\"translate(308.447266 0.015625)\"/>\n     <use xlink:href=\"#DejaVuSans-34\" transform=\"translate(372.070312 0.015625)\"/>\n     <use xlink:href=\"#DejaVuSans-3e\" transform=\"translate(435.693359 0.015625)\"/>\n    </g>\n   </g>\n   <g id=\"text_51\">\n    <!-- 5 -->\n    <g transform=\"translate(111.193031 37.897572) rotate(-90) scale(0.09 -0.09)\">\n     <use xlink:href=\"#DejaVuSans-35\"/>\n    </g>\n   </g>\n   <g id=\"text_52\">\n    <!-- 2 -->\n    <g transform=\"translate(121.626675 22.297107) scale(0.09 -0.09)\">\n     <defs>\n      <path id=\"DejaVuSans-32\" d=\"M 1228 531  L 3431 531  L 3431 0  L 469 0  L 469 531  Q 828 903 1448 1529  Q 2069 2156 2228 2338  Q 2531 2678 2651 2914  Q 2772 3150 2772 3378  Q 2772 3750 2511 3984  Q 2250 4219 1831 4219  Q 1534 4219 1204 4116  Q 875 4013 500 3803  L 500 4441  Q 881 4594 1212 4672  Q 1544 4750 1819 4750  Q 2544 4750 2975 4387  Q 3406 4025 3406 3419  Q 3406 3131 3298 2873  Q 3191 2616 2906 2266  Q 2828 2175 2409 1742  Q 1991 1309 1228 531  z \" transform=\"scale(0.015625)\"/>\n     </defs>\n     <use xlink:href=\"#DejaVuSans-32\"/>\n    </g>\n   </g>\n   <g id=\"text_53\">\n    <!-- &lt;${\\mathit{float64}}$&gt; -->\n    <g transform=\"translate(106.2898 53.090693) scale(0.07 -0.07)\">\n     <use xlink:href=\"#DejaVuSans-3c\" transform=\"translate(0 0.015625)\"/>\n     <use xlink:href=\"#DejaVuSans-Oblique-66\" transform=\"translate(83.789062 0.015625)\"/>\n     <use xlink:href=\"#DejaVuSans-Oblique-6c\" transform=\"translate(118.994141 0.015625)\"/>\n     <use xlink:href=\"#DejaVuSans-Oblique-6f\" transform=\"translate(146.777344 0.015625)\"/>\n     <use xlink:href=\"#DejaVuSans-Oblique-61\" transform=\"translate(207.958984 0.015625)\"/>\n     <use xlink:href=\"#DejaVuSans-Oblique-74\" transform=\"translate(269.238281 0.015625)\"/>\n     <use xlink:href=\"#DejaVuSans-36\" transform=\"translate(308.447266 0.015625)\"/>\n     <use xlink:href=\"#DejaVuSans-34\" transform=\"translate(372.070312 0.015625)\"/>\n     <use xlink:href=\"#DejaVuSans-3e\" transform=\"translate(435.693359 0.015625)\"/>\n    </g>\n   </g>\n   <g id=\"text_54\">\n    <!-- 2 -->\n    <g transform=\"translate(211.407041 37.897572) rotate(-90) scale(0.09 -0.09)\">\n     <use xlink:href=\"#DejaVuSans-32\"/>\n    </g>\n   </g>\n   <g id=\"text_55\">\n    <!-- 1 -->\n    <g transform=\"translate(213.027075 22.297107) scale(0.09 -0.09)\">\n     <use xlink:href=\"#DejaVuSans-31\"/>\n    </g>\n   </g>\n   <g id=\"text_56\">\n    <!-- &lt;${\\mathit{float64}}$&gt; -->\n    <g transform=\"translate(197.6902 53.090693) scale(0.07 -0.07)\">\n     <use xlink:href=\"#DejaVuSans-3c\" transform=\"translate(0 0.015625)\"/>\n     <use xlink:href=\"#DejaVuSans-Oblique-66\" transform=\"translate(83.789062 0.015625)\"/>\n     <use xlink:href=\"#DejaVuSans-Oblique-6c\" transform=\"translate(118.994141 0.015625)\"/>\n     <use xlink:href=\"#DejaVuSans-Oblique-6f\" transform=\"translate(146.777344 0.015625)\"/>\n     <use xlink:href=\"#DejaVuSans-Oblique-61\" transform=\"translate(207.958984 0.015625)\"/>\n     <use xlink:href=\"#DejaVuSans-Oblique-74\" transform=\"translate(269.238281 0.015625)\"/>\n     <use xlink:href=\"#DejaVuSans-36\" transform=\"translate(308.447266 0.015625)\"/>\n     <use xlink:href=\"#DejaVuSans-34\" transform=\"translate(372.070312 0.015625)\"/>\n     <use xlink:href=\"#DejaVuSans-3e\" transform=\"translate(435.693359 0.015625)\"/>\n    </g>\n   </g>\n   <g id=\"text_57\">\n    <!-- 1 -->\n    <g transform=\"translate(283.874501 31.735416) rotate(-90) scale(0.09 -0.09)\">\n     <use xlink:href=\"#DejaVuSans-31\"/>\n    </g>\n   </g>\n   <g id=\"text_58\">\n    <!-- 1 -->\n    <g transform=\"translate(288.105975 22.297107) scale(0.09 -0.09)\">\n     <use xlink:href=\"#DejaVuSans-31\"/>\n    </g>\n   </g>\n   <g id=\"text_59\">\n    <!-- &lt;${\\mathit{int64}}$&gt; -->\n    <g transform=\"translate(276.0591 40.766381) scale(0.07 -0.07)\">\n     <defs>\n      <path id=\"DejaVuSans-Oblique-69\" d=\"M 1172 4863  L 1747 4863  L 1606 4134  L 1031 4134  L 1172 4863  z M 909 3500  L 1484 3500  L 800 0  L 225 0  L 909 3500  z \" transform=\"scale(0.015625)\"/>\n      <path id=\"DejaVuSans-Oblique-6e\" d=\"M 3566 2113  L 3156 0  L 2578 0  L 2988 2091  Q 3016 2238 3031 2350  Q 3047 2463 3047 2528  Q 3047 2791 2881 2937  Q 2716 3084 2419 3084  Q 1956 3084 1622 2776  Q 1288 2469 1184 1941  L 800 0  L 225 0  L 903 3500  L 1478 3500  L 1363 2950  Q 1603 3253 1940 3418  Q 2278 3584 2650 3584  Q 3113 3584 3367 3334  Q 3622 3084 3622 2631  Q 3622 2519 3608 2391  Q 3594 2263 3566 2113  z \" transform=\"scale(0.015625)\"/>\n     </defs>\n     <use xlink:href=\"#DejaVuSans-3c\" transform=\"translate(0 0.015625)\"/>\n     <use xlink:href=\"#DejaVuSans-Oblique-69\" transform=\"translate(83.789062 0.015625)\"/>\n     <use xlink:href=\"#DejaVuSans-Oblique-6e\" transform=\"translate(111.572266 0.015625)\"/>\n     <use xlink:href=\"#DejaVuSans-Oblique-74\" transform=\"translate(174.951172 0.015625)\"/>\n     <use xlink:href=\"#DejaVuSans-36\" transform=\"translate(214.160156 0.015625)\"/>\n     <use xlink:href=\"#DejaVuSans-34\" transform=\"translate(277.783203 0.015625)\"/>\n     <use xlink:href=\"#DejaVuSans-3e\" transform=\"translate(341.40625 0.015625)\"/>\n    </g>\n   </g>\n  </g>\n </g>\n <defs>\n  <clipPath id=\"pee1666e087\">\n   <rect x=\"0\" y=\"4.901991\" width=\"313.8192\" height=\"42.315395\"/>\n  </clipPath>\n </defs>\n</svg>"
          },
          "metadata": {}
        }
      ]
    },
    {
      "cell_type": "code",
      "source": [
        "l2_output"
      ],
      "metadata": {
        "colab": {
          "base_uri": "https://localhost:8080/"
        },
        "id": "xrfvRp2VCza_",
        "outputId": "013b08e2-50f3-4f1b-bddf-c06c6649d1b2"
      },
      "execution_count": null,
      "outputs": [
        {
          "output_type": "execute_result",
          "data": {
            "text/plain": [
              "array([[47.395],\n",
              "       [51.695],\n",
              "       [55.995],\n",
              "       [ 6.6  ],\n",
              "       [ 8.695]])"
            ]
          },
          "metadata": {},
          "execution_count": 26
        }
      ]
    },
    {
      "cell_type": "markdown",
      "source": [
        "**Forward Pass :**\n",
        " * This is called forward pass in neural networks.\n",
        " * when we know our weights and biases we pass the inputs through them.\n",
        " * to get our predictions just like linear regression.\n",
        " * if we don't know how to calculate our weights and biases automatically.\n",
        " * the technique becomes non-useful.\n",
        " * but we learnt gradient descent on our last rodeo 😁."
      ],
      "metadata": {
        "id": "hw-JIj8CC1MQ"
      }
    },
    {
      "cell_type": "code",
      "source": [
        "tmax = np.array([[80], [90], [100], [-20], [-10]])\n",
        "tmax_tomorrow = np.array([[83], [89], [95], [-22], [-9]])\n",
        "\n",
        "tmax_tomorrow"
      ],
      "metadata": {
        "id": "qqZMsnuwDfjI",
        "colab": {
          "base_uri": "https://localhost:8080/"
        },
        "outputId": "145fe657-007e-4689-9460-db8b7e81f163"
      },
      "execution_count": null,
      "outputs": [
        {
          "output_type": "execute_result",
          "data": {
            "text/plain": [
              "array([[ 83],\n",
              "       [ 89],\n",
              "       [ 95],\n",
              "       [-22],\n",
              "       [ -9]])"
            ]
          },
          "metadata": {},
          "execution_count": 27
        }
      ]
    },
    {
      "cell_type": "code",
      "source": [
        "def mse(y_true, y_pred):\n",
        "  return np.square(y_true - y_pred)"
      ],
      "metadata": {
        "id": "AtB7uQT6ssB6"
      },
      "execution_count": null,
      "outputs": []
    },
    {
      "cell_type": "code",
      "source": [
        "mse(tmax_tomorrow, l2_output)"
      ],
      "metadata": {
        "colab": {
          "base_uri": "https://localhost:8080/"
        },
        "id": "-kmU5EGus18K",
        "outputId": "1757ff66-d05b-49c4-e1de-f72e22904140"
      },
      "execution_count": null,
      "outputs": [
        {
          "output_type": "execute_result",
          "data": {
            "text/plain": [
              "array([[1267.716025],\n",
              "       [1391.663025],\n",
              "       [1521.390025],\n",
              "       [ 817.96    ],\n",
              "       [ 313.113025]])"
            ]
          },
          "metadata": {},
          "execution_count": 29
        }
      ]
    },
    {
      "cell_type": "code",
      "source": [
        "def mse_gradient(y_true, y_pred):\n",
        "  return (2 / y_true.shape[0]) * (y_pred - y_true)"
      ],
      "metadata": {
        "id": "ai_nkE0AtASz"
      },
      "execution_count": null,
      "outputs": []
    },
    {
      "cell_type": "markdown",
      "source": [
        "`mse_gradient()` tells us how much to adjust our prediction.\n",
        "It is actually the gradient of our loss."
      ],
      "metadata": {
        "id": "O9uWCTVOtUCj"
      }
    },
    {
      "cell_type": "code",
      "source": [
        "mse_gradient(tmax_tomorrow, l2_output)"
      ],
      "metadata": {
        "colab": {
          "base_uri": "https://localhost:8080/"
        },
        "id": "EByOCW7xu5xP",
        "outputId": "f6d9846c-f495-44e1-d396-4057dbd57dce"
      },
      "execution_count": null,
      "outputs": [
        {
          "output_type": "execute_result",
          "data": {
            "text/plain": [
              "array([[-14.242],\n",
              "       [-14.922],\n",
              "       [-15.602],\n",
              "       [ 11.44 ],\n",
              "       [  7.078]])"
            ]
          },
          "metadata": {},
          "execution_count": 31
        }
      ]
    },
    {
      "cell_type": "code",
      "source": [
        "# test code\n",
        "\n",
        "output_gradient = mse_gradient(tmax_tomorrow, l2_output)"
      ],
      "metadata": {
        "id": "cHXvLvItAG7t"
      },
      "execution_count": null,
      "outputs": []
    },
    {
      "cell_type": "code",
      "source": [
        "with tsensor.explain():\n",
        "  l2_w_gradient = l1_activated.T @ output_gradient\n",
        "\n",
        "l2_w_gradient"
      ],
      "metadata": {
        "colab": {
          "base_uri": "https://localhost:8080/",
          "height": 129
        },
        "id": "YFbtdTVuA57l",
        "outputId": "330eece8-3ac7-4a6e-fd35-dca7b113b57e"
      },
      "execution_count": null,
      "outputs": [
        {
          "output_type": "display_data",
          "data": {
            "text/plain": [
              "<IPython.core.display.SVG object>"
            ],
            "image/svg+xml": "<svg xmlns:xlink=\"http://www.w3.org/1999/xlink\" xmlns=\"http://www.w3.org/2000/svg\" width=\"321.645606pt\" height=\"54.546474pt\" viewBox=\"0 0 321.645606 54.546474\" version=\"1.1\">\n <metadata>\n  <rdf:RDF xmlns:dc=\"http://purl.org/dc/elements/1.1/\" xmlns:cc=\"http://creativecommons.org/ns#\" xmlns:rdf=\"http://www.w3.org/1999/02/22-rdf-syntax-ns#\">\n   <cc:Work>\n    <dc:type rdf:resource=\"http://purl.org/dc/dcmitype/StillImage\"/>\n    <dc:date>2025-06-21T13:16:04.321514</dc:date>\n    <dc:format>image/svg+xml</dc:format>\n    <dc:creator>\n     <cc:Agent>\n      <dc:title>Matplotlib v3.10.0, https://matplotlib.org/</dc:title>\n     </cc:Agent>\n    </dc:creator>\n   </cc:Work>\n  </rdf:RDF>\n </metadata>\n <defs>\n  <style type=\"text/css\">*{stroke-linejoin: round; stroke-linecap: butt}</style>\n </defs>\n <g id=\"figure_1\">\n  <g id=\"patch_1\">\n   <path d=\"M 0 54.546474  L 321.645606 54.546474  L 321.645606 0  L 0 0  z \" style=\"fill: #ffffff\"/>\n  </g>\n  <g id=\"axes_1\">\n   <g id=\"patch_2\">\n    <path d=\"M 46.79946 46.385787  L 52.02234 46.385787  L 52.02234 23.683107  L 46.79946 23.683107  z \" clip-path=\"url(#p230521ce91)\" style=\"fill: #a8e1b0; fill-opacity: 0.75; stroke: #808080; stroke-width: 0.7; stroke-linejoin: miter\"/>\n   </g>\n   <g id=\"patch_3\">\n    <path d=\"M 145.70775 46.385787  L 168.55785 46.385787  L 168.55785 23.683107  L 145.70775 23.683107  z \" clip-path=\"url(#p230521ce91)\" style=\"fill: #a8e1b0; fill-opacity: 0.75; stroke: #808080; stroke-width: 0.7; stroke-linejoin: miter\"/>\n   </g>\n   <g id=\"patch_4\">\n    <path d=\"M 268.77186 46.385787  L 273.99474 46.385787  L 273.99474 23.683107  L 268.77186 23.683107  z \" clip-path=\"url(#p230521ce91)\" style=\"fill: #a8e1b0; fill-opacity: 0.75; stroke: #808080; stroke-width: 0.7; stroke-linejoin: miter\"/>\n   </g>\n   <g id=\"line2d_1\">\n    <path d=\"M 6.32214 13.762608  L 92.49966 13.762608  \" clip-path=\"url(#p230521ce91)\" style=\"fill: none; stroke: #c2c2c2; stroke-width: 0.5; stroke-linecap: square\"/>\n   </g>\n   <g id=\"line2d_2\">\n    <path d=\"M 110.77974 13.762608  L 203.48586 13.762608  \" clip-path=\"url(#p230521ce91)\" style=\"fill: none; stroke: #c2c2c2; stroke-width: 0.5; stroke-linecap: square\"/>\n   </g>\n   <g id=\"line2d_3\">\n    <path d=\"M 221.76594 13.762608  L 321.00066 13.762608  \" clip-path=\"url(#p230521ce91)\" style=\"fill: none; stroke: #c2c2c2; stroke-width: 0.5; stroke-linecap: square\"/>\n   </g>\n   <g id=\"text_1\">\n    <!-- l -->\n    <g style=\"fill: #444443\" transform=\"translate(6.975 9.947031) scale(0.13 -0.13)\">\n     <defs>\n      <path id=\"DejaVuSansMono-6c\" d=\"M 1997 1269  Q 1997 881 2139 684  Q 2281 488 2559 488  L 3231 488  L 3231 0  L 2503 0  Q 1988 0 1705 331  Q 1422 663 1422 1269  L 1422 4447  L 500 4447  L 500 4897  L 1997 4897  L 1997 1269  z \" transform=\"scale(0.015625)\"/>\n     </defs>\n     <use xlink:href=\"#DejaVuSansMono-6c\"/>\n    </g>\n   </g>\n   <g id=\"text_2\">\n    <!-- 2 -->\n    <g style=\"fill: #444443\" transform=\"translate(13.5036 9.947031) scale(0.13 -0.13)\">\n     <defs>\n      <path id=\"DejaVuSansMono-32\" d=\"M 1166 531  L 3309 531  L 3309 0  L 475 0  L 475 531  Q 1059 1147 1496 1619  Q 1934 2091 2100 2284  Q 2413 2666 2522 2902  Q 2631 3138 2631 3384  Q 2631 3775 2401 3997  Q 2172 4219 1772 4219  Q 1488 4219 1175 4116  Q 863 4013 513 3803  L 513 4441  Q 834 4594 1145 4672  Q 1456 4750 1759 4750  Q 2444 4750 2861 4386  Q 3278 4022 3278 3431  Q 3278 3131 3139 2831  Q 3000 2531 2688 2169  Q 2513 1966 2180 1606  Q 1847 1247 1166 531  z \" transform=\"scale(0.015625)\"/>\n     </defs>\n     <use xlink:href=\"#DejaVuSansMono-32\"/>\n    </g>\n   </g>\n   <g id=\"text_3\">\n    <!-- _ -->\n    <g style=\"fill: #444443\" transform=\"translate(20.0322 9.947031) scale(0.13 -0.13)\">\n     <defs>\n      <path id=\"DejaVuSansMono-5f\" d=\"M 3853 -1259  L 3853 -1509  L 0 -1509  L 0 -1259  L 3853 -1259  z \" transform=\"scale(0.015625)\"/>\n     </defs>\n     <use xlink:href=\"#DejaVuSansMono-5f\"/>\n    </g>\n   </g>\n   <g id=\"text_4\">\n    <!-- w -->\n    <g style=\"fill: #444443\" transform=\"translate(26.5608 9.947031) scale(0.13 -0.13)\">\n     <defs>\n      <path id=\"DejaVuSansMono-77\" d=\"M 0 3500  L 569 3500  L 1178 672  L 1678 2478  L 2169 2478  L 2675 672  L 3284 3500  L 3853 3500  L 3034 0  L 2484 0  L 1925 1919  L 1369 0  L 819 0  L 0 3500  z \" transform=\"scale(0.015625)\"/>\n     </defs>\n     <use xlink:href=\"#DejaVuSansMono-77\"/>\n    </g>\n   </g>\n   <g id=\"text_5\">\n    <!-- _ -->\n    <g style=\"fill: #444443\" transform=\"translate(33.0894 9.947031) scale(0.13 -0.13)\">\n     <use xlink:href=\"#DejaVuSansMono-5f\"/>\n    </g>\n   </g>\n   <g id=\"text_6\">\n    <!-- g -->\n    <g style=\"fill: #444443\" transform=\"translate(39.618 9.947031) scale(0.13 -0.13)\">\n     <defs>\n      <path id=\"DejaVuSansMono-67\" d=\"M 2681 1778  Q 2681 2425 2470 2761  Q 2259 3097 1856 3097  Q 1434 3097 1212 2761  Q 991 2425 991 1778  Q 991 1131 1214 792  Q 1438 453 1863 453  Q 2259 453 2470 793  Q 2681 1134 2681 1778  z M 3256 225  Q 3256 -563 2884 -969  Q 2513 -1375 1791 -1375  Q 1553 -1375 1293 -1331  Q 1034 -1288 775 -1203  L 775 -634  Q 1081 -778 1331 -847  Q 1581 -916 1791 -916  Q 2256 -916 2468 -662  Q 2681 -409 2681 141  L 2681 166  L 2681 556  Q 2544 263 2306 119  Q 2069 -25 1728 -25  Q 1116 -25 750 465  Q 384 956 384 1778  Q 384 2603 750 3093  Q 1116 3584 1728 3584  Q 2066 3584 2300 3450  Q 2534 3316 2681 3034  L 2681 3488  L 3256 3488  L 3256 225  z \" transform=\"scale(0.015625)\"/>\n     </defs>\n     <use xlink:href=\"#DejaVuSansMono-67\"/>\n    </g>\n   </g>\n   <g id=\"text_7\">\n    <!-- r -->\n    <g style=\"fill: #444443\" transform=\"translate(46.1466 9.947031) scale(0.13 -0.13)\">\n     <defs>\n      <path id=\"DejaVuSansMono-72\" d=\"M 3609 2778  Q 3425 2922 3234 2987  Q 3044 3053 2816 3053  Q 2278 3053 1993 2715  Q 1709 2378 1709 1741  L 1709 0  L 1131 0  L 1131 3500  L 1709 3500  L 1709 2816  Q 1853 3188 2151 3386  Q 2450 3584 2859 3584  Q 3072 3584 3256 3531  Q 3441 3478 3609 3366  L 3609 2778  z \" transform=\"scale(0.015625)\"/>\n     </defs>\n     <use xlink:href=\"#DejaVuSansMono-72\"/>\n    </g>\n   </g>\n   <g id=\"text_8\">\n    <!-- a -->\n    <g style=\"fill: #444443\" transform=\"translate(52.6752 9.947031) scale(0.13 -0.13)\">\n     <defs>\n      <path id=\"DejaVuSansMono-61\" d=\"M 2194 1759  L 2003 1759  Q 1500 1759 1245 1582  Q 991 1406 991 1056  Q 991 741 1181 566  Q 1372 391 1709 391  Q 2184 391 2456 720  Q 2728 1050 2731 1631  L 2731 1759  L 2194 1759  z M 3309 1997  L 3309 0  L 2731 0  L 2731 519  Q 2547 206 2267 57  Q 1988 -91 1588 -91  Q 1053 -91 734 211  Q 416 513 416 1019  Q 416 1603 808 1906  Q 1200 2209 1959 2209  L 2731 2209  L 2731 2300  Q 2728 2719 2518 2908  Q 2309 3097 1850 3097  Q 1556 3097 1256 3012  Q 956 2928 672 2766  L 672 3341  Q 991 3463 1283 3523  Q 1575 3584 1850 3584  Q 2284 3584 2592 3456  Q 2900 3328 3091 3072  Q 3209 2916 3259 2686  Q 3309 2456 3309 1997  z \" transform=\"scale(0.015625)\"/>\n     </defs>\n     <use xlink:href=\"#DejaVuSansMono-61\"/>\n    </g>\n   </g>\n   <g id=\"text_9\">\n    <!-- d -->\n    <g style=\"fill: #444443\" transform=\"translate(59.2038 9.947031) scale(0.13 -0.13)\">\n     <defs>\n      <path id=\"DejaVuSansMono-64\" d=\"M 2681 3053  L 2681 4863  L 3256 4863  L 3256 0  L 2681 0  L 2681 441  Q 2538 181 2298 45  Q 2059 -91 1747 -91  Q 1113 -91 748 401  Q 384 894 384 1759  Q 384 2613 750 3098  Q 1116 3584 1747 3584  Q 2063 3584 2303 3448  Q 2544 3313 2681 3053  z M 991 1747  Q 991 1078 1203 737  Q 1416 397 1831 397  Q 2247 397 2464 740  Q 2681 1084 2681 1747  Q 2681 2413 2464 2755  Q 2247 3097 1831 3097  Q 1416 3097 1203 2756  Q 991 2416 991 1747  z \" transform=\"scale(0.015625)\"/>\n     </defs>\n     <use xlink:href=\"#DejaVuSansMono-64\"/>\n    </g>\n   </g>\n   <g id=\"text_10\">\n    <!-- i -->\n    <g style=\"fill: #444443\" transform=\"translate(65.7324 9.947031) scale(0.13 -0.13)\">\n     <defs>\n      <path id=\"DejaVuSansMono-69\" d=\"M 800 3500  L 2272 3500  L 2272 447  L 3413 447  L 3413 0  L 556 0  L 556 447  L 1697 447  L 1697 3053  L 800 3053  L 800 3500  z M 1697 4863  L 2272 4863  L 2272 4134  L 1697 4134  L 1697 4863  z \" transform=\"scale(0.015625)\"/>\n     </defs>\n     <use xlink:href=\"#DejaVuSansMono-69\"/>\n    </g>\n   </g>\n   <g id=\"text_11\">\n    <!-- e -->\n    <g style=\"fill: #444443\" transform=\"translate(72.261 9.947031) scale(0.13 -0.13)\">\n     <defs>\n      <path id=\"DejaVuSansMono-65\" d=\"M 3475 1894  L 3475 1613  L 984 1613  L 984 1594  Q 984 1022 1282 709  Q 1581 397 2125 397  Q 2400 397 2700 484  Q 3000 572 3341 750  L 3341 178  Q 3013 44 2708 -23  Q 2403 -91 2119 -91  Q 1303 -91 843 398  Q 384 888 384 1747  Q 384 2584 834 3084  Q 1284 3584 2034 3584  Q 2703 3584 3089 3131  Q 3475 2678 3475 1894  z M 2900 2063  Q 2888 2569 2661 2833  Q 2434 3097 2009 3097  Q 1594 3097 1325 2822  Q 1056 2547 1006 2059  L 2900 2063  z \" transform=\"scale(0.015625)\"/>\n     </defs>\n     <use xlink:href=\"#DejaVuSansMono-65\"/>\n    </g>\n   </g>\n   <g id=\"text_12\">\n    <!-- n -->\n    <g style=\"fill: #444443\" transform=\"translate(78.7896 9.947031) scale(0.13 -0.13)\">\n     <defs>\n      <path id=\"DejaVuSansMono-6e\" d=\"M 3284 2169  L 3284 0  L 2706 0  L 2706 2169  Q 2706 2641 2540 2862  Q 2375 3084 2022 3084  Q 1619 3084 1401 2798  Q 1184 2513 1184 1978  L 1184 0  L 609 0  L 609 3500  L 1184 3500  L 1184 2975  Q 1338 3275 1600 3429  Q 1863 3584 2222 3584  Q 2756 3584 3020 3232  Q 3284 2881 3284 2169  z \" transform=\"scale(0.015625)\"/>\n     </defs>\n     <use xlink:href=\"#DejaVuSansMono-6e\"/>\n    </g>\n   </g>\n   <g id=\"text_13\">\n    <!-- t -->\n    <g style=\"fill: #444443\" transform=\"translate(85.3182 9.947031) scale(0.13 -0.13)\">\n     <defs>\n      <path id=\"DejaVuSansMono-74\" d=\"M 1919 4494  L 1919 3500  L 3225 3500  L 3225 3053  L 1919 3053  L 1919 1153  Q 1919 766 2066 612  Q 2213 459 2578 459  L 3225 459  L 3225 0  L 2522 0  Q 1875 0 1609 259  Q 1344 519 1344 1153  L 1344 3053  L 409 3053  L 409 3500  L 1344 3500  L 1344 4494  L 1919 4494  z \" transform=\"scale(0.015625)\"/>\n     </defs>\n     <use xlink:href=\"#DejaVuSansMono-74\"/>\n    </g>\n   </g>\n   <g id=\"text_14\">\n    <!--   -->\n    <g style=\"fill: #444443\" transform=\"translate(91.8468 9.947031) scale(0.13 -0.13)\">\n     <defs>\n      <path id=\"DejaVuSansMono-20\" transform=\"scale(0.015625)\"/>\n     </defs>\n     <use xlink:href=\"#DejaVuSansMono-20\"/>\n    </g>\n   </g>\n   <g id=\"text_15\">\n    <!-- = -->\n    <g style=\"fill: #444443\" transform=\"translate(98.3754 9.947031) scale(0.13 -0.13)\">\n     <defs>\n      <path id=\"DejaVuSansMono-3d\" d=\"M 275 1638  L 3578 1638  L 3578 1100  L 275 1100  L 275 1638  z M 275 2906  L 3578 2906  L 3578 2375  L 275 2375  L 275 2906  z \" transform=\"scale(0.015625)\"/>\n     </defs>\n     <use xlink:href=\"#DejaVuSansMono-3d\"/>\n    </g>\n   </g>\n   <g id=\"text_16\">\n    <!--   -->\n    <g style=\"fill: #444443\" transform=\"translate(104.904 9.947031) scale(0.13 -0.13)\">\n     <use xlink:href=\"#DejaVuSansMono-20\"/>\n    </g>\n   </g>\n   <g id=\"text_17\">\n    <!-- l -->\n    <g style=\"fill: #444443\" transform=\"translate(111.4326 9.947031) scale(0.13 -0.13)\">\n     <use xlink:href=\"#DejaVuSansMono-6c\"/>\n    </g>\n   </g>\n   <g id=\"text_18\">\n    <!-- 1 -->\n    <g style=\"fill: #444443\" transform=\"translate(117.9612 9.947031) scale(0.13 -0.13)\">\n     <defs>\n      <path id=\"DejaVuSansMono-31\" d=\"M 844 531  L 1825 531  L 1825 4097  L 769 3859  L 769 4434  L 1819 4666  L 2450 4666  L 2450 531  L 3419 531  L 3419 0  L 844 0  L 844 531  z \" transform=\"scale(0.015625)\"/>\n     </defs>\n     <use xlink:href=\"#DejaVuSansMono-31\"/>\n    </g>\n   </g>\n   <g id=\"text_19\">\n    <!-- _ -->\n    <g style=\"fill: #444443\" transform=\"translate(124.4898 9.947031) scale(0.13 -0.13)\">\n     <use xlink:href=\"#DejaVuSansMono-5f\"/>\n    </g>\n   </g>\n   <g id=\"text_20\">\n    <!-- a -->\n    <g style=\"fill: #444443\" transform=\"translate(131.0184 9.947031) scale(0.13 -0.13)\">\n     <use xlink:href=\"#DejaVuSansMono-61\"/>\n    </g>\n   </g>\n   <g id=\"text_21\">\n    <!-- c -->\n    <g style=\"fill: #444443\" transform=\"translate(137.547 9.947031) scale(0.13 -0.13)\">\n     <defs>\n      <path id=\"DejaVuSansMono-63\" d=\"M 3316 178  Q 3084 44 2839 -23  Q 2594 -91 2338 -91  Q 1525 -91 1067 396  Q 609 884 609 1747  Q 609 2609 1067 3096  Q 1525 3584 2338 3584  Q 2591 3584 2831 3518  Q 3072 3453 3316 3316  L 3316 2713  Q 3088 2916 2858 3006  Q 2628 3097 2338 3097  Q 1797 3097 1506 2747  Q 1216 2397 1216 1747  Q 1216 1100 1508 748  Q 1800 397 2338 397  Q 2638 397 2875 489  Q 3113 581 3316 775  L 3316 178  z \" transform=\"scale(0.015625)\"/>\n     </defs>\n     <use xlink:href=\"#DejaVuSansMono-63\"/>\n    </g>\n   </g>\n   <g id=\"text_22\">\n    <!-- t -->\n    <g style=\"fill: #444443\" transform=\"translate(144.0756 9.947031) scale(0.13 -0.13)\">\n     <use xlink:href=\"#DejaVuSansMono-74\"/>\n    </g>\n   </g>\n   <g id=\"text_23\">\n    <!-- i -->\n    <g style=\"fill: #444443\" transform=\"translate(150.6042 9.947031) scale(0.13 -0.13)\">\n     <use xlink:href=\"#DejaVuSansMono-69\"/>\n    </g>\n   </g>\n   <g id=\"text_24\">\n    <!-- v -->\n    <g style=\"fill: #444443\" transform=\"translate(157.1328 9.947031) scale(0.13 -0.13)\">\n     <defs>\n      <path id=\"DejaVuSansMono-76\" d=\"M 313 3500  L 909 3500  L 1925 563  L 2944 3500  L 3541 3500  L 2297 0  L 1556 0  L 313 3500  z \" transform=\"scale(0.015625)\"/>\n     </defs>\n     <use xlink:href=\"#DejaVuSansMono-76\"/>\n    </g>\n   </g>\n   <g id=\"text_25\">\n    <!-- a -->\n    <g style=\"fill: #444443\" transform=\"translate(163.6614 9.947031) scale(0.13 -0.13)\">\n     <use xlink:href=\"#DejaVuSansMono-61\"/>\n    </g>\n   </g>\n   <g id=\"text_26\">\n    <!-- t -->\n    <g style=\"fill: #444443\" transform=\"translate(170.19 9.947031) scale(0.13 -0.13)\">\n     <use xlink:href=\"#DejaVuSansMono-74\"/>\n    </g>\n   </g>\n   <g id=\"text_27\">\n    <!-- e -->\n    <g style=\"fill: #444443\" transform=\"translate(176.7186 9.947031) scale(0.13 -0.13)\">\n     <use xlink:href=\"#DejaVuSansMono-65\"/>\n    </g>\n   </g>\n   <g id=\"text_28\">\n    <!-- d -->\n    <g style=\"fill: #444443\" transform=\"translate(183.2472 9.947031) scale(0.13 -0.13)\">\n     <use xlink:href=\"#DejaVuSansMono-64\"/>\n    </g>\n   </g>\n   <g id=\"text_29\">\n    <!-- . -->\n    <g style=\"fill: #444443\" transform=\"translate(189.7758 9.947031) scale(0.13 -0.13)\">\n     <defs>\n      <path id=\"DejaVuSansMono-2e\" d=\"M 1528 953  L 2316 953  L 2316 0  L 1528 0  L 1528 953  z \" transform=\"scale(0.015625)\"/>\n     </defs>\n     <use xlink:href=\"#DejaVuSansMono-2e\"/>\n    </g>\n   </g>\n   <g id=\"text_30\">\n    <!-- T -->\n    <g style=\"fill: #444443\" transform=\"translate(196.3044 9.947031) scale(0.13 -0.13)\">\n     <defs>\n      <path id=\"DejaVuSansMono-54\" d=\"M 147 4666  L 3706 4666  L 3706 4134  L 2247 4134  L 2247 0  L 1613 0  L 1613 4134  L 147 4134  L 147 4666  z \" transform=\"scale(0.015625)\"/>\n     </defs>\n     <use xlink:href=\"#DejaVuSansMono-54\"/>\n    </g>\n   </g>\n   <g id=\"text_31\">\n    <!--   -->\n    <g style=\"fill: #444443\" transform=\"translate(202.833 9.947031) scale(0.13 -0.13)\">\n     <use xlink:href=\"#DejaVuSansMono-20\"/>\n    </g>\n   </g>\n   <g id=\"text_32\">\n    <!-- @ -->\n    <g style=\"fill: #444443\" transform=\"translate(209.3616 9.947031) scale(0.13 -0.13)\">\n     <defs>\n      <path id=\"DejaVuSansMono-40\" d=\"M 3244 1703  Q 3244 2106 3044 2348  Q 2844 2591 2509 2591  Q 2175 2591 1973 2348  Q 1772 2106 1772 1703  Q 1772 1297 1973 1055  Q 2175 813 2509 813  Q 2844 813 3044 1055  Q 3244 1297 3244 1703  z M 3681 422  L 3231 422  L 3231 769  Q 3116 572 2911 465  Q 2706 359 2450 359  Q 1947 359 1617 737  Q 1288 1116 1288 1703  Q 1288 2291 1617 2669  Q 1947 3047 2450 3047  Q 2700 3047 2909 2937  Q 3119 2828 3231 2638  L 3231 2834  Q 3231 3322 2956 3619  Q 2681 3916 2228 3916  Q 1459 3916 1004 3317  Q 550 2719 550 1697  Q 550 669 1065 59  Q 1581 -550 2438 -550  Q 2606 -550 2775 -519  Q 2944 -488 3122 -422  L 3272 -844  Q 3075 -922 2883 -959  Q 2691 -997 2509 -997  Q 1394 -997 739 -269  Q 84 459 84 1697  Q 84 2916 671 3637  Q 1259 4359 2247 4359  Q 2900 4359 3290 3943  Q 3681 3528 3681 2828  L 3681 422  z \" transform=\"scale(0.015625)\"/>\n     </defs>\n     <use xlink:href=\"#DejaVuSansMono-40\"/>\n    </g>\n   </g>\n   <g id=\"text_33\">\n    <!--   -->\n    <g style=\"fill: #444443\" transform=\"translate(215.8902 9.947031) scale(0.13 -0.13)\">\n     <use xlink:href=\"#DejaVuSansMono-20\"/>\n    </g>\n   </g>\n   <g id=\"text_34\">\n    <!-- o -->\n    <g style=\"fill: #444443\" transform=\"translate(222.4188 9.947031) scale(0.13 -0.13)\">\n     <defs>\n      <path id=\"DejaVuSansMono-6f\" d=\"M 1925 3097  Q 1488 3097 1263 2756  Q 1038 2416 1038 1747  Q 1038 1081 1263 739  Q 1488 397 1925 397  Q 2366 397 2591 739  Q 2816 1081 2816 1747  Q 2816 2416 2591 2756  Q 2366 3097 1925 3097  z M 1925 3584  Q 2653 3584 3039 3112  Q 3425 2641 3425 1747  Q 3425 850 3040 379  Q 2656 -91 1925 -91  Q 1197 -91 812 379  Q 428 850 428 1747  Q 428 2641 812 3112  Q 1197 3584 1925 3584  z \" transform=\"scale(0.015625)\"/>\n     </defs>\n     <use xlink:href=\"#DejaVuSansMono-6f\"/>\n    </g>\n   </g>\n   <g id=\"text_35\">\n    <!-- u -->\n    <g style=\"fill: #444443\" transform=\"translate(228.9474 9.947031) scale(0.13 -0.13)\">\n     <defs>\n      <path id=\"DejaVuSansMono-75\" d=\"M 609 1325  L 609 3494  L 1184 3494  L 1184 1325  Q 1184 853 1351 631  Q 1519 409 1869 409  Q 2275 409 2490 695  Q 2706 981 2706 1516  L 2706 3494  L 3284 3494  L 3284 0  L 2706 0  L 2706 525  Q 2553 222 2289 65  Q 2025 -91 1672 -91  Q 1134 -91 871 261  Q 609 613 609 1325  z \" transform=\"scale(0.015625)\"/>\n     </defs>\n     <use xlink:href=\"#DejaVuSansMono-75\"/>\n    </g>\n   </g>\n   <g id=\"text_36\">\n    <!-- t -->\n    <g style=\"fill: #444443\" transform=\"translate(235.476 9.947031) scale(0.13 -0.13)\">\n     <use xlink:href=\"#DejaVuSansMono-74\"/>\n    </g>\n   </g>\n   <g id=\"text_37\">\n    <!-- p -->\n    <g style=\"fill: #444443\" transform=\"translate(242.0046 9.947031) scale(0.13 -0.13)\">\n     <defs>\n      <path id=\"DejaVuSansMono-70\" d=\"M 1172 441  L 1172 -1331  L 594 -1331  L 594 3500  L 1172 3500  L 1172 3053  Q 1316 3313 1555 3448  Q 1794 3584 2106 3584  Q 2741 3584 3102 3093  Q 3463 2603 3463 1734  Q 3463 881 3100 395  Q 2738 -91 2106 -91  Q 1788 -91 1548 45  Q 1309 181 1172 441  z M 2859 1747  Q 2859 2416 2648 2756  Q 2438 3097 2022 3097  Q 1603 3097 1387 2755  Q 1172 2413 1172 1747  Q 1172 1084 1387 740  Q 1603 397 2022 397  Q 2438 397 2648 737  Q 2859 1078 2859 1747  z \" transform=\"scale(0.015625)\"/>\n     </defs>\n     <use xlink:href=\"#DejaVuSansMono-70\"/>\n    </g>\n   </g>\n   <g id=\"text_38\">\n    <!-- u -->\n    <g style=\"fill: #444443\" transform=\"translate(248.5332 9.947031) scale(0.13 -0.13)\">\n     <use xlink:href=\"#DejaVuSansMono-75\"/>\n    </g>\n   </g>\n   <g id=\"text_39\">\n    <!-- t -->\n    <g style=\"fill: #444443\" transform=\"translate(255.0618 9.947031) scale(0.13 -0.13)\">\n     <use xlink:href=\"#DejaVuSansMono-74\"/>\n    </g>\n   </g>\n   <g id=\"text_40\">\n    <!-- _ -->\n    <g style=\"fill: #444443\" transform=\"translate(261.5904 9.947031) scale(0.13 -0.13)\">\n     <use xlink:href=\"#DejaVuSansMono-5f\"/>\n    </g>\n   </g>\n   <g id=\"text_41\">\n    <!-- g -->\n    <g style=\"fill: #444443\" transform=\"translate(268.119 9.947031) scale(0.13 -0.13)\">\n     <use xlink:href=\"#DejaVuSansMono-67\"/>\n    </g>\n   </g>\n   <g id=\"text_42\">\n    <!-- r -->\n    <g style=\"fill: #444443\" transform=\"translate(274.6476 9.947031) scale(0.13 -0.13)\">\n     <use xlink:href=\"#DejaVuSansMono-72\"/>\n    </g>\n   </g>\n   <g id=\"text_43\">\n    <!-- a -->\n    <g style=\"fill: #444443\" transform=\"translate(281.1762 9.947031) scale(0.13 -0.13)\">\n     <use xlink:href=\"#DejaVuSansMono-61\"/>\n    </g>\n   </g>\n   <g id=\"text_44\">\n    <!-- d -->\n    <g style=\"fill: #444443\" transform=\"translate(287.7048 9.947031) scale(0.13 -0.13)\">\n     <use xlink:href=\"#DejaVuSansMono-64\"/>\n    </g>\n   </g>\n   <g id=\"text_45\">\n    <!-- i -->\n    <g style=\"fill: #444443\" transform=\"translate(294.2334 9.947031) scale(0.13 -0.13)\">\n     <use xlink:href=\"#DejaVuSansMono-69\"/>\n    </g>\n   </g>\n   <g id=\"text_46\">\n    <!-- e -->\n    <g style=\"fill: #444443\" transform=\"translate(300.762 9.947031) scale(0.13 -0.13)\">\n     <use xlink:href=\"#DejaVuSansMono-65\"/>\n    </g>\n   </g>\n   <g id=\"text_47\">\n    <!-- n -->\n    <g style=\"fill: #444443\" transform=\"translate(307.2906 9.947031) scale(0.13 -0.13)\">\n     <use xlink:href=\"#DejaVuSansMono-6e\"/>\n    </g>\n   </g>\n   <g id=\"text_48\">\n    <!-- t -->\n    <g style=\"fill: #444443\" transform=\"translate(313.8192 9.947031) scale(0.13 -0.13)\">\n     <use xlink:href=\"#DejaVuSansMono-74\"/>\n    </g>\n   </g>\n   <g id=\"text_49\">\n    <!-- 2 -->\n    <g transform=\"translate(44.927741 37.897572) rotate(-90) scale(0.09 -0.09)\">\n     <defs>\n      <path id=\"DejaVuSans-32\" d=\"M 1228 531  L 3431 531  L 3431 0  L 469 0  L 469 531  Q 828 903 1448 1529  Q 2069 2156 2228 2338  Q 2531 2678 2651 2914  Q 2772 3150 2772 3378  Q 2772 3750 2511 3984  Q 2250 4219 1831 4219  Q 1534 4219 1204 4116  Q 875 4013 500 3803  L 500 4441  Q 881 4594 1212 4672  Q 1544 4750 1819 4750  Q 2544 4750 2975 4387  Q 3406 4025 3406 3419  Q 3406 3131 3298 2873  Q 3191 2616 2906 2266  Q 2828 2175 2409 1742  Q 1991 1309 1228 531  z \" transform=\"scale(0.015625)\"/>\n     </defs>\n     <use xlink:href=\"#DejaVuSans-32\"/>\n    </g>\n   </g>\n   <g id=\"text_50\">\n    <!-- 1 -->\n    <g transform=\"translate(46.547775 22.297107) scale(0.09 -0.09)\">\n     <defs>\n      <path id=\"DejaVuSans-31\" d=\"M 794 531  L 1825 531  L 1825 4091  L 703 3866  L 703 4441  L 1819 4666  L 2450 4666  L 2450 531  L 3481 531  L 3481 0  L 794 0  L 794 531  z \" transform=\"scale(0.015625)\"/>\n     </defs>\n     <use xlink:href=\"#DejaVuSans-31\"/>\n    </g>\n   </g>\n   <g id=\"text_51\">\n    <!-- &lt;${\\mathit{float64}}$&gt; -->\n    <g transform=\"translate(31.2109 53.090693) scale(0.07 -0.07)\">\n     <defs>\n      <path id=\"DejaVuSans-3c\" d=\"M 4684 3150  L 1459 2003  L 4684 863  L 4684 294  L 678 1747  L 678 2266  L 4684 3719  L 4684 3150  z \" transform=\"scale(0.015625)\"/>\n      <path id=\"DejaVuSans-Oblique-66\" d=\"M 3059 4863  L 2969 4384  L 2419 4384  Q 2106 4384 1964 4261  Q 1822 4138 1753 3809  L 1691 3500  L 2638 3500  L 2553 3053  L 1606 3053  L 1013 0  L 434 0  L 1031 3053  L 481 3053  L 563 3500  L 1113 3500  L 1159 3744  Q 1278 4363 1576 4613  Q 1875 4863 2516 4863  L 3059 4863  z \" transform=\"scale(0.015625)\"/>\n      <path id=\"DejaVuSans-Oblique-6c\" d=\"M 1172 4863  L 1747 4863  L 800 0  L 225 0  L 1172 4863  z \" transform=\"scale(0.015625)\"/>\n      <path id=\"DejaVuSans-Oblique-6f\" d=\"M 1625 -91  Q 1009 -91 651 289  Q 294 669 294 1325  Q 294 1706 417 2101  Q 541 2497 738 2766  Q 1047 3184 1428 3384  Q 1809 3584 2291 3584  Q 2888 3584 3255 3212  Q 3622 2841 3622 2241  Q 3622 1825 3500 1412  Q 3378 1000 3181 728  Q 2875 309 2494 109  Q 2113 -91 1625 -91  z M 891 1344  Q 891 869 1089 633  Q 1288 397 1691 397  Q 2269 397 2648 901  Q 3028 1406 3028 2181  Q 3028 2634 2825 2865  Q 2622 3097 2228 3097  Q 1903 3097 1650 2945  Q 1397 2794 1197 2484  Q 1050 2253 970 1956  Q 891 1659 891 1344  z \" transform=\"scale(0.015625)\"/>\n      <path id=\"DejaVuSans-Oblique-61\" d=\"M 3438 1997  L 3047 0  L 2472 0  L 2578 531  Q 2325 219 2001 64  Q 1678 -91 1281 -91  Q 834 -91 548 182  Q 263 456 263 884  Q 263 1497 752 1853  Q 1241 2209 2100 2209  L 2900 2209  L 2931 2363  Q 2938 2388 2941 2417  Q 2944 2447 2944 2509  Q 2944 2788 2717 2942  Q 2491 3097 2081 3097  Q 1800 3097 1504 3025  Q 1209 2953 897 2809  L 997 3341  Q 1322 3463 1633 3523  Q 1944 3584 2234 3584  Q 2853 3584 3176 3315  Q 3500 3047 3500 2534  Q 3500 2431 3484 2292  Q 3469 2153 3438 1997  z M 2816 1759  L 2241 1759  Q 1534 1759 1195 1570  Q 856 1381 856 984  Q 856 709 1029 553  Q 1203 397 1509 397  Q 1978 397 2328 733  Q 2678 1069 2791 1631  L 2816 1759  z \" transform=\"scale(0.015625)\"/>\n      <path id=\"DejaVuSans-Oblique-74\" d=\"M 2706 3500  L 2619 3053  L 1472 3053  L 1100 1153  Q 1081 1047 1072 975  Q 1063 903 1063 863  Q 1063 663 1183 572  Q 1303 481 1569 481  L 2150 481  L 2053 0  L 1503 0  Q 991 0 739 200  Q 488 400 488 806  Q 488 878 497 964  Q 506 1050 525 1153  L 897 3053  L 409 3053  L 500 3500  L 978 3500  L 1172 4494  L 1747 4494  L 1556 3500  L 2706 3500  z \" transform=\"scale(0.015625)\"/>\n      <path id=\"DejaVuSans-36\" d=\"M 2113 2584  Q 1688 2584 1439 2293  Q 1191 2003 1191 1497  Q 1191 994 1439 701  Q 1688 409 2113 409  Q 2538 409 2786 701  Q 3034 994 3034 1497  Q 3034 2003 2786 2293  Q 2538 2584 2113 2584  z M 3366 4563  L 3366 3988  Q 3128 4100 2886 4159  Q 2644 4219 2406 4219  Q 1781 4219 1451 3797  Q 1122 3375 1075 2522  Q 1259 2794 1537 2939  Q 1816 3084 2150 3084  Q 2853 3084 3261 2657  Q 3669 2231 3669 1497  Q 3669 778 3244 343  Q 2819 -91 2113 -91  Q 1303 -91 875 529  Q 447 1150 447 2328  Q 447 3434 972 4092  Q 1497 4750 2381 4750  Q 2619 4750 2861 4703  Q 3103 4656 3366 4563  z \" transform=\"scale(0.015625)\"/>\n      <path id=\"DejaVuSans-34\" d=\"M 2419 4116  L 825 1625  L 2419 1625  L 2419 4116  z M 2253 4666  L 3047 4666  L 3047 1625  L 3713 1625  L 3713 1100  L 3047 1100  L 3047 0  L 2419 0  L 2419 1100  L 313 1100  L 313 1709  L 2253 4666  z \" transform=\"scale(0.015625)\"/>\n      <path id=\"DejaVuSans-3e\" d=\"M 678 3150  L 678 3719  L 4684 2266  L 4684 1747  L 678 294  L 678 863  L 3897 2003  L 678 3150  z \" transform=\"scale(0.015625)\"/>\n     </defs>\n     <use xlink:href=\"#DejaVuSans-3c\" transform=\"translate(0 0.015625)\"/>\n     <use xlink:href=\"#DejaVuSans-Oblique-66\" transform=\"translate(83.789062 0.015625)\"/>\n     <use xlink:href=\"#DejaVuSans-Oblique-6c\" transform=\"translate(118.994141 0.015625)\"/>\n     <use xlink:href=\"#DejaVuSans-Oblique-6f\" transform=\"translate(146.777344 0.015625)\"/>\n     <use xlink:href=\"#DejaVuSans-Oblique-61\" transform=\"translate(207.958984 0.015625)\"/>\n     <use xlink:href=\"#DejaVuSans-Oblique-74\" transform=\"translate(269.238281 0.015625)\"/>\n     <use xlink:href=\"#DejaVuSans-36\" transform=\"translate(308.447266 0.015625)\"/>\n     <use xlink:href=\"#DejaVuSans-34\" transform=\"translate(372.070312 0.015625)\"/>\n     <use xlink:href=\"#DejaVuSans-3e\" transform=\"translate(435.693359 0.015625)\"/>\n    </g>\n   </g>\n   <g id=\"text_52\">\n    <!-- 2 -->\n    <g transform=\"translate(143.836031 37.897572) rotate(-90) scale(0.09 -0.09)\">\n     <use xlink:href=\"#DejaVuSans-32\"/>\n    </g>\n   </g>\n   <g id=\"text_53\">\n    <!-- 5 -->\n    <g transform=\"translate(154.269675 22.297107) scale(0.09 -0.09)\">\n     <defs>\n      <path id=\"DejaVuSans-35\" d=\"M 691 4666  L 3169 4666  L 3169 4134  L 1269 4134  L 1269 2991  Q 1406 3038 1543 3061  Q 1681 3084 1819 3084  Q 2600 3084 3056 2656  Q 3513 2228 3513 1497  Q 3513 744 3044 326  Q 2575 -91 1722 -91  Q 1428 -91 1123 -41  Q 819 9 494 109  L 494 744  Q 775 591 1075 516  Q 1375 441 1709 441  Q 2250 441 2565 725  Q 2881 1009 2881 1497  Q 2881 1984 2565 2268  Q 2250 2553 1709 2553  Q 1456 2553 1204 2497  Q 953 2441 691 2322  L 691 4666  z \" transform=\"scale(0.015625)\"/>\n     </defs>\n     <use xlink:href=\"#DejaVuSans-35\"/>\n    </g>\n   </g>\n   <g id=\"text_54\">\n    <!-- &lt;${\\mathit{float64}}$&gt; -->\n    <g transform=\"translate(138.9328 53.090693) scale(0.07 -0.07)\">\n     <use xlink:href=\"#DejaVuSans-3c\" transform=\"translate(0 0.015625)\"/>\n     <use xlink:href=\"#DejaVuSans-Oblique-66\" transform=\"translate(83.789062 0.015625)\"/>\n     <use xlink:href=\"#DejaVuSans-Oblique-6c\" transform=\"translate(118.994141 0.015625)\"/>\n     <use xlink:href=\"#DejaVuSans-Oblique-6f\" transform=\"translate(146.777344 0.015625)\"/>\n     <use xlink:href=\"#DejaVuSans-Oblique-61\" transform=\"translate(207.958984 0.015625)\"/>\n     <use xlink:href=\"#DejaVuSans-Oblique-74\" transform=\"translate(269.238281 0.015625)\"/>\n     <use xlink:href=\"#DejaVuSans-36\" transform=\"translate(308.447266 0.015625)\"/>\n     <use xlink:href=\"#DejaVuSans-34\" transform=\"translate(372.070312 0.015625)\"/>\n     <use xlink:href=\"#DejaVuSans-3e\" transform=\"translate(435.693359 0.015625)\"/>\n    </g>\n   </g>\n   <g id=\"text_55\">\n    <!-- 5 -->\n    <g transform=\"translate(266.900141 37.897572) rotate(-90) scale(0.09 -0.09)\">\n     <use xlink:href=\"#DejaVuSans-35\"/>\n    </g>\n   </g>\n   <g id=\"text_56\">\n    <!-- 1 -->\n    <g transform=\"translate(268.520175 22.297107) scale(0.09 -0.09)\">\n     <use xlink:href=\"#DejaVuSans-31\"/>\n    </g>\n   </g>\n   <g id=\"text_57\">\n    <!-- &lt;${\\mathit{float64}}$&gt; -->\n    <g transform=\"translate(253.1833 53.090693) scale(0.07 -0.07)\">\n     <use xlink:href=\"#DejaVuSans-3c\" transform=\"translate(0 0.015625)\"/>\n     <use xlink:href=\"#DejaVuSans-Oblique-66\" transform=\"translate(83.789062 0.015625)\"/>\n     <use xlink:href=\"#DejaVuSans-Oblique-6c\" transform=\"translate(118.994141 0.015625)\"/>\n     <use xlink:href=\"#DejaVuSans-Oblique-6f\" transform=\"translate(146.777344 0.015625)\"/>\n     <use xlink:href=\"#DejaVuSans-Oblique-61\" transform=\"translate(207.958984 0.015625)\"/>\n     <use xlink:href=\"#DejaVuSans-Oblique-74\" transform=\"translate(269.238281 0.015625)\"/>\n     <use xlink:href=\"#DejaVuSans-36\" transform=\"translate(308.447266 0.015625)\"/>\n     <use xlink:href=\"#DejaVuSans-34\" transform=\"translate(372.070312 0.015625)\"/>\n     <use xlink:href=\"#DejaVuSans-3e\" transform=\"translate(435.693359 0.015625)\"/>\n    </g>\n   </g>\n  </g>\n </g>\n <defs>\n  <clipPath id=\"p230521ce91\">\n   <rect x=\"0\" y=\"4.901991\" width=\"320.3478\" height=\"42.315395\"/>\n  </clipPath>\n </defs>\n</svg>"
          },
          "metadata": {}
        },
        {
          "output_type": "execute_result",
          "data": {
            "text/plain": [
              "array([[-3824.80152],\n",
              "       [ -696.692  ]])"
            ]
          },
          "metadata": {},
          "execution_count": 33
        }
      ]
    },
    {
      "cell_type": "code",
      "source": [
        "with tsensor.explain():\n",
        "  l2_b_gradient = np.mean(output_gradient, axis = 0)\n",
        "\n",
        "l2_b_gradient"
      ],
      "metadata": {
        "colab": {
          "base_uri": "https://localhost:8080/",
          "height": 111
        },
        "id": "C-oYyuQKBO-4",
        "outputId": "66eecdf4-6c0b-45d1-808e-aece87550e83"
      },
      "execution_count": null,
      "outputs": [
        {
          "output_type": "display_data",
          "data": {
            "text/plain": [
              "<IPython.core.display.SVG object>"
            ],
            "image/svg+xml": "<svg xmlns:xlink=\"http://www.w3.org/1999/xlink\" xmlns=\"http://www.w3.org/2000/svg\" width=\"334.702806pt\" height=\"54.546474pt\" viewBox=\"0 0 334.702806 54.546474\" version=\"1.1\">\n <metadata>\n  <rdf:RDF xmlns:dc=\"http://purl.org/dc/elements/1.1/\" xmlns:cc=\"http://creativecommons.org/ns#\" xmlns:rdf=\"http://www.w3.org/1999/02/22-rdf-syntax-ns#\">\n   <cc:Work>\n    <dc:type rdf:resource=\"http://purl.org/dc/dcmitype/StillImage\"/>\n    <dc:date>2025-06-21T13:16:04.499501</dc:date>\n    <dc:format>image/svg+xml</dc:format>\n    <dc:creator>\n     <cc:Agent>\n      <dc:title>Matplotlib v3.10.0, https://matplotlib.org/</dc:title>\n     </cc:Agent>\n    </dc:creator>\n   </cc:Work>\n  </rdf:RDF>\n </metadata>\n <defs>\n  <style type=\"text/css\">*{stroke-linejoin: round; stroke-linecap: butt}</style>\n </defs>\n <g id=\"figure_1\">\n  <g id=\"patch_1\">\n   <path d=\"M 0 54.546474  L 334.702806 54.546474  L 334.702806 0  L 0 0  z \" style=\"fill: #ffffff\"/>\n  </g>\n  <g id=\"axes_1\">\n   <g id=\"patch_2\">\n    <path d=\"M 37.98585 28.872291  L 60.83595 28.872291  L 60.83595 23.683107  L 37.98585 23.683107  z \" clip-path=\"url(#pc8a2e24814)\" style=\"fill: #a8e1b0; fill-opacity: 0.75; stroke: #808080; stroke-width: 0.7; stroke-linejoin: miter\"/>\n   </g>\n   <g id=\"patch_3\">\n    <path d=\"M 210.01446 46.385787  L 215.23734 46.385787  L 215.23734 23.683107  L 210.01446 23.683107  z \" clip-path=\"url(#pc8a2e24814)\" style=\"fill: #a8e1b0; fill-opacity: 0.75; stroke: #808080; stroke-width: 0.7; stroke-linejoin: miter\"/>\n   </g>\n   <g id=\"line2d_1\">\n    <path d=\"M 6.32214 13.762608  L 92.49966 13.762608  \" clip-path=\"url(#pc8a2e24814)\" style=\"fill: none; stroke: #c2c2c2; stroke-width: 0.5; stroke-linecap: square\"/>\n   </g>\n   <g id=\"line2d_2\">\n    <path d=\"M 163.00854 13.762608  L 262.24326 13.762608  \" clip-path=\"url(#pc8a2e24814)\" style=\"fill: none; stroke: #c2c2c2; stroke-width: 0.5; stroke-linecap: square\"/>\n   </g>\n   <g id=\"text_1\">\n    <!-- l -->\n    <g style=\"fill: #444443\" transform=\"translate(6.975 9.947031) scale(0.13 -0.13)\">\n     <defs>\n      <path id=\"DejaVuSansMono-6c\" d=\"M 1997 1269  Q 1997 881 2139 684  Q 2281 488 2559 488  L 3231 488  L 3231 0  L 2503 0  Q 1988 0 1705 331  Q 1422 663 1422 1269  L 1422 4447  L 500 4447  L 500 4897  L 1997 4897  L 1997 1269  z \" transform=\"scale(0.015625)\"/>\n     </defs>\n     <use xlink:href=\"#DejaVuSansMono-6c\"/>\n    </g>\n   </g>\n   <g id=\"text_2\">\n    <!-- 2 -->\n    <g style=\"fill: #444443\" transform=\"translate(13.5036 9.947031) scale(0.13 -0.13)\">\n     <defs>\n      <path id=\"DejaVuSansMono-32\" d=\"M 1166 531  L 3309 531  L 3309 0  L 475 0  L 475 531  Q 1059 1147 1496 1619  Q 1934 2091 2100 2284  Q 2413 2666 2522 2902  Q 2631 3138 2631 3384  Q 2631 3775 2401 3997  Q 2172 4219 1772 4219  Q 1488 4219 1175 4116  Q 863 4013 513 3803  L 513 4441  Q 834 4594 1145 4672  Q 1456 4750 1759 4750  Q 2444 4750 2861 4386  Q 3278 4022 3278 3431  Q 3278 3131 3139 2831  Q 3000 2531 2688 2169  Q 2513 1966 2180 1606  Q 1847 1247 1166 531  z \" transform=\"scale(0.015625)\"/>\n     </defs>\n     <use xlink:href=\"#DejaVuSansMono-32\"/>\n    </g>\n   </g>\n   <g id=\"text_3\">\n    <!-- _ -->\n    <g style=\"fill: #444443\" transform=\"translate(20.0322 9.947031) scale(0.13 -0.13)\">\n     <defs>\n      <path id=\"DejaVuSansMono-5f\" d=\"M 3853 -1259  L 3853 -1509  L 0 -1509  L 0 -1259  L 3853 -1259  z \" transform=\"scale(0.015625)\"/>\n     </defs>\n     <use xlink:href=\"#DejaVuSansMono-5f\"/>\n    </g>\n   </g>\n   <g id=\"text_4\">\n    <!-- b -->\n    <g style=\"fill: #444443\" transform=\"translate(26.5608 9.947031) scale(0.13 -0.13)\">\n     <defs>\n      <path id=\"DejaVuSansMono-62\" d=\"M 2869 1747  Q 2869 2416 2656 2756  Q 2444 3097 2028 3097  Q 1609 3097 1393 2755  Q 1178 2413 1178 1747  Q 1178 1084 1393 740  Q 1609 397 2028 397  Q 2444 397 2656 737  Q 2869 1078 2869 1747  z M 1178 3053  Q 1316 3309 1558 3446  Q 1800 3584 2119 3584  Q 2750 3584 3112 3098  Q 3475 2613 3475 1759  Q 3475 894 3111 401  Q 2747 -91 2113 -91  Q 1800 -91 1561 45  Q 1322 181 1178 441  L 1178 0  L 603 0  L 603 4863  L 1178 4863  L 1178 3053  z \" transform=\"scale(0.015625)\"/>\n     </defs>\n     <use xlink:href=\"#DejaVuSansMono-62\"/>\n    </g>\n   </g>\n   <g id=\"text_5\">\n    <!-- _ -->\n    <g style=\"fill: #444443\" transform=\"translate(33.0894 9.947031) scale(0.13 -0.13)\">\n     <use xlink:href=\"#DejaVuSansMono-5f\"/>\n    </g>\n   </g>\n   <g id=\"text_6\">\n    <!-- g -->\n    <g style=\"fill: #444443\" transform=\"translate(39.618 9.947031) scale(0.13 -0.13)\">\n     <defs>\n      <path id=\"DejaVuSansMono-67\" d=\"M 2681 1778  Q 2681 2425 2470 2761  Q 2259 3097 1856 3097  Q 1434 3097 1212 2761  Q 991 2425 991 1778  Q 991 1131 1214 792  Q 1438 453 1863 453  Q 2259 453 2470 793  Q 2681 1134 2681 1778  z M 3256 225  Q 3256 -563 2884 -969  Q 2513 -1375 1791 -1375  Q 1553 -1375 1293 -1331  Q 1034 -1288 775 -1203  L 775 -634  Q 1081 -778 1331 -847  Q 1581 -916 1791 -916  Q 2256 -916 2468 -662  Q 2681 -409 2681 141  L 2681 166  L 2681 556  Q 2544 263 2306 119  Q 2069 -25 1728 -25  Q 1116 -25 750 465  Q 384 956 384 1778  Q 384 2603 750 3093  Q 1116 3584 1728 3584  Q 2066 3584 2300 3450  Q 2534 3316 2681 3034  L 2681 3488  L 3256 3488  L 3256 225  z \" transform=\"scale(0.015625)\"/>\n     </defs>\n     <use xlink:href=\"#DejaVuSansMono-67\"/>\n    </g>\n   </g>\n   <g id=\"text_7\">\n    <!-- r -->\n    <g style=\"fill: #444443\" transform=\"translate(46.1466 9.947031) scale(0.13 -0.13)\">\n     <defs>\n      <path id=\"DejaVuSansMono-72\" d=\"M 3609 2778  Q 3425 2922 3234 2987  Q 3044 3053 2816 3053  Q 2278 3053 1993 2715  Q 1709 2378 1709 1741  L 1709 0  L 1131 0  L 1131 3500  L 1709 3500  L 1709 2816  Q 1853 3188 2151 3386  Q 2450 3584 2859 3584  Q 3072 3584 3256 3531  Q 3441 3478 3609 3366  L 3609 2778  z \" transform=\"scale(0.015625)\"/>\n     </defs>\n     <use xlink:href=\"#DejaVuSansMono-72\"/>\n    </g>\n   </g>\n   <g id=\"text_8\">\n    <!-- a -->\n    <g style=\"fill: #444443\" transform=\"translate(52.6752 9.947031) scale(0.13 -0.13)\">\n     <defs>\n      <path id=\"DejaVuSansMono-61\" d=\"M 2194 1759  L 2003 1759  Q 1500 1759 1245 1582  Q 991 1406 991 1056  Q 991 741 1181 566  Q 1372 391 1709 391  Q 2184 391 2456 720  Q 2728 1050 2731 1631  L 2731 1759  L 2194 1759  z M 3309 1997  L 3309 0  L 2731 0  L 2731 519  Q 2547 206 2267 57  Q 1988 -91 1588 -91  Q 1053 -91 734 211  Q 416 513 416 1019  Q 416 1603 808 1906  Q 1200 2209 1959 2209  L 2731 2209  L 2731 2300  Q 2728 2719 2518 2908  Q 2309 3097 1850 3097  Q 1556 3097 1256 3012  Q 956 2928 672 2766  L 672 3341  Q 991 3463 1283 3523  Q 1575 3584 1850 3584  Q 2284 3584 2592 3456  Q 2900 3328 3091 3072  Q 3209 2916 3259 2686  Q 3309 2456 3309 1997  z \" transform=\"scale(0.015625)\"/>\n     </defs>\n     <use xlink:href=\"#DejaVuSansMono-61\"/>\n    </g>\n   </g>\n   <g id=\"text_9\">\n    <!-- d -->\n    <g style=\"fill: #444443\" transform=\"translate(59.2038 9.947031) scale(0.13 -0.13)\">\n     <defs>\n      <path id=\"DejaVuSansMono-64\" d=\"M 2681 3053  L 2681 4863  L 3256 4863  L 3256 0  L 2681 0  L 2681 441  Q 2538 181 2298 45  Q 2059 -91 1747 -91  Q 1113 -91 748 401  Q 384 894 384 1759  Q 384 2613 750 3098  Q 1116 3584 1747 3584  Q 2063 3584 2303 3448  Q 2544 3313 2681 3053  z M 991 1747  Q 991 1078 1203 737  Q 1416 397 1831 397  Q 2247 397 2464 740  Q 2681 1084 2681 1747  Q 2681 2413 2464 2755  Q 2247 3097 1831 3097  Q 1416 3097 1203 2756  Q 991 2416 991 1747  z \" transform=\"scale(0.015625)\"/>\n     </defs>\n     <use xlink:href=\"#DejaVuSansMono-64\"/>\n    </g>\n   </g>\n   <g id=\"text_10\">\n    <!-- i -->\n    <g style=\"fill: #444443\" transform=\"translate(65.7324 9.947031) scale(0.13 -0.13)\">\n     <defs>\n      <path id=\"DejaVuSansMono-69\" d=\"M 800 3500  L 2272 3500  L 2272 447  L 3413 447  L 3413 0  L 556 0  L 556 447  L 1697 447  L 1697 3053  L 800 3053  L 800 3500  z M 1697 4863  L 2272 4863  L 2272 4134  L 1697 4134  L 1697 4863  z \" transform=\"scale(0.015625)\"/>\n     </defs>\n     <use xlink:href=\"#DejaVuSansMono-69\"/>\n    </g>\n   </g>\n   <g id=\"text_11\">\n    <!-- e -->\n    <g style=\"fill: #444443\" transform=\"translate(72.261 9.947031) scale(0.13 -0.13)\">\n     <defs>\n      <path id=\"DejaVuSansMono-65\" d=\"M 3475 1894  L 3475 1613  L 984 1613  L 984 1594  Q 984 1022 1282 709  Q 1581 397 2125 397  Q 2400 397 2700 484  Q 3000 572 3341 750  L 3341 178  Q 3013 44 2708 -23  Q 2403 -91 2119 -91  Q 1303 -91 843 398  Q 384 888 384 1747  Q 384 2584 834 3084  Q 1284 3584 2034 3584  Q 2703 3584 3089 3131  Q 3475 2678 3475 1894  z M 2900 2063  Q 2888 2569 2661 2833  Q 2434 3097 2009 3097  Q 1594 3097 1325 2822  Q 1056 2547 1006 2059  L 2900 2063  z \" transform=\"scale(0.015625)\"/>\n     </defs>\n     <use xlink:href=\"#DejaVuSansMono-65\"/>\n    </g>\n   </g>\n   <g id=\"text_12\">\n    <!-- n -->\n    <g style=\"fill: #444443\" transform=\"translate(78.7896 9.947031) scale(0.13 -0.13)\">\n     <defs>\n      <path id=\"DejaVuSansMono-6e\" d=\"M 3284 2169  L 3284 0  L 2706 0  L 2706 2169  Q 2706 2641 2540 2862  Q 2375 3084 2022 3084  Q 1619 3084 1401 2798  Q 1184 2513 1184 1978  L 1184 0  L 609 0  L 609 3500  L 1184 3500  L 1184 2975  Q 1338 3275 1600 3429  Q 1863 3584 2222 3584  Q 2756 3584 3020 3232  Q 3284 2881 3284 2169  z \" transform=\"scale(0.015625)\"/>\n     </defs>\n     <use xlink:href=\"#DejaVuSansMono-6e\"/>\n    </g>\n   </g>\n   <g id=\"text_13\">\n    <!-- t -->\n    <g style=\"fill: #444443\" transform=\"translate(85.3182 9.947031) scale(0.13 -0.13)\">\n     <defs>\n      <path id=\"DejaVuSansMono-74\" d=\"M 1919 4494  L 1919 3500  L 3225 3500  L 3225 3053  L 1919 3053  L 1919 1153  Q 1919 766 2066 612  Q 2213 459 2578 459  L 3225 459  L 3225 0  L 2522 0  Q 1875 0 1609 259  Q 1344 519 1344 1153  L 1344 3053  L 409 3053  L 409 3500  L 1344 3500  L 1344 4494  L 1919 4494  z \" transform=\"scale(0.015625)\"/>\n     </defs>\n     <use xlink:href=\"#DejaVuSansMono-74\"/>\n    </g>\n   </g>\n   <g id=\"text_14\">\n    <!--   -->\n    <g style=\"fill: #444443\" transform=\"translate(91.8468 9.947031) scale(0.13 -0.13)\">\n     <defs>\n      <path id=\"DejaVuSansMono-20\" transform=\"scale(0.015625)\"/>\n     </defs>\n     <use xlink:href=\"#DejaVuSansMono-20\"/>\n    </g>\n   </g>\n   <g id=\"text_15\">\n    <!-- = -->\n    <g style=\"fill: #444443\" transform=\"translate(98.3754 9.947031) scale(0.13 -0.13)\">\n     <defs>\n      <path id=\"DejaVuSansMono-3d\" d=\"M 275 1638  L 3578 1638  L 3578 1100  L 275 1100  L 275 1638  z M 275 2906  L 3578 2906  L 3578 2375  L 275 2375  L 275 2906  z \" transform=\"scale(0.015625)\"/>\n     </defs>\n     <use xlink:href=\"#DejaVuSansMono-3d\"/>\n    </g>\n   </g>\n   <g id=\"text_16\">\n    <!--   -->\n    <g style=\"fill: #444443\" transform=\"translate(104.904 9.947031) scale(0.13 -0.13)\">\n     <use xlink:href=\"#DejaVuSansMono-20\"/>\n    </g>\n   </g>\n   <g id=\"text_17\">\n    <!-- n -->\n    <g style=\"fill: #444443\" transform=\"translate(111.4326 9.947031) scale(0.13 -0.13)\">\n     <use xlink:href=\"#DejaVuSansMono-6e\"/>\n    </g>\n   </g>\n   <g id=\"text_18\">\n    <!-- p -->\n    <g style=\"fill: #444443\" transform=\"translate(117.9612 9.947031) scale(0.13 -0.13)\">\n     <defs>\n      <path id=\"DejaVuSansMono-70\" d=\"M 1172 441  L 1172 -1331  L 594 -1331  L 594 3500  L 1172 3500  L 1172 3053  Q 1316 3313 1555 3448  Q 1794 3584 2106 3584  Q 2741 3584 3102 3093  Q 3463 2603 3463 1734  Q 3463 881 3100 395  Q 2738 -91 2106 -91  Q 1788 -91 1548 45  Q 1309 181 1172 441  z M 2859 1747  Q 2859 2416 2648 2756  Q 2438 3097 2022 3097  Q 1603 3097 1387 2755  Q 1172 2413 1172 1747  Q 1172 1084 1387 740  Q 1603 397 2022 397  Q 2438 397 2648 737  Q 2859 1078 2859 1747  z \" transform=\"scale(0.015625)\"/>\n     </defs>\n     <use xlink:href=\"#DejaVuSansMono-70\"/>\n    </g>\n   </g>\n   <g id=\"text_19\">\n    <!-- . -->\n    <g style=\"fill: #444443\" transform=\"translate(124.4898 9.947031) scale(0.13 -0.13)\">\n     <defs>\n      <path id=\"DejaVuSansMono-2e\" d=\"M 1528 953  L 2316 953  L 2316 0  L 1528 0  L 1528 953  z \" transform=\"scale(0.015625)\"/>\n     </defs>\n     <use xlink:href=\"#DejaVuSansMono-2e\"/>\n    </g>\n   </g>\n   <g id=\"text_20\">\n    <!-- m -->\n    <g style=\"fill: #444443\" transform=\"translate(131.0184 9.947031) scale(0.13 -0.13)\">\n     <defs>\n      <path id=\"DejaVuSansMono-6d\" d=\"M 2113 3144  Q 2219 3369 2383 3476  Q 2547 3584 2778 3584  Q 3200 3584 3373 3257  Q 3547 2931 3547 2028  L 3547 0  L 3022 0  L 3022 2003  Q 3022 2744 2939 2923  Q 2856 3103 2638 3103  Q 2388 3103 2295 2911  Q 2203 2719 2203 2003  L 2203 0  L 1678 0  L 1678 2003  Q 1678 2753 1589 2928  Q 1500 3103 1269 3103  Q 1041 3103 952 2911  Q 863 2719 863 2003  L 863 0  L 341 0  L 341 3500  L 863 3500  L 863 3200  Q 966 3388 1120 3486  Q 1275 3584 1472 3584  Q 1709 3584 1867 3475  Q 2025 3366 2113 3144  z \" transform=\"scale(0.015625)\"/>\n     </defs>\n     <use xlink:href=\"#DejaVuSansMono-6d\"/>\n    </g>\n   </g>\n   <g id=\"text_21\">\n    <!-- e -->\n    <g style=\"fill: #444443\" transform=\"translate(137.547 9.947031) scale(0.13 -0.13)\">\n     <use xlink:href=\"#DejaVuSansMono-65\"/>\n    </g>\n   </g>\n   <g id=\"text_22\">\n    <!-- a -->\n    <g style=\"fill: #444443\" transform=\"translate(144.0756 9.947031) scale(0.13 -0.13)\">\n     <use xlink:href=\"#DejaVuSansMono-61\"/>\n    </g>\n   </g>\n   <g id=\"text_23\">\n    <!-- n -->\n    <g style=\"fill: #444443\" transform=\"translate(150.6042 9.947031) scale(0.13 -0.13)\">\n     <use xlink:href=\"#DejaVuSansMono-6e\"/>\n    </g>\n   </g>\n   <g id=\"text_24\">\n    <!-- ( -->\n    <g style=\"fill: #444443\" transform=\"translate(157.1328 9.947031) scale(0.13 -0.13)\">\n     <defs>\n      <path id=\"DejaVuSansMono-28\" d=\"M 2766 4856  Q 2350 4144 2145 3436  Q 1941 2728 1941 2009  Q 1941 1294 2145 584  Q 2350 -125 2766 -844  L 2266 -844  Q 1794 -100 1562 604  Q 1331 1309 1331 2009  Q 1331 2706 1562 3412  Q 1794 4119 2266 4856  L 2766 4856  z \" transform=\"scale(0.015625)\"/>\n     </defs>\n     <use xlink:href=\"#DejaVuSansMono-28\"/>\n    </g>\n   </g>\n   <g id=\"text_25\">\n    <!-- o -->\n    <g style=\"fill: #444443\" transform=\"translate(163.6614 9.947031) scale(0.13 -0.13)\">\n     <defs>\n      <path id=\"DejaVuSansMono-6f\" d=\"M 1925 3097  Q 1488 3097 1263 2756  Q 1038 2416 1038 1747  Q 1038 1081 1263 739  Q 1488 397 1925 397  Q 2366 397 2591 739  Q 2816 1081 2816 1747  Q 2816 2416 2591 2756  Q 2366 3097 1925 3097  z M 1925 3584  Q 2653 3584 3039 3112  Q 3425 2641 3425 1747  Q 3425 850 3040 379  Q 2656 -91 1925 -91  Q 1197 -91 812 379  Q 428 850 428 1747  Q 428 2641 812 3112  Q 1197 3584 1925 3584  z \" transform=\"scale(0.015625)\"/>\n     </defs>\n     <use xlink:href=\"#DejaVuSansMono-6f\"/>\n    </g>\n   </g>\n   <g id=\"text_26\">\n    <!-- u -->\n    <g style=\"fill: #444443\" transform=\"translate(170.19 9.947031) scale(0.13 -0.13)\">\n     <defs>\n      <path id=\"DejaVuSansMono-75\" d=\"M 609 1325  L 609 3494  L 1184 3494  L 1184 1325  Q 1184 853 1351 631  Q 1519 409 1869 409  Q 2275 409 2490 695  Q 2706 981 2706 1516  L 2706 3494  L 3284 3494  L 3284 0  L 2706 0  L 2706 525  Q 2553 222 2289 65  Q 2025 -91 1672 -91  Q 1134 -91 871 261  Q 609 613 609 1325  z \" transform=\"scale(0.015625)\"/>\n     </defs>\n     <use xlink:href=\"#DejaVuSansMono-75\"/>\n    </g>\n   </g>\n   <g id=\"text_27\">\n    <!-- t -->\n    <g style=\"fill: #444443\" transform=\"translate(176.7186 9.947031) scale(0.13 -0.13)\">\n     <use xlink:href=\"#DejaVuSansMono-74\"/>\n    </g>\n   </g>\n   <g id=\"text_28\">\n    <!-- p -->\n    <g style=\"fill: #444443\" transform=\"translate(183.2472 9.947031) scale(0.13 -0.13)\">\n     <use xlink:href=\"#DejaVuSansMono-70\"/>\n    </g>\n   </g>\n   <g id=\"text_29\">\n    <!-- u -->\n    <g style=\"fill: #444443\" transform=\"translate(189.7758 9.947031) scale(0.13 -0.13)\">\n     <use xlink:href=\"#DejaVuSansMono-75\"/>\n    </g>\n   </g>\n   <g id=\"text_30\">\n    <!-- t -->\n    <g style=\"fill: #444443\" transform=\"translate(196.3044 9.947031) scale(0.13 -0.13)\">\n     <use xlink:href=\"#DejaVuSansMono-74\"/>\n    </g>\n   </g>\n   <g id=\"text_31\">\n    <!-- _ -->\n    <g style=\"fill: #444443\" transform=\"translate(202.833 9.947031) scale(0.13 -0.13)\">\n     <use xlink:href=\"#DejaVuSansMono-5f\"/>\n    </g>\n   </g>\n   <g id=\"text_32\">\n    <!-- g -->\n    <g style=\"fill: #444443\" transform=\"translate(209.3616 9.947031) scale(0.13 -0.13)\">\n     <use xlink:href=\"#DejaVuSansMono-67\"/>\n    </g>\n   </g>\n   <g id=\"text_33\">\n    <!-- r -->\n    <g style=\"fill: #444443\" transform=\"translate(215.8902 9.947031) scale(0.13 -0.13)\">\n     <use xlink:href=\"#DejaVuSansMono-72\"/>\n    </g>\n   </g>\n   <g id=\"text_34\">\n    <!-- a -->\n    <g style=\"fill: #444443\" transform=\"translate(222.4188 9.947031) scale(0.13 -0.13)\">\n     <use xlink:href=\"#DejaVuSansMono-61\"/>\n    </g>\n   </g>\n   <g id=\"text_35\">\n    <!-- d -->\n    <g style=\"fill: #444443\" transform=\"translate(228.9474 9.947031) scale(0.13 -0.13)\">\n     <use xlink:href=\"#DejaVuSansMono-64\"/>\n    </g>\n   </g>\n   <g id=\"text_36\">\n    <!-- i -->\n    <g style=\"fill: #444443\" transform=\"translate(235.476 9.947031) scale(0.13 -0.13)\">\n     <use xlink:href=\"#DejaVuSansMono-69\"/>\n    </g>\n   </g>\n   <g id=\"text_37\">\n    <!-- e -->\n    <g style=\"fill: #444443\" transform=\"translate(242.0046 9.947031) scale(0.13 -0.13)\">\n     <use xlink:href=\"#DejaVuSansMono-65\"/>\n    </g>\n   </g>\n   <g id=\"text_38\">\n    <!-- n -->\n    <g style=\"fill: #444443\" transform=\"translate(248.5332 9.947031) scale(0.13 -0.13)\">\n     <use xlink:href=\"#DejaVuSansMono-6e\"/>\n    </g>\n   </g>\n   <g id=\"text_39\">\n    <!-- t -->\n    <g style=\"fill: #444443\" transform=\"translate(255.0618 9.947031) scale(0.13 -0.13)\">\n     <use xlink:href=\"#DejaVuSansMono-74\"/>\n    </g>\n   </g>\n   <g id=\"text_40\">\n    <!-- , -->\n    <g style=\"fill: #444443\" transform=\"translate(261.5904 9.947031) scale(0.13 -0.13)\">\n     <defs>\n      <path id=\"DejaVuSansMono-2c\" d=\"M 1569 947  L 2356 947  L 2356 300  L 1741 -897  L 1259 -897  L 1569 300  L 1569 947  z \" transform=\"scale(0.015625)\"/>\n     </defs>\n     <use xlink:href=\"#DejaVuSansMono-2c\"/>\n    </g>\n   </g>\n   <g id=\"text_41\">\n    <!--   -->\n    <g style=\"fill: #444443\" transform=\"translate(268.119 9.947031) scale(0.13 -0.13)\">\n     <use xlink:href=\"#DejaVuSansMono-20\"/>\n    </g>\n   </g>\n   <g id=\"text_42\">\n    <!-- a -->\n    <g style=\"fill: #444443\" transform=\"translate(274.6476 9.947031) scale(0.13 -0.13)\">\n     <use xlink:href=\"#DejaVuSansMono-61\"/>\n    </g>\n   </g>\n   <g id=\"text_43\">\n    <!-- x -->\n    <g style=\"fill: #444443\" transform=\"translate(281.1762 9.947031) scale(0.13 -0.13)\">\n     <defs>\n      <path id=\"DejaVuSansMono-78\" d=\"M 3494 3500  L 2241 1825  L 3616 0  L 2950 0  L 1925 1403  L 903 0  L 238 0  L 1613 1825  L 359 3500  L 997 3500  L 1925 2234  L 2847 3500  L 3494 3500  z \" transform=\"scale(0.015625)\"/>\n     </defs>\n     <use xlink:href=\"#DejaVuSansMono-78\"/>\n    </g>\n   </g>\n   <g id=\"text_44\">\n    <!-- i -->\n    <g style=\"fill: #444443\" transform=\"translate(287.7048 9.947031) scale(0.13 -0.13)\">\n     <use xlink:href=\"#DejaVuSansMono-69\"/>\n    </g>\n   </g>\n   <g id=\"text_45\">\n    <!-- s -->\n    <g style=\"fill: #444443\" transform=\"translate(294.2334 9.947031) scale(0.13 -0.13)\">\n     <defs>\n      <path id=\"DejaVuSansMono-73\" d=\"M 3041 3378  L 3041 2816  Q 2794 2959 2544 3031  Q 2294 3103 2034 3103  Q 1644 3103 1451 2976  Q 1259 2850 1259 2591  Q 1259 2356 1403 2240  Q 1547 2125 2119 2016  L 2350 1972  Q 2778 1891 2998 1647  Q 3219 1403 3219 1013  Q 3219 494 2850 201  Q 2481 -91 1825 -91  Q 1566 -91 1281 -36  Q 997 19 666 128  L 666 722  Q 988 556 1281 473  Q 1575 391 1838 391  Q 2219 391 2428 545  Q 2638 700 2638 978  Q 2638 1378 1872 1531  L 1847 1538  L 1631 1581  Q 1134 1678 906 1908  Q 678 2138 678 2534  Q 678 3038 1018 3311  Q 1359 3584 1991 3584  Q 2272 3584 2531 3532  Q 2791 3481 3041 3378  z \" transform=\"scale(0.015625)\"/>\n     </defs>\n     <use xlink:href=\"#DejaVuSansMono-73\"/>\n    </g>\n   </g>\n   <g id=\"text_46\">\n    <!--   -->\n    <g style=\"fill: #444443\" transform=\"translate(300.762 9.947031) scale(0.13 -0.13)\">\n     <use xlink:href=\"#DejaVuSansMono-20\"/>\n    </g>\n   </g>\n   <g id=\"text_47\">\n    <!-- = -->\n    <g style=\"fill: #444443\" transform=\"translate(307.2906 9.947031) scale(0.13 -0.13)\">\n     <use xlink:href=\"#DejaVuSansMono-3d\"/>\n    </g>\n   </g>\n   <g id=\"text_48\">\n    <!--   -->\n    <g style=\"fill: #444443\" transform=\"translate(313.8192 9.947031) scale(0.13 -0.13)\">\n     <use xlink:href=\"#DejaVuSansMono-20\"/>\n    </g>\n   </g>\n   <g id=\"text_49\">\n    <!-- 0 -->\n    <g style=\"fill: #444443\" transform=\"translate(320.3478 9.947031) scale(0.13 -0.13)\">\n     <defs>\n      <path id=\"DejaVuSansMono-30\" d=\"M 1509 2344  Q 1509 2516 1629 2641  Q 1750 2766 1919 2766  Q 2094 2766 2219 2641  Q 2344 2516 2344 2344  Q 2344 2169 2220 2047  Q 2097 1925 1919 1925  Q 1744 1925 1626 2044  Q 1509 2163 1509 2344  z M 1925 4250  Q 1484 4250 1267 3775  Q 1050 3300 1050 2328  Q 1050 1359 1267 884  Q 1484 409 1925 409  Q 2369 409 2586 884  Q 2803 1359 2803 2328  Q 2803 3300 2586 3775  Q 2369 4250 1925 4250  z M 1925 4750  Q 2672 4750 3055 4137  Q 3438 3525 3438 2328  Q 3438 1134 3055 521  Q 2672 -91 1925 -91  Q 1178 -91 797 521  Q 416 1134 416 2328  Q 416 3525 797 4137  Q 1178 4750 1925 4750  z \" transform=\"scale(0.015625)\"/>\n     </defs>\n     <use xlink:href=\"#DejaVuSansMono-30\"/>\n    </g>\n   </g>\n   <g id=\"text_50\">\n    <!-- ) -->\n    <g style=\"fill: #444443\" transform=\"translate(326.8764 9.947031) scale(0.13 -0.13)\">\n     <defs>\n      <path id=\"DejaVuSansMono-29\" d=\"M 1088 4856  L 1588 4856  Q 2059 4119 2290 3412  Q 2522 2706 2522 2009  Q 2522 1306 2290 600  Q 2059 -106 1588 -844  L 1088 -844  Q 1503 -119 1708 590  Q 1913 1300 1913 2009  Q 1913 2722 1708 3431  Q 1503 4141 1088 4856  z \" transform=\"scale(0.015625)\"/>\n     </defs>\n     <use xlink:href=\"#DejaVuSansMono-29\"/>\n    </g>\n   </g>\n   <g id=\"text_51\">\n    <!-- 1 -->\n    <g transform=\"translate(46.547775 22.297107) scale(0.09 -0.09)\">\n     <defs>\n      <path id=\"DejaVuSans-31\" d=\"M 794 531  L 1825 531  L 1825 4091  L 703 3866  L 703 4441  L 1819 4666  L 2450 4666  L 2450 531  L 3481 531  L 3481 0  L 794 0  L 794 531  z \" transform=\"scale(0.015625)\"/>\n     </defs>\n     <use xlink:href=\"#DejaVuSans-31\"/>\n    </g>\n   </g>\n   <g id=\"text_52\">\n    <!-- &lt;${\\mathit{float64}}$&gt; -->\n    <g transform=\"translate(31.2109 35.488493) scale(0.07 -0.07)\">\n     <defs>\n      <path id=\"DejaVuSans-3c\" d=\"M 4684 3150  L 1459 2003  L 4684 863  L 4684 294  L 678 1747  L 678 2266  L 4684 3719  L 4684 3150  z \" transform=\"scale(0.015625)\"/>\n      <path id=\"DejaVuSans-Oblique-66\" d=\"M 3059 4863  L 2969 4384  L 2419 4384  Q 2106 4384 1964 4261  Q 1822 4138 1753 3809  L 1691 3500  L 2638 3500  L 2553 3053  L 1606 3053  L 1013 0  L 434 0  L 1031 3053  L 481 3053  L 563 3500  L 1113 3500  L 1159 3744  Q 1278 4363 1576 4613  Q 1875 4863 2516 4863  L 3059 4863  z \" transform=\"scale(0.015625)\"/>\n      <path id=\"DejaVuSans-Oblique-6c\" d=\"M 1172 4863  L 1747 4863  L 800 0  L 225 0  L 1172 4863  z \" transform=\"scale(0.015625)\"/>\n      <path id=\"DejaVuSans-Oblique-6f\" d=\"M 1625 -91  Q 1009 -91 651 289  Q 294 669 294 1325  Q 294 1706 417 2101  Q 541 2497 738 2766  Q 1047 3184 1428 3384  Q 1809 3584 2291 3584  Q 2888 3584 3255 3212  Q 3622 2841 3622 2241  Q 3622 1825 3500 1412  Q 3378 1000 3181 728  Q 2875 309 2494 109  Q 2113 -91 1625 -91  z M 891 1344  Q 891 869 1089 633  Q 1288 397 1691 397  Q 2269 397 2648 901  Q 3028 1406 3028 2181  Q 3028 2634 2825 2865  Q 2622 3097 2228 3097  Q 1903 3097 1650 2945  Q 1397 2794 1197 2484  Q 1050 2253 970 1956  Q 891 1659 891 1344  z \" transform=\"scale(0.015625)\"/>\n      <path id=\"DejaVuSans-Oblique-61\" d=\"M 3438 1997  L 3047 0  L 2472 0  L 2578 531  Q 2325 219 2001 64  Q 1678 -91 1281 -91  Q 834 -91 548 182  Q 263 456 263 884  Q 263 1497 752 1853  Q 1241 2209 2100 2209  L 2900 2209  L 2931 2363  Q 2938 2388 2941 2417  Q 2944 2447 2944 2509  Q 2944 2788 2717 2942  Q 2491 3097 2081 3097  Q 1800 3097 1504 3025  Q 1209 2953 897 2809  L 997 3341  Q 1322 3463 1633 3523  Q 1944 3584 2234 3584  Q 2853 3584 3176 3315  Q 3500 3047 3500 2534  Q 3500 2431 3484 2292  Q 3469 2153 3438 1997  z M 2816 1759  L 2241 1759  Q 1534 1759 1195 1570  Q 856 1381 856 984  Q 856 709 1029 553  Q 1203 397 1509 397  Q 1978 397 2328 733  Q 2678 1069 2791 1631  L 2816 1759  z \" transform=\"scale(0.015625)\"/>\n      <path id=\"DejaVuSans-Oblique-74\" d=\"M 2706 3500  L 2619 3053  L 1472 3053  L 1100 1153  Q 1081 1047 1072 975  Q 1063 903 1063 863  Q 1063 663 1183 572  Q 1303 481 1569 481  L 2150 481  L 2053 0  L 1503 0  Q 991 0 739 200  Q 488 400 488 806  Q 488 878 497 964  Q 506 1050 525 1153  L 897 3053  L 409 3053  L 500 3500  L 978 3500  L 1172 4494  L 1747 4494  L 1556 3500  L 2706 3500  z \" transform=\"scale(0.015625)\"/>\n      <path id=\"DejaVuSans-36\" d=\"M 2113 2584  Q 1688 2584 1439 2293  Q 1191 2003 1191 1497  Q 1191 994 1439 701  Q 1688 409 2113 409  Q 2538 409 2786 701  Q 3034 994 3034 1497  Q 3034 2003 2786 2293  Q 2538 2584 2113 2584  z M 3366 4563  L 3366 3988  Q 3128 4100 2886 4159  Q 2644 4219 2406 4219  Q 1781 4219 1451 3797  Q 1122 3375 1075 2522  Q 1259 2794 1537 2939  Q 1816 3084 2150 3084  Q 2853 3084 3261 2657  Q 3669 2231 3669 1497  Q 3669 778 3244 343  Q 2819 -91 2113 -91  Q 1303 -91 875 529  Q 447 1150 447 2328  Q 447 3434 972 4092  Q 1497 4750 2381 4750  Q 2619 4750 2861 4703  Q 3103 4656 3366 4563  z \" transform=\"scale(0.015625)\"/>\n      <path id=\"DejaVuSans-34\" d=\"M 2419 4116  L 825 1625  L 2419 1625  L 2419 4116  z M 2253 4666  L 3047 4666  L 3047 1625  L 3713 1625  L 3713 1100  L 3047 1100  L 3047 0  L 2419 0  L 2419 1100  L 313 1100  L 313 1709  L 2253 4666  z \" transform=\"scale(0.015625)\"/>\n      <path id=\"DejaVuSans-3e\" d=\"M 678 3150  L 678 3719  L 4684 2266  L 4684 1747  L 678 294  L 678 863  L 3897 2003  L 678 3150  z \" transform=\"scale(0.015625)\"/>\n     </defs>\n     <use xlink:href=\"#DejaVuSans-3c\" transform=\"translate(0 0.015625)\"/>\n     <use xlink:href=\"#DejaVuSans-Oblique-66\" transform=\"translate(83.789062 0.015625)\"/>\n     <use xlink:href=\"#DejaVuSans-Oblique-6c\" transform=\"translate(118.994141 0.015625)\"/>\n     <use xlink:href=\"#DejaVuSans-Oblique-6f\" transform=\"translate(146.777344 0.015625)\"/>\n     <use xlink:href=\"#DejaVuSans-Oblique-61\" transform=\"translate(207.958984 0.015625)\"/>\n     <use xlink:href=\"#DejaVuSans-Oblique-74\" transform=\"translate(269.238281 0.015625)\"/>\n     <use xlink:href=\"#DejaVuSans-36\" transform=\"translate(308.447266 0.015625)\"/>\n     <use xlink:href=\"#DejaVuSans-34\" transform=\"translate(372.070312 0.015625)\"/>\n     <use xlink:href=\"#DejaVuSans-3e\" transform=\"translate(435.693359 0.015625)\"/>\n    </g>\n   </g>\n   <g id=\"text_53\">\n    <!-- 5 -->\n    <g transform=\"translate(208.142741 37.897572) rotate(-90) scale(0.09 -0.09)\">\n     <defs>\n      <path id=\"DejaVuSans-35\" d=\"M 691 4666  L 3169 4666  L 3169 4134  L 1269 4134  L 1269 2991  Q 1406 3038 1543 3061  Q 1681 3084 1819 3084  Q 2600 3084 3056 2656  Q 3513 2228 3513 1497  Q 3513 744 3044 326  Q 2575 -91 1722 -91  Q 1428 -91 1123 -41  Q 819 9 494 109  L 494 744  Q 775 591 1075 516  Q 1375 441 1709 441  Q 2250 441 2565 725  Q 2881 1009 2881 1497  Q 2881 1984 2565 2268  Q 2250 2553 1709 2553  Q 1456 2553 1204 2497  Q 953 2441 691 2322  L 691 4666  z \" transform=\"scale(0.015625)\"/>\n     </defs>\n     <use xlink:href=\"#DejaVuSans-35\"/>\n    </g>\n   </g>\n   <g id=\"text_54\">\n    <!-- 1 -->\n    <g transform=\"translate(209.762775 22.297107) scale(0.09 -0.09)\">\n     <use xlink:href=\"#DejaVuSans-31\"/>\n    </g>\n   </g>\n   <g id=\"text_55\">\n    <!-- &lt;${\\mathit{float64}}$&gt; -->\n    <g transform=\"translate(194.4259 53.090693) scale(0.07 -0.07)\">\n     <use xlink:href=\"#DejaVuSans-3c\" transform=\"translate(0 0.015625)\"/>\n     <use xlink:href=\"#DejaVuSans-Oblique-66\" transform=\"translate(83.789062 0.015625)\"/>\n     <use xlink:href=\"#DejaVuSans-Oblique-6c\" transform=\"translate(118.994141 0.015625)\"/>\n     <use xlink:href=\"#DejaVuSans-Oblique-6f\" transform=\"translate(146.777344 0.015625)\"/>\n     <use xlink:href=\"#DejaVuSans-Oblique-61\" transform=\"translate(207.958984 0.015625)\"/>\n     <use xlink:href=\"#DejaVuSans-Oblique-74\" transform=\"translate(269.238281 0.015625)\"/>\n     <use xlink:href=\"#DejaVuSans-36\" transform=\"translate(308.447266 0.015625)\"/>\n     <use xlink:href=\"#DejaVuSans-34\" transform=\"translate(372.070312 0.015625)\"/>\n     <use xlink:href=\"#DejaVuSans-3e\" transform=\"translate(435.693359 0.015625)\"/>\n    </g>\n   </g>\n  </g>\n </g>\n <defs>\n  <clipPath id=\"pc8a2e24814\">\n   <rect x=\"0\" y=\"4.901991\" width=\"333.405\" height=\"42.315395\"/>\n  </clipPath>\n </defs>\n</svg>"
          },
          "metadata": {}
        },
        {
          "output_type": "execute_result",
          "data": {
            "text/plain": [
              "array([-5.2496])"
            ]
          },
          "metadata": {},
          "execution_count": 34
        }
      ]
    },
    {
      "cell_type": "code",
      "source": [
        "# test code\n",
        "lr = 1e-5\n",
        "l2_weights, l2_bias"
      ],
      "metadata": {
        "colab": {
          "base_uri": "https://localhost:8080/"
        },
        "id": "w9_dXj7WI7Xn",
        "outputId": "1606177b-5df6-41a4-a5c2-88a0421d2c43"
      },
      "execution_count": null,
      "outputs": [
        {
          "output_type": "execute_result",
          "data": {
            "text/plain": [
              "(array([[0.5],\n",
              "        [0.2]]),\n",
              " array([[5]]))"
            ]
          },
          "metadata": {},
          "execution_count": 35
        }
      ]
    },
    {
      "cell_type": "code",
      "source": [
        "with tsensor.explain():\n",
        "  l2_bias = l2_bias - l2_b_gradient * lr\n",
        "  l2_weights =  l2_weights - l2_w_gradient * lr"
      ],
      "metadata": {
        "colab": {
          "base_uri": "https://localhost:8080/",
          "height": 154
        },
        "id": "qnF5Lou_JsP7",
        "outputId": "1c0bfc6a-0eda-4eb4-c81f-efd520498dba"
      },
      "execution_count": null,
      "outputs": [
        {
          "output_type": "display_data",
          "data": {
            "text/plain": [
              "<IPython.core.display.SVG object>"
            ],
            "image/svg+xml": "<svg xmlns:xlink=\"http://www.w3.org/1999/xlink\" xmlns=\"http://www.w3.org/2000/svg\" width=\"256.359606pt\" height=\"42.222162pt\" viewBox=\"0 0 256.359606 42.222162\" version=\"1.1\">\n <metadata>\n  <rdf:RDF xmlns:dc=\"http://purl.org/dc/elements/1.1/\" xmlns:cc=\"http://creativecommons.org/ns#\" xmlns:rdf=\"http://www.w3.org/1999/02/22-rdf-syntax-ns#\">\n   <cc:Work>\n    <dc:type rdf:resource=\"http://purl.org/dc/dcmitype/StillImage\"/>\n    <dc:date>2025-06-21T13:16:04.677742</dc:date>\n    <dc:format>image/svg+xml</dc:format>\n    <dc:creator>\n     <cc:Agent>\n      <dc:title>Matplotlib v3.10.0, https://matplotlib.org/</dc:title>\n     </cc:Agent>\n    </dc:creator>\n   </cc:Work>\n  </rdf:RDF>\n </metadata>\n <defs>\n  <style type=\"text/css\">*{stroke-linejoin: round; stroke-linecap: butt}</style>\n </defs>\n <g id=\"figure_1\">\n  <g id=\"patch_1\">\n   <path d=\"M 0 42.222162  L 256.359606 42.222162  L 256.359606 0  L 0 0  z \" style=\"fill: #ffffff\"/>\n  </g>\n  <g id=\"axes_1\">\n   <g id=\"patch_2\">\n    <path d=\"M 24.60222 34.061475  L 35.04798 34.061475  L 35.04798 23.683107  L 24.60222 23.683107  z \" clip-path=\"url(#pc5ff14a39a)\" style=\"fill: #a8e1b0; fill-opacity: 0.75; stroke: #808080; stroke-width: 0.7; stroke-linejoin: miter\"/>\n   </g>\n   <g id=\"patch_3\">\n    <path d=\"M 89.88822 34.061475  L 100.33398 34.061475  L 100.33398 23.683107  L 89.88822 23.683107  z \" clip-path=\"url(#pc5ff14a39a)\" style=\"fill: #7fa4d3; fill-opacity: 0.75; stroke: #808080; stroke-width: 0.7; stroke-linejoin: miter\"/>\n   </g>\n   <g id=\"patch_4\">\n    <path d=\"M 168.55785 28.872291  L 191.40795 28.872291  L 191.40795 23.683107  L 168.55785 23.683107  z \" clip-path=\"url(#pc5ff14a39a)\" style=\"fill: #a8e1b0; fill-opacity: 0.75; stroke: #808080; stroke-width: 0.7; stroke-linejoin: miter\"/>\n   </g>\n   <g id=\"line2d_1\">\n    <path d=\"M 6.32214 13.762608  L 53.32806 13.762608  \" clip-path=\"url(#pc5ff14a39a)\" style=\"fill: none; stroke: #c2c2c2; stroke-width: 0.5; stroke-linecap: square\"/>\n   </g>\n   <g id=\"line2d_2\">\n    <path d=\"M 71.60814 13.762608  L 118.61406 13.762608  \" clip-path=\"url(#pc5ff14a39a)\" style=\"fill: none; stroke: #c2c2c2; stroke-width: 0.5; stroke-linecap: square\"/>\n   </g>\n   <g id=\"line2d_3\">\n    <path d=\"M 136.89414 13.762608  L 223.07166 13.762608  \" clip-path=\"url(#pc5ff14a39a)\" style=\"fill: none; stroke: #c2c2c2; stroke-width: 0.5; stroke-linecap: square\"/>\n   </g>\n   <g id=\"text_1\">\n    <!-- l -->\n    <g style=\"fill: #444443\" transform=\"translate(6.975 9.947031) scale(0.13 -0.13)\">\n     <defs>\n      <path id=\"DejaVuSansMono-6c\" d=\"M 1997 1269  Q 1997 881 2139 684  Q 2281 488 2559 488  L 3231 488  L 3231 0  L 2503 0  Q 1988 0 1705 331  Q 1422 663 1422 1269  L 1422 4447  L 500 4447  L 500 4897  L 1997 4897  L 1997 1269  z \" transform=\"scale(0.015625)\"/>\n     </defs>\n     <use xlink:href=\"#DejaVuSansMono-6c\"/>\n    </g>\n   </g>\n   <g id=\"text_2\">\n    <!-- 2 -->\n    <g style=\"fill: #444443\" transform=\"translate(13.5036 9.947031) scale(0.13 -0.13)\">\n     <defs>\n      <path id=\"DejaVuSansMono-32\" d=\"M 1166 531  L 3309 531  L 3309 0  L 475 0  L 475 531  Q 1059 1147 1496 1619  Q 1934 2091 2100 2284  Q 2413 2666 2522 2902  Q 2631 3138 2631 3384  Q 2631 3775 2401 3997  Q 2172 4219 1772 4219  Q 1488 4219 1175 4116  Q 863 4013 513 3803  L 513 4441  Q 834 4594 1145 4672  Q 1456 4750 1759 4750  Q 2444 4750 2861 4386  Q 3278 4022 3278 3431  Q 3278 3131 3139 2831  Q 3000 2531 2688 2169  Q 2513 1966 2180 1606  Q 1847 1247 1166 531  z \" transform=\"scale(0.015625)\"/>\n     </defs>\n     <use xlink:href=\"#DejaVuSansMono-32\"/>\n    </g>\n   </g>\n   <g id=\"text_3\">\n    <!-- _ -->\n    <g style=\"fill: #444443\" transform=\"translate(20.0322 9.947031) scale(0.13 -0.13)\">\n     <defs>\n      <path id=\"DejaVuSansMono-5f\" d=\"M 3853 -1259  L 3853 -1509  L 0 -1509  L 0 -1259  L 3853 -1259  z \" transform=\"scale(0.015625)\"/>\n     </defs>\n     <use xlink:href=\"#DejaVuSansMono-5f\"/>\n    </g>\n   </g>\n   <g id=\"text_4\">\n    <!-- b -->\n    <g style=\"fill: #444443\" transform=\"translate(26.5608 9.947031) scale(0.13 -0.13)\">\n     <defs>\n      <path id=\"DejaVuSansMono-62\" d=\"M 2869 1747  Q 2869 2416 2656 2756  Q 2444 3097 2028 3097  Q 1609 3097 1393 2755  Q 1178 2413 1178 1747  Q 1178 1084 1393 740  Q 1609 397 2028 397  Q 2444 397 2656 737  Q 2869 1078 2869 1747  z M 1178 3053  Q 1316 3309 1558 3446  Q 1800 3584 2119 3584  Q 2750 3584 3112 3098  Q 3475 2613 3475 1759  Q 3475 894 3111 401  Q 2747 -91 2113 -91  Q 1800 -91 1561 45  Q 1322 181 1178 441  L 1178 0  L 603 0  L 603 4863  L 1178 4863  L 1178 3053  z \" transform=\"scale(0.015625)\"/>\n     </defs>\n     <use xlink:href=\"#DejaVuSansMono-62\"/>\n    </g>\n   </g>\n   <g id=\"text_5\">\n    <!-- i -->\n    <g style=\"fill: #444443\" transform=\"translate(33.0894 9.947031) scale(0.13 -0.13)\">\n     <defs>\n      <path id=\"DejaVuSansMono-69\" d=\"M 800 3500  L 2272 3500  L 2272 447  L 3413 447  L 3413 0  L 556 0  L 556 447  L 1697 447  L 1697 3053  L 800 3053  L 800 3500  z M 1697 4863  L 2272 4863  L 2272 4134  L 1697 4134  L 1697 4863  z \" transform=\"scale(0.015625)\"/>\n     </defs>\n     <use xlink:href=\"#DejaVuSansMono-69\"/>\n    </g>\n   </g>\n   <g id=\"text_6\">\n    <!-- a -->\n    <g style=\"fill: #444443\" transform=\"translate(39.618 9.947031) scale(0.13 -0.13)\">\n     <defs>\n      <path id=\"DejaVuSansMono-61\" d=\"M 2194 1759  L 2003 1759  Q 1500 1759 1245 1582  Q 991 1406 991 1056  Q 991 741 1181 566  Q 1372 391 1709 391  Q 2184 391 2456 720  Q 2728 1050 2731 1631  L 2731 1759  L 2194 1759  z M 3309 1997  L 3309 0  L 2731 0  L 2731 519  Q 2547 206 2267 57  Q 1988 -91 1588 -91  Q 1053 -91 734 211  Q 416 513 416 1019  Q 416 1603 808 1906  Q 1200 2209 1959 2209  L 2731 2209  L 2731 2300  Q 2728 2719 2518 2908  Q 2309 3097 1850 3097  Q 1556 3097 1256 3012  Q 956 2928 672 2766  L 672 3341  Q 991 3463 1283 3523  Q 1575 3584 1850 3584  Q 2284 3584 2592 3456  Q 2900 3328 3091 3072  Q 3209 2916 3259 2686  Q 3309 2456 3309 1997  z \" transform=\"scale(0.015625)\"/>\n     </defs>\n     <use xlink:href=\"#DejaVuSansMono-61\"/>\n    </g>\n   </g>\n   <g id=\"text_7\">\n    <!-- s -->\n    <g style=\"fill: #444443\" transform=\"translate(46.1466 9.947031) scale(0.13 -0.13)\">\n     <defs>\n      <path id=\"DejaVuSansMono-73\" d=\"M 3041 3378  L 3041 2816  Q 2794 2959 2544 3031  Q 2294 3103 2034 3103  Q 1644 3103 1451 2976  Q 1259 2850 1259 2591  Q 1259 2356 1403 2240  Q 1547 2125 2119 2016  L 2350 1972  Q 2778 1891 2998 1647  Q 3219 1403 3219 1013  Q 3219 494 2850 201  Q 2481 -91 1825 -91  Q 1566 -91 1281 -36  Q 997 19 666 128  L 666 722  Q 988 556 1281 473  Q 1575 391 1838 391  Q 2219 391 2428 545  Q 2638 700 2638 978  Q 2638 1378 1872 1531  L 1847 1538  L 1631 1581  Q 1134 1678 906 1908  Q 678 2138 678 2534  Q 678 3038 1018 3311  Q 1359 3584 1991 3584  Q 2272 3584 2531 3532  Q 2791 3481 3041 3378  z \" transform=\"scale(0.015625)\"/>\n     </defs>\n     <use xlink:href=\"#DejaVuSansMono-73\"/>\n    </g>\n   </g>\n   <g id=\"text_8\">\n    <!--   -->\n    <g style=\"fill: #444443\" transform=\"translate(52.6752 9.947031) scale(0.13 -0.13)\">\n     <defs>\n      <path id=\"DejaVuSansMono-20\" transform=\"scale(0.015625)\"/>\n     </defs>\n     <use xlink:href=\"#DejaVuSansMono-20\"/>\n    </g>\n   </g>\n   <g id=\"text_9\">\n    <!-- = -->\n    <g style=\"fill: #444443\" transform=\"translate(59.2038 9.947031) scale(0.13 -0.13)\">\n     <defs>\n      <path id=\"DejaVuSansMono-3d\" d=\"M 275 1638  L 3578 1638  L 3578 1100  L 275 1100  L 275 1638  z M 275 2906  L 3578 2906  L 3578 2375  L 275 2375  L 275 2906  z \" transform=\"scale(0.015625)\"/>\n     </defs>\n     <use xlink:href=\"#DejaVuSansMono-3d\"/>\n    </g>\n   </g>\n   <g id=\"text_10\">\n    <!--   -->\n    <g style=\"fill: #444443\" transform=\"translate(65.7324 9.947031) scale(0.13 -0.13)\">\n     <use xlink:href=\"#DejaVuSansMono-20\"/>\n    </g>\n   </g>\n   <g id=\"text_11\">\n    <!-- l -->\n    <g style=\"fill: #444443\" transform=\"translate(72.261 9.947031) scale(0.13 -0.13)\">\n     <use xlink:href=\"#DejaVuSansMono-6c\"/>\n    </g>\n   </g>\n   <g id=\"text_12\">\n    <!-- 2 -->\n    <g style=\"fill: #444443\" transform=\"translate(78.7896 9.947031) scale(0.13 -0.13)\">\n     <use xlink:href=\"#DejaVuSansMono-32\"/>\n    </g>\n   </g>\n   <g id=\"text_13\">\n    <!-- _ -->\n    <g style=\"fill: #444443\" transform=\"translate(85.3182 9.947031) scale(0.13 -0.13)\">\n     <use xlink:href=\"#DejaVuSansMono-5f\"/>\n    </g>\n   </g>\n   <g id=\"text_14\">\n    <!-- b -->\n    <g style=\"fill: #444443\" transform=\"translate(91.8468 9.947031) scale(0.13 -0.13)\">\n     <use xlink:href=\"#DejaVuSansMono-62\"/>\n    </g>\n   </g>\n   <g id=\"text_15\">\n    <!-- i -->\n    <g style=\"fill: #444443\" transform=\"translate(98.3754 9.947031) scale(0.13 -0.13)\">\n     <use xlink:href=\"#DejaVuSansMono-69\"/>\n    </g>\n   </g>\n   <g id=\"text_16\">\n    <!-- a -->\n    <g style=\"fill: #444443\" transform=\"translate(104.904 9.947031) scale(0.13 -0.13)\">\n     <use xlink:href=\"#DejaVuSansMono-61\"/>\n    </g>\n   </g>\n   <g id=\"text_17\">\n    <!-- s -->\n    <g style=\"fill: #444443\" transform=\"translate(111.4326 9.947031) scale(0.13 -0.13)\">\n     <use xlink:href=\"#DejaVuSansMono-73\"/>\n    </g>\n   </g>\n   <g id=\"text_18\">\n    <!--   -->\n    <g style=\"fill: #444443\" transform=\"translate(117.9612 9.947031) scale(0.13 -0.13)\">\n     <use xlink:href=\"#DejaVuSansMono-20\"/>\n    </g>\n   </g>\n   <g id=\"text_19\">\n    <!-- - -->\n    <g style=\"fill: #444443\" transform=\"translate(124.4898 9.947031) scale(0.13 -0.13)\">\n     <defs>\n      <path id=\"DejaVuSansMono-2d\" d=\"M 1113 2009  L 2741 2009  L 2741 1497  L 1113 1497  L 1113 2009  z \" transform=\"scale(0.015625)\"/>\n     </defs>\n     <use xlink:href=\"#DejaVuSansMono-2d\"/>\n    </g>\n   </g>\n   <g id=\"text_20\">\n    <!--   -->\n    <g style=\"fill: #444443\" transform=\"translate(131.0184 9.947031) scale(0.13 -0.13)\">\n     <use xlink:href=\"#DejaVuSansMono-20\"/>\n    </g>\n   </g>\n   <g id=\"text_21\">\n    <!-- l -->\n    <g style=\"fill: #444443\" transform=\"translate(137.547 9.947031) scale(0.13 -0.13)\">\n     <use xlink:href=\"#DejaVuSansMono-6c\"/>\n    </g>\n   </g>\n   <g id=\"text_22\">\n    <!-- 2 -->\n    <g style=\"fill: #444443\" transform=\"translate(144.0756 9.947031) scale(0.13 -0.13)\">\n     <use xlink:href=\"#DejaVuSansMono-32\"/>\n    </g>\n   </g>\n   <g id=\"text_23\">\n    <!-- _ -->\n    <g style=\"fill: #444443\" transform=\"translate(150.6042 9.947031) scale(0.13 -0.13)\">\n     <use xlink:href=\"#DejaVuSansMono-5f\"/>\n    </g>\n   </g>\n   <g id=\"text_24\">\n    <!-- b -->\n    <g style=\"fill: #444443\" transform=\"translate(157.1328 9.947031) scale(0.13 -0.13)\">\n     <use xlink:href=\"#DejaVuSansMono-62\"/>\n    </g>\n   </g>\n   <g id=\"text_25\">\n    <!-- _ -->\n    <g style=\"fill: #444443\" transform=\"translate(163.6614 9.947031) scale(0.13 -0.13)\">\n     <use xlink:href=\"#DejaVuSansMono-5f\"/>\n    </g>\n   </g>\n   <g id=\"text_26\">\n    <!-- g -->\n    <g style=\"fill: #444443\" transform=\"translate(170.19 9.947031) scale(0.13 -0.13)\">\n     <defs>\n      <path id=\"DejaVuSansMono-67\" d=\"M 2681 1778  Q 2681 2425 2470 2761  Q 2259 3097 1856 3097  Q 1434 3097 1212 2761  Q 991 2425 991 1778  Q 991 1131 1214 792  Q 1438 453 1863 453  Q 2259 453 2470 793  Q 2681 1134 2681 1778  z M 3256 225  Q 3256 -563 2884 -969  Q 2513 -1375 1791 -1375  Q 1553 -1375 1293 -1331  Q 1034 -1288 775 -1203  L 775 -634  Q 1081 -778 1331 -847  Q 1581 -916 1791 -916  Q 2256 -916 2468 -662  Q 2681 -409 2681 141  L 2681 166  L 2681 556  Q 2544 263 2306 119  Q 2069 -25 1728 -25  Q 1116 -25 750 465  Q 384 956 384 1778  Q 384 2603 750 3093  Q 1116 3584 1728 3584  Q 2066 3584 2300 3450  Q 2534 3316 2681 3034  L 2681 3488  L 3256 3488  L 3256 225  z \" transform=\"scale(0.015625)\"/>\n     </defs>\n     <use xlink:href=\"#DejaVuSansMono-67\"/>\n    </g>\n   </g>\n   <g id=\"text_27\">\n    <!-- r -->\n    <g style=\"fill: #444443\" transform=\"translate(176.7186 9.947031) scale(0.13 -0.13)\">\n     <defs>\n      <path id=\"DejaVuSansMono-72\" d=\"M 3609 2778  Q 3425 2922 3234 2987  Q 3044 3053 2816 3053  Q 2278 3053 1993 2715  Q 1709 2378 1709 1741  L 1709 0  L 1131 0  L 1131 3500  L 1709 3500  L 1709 2816  Q 1853 3188 2151 3386  Q 2450 3584 2859 3584  Q 3072 3584 3256 3531  Q 3441 3478 3609 3366  L 3609 2778  z \" transform=\"scale(0.015625)\"/>\n     </defs>\n     <use xlink:href=\"#DejaVuSansMono-72\"/>\n    </g>\n   </g>\n   <g id=\"text_28\">\n    <!-- a -->\n    <g style=\"fill: #444443\" transform=\"translate(183.2472 9.947031) scale(0.13 -0.13)\">\n     <use xlink:href=\"#DejaVuSansMono-61\"/>\n    </g>\n   </g>\n   <g id=\"text_29\">\n    <!-- d -->\n    <g style=\"fill: #444443\" transform=\"translate(189.7758 9.947031) scale(0.13 -0.13)\">\n     <defs>\n      <path id=\"DejaVuSansMono-64\" d=\"M 2681 3053  L 2681 4863  L 3256 4863  L 3256 0  L 2681 0  L 2681 441  Q 2538 181 2298 45  Q 2059 -91 1747 -91  Q 1113 -91 748 401  Q 384 894 384 1759  Q 384 2613 750 3098  Q 1116 3584 1747 3584  Q 2063 3584 2303 3448  Q 2544 3313 2681 3053  z M 991 1747  Q 991 1078 1203 737  Q 1416 397 1831 397  Q 2247 397 2464 740  Q 2681 1084 2681 1747  Q 2681 2413 2464 2755  Q 2247 3097 1831 3097  Q 1416 3097 1203 2756  Q 991 2416 991 1747  z \" transform=\"scale(0.015625)\"/>\n     </defs>\n     <use xlink:href=\"#DejaVuSansMono-64\"/>\n    </g>\n   </g>\n   <g id=\"text_30\">\n    <!-- i -->\n    <g style=\"fill: #444443\" transform=\"translate(196.3044 9.947031) scale(0.13 -0.13)\">\n     <use xlink:href=\"#DejaVuSansMono-69\"/>\n    </g>\n   </g>\n   <g id=\"text_31\">\n    <!-- e -->\n    <g style=\"fill: #444443\" transform=\"translate(202.833 9.947031) scale(0.13 -0.13)\">\n     <defs>\n      <path id=\"DejaVuSansMono-65\" d=\"M 3475 1894  L 3475 1613  L 984 1613  L 984 1594  Q 984 1022 1282 709  Q 1581 397 2125 397  Q 2400 397 2700 484  Q 3000 572 3341 750  L 3341 178  Q 3013 44 2708 -23  Q 2403 -91 2119 -91  Q 1303 -91 843 398  Q 384 888 384 1747  Q 384 2584 834 3084  Q 1284 3584 2034 3584  Q 2703 3584 3089 3131  Q 3475 2678 3475 1894  z M 2900 2063  Q 2888 2569 2661 2833  Q 2434 3097 2009 3097  Q 1594 3097 1325 2822  Q 1056 2547 1006 2059  L 2900 2063  z \" transform=\"scale(0.015625)\"/>\n     </defs>\n     <use xlink:href=\"#DejaVuSansMono-65\"/>\n    </g>\n   </g>\n   <g id=\"text_32\">\n    <!-- n -->\n    <g style=\"fill: #444443\" transform=\"translate(209.3616 9.947031) scale(0.13 -0.13)\">\n     <defs>\n      <path id=\"DejaVuSansMono-6e\" d=\"M 3284 2169  L 3284 0  L 2706 0  L 2706 2169  Q 2706 2641 2540 2862  Q 2375 3084 2022 3084  Q 1619 3084 1401 2798  Q 1184 2513 1184 1978  L 1184 0  L 609 0  L 609 3500  L 1184 3500  L 1184 2975  Q 1338 3275 1600 3429  Q 1863 3584 2222 3584  Q 2756 3584 3020 3232  Q 3284 2881 3284 2169  z \" transform=\"scale(0.015625)\"/>\n     </defs>\n     <use xlink:href=\"#DejaVuSansMono-6e\"/>\n    </g>\n   </g>\n   <g id=\"text_33\">\n    <!-- t -->\n    <g style=\"fill: #444443\" transform=\"translate(215.8902 9.947031) scale(0.13 -0.13)\">\n     <defs>\n      <path id=\"DejaVuSansMono-74\" d=\"M 1919 4494  L 1919 3500  L 3225 3500  L 3225 3053  L 1919 3053  L 1919 1153  Q 1919 766 2066 612  Q 2213 459 2578 459  L 3225 459  L 3225 0  L 2522 0  Q 1875 0 1609 259  Q 1344 519 1344 1153  L 1344 3053  L 409 3053  L 409 3500  L 1344 3500  L 1344 4494  L 1919 4494  z \" transform=\"scale(0.015625)\"/>\n     </defs>\n     <use xlink:href=\"#DejaVuSansMono-74\"/>\n    </g>\n   </g>\n   <g id=\"text_34\">\n    <!--   -->\n    <g style=\"fill: #444443\" transform=\"translate(222.4188 9.947031) scale(0.13 -0.13)\">\n     <use xlink:href=\"#DejaVuSansMono-20\"/>\n    </g>\n   </g>\n   <g id=\"text_35\">\n    <!-- * -->\n    <g style=\"fill: #444443\" transform=\"translate(228.9474 9.947031) scale(0.13 -0.13)\">\n     <defs>\n      <path id=\"DejaVuSansMono-2a\" d=\"M 3334 3897  L 2216 3291  L 3334 2681  L 3156 2375  L 2106 3009  L 2106 1831  L 1747 1831  L 1747 3009  L 697 2375  L 519 2681  L 1638 3291  L 519 3897  L 697 4206  L 1747 3572  L 1747 4750  L 2106 4750  L 2106 3572  L 3156 4206  L 3334 3897  z \" transform=\"scale(0.015625)\"/>\n     </defs>\n     <use xlink:href=\"#DejaVuSansMono-2a\"/>\n    </g>\n   </g>\n   <g id=\"text_36\">\n    <!--   -->\n    <g style=\"fill: #444443\" transform=\"translate(235.476 9.947031) scale(0.13 -0.13)\">\n     <use xlink:href=\"#DejaVuSansMono-20\"/>\n    </g>\n   </g>\n   <g id=\"text_37\">\n    <!-- l -->\n    <g style=\"fill: #444443\" transform=\"translate(242.0046 9.947031) scale(0.13 -0.13)\">\n     <use xlink:href=\"#DejaVuSansMono-6c\"/>\n    </g>\n   </g>\n   <g id=\"text_38\">\n    <!-- r -->\n    <g style=\"fill: #444443\" transform=\"translate(248.5332 9.947031) scale(0.13 -0.13)\">\n     <use xlink:href=\"#DejaVuSansMono-72\"/>\n    </g>\n   </g>\n   <g id=\"text_39\">\n    <!-- 1 -->\n    <g transform=\"translate(22.730501 31.735416) rotate(-90) scale(0.09 -0.09)\">\n     <defs>\n      <path id=\"DejaVuSans-31\" d=\"M 794 531  L 1825 531  L 1825 4091  L 703 3866  L 703 4441  L 1819 4666  L 2450 4666  L 2450 531  L 3481 531  L 3481 0  L 794 0  L 794 531  z \" transform=\"scale(0.015625)\"/>\n     </defs>\n     <use xlink:href=\"#DejaVuSans-31\"/>\n    </g>\n   </g>\n   <g id=\"text_40\">\n    <!-- 1 -->\n    <g transform=\"translate(26.961975 22.297107) scale(0.09 -0.09)\">\n     <use xlink:href=\"#DejaVuSans-31\"/>\n    </g>\n   </g>\n   <g id=\"text_41\">\n    <!-- &lt;${\\mathit{float64}}$&gt; -->\n    <g transform=\"translate(11.6251 40.766381) scale(0.07 -0.07)\">\n     <defs>\n      <path id=\"DejaVuSans-3c\" d=\"M 4684 3150  L 1459 2003  L 4684 863  L 4684 294  L 678 1747  L 678 2266  L 4684 3719  L 4684 3150  z \" transform=\"scale(0.015625)\"/>\n      <path id=\"DejaVuSans-Oblique-66\" d=\"M 3059 4863  L 2969 4384  L 2419 4384  Q 2106 4384 1964 4261  Q 1822 4138 1753 3809  L 1691 3500  L 2638 3500  L 2553 3053  L 1606 3053  L 1013 0  L 434 0  L 1031 3053  L 481 3053  L 563 3500  L 1113 3500  L 1159 3744  Q 1278 4363 1576 4613  Q 1875 4863 2516 4863  L 3059 4863  z \" transform=\"scale(0.015625)\"/>\n      <path id=\"DejaVuSans-Oblique-6c\" d=\"M 1172 4863  L 1747 4863  L 800 0  L 225 0  L 1172 4863  z \" transform=\"scale(0.015625)\"/>\n      <path id=\"DejaVuSans-Oblique-6f\" d=\"M 1625 -91  Q 1009 -91 651 289  Q 294 669 294 1325  Q 294 1706 417 2101  Q 541 2497 738 2766  Q 1047 3184 1428 3384  Q 1809 3584 2291 3584  Q 2888 3584 3255 3212  Q 3622 2841 3622 2241  Q 3622 1825 3500 1412  Q 3378 1000 3181 728  Q 2875 309 2494 109  Q 2113 -91 1625 -91  z M 891 1344  Q 891 869 1089 633  Q 1288 397 1691 397  Q 2269 397 2648 901  Q 3028 1406 3028 2181  Q 3028 2634 2825 2865  Q 2622 3097 2228 3097  Q 1903 3097 1650 2945  Q 1397 2794 1197 2484  Q 1050 2253 970 1956  Q 891 1659 891 1344  z \" transform=\"scale(0.015625)\"/>\n      <path id=\"DejaVuSans-Oblique-61\" d=\"M 3438 1997  L 3047 0  L 2472 0  L 2578 531  Q 2325 219 2001 64  Q 1678 -91 1281 -91  Q 834 -91 548 182  Q 263 456 263 884  Q 263 1497 752 1853  Q 1241 2209 2100 2209  L 2900 2209  L 2931 2363  Q 2938 2388 2941 2417  Q 2944 2447 2944 2509  Q 2944 2788 2717 2942  Q 2491 3097 2081 3097  Q 1800 3097 1504 3025  Q 1209 2953 897 2809  L 997 3341  Q 1322 3463 1633 3523  Q 1944 3584 2234 3584  Q 2853 3584 3176 3315  Q 3500 3047 3500 2534  Q 3500 2431 3484 2292  Q 3469 2153 3438 1997  z M 2816 1759  L 2241 1759  Q 1534 1759 1195 1570  Q 856 1381 856 984  Q 856 709 1029 553  Q 1203 397 1509 397  Q 1978 397 2328 733  Q 2678 1069 2791 1631  L 2816 1759  z \" transform=\"scale(0.015625)\"/>\n      <path id=\"DejaVuSans-Oblique-74\" d=\"M 2706 3500  L 2619 3053  L 1472 3053  L 1100 1153  Q 1081 1047 1072 975  Q 1063 903 1063 863  Q 1063 663 1183 572  Q 1303 481 1569 481  L 2150 481  L 2053 0  L 1503 0  Q 991 0 739 200  Q 488 400 488 806  Q 488 878 497 964  Q 506 1050 525 1153  L 897 3053  L 409 3053  L 500 3500  L 978 3500  L 1172 4494  L 1747 4494  L 1556 3500  L 2706 3500  z \" transform=\"scale(0.015625)\"/>\n      <path id=\"DejaVuSans-36\" d=\"M 2113 2584  Q 1688 2584 1439 2293  Q 1191 2003 1191 1497  Q 1191 994 1439 701  Q 1688 409 2113 409  Q 2538 409 2786 701  Q 3034 994 3034 1497  Q 3034 2003 2786 2293  Q 2538 2584 2113 2584  z M 3366 4563  L 3366 3988  Q 3128 4100 2886 4159  Q 2644 4219 2406 4219  Q 1781 4219 1451 3797  Q 1122 3375 1075 2522  Q 1259 2794 1537 2939  Q 1816 3084 2150 3084  Q 2853 3084 3261 2657  Q 3669 2231 3669 1497  Q 3669 778 3244 343  Q 2819 -91 2113 -91  Q 1303 -91 875 529  Q 447 1150 447 2328  Q 447 3434 972 4092  Q 1497 4750 2381 4750  Q 2619 4750 2861 4703  Q 3103 4656 3366 4563  z \" transform=\"scale(0.015625)\"/>\n      <path id=\"DejaVuSans-34\" d=\"M 2419 4116  L 825 1625  L 2419 1625  L 2419 4116  z M 2253 4666  L 3047 4666  L 3047 1625  L 3713 1625  L 3713 1100  L 3047 1100  L 3047 0  L 2419 0  L 2419 1100  L 313 1100  L 313 1709  L 2253 4666  z \" transform=\"scale(0.015625)\"/>\n      <path id=\"DejaVuSans-3e\" d=\"M 678 3150  L 678 3719  L 4684 2266  L 4684 1747  L 678 294  L 678 863  L 3897 2003  L 678 3150  z \" transform=\"scale(0.015625)\"/>\n     </defs>\n     <use xlink:href=\"#DejaVuSans-3c\" transform=\"translate(0 0.015625)\"/>\n     <use xlink:href=\"#DejaVuSans-Oblique-66\" transform=\"translate(83.789062 0.015625)\"/>\n     <use xlink:href=\"#DejaVuSans-Oblique-6c\" transform=\"translate(118.994141 0.015625)\"/>\n     <use xlink:href=\"#DejaVuSans-Oblique-6f\" transform=\"translate(146.777344 0.015625)\"/>\n     <use xlink:href=\"#DejaVuSans-Oblique-61\" transform=\"translate(207.958984 0.015625)\"/>\n     <use xlink:href=\"#DejaVuSans-Oblique-74\" transform=\"translate(269.238281 0.015625)\"/>\n     <use xlink:href=\"#DejaVuSans-36\" transform=\"translate(308.447266 0.015625)\"/>\n     <use xlink:href=\"#DejaVuSans-34\" transform=\"translate(372.070312 0.015625)\"/>\n     <use xlink:href=\"#DejaVuSans-3e\" transform=\"translate(435.693359 0.015625)\"/>\n    </g>\n   </g>\n   <g id=\"text_42\">\n    <!-- 1 -->\n    <g transform=\"translate(88.016501 31.735416) rotate(-90) scale(0.09 -0.09)\">\n     <use xlink:href=\"#DejaVuSans-31\"/>\n    </g>\n   </g>\n   <g id=\"text_43\">\n    <!-- 1 -->\n    <g transform=\"translate(92.247975 22.297107) scale(0.09 -0.09)\">\n     <use xlink:href=\"#DejaVuSans-31\"/>\n    </g>\n   </g>\n   <g id=\"text_44\">\n    <!-- &lt;${\\mathit{int64}}$&gt; -->\n    <g transform=\"translate(80.2011 40.766381) scale(0.07 -0.07)\">\n     <defs>\n      <path id=\"DejaVuSans-Oblique-69\" d=\"M 1172 4863  L 1747 4863  L 1606 4134  L 1031 4134  L 1172 4863  z M 909 3500  L 1484 3500  L 800 0  L 225 0  L 909 3500  z \" transform=\"scale(0.015625)\"/>\n      <path id=\"DejaVuSans-Oblique-6e\" d=\"M 3566 2113  L 3156 0  L 2578 0  L 2988 2091  Q 3016 2238 3031 2350  Q 3047 2463 3047 2528  Q 3047 2791 2881 2937  Q 2716 3084 2419 3084  Q 1956 3084 1622 2776  Q 1288 2469 1184 1941  L 800 0  L 225 0  L 903 3500  L 1478 3500  L 1363 2950  Q 1603 3253 1940 3418  Q 2278 3584 2650 3584  Q 3113 3584 3367 3334  Q 3622 3084 3622 2631  Q 3622 2519 3608 2391  Q 3594 2263 3566 2113  z \" transform=\"scale(0.015625)\"/>\n     </defs>\n     <use xlink:href=\"#DejaVuSans-3c\" transform=\"translate(0 0.015625)\"/>\n     <use xlink:href=\"#DejaVuSans-Oblique-69\" transform=\"translate(83.789062 0.015625)\"/>\n     <use xlink:href=\"#DejaVuSans-Oblique-6e\" transform=\"translate(111.572266 0.015625)\"/>\n     <use xlink:href=\"#DejaVuSans-Oblique-74\" transform=\"translate(174.951172 0.015625)\"/>\n     <use xlink:href=\"#DejaVuSans-36\" transform=\"translate(214.160156 0.015625)\"/>\n     <use xlink:href=\"#DejaVuSans-34\" transform=\"translate(277.783203 0.015625)\"/>\n     <use xlink:href=\"#DejaVuSans-3e\" transform=\"translate(341.40625 0.015625)\"/>\n    </g>\n   </g>\n   <g id=\"text_45\">\n    <!-- 1 -->\n    <g transform=\"translate(177.119775 22.297107) scale(0.09 -0.09)\">\n     <use xlink:href=\"#DejaVuSans-31\"/>\n    </g>\n   </g>\n   <g id=\"text_46\">\n    <!-- &lt;${\\mathit{float64}}$&gt; -->\n    <g transform=\"translate(161.7829 35.488493) scale(0.07 -0.07)\">\n     <use xlink:href=\"#DejaVuSans-3c\" transform=\"translate(0 0.015625)\"/>\n     <use xlink:href=\"#DejaVuSans-Oblique-66\" transform=\"translate(83.789062 0.015625)\"/>\n     <use xlink:href=\"#DejaVuSans-Oblique-6c\" transform=\"translate(118.994141 0.015625)\"/>\n     <use xlink:href=\"#DejaVuSans-Oblique-6f\" transform=\"translate(146.777344 0.015625)\"/>\n     <use xlink:href=\"#DejaVuSans-Oblique-61\" transform=\"translate(207.958984 0.015625)\"/>\n     <use xlink:href=\"#DejaVuSans-Oblique-74\" transform=\"translate(269.238281 0.015625)\"/>\n     <use xlink:href=\"#DejaVuSans-36\" transform=\"translate(308.447266 0.015625)\"/>\n     <use xlink:href=\"#DejaVuSans-34\" transform=\"translate(372.070312 0.015625)\"/>\n     <use xlink:href=\"#DejaVuSans-3e\" transform=\"translate(435.693359 0.015625)\"/>\n    </g>\n   </g>\n  </g>\n </g>\n <defs>\n  <clipPath id=\"pc5ff14a39a\">\n   <rect x=\"0\" y=\"4.901991\" width=\"255.0618\" height=\"29.991083\"/>\n  </clipPath>\n </defs>\n</svg>"
          },
          "metadata": {}
        },
        {
          "output_type": "display_data",
          "data": {
            "text/plain": [
              "<IPython.core.display.SVG object>"
            ],
            "image/svg+xml": "<svg xmlns:xlink=\"http://www.w3.org/1999/xlink\" xmlns=\"http://www.w3.org/2000/svg\" width=\"302.059806pt\" height=\"54.546474pt\" viewBox=\"0 0 302.059806 54.546474\" version=\"1.1\">\n <metadata>\n  <rdf:RDF xmlns:dc=\"http://purl.org/dc/elements/1.1/\" xmlns:cc=\"http://creativecommons.org/ns#\" xmlns:rdf=\"http://www.w3.org/1999/02/22-rdf-syntax-ns#\">\n   <cc:Work>\n    <dc:type rdf:resource=\"http://purl.org/dc/dcmitype/StillImage\"/>\n    <dc:date>2025-06-21T13:16:04.917762</dc:date>\n    <dc:format>image/svg+xml</dc:format>\n    <dc:creator>\n     <cc:Agent>\n      <dc:title>Matplotlib v3.10.0, https://matplotlib.org/</dc:title>\n     </cc:Agent>\n    </dc:creator>\n   </cc:Work>\n  </rdf:RDF>\n </metadata>\n <defs>\n  <style type=\"text/css\">*{stroke-linejoin: round; stroke-linecap: butt}</style>\n </defs>\n <g id=\"figure_1\">\n  <g id=\"patch_1\">\n   <path d=\"M 0 54.546474  L 302.059806 54.546474  L 302.059806 0  L 0 0  z \" style=\"fill: #ffffff\"/>\n  </g>\n  <g id=\"axes_1\">\n   <g id=\"patch_2\">\n    <path d=\"M 37.00656 46.385787  L 42.22944 46.385787  L 42.22944 23.683107  L 37.00656 23.683107  z \" clip-path=\"url(#p3e09687f26)\" style=\"fill: #a8e1b0; fill-opacity: 0.75; stroke: #808080; stroke-width: 0.7; stroke-linejoin: miter\"/>\n   </g>\n   <g id=\"patch_3\">\n    <path d=\"M 128.40696 46.385787  L 133.62984 46.385787  L 133.62984 23.683107  L 128.40696 23.683107  z \" clip-path=\"url(#p3e09687f26)\" style=\"fill: #a8e1b0; fill-opacity: 0.75; stroke: #808080; stroke-width: 0.7; stroke-linejoin: miter\"/>\n   </g>\n   <g id=\"patch_4\">\n    <path d=\"M 223.07166 46.385787  L 228.29454 46.385787  L 228.29454 23.683107  L 223.07166 23.683107  z \" clip-path=\"url(#p3e09687f26)\" style=\"fill: #a8e1b0; fill-opacity: 0.75; stroke: #808080; stroke-width: 0.7; stroke-linejoin: miter\"/>\n   </g>\n   <g id=\"line2d_1\">\n    <path d=\"M 6.32214 13.762608  L 72.91386 13.762608  \" clip-path=\"url(#p3e09687f26)\" style=\"fill: none; stroke: #c2c2c2; stroke-width: 0.5; stroke-linecap: square\"/>\n   </g>\n   <g id=\"line2d_2\">\n    <path d=\"M 97.72254 13.762608  L 164.31426 13.762608  \" clip-path=\"url(#p3e09687f26)\" style=\"fill: none; stroke: #c2c2c2; stroke-width: 0.5; stroke-linecap: square\"/>\n   </g>\n   <g id=\"line2d_3\">\n    <path d=\"M 182.59434 13.762608  L 268.77186 13.762608  \" clip-path=\"url(#p3e09687f26)\" style=\"fill: none; stroke: #c2c2c2; stroke-width: 0.5; stroke-linecap: square\"/>\n   </g>\n   <g id=\"text_1\">\n    <!-- l -->\n    <g style=\"fill: #444443\" transform=\"translate(6.975 9.947031) scale(0.13 -0.13)\">\n     <defs>\n      <path id=\"DejaVuSansMono-6c\" d=\"M 1997 1269  Q 1997 881 2139 684  Q 2281 488 2559 488  L 3231 488  L 3231 0  L 2503 0  Q 1988 0 1705 331  Q 1422 663 1422 1269  L 1422 4447  L 500 4447  L 500 4897  L 1997 4897  L 1997 1269  z \" transform=\"scale(0.015625)\"/>\n     </defs>\n     <use xlink:href=\"#DejaVuSansMono-6c\"/>\n    </g>\n   </g>\n   <g id=\"text_2\">\n    <!-- 2 -->\n    <g style=\"fill: #444443\" transform=\"translate(13.5036 9.947031) scale(0.13 -0.13)\">\n     <defs>\n      <path id=\"DejaVuSansMono-32\" d=\"M 1166 531  L 3309 531  L 3309 0  L 475 0  L 475 531  Q 1059 1147 1496 1619  Q 1934 2091 2100 2284  Q 2413 2666 2522 2902  Q 2631 3138 2631 3384  Q 2631 3775 2401 3997  Q 2172 4219 1772 4219  Q 1488 4219 1175 4116  Q 863 4013 513 3803  L 513 4441  Q 834 4594 1145 4672  Q 1456 4750 1759 4750  Q 2444 4750 2861 4386  Q 3278 4022 3278 3431  Q 3278 3131 3139 2831  Q 3000 2531 2688 2169  Q 2513 1966 2180 1606  Q 1847 1247 1166 531  z \" transform=\"scale(0.015625)\"/>\n     </defs>\n     <use xlink:href=\"#DejaVuSansMono-32\"/>\n    </g>\n   </g>\n   <g id=\"text_3\">\n    <!-- _ -->\n    <g style=\"fill: #444443\" transform=\"translate(20.0322 9.947031) scale(0.13 -0.13)\">\n     <defs>\n      <path id=\"DejaVuSansMono-5f\" d=\"M 3853 -1259  L 3853 -1509  L 0 -1509  L 0 -1259  L 3853 -1259  z \" transform=\"scale(0.015625)\"/>\n     </defs>\n     <use xlink:href=\"#DejaVuSansMono-5f\"/>\n    </g>\n   </g>\n   <g id=\"text_4\">\n    <!-- w -->\n    <g style=\"fill: #444443\" transform=\"translate(26.5608 9.947031) scale(0.13 -0.13)\">\n     <defs>\n      <path id=\"DejaVuSansMono-77\" d=\"M 0 3500  L 569 3500  L 1178 672  L 1678 2478  L 2169 2478  L 2675 672  L 3284 3500  L 3853 3500  L 3034 0  L 2484 0  L 1925 1919  L 1369 0  L 819 0  L 0 3500  z \" transform=\"scale(0.015625)\"/>\n     </defs>\n     <use xlink:href=\"#DejaVuSansMono-77\"/>\n    </g>\n   </g>\n   <g id=\"text_5\">\n    <!-- e -->\n    <g style=\"fill: #444443\" transform=\"translate(33.0894 9.947031) scale(0.13 -0.13)\">\n     <defs>\n      <path id=\"DejaVuSansMono-65\" d=\"M 3475 1894  L 3475 1613  L 984 1613  L 984 1594  Q 984 1022 1282 709  Q 1581 397 2125 397  Q 2400 397 2700 484  Q 3000 572 3341 750  L 3341 178  Q 3013 44 2708 -23  Q 2403 -91 2119 -91  Q 1303 -91 843 398  Q 384 888 384 1747  Q 384 2584 834 3084  Q 1284 3584 2034 3584  Q 2703 3584 3089 3131  Q 3475 2678 3475 1894  z M 2900 2063  Q 2888 2569 2661 2833  Q 2434 3097 2009 3097  Q 1594 3097 1325 2822  Q 1056 2547 1006 2059  L 2900 2063  z \" transform=\"scale(0.015625)\"/>\n     </defs>\n     <use xlink:href=\"#DejaVuSansMono-65\"/>\n    </g>\n   </g>\n   <g id=\"text_6\">\n    <!-- i -->\n    <g style=\"fill: #444443\" transform=\"translate(39.618 9.947031) scale(0.13 -0.13)\">\n     <defs>\n      <path id=\"DejaVuSansMono-69\" d=\"M 800 3500  L 2272 3500  L 2272 447  L 3413 447  L 3413 0  L 556 0  L 556 447  L 1697 447  L 1697 3053  L 800 3053  L 800 3500  z M 1697 4863  L 2272 4863  L 2272 4134  L 1697 4134  L 1697 4863  z \" transform=\"scale(0.015625)\"/>\n     </defs>\n     <use xlink:href=\"#DejaVuSansMono-69\"/>\n    </g>\n   </g>\n   <g id=\"text_7\">\n    <!-- g -->\n    <g style=\"fill: #444443\" transform=\"translate(46.1466 9.947031) scale(0.13 -0.13)\">\n     <defs>\n      <path id=\"DejaVuSansMono-67\" d=\"M 2681 1778  Q 2681 2425 2470 2761  Q 2259 3097 1856 3097  Q 1434 3097 1212 2761  Q 991 2425 991 1778  Q 991 1131 1214 792  Q 1438 453 1863 453  Q 2259 453 2470 793  Q 2681 1134 2681 1778  z M 3256 225  Q 3256 -563 2884 -969  Q 2513 -1375 1791 -1375  Q 1553 -1375 1293 -1331  Q 1034 -1288 775 -1203  L 775 -634  Q 1081 -778 1331 -847  Q 1581 -916 1791 -916  Q 2256 -916 2468 -662  Q 2681 -409 2681 141  L 2681 166  L 2681 556  Q 2544 263 2306 119  Q 2069 -25 1728 -25  Q 1116 -25 750 465  Q 384 956 384 1778  Q 384 2603 750 3093  Q 1116 3584 1728 3584  Q 2066 3584 2300 3450  Q 2534 3316 2681 3034  L 2681 3488  L 3256 3488  L 3256 225  z \" transform=\"scale(0.015625)\"/>\n     </defs>\n     <use xlink:href=\"#DejaVuSansMono-67\"/>\n    </g>\n   </g>\n   <g id=\"text_8\">\n    <!-- h -->\n    <g style=\"fill: #444443\" transform=\"translate(52.6752 9.947031) scale(0.13 -0.13)\">\n     <defs>\n      <path id=\"DejaVuSansMono-68\" d=\"M 3284 2169  L 3284 0  L 2706 0  L 2706 2169  Q 2706 2641 2540 2862  Q 2375 3084 2022 3084  Q 1619 3084 1401 2798  Q 1184 2513 1184 1978  L 1184 0  L 609 0  L 609 4863  L 1184 4863  L 1184 2975  Q 1338 3275 1600 3429  Q 1863 3584 2222 3584  Q 2756 3584 3020 3232  Q 3284 2881 3284 2169  z \" transform=\"scale(0.015625)\"/>\n     </defs>\n     <use xlink:href=\"#DejaVuSansMono-68\"/>\n    </g>\n   </g>\n   <g id=\"text_9\">\n    <!-- t -->\n    <g style=\"fill: #444443\" transform=\"translate(59.2038 9.947031) scale(0.13 -0.13)\">\n     <defs>\n      <path id=\"DejaVuSansMono-74\" d=\"M 1919 4494  L 1919 3500  L 3225 3500  L 3225 3053  L 1919 3053  L 1919 1153  Q 1919 766 2066 612  Q 2213 459 2578 459  L 3225 459  L 3225 0  L 2522 0  Q 1875 0 1609 259  Q 1344 519 1344 1153  L 1344 3053  L 409 3053  L 409 3500  L 1344 3500  L 1344 4494  L 1919 4494  z \" transform=\"scale(0.015625)\"/>\n     </defs>\n     <use xlink:href=\"#DejaVuSansMono-74\"/>\n    </g>\n   </g>\n   <g id=\"text_10\">\n    <!-- s -->\n    <g style=\"fill: #444443\" transform=\"translate(65.7324 9.947031) scale(0.13 -0.13)\">\n     <defs>\n      <path id=\"DejaVuSansMono-73\" d=\"M 3041 3378  L 3041 2816  Q 2794 2959 2544 3031  Q 2294 3103 2034 3103  Q 1644 3103 1451 2976  Q 1259 2850 1259 2591  Q 1259 2356 1403 2240  Q 1547 2125 2119 2016  L 2350 1972  Q 2778 1891 2998 1647  Q 3219 1403 3219 1013  Q 3219 494 2850 201  Q 2481 -91 1825 -91  Q 1566 -91 1281 -36  Q 997 19 666 128  L 666 722  Q 988 556 1281 473  Q 1575 391 1838 391  Q 2219 391 2428 545  Q 2638 700 2638 978  Q 2638 1378 1872 1531  L 1847 1538  L 1631 1581  Q 1134 1678 906 1908  Q 678 2138 678 2534  Q 678 3038 1018 3311  Q 1359 3584 1991 3584  Q 2272 3584 2531 3532  Q 2791 3481 3041 3378  z \" transform=\"scale(0.015625)\"/>\n     </defs>\n     <use xlink:href=\"#DejaVuSansMono-73\"/>\n    </g>\n   </g>\n   <g id=\"text_11\">\n    <!--   -->\n    <g style=\"fill: #444443\" transform=\"translate(72.261 9.947031) scale(0.13 -0.13)\">\n     <defs>\n      <path id=\"DejaVuSansMono-20\" transform=\"scale(0.015625)\"/>\n     </defs>\n     <use xlink:href=\"#DejaVuSansMono-20\"/>\n    </g>\n   </g>\n   <g id=\"text_12\">\n    <!-- = -->\n    <g style=\"fill: #444443\" transform=\"translate(78.7896 9.947031) scale(0.13 -0.13)\">\n     <defs>\n      <path id=\"DejaVuSansMono-3d\" d=\"M 275 1638  L 3578 1638  L 3578 1100  L 275 1100  L 275 1638  z M 275 2906  L 3578 2906  L 3578 2375  L 275 2375  L 275 2906  z \" transform=\"scale(0.015625)\"/>\n     </defs>\n     <use xlink:href=\"#DejaVuSansMono-3d\"/>\n    </g>\n   </g>\n   <g id=\"text_13\">\n    <!--   -->\n    <g style=\"fill: #444443\" transform=\"translate(85.3182 9.947031) scale(0.13 -0.13)\">\n     <use xlink:href=\"#DejaVuSansMono-20\"/>\n    </g>\n   </g>\n   <g id=\"text_14\">\n    <!--   -->\n    <g style=\"fill: #444443\" transform=\"translate(91.8468 9.947031) scale(0.13 -0.13)\">\n     <use xlink:href=\"#DejaVuSansMono-20\"/>\n    </g>\n   </g>\n   <g id=\"text_15\">\n    <!-- l -->\n    <g style=\"fill: #444443\" transform=\"translate(98.3754 9.947031) scale(0.13 -0.13)\">\n     <use xlink:href=\"#DejaVuSansMono-6c\"/>\n    </g>\n   </g>\n   <g id=\"text_16\">\n    <!-- 2 -->\n    <g style=\"fill: #444443\" transform=\"translate(104.904 9.947031) scale(0.13 -0.13)\">\n     <use xlink:href=\"#DejaVuSansMono-32\"/>\n    </g>\n   </g>\n   <g id=\"text_17\">\n    <!-- _ -->\n    <g style=\"fill: #444443\" transform=\"translate(111.4326 9.947031) scale(0.13 -0.13)\">\n     <use xlink:href=\"#DejaVuSansMono-5f\"/>\n    </g>\n   </g>\n   <g id=\"text_18\">\n    <!-- w -->\n    <g style=\"fill: #444443\" transform=\"translate(117.9612 9.947031) scale(0.13 -0.13)\">\n     <use xlink:href=\"#DejaVuSansMono-77\"/>\n    </g>\n   </g>\n   <g id=\"text_19\">\n    <!-- e -->\n    <g style=\"fill: #444443\" transform=\"translate(124.4898 9.947031) scale(0.13 -0.13)\">\n     <use xlink:href=\"#DejaVuSansMono-65\"/>\n    </g>\n   </g>\n   <g id=\"text_20\">\n    <!-- i -->\n    <g style=\"fill: #444443\" transform=\"translate(131.0184 9.947031) scale(0.13 -0.13)\">\n     <use xlink:href=\"#DejaVuSansMono-69\"/>\n    </g>\n   </g>\n   <g id=\"text_21\">\n    <!-- g -->\n    <g style=\"fill: #444443\" transform=\"translate(137.547 9.947031) scale(0.13 -0.13)\">\n     <use xlink:href=\"#DejaVuSansMono-67\"/>\n    </g>\n   </g>\n   <g id=\"text_22\">\n    <!-- h -->\n    <g style=\"fill: #444443\" transform=\"translate(144.0756 9.947031) scale(0.13 -0.13)\">\n     <use xlink:href=\"#DejaVuSansMono-68\"/>\n    </g>\n   </g>\n   <g id=\"text_23\">\n    <!-- t -->\n    <g style=\"fill: #444443\" transform=\"translate(150.6042 9.947031) scale(0.13 -0.13)\">\n     <use xlink:href=\"#DejaVuSansMono-74\"/>\n    </g>\n   </g>\n   <g id=\"text_24\">\n    <!-- s -->\n    <g style=\"fill: #444443\" transform=\"translate(157.1328 9.947031) scale(0.13 -0.13)\">\n     <use xlink:href=\"#DejaVuSansMono-73\"/>\n    </g>\n   </g>\n   <g id=\"text_25\">\n    <!--   -->\n    <g style=\"fill: #444443\" transform=\"translate(163.6614 9.947031) scale(0.13 -0.13)\">\n     <use xlink:href=\"#DejaVuSansMono-20\"/>\n    </g>\n   </g>\n   <g id=\"text_26\">\n    <!-- - -->\n    <g style=\"fill: #444443\" transform=\"translate(170.19 9.947031) scale(0.13 -0.13)\">\n     <defs>\n      <path id=\"DejaVuSansMono-2d\" d=\"M 1113 2009  L 2741 2009  L 2741 1497  L 1113 1497  L 1113 2009  z \" transform=\"scale(0.015625)\"/>\n     </defs>\n     <use xlink:href=\"#DejaVuSansMono-2d\"/>\n    </g>\n   </g>\n   <g id=\"text_27\">\n    <!--   -->\n    <g style=\"fill: #444443\" transform=\"translate(176.7186 9.947031) scale(0.13 -0.13)\">\n     <use xlink:href=\"#DejaVuSansMono-20\"/>\n    </g>\n   </g>\n   <g id=\"text_28\">\n    <!-- l -->\n    <g style=\"fill: #444443\" transform=\"translate(183.2472 9.947031) scale(0.13 -0.13)\">\n     <use xlink:href=\"#DejaVuSansMono-6c\"/>\n    </g>\n   </g>\n   <g id=\"text_29\">\n    <!-- 2 -->\n    <g style=\"fill: #444443\" transform=\"translate(189.7758 9.947031) scale(0.13 -0.13)\">\n     <use xlink:href=\"#DejaVuSansMono-32\"/>\n    </g>\n   </g>\n   <g id=\"text_30\">\n    <!-- _ -->\n    <g style=\"fill: #444443\" transform=\"translate(196.3044 9.947031) scale(0.13 -0.13)\">\n     <use xlink:href=\"#DejaVuSansMono-5f\"/>\n    </g>\n   </g>\n   <g id=\"text_31\">\n    <!-- w -->\n    <g style=\"fill: #444443\" transform=\"translate(202.833 9.947031) scale(0.13 -0.13)\">\n     <use xlink:href=\"#DejaVuSansMono-77\"/>\n    </g>\n   </g>\n   <g id=\"text_32\">\n    <!-- _ -->\n    <g style=\"fill: #444443\" transform=\"translate(209.3616 9.947031) scale(0.13 -0.13)\">\n     <use xlink:href=\"#DejaVuSansMono-5f\"/>\n    </g>\n   </g>\n   <g id=\"text_33\">\n    <!-- g -->\n    <g style=\"fill: #444443\" transform=\"translate(215.8902 9.947031) scale(0.13 -0.13)\">\n     <use xlink:href=\"#DejaVuSansMono-67\"/>\n    </g>\n   </g>\n   <g id=\"text_34\">\n    <!-- r -->\n    <g style=\"fill: #444443\" transform=\"translate(222.4188 9.947031) scale(0.13 -0.13)\">\n     <defs>\n      <path id=\"DejaVuSansMono-72\" d=\"M 3609 2778  Q 3425 2922 3234 2987  Q 3044 3053 2816 3053  Q 2278 3053 1993 2715  Q 1709 2378 1709 1741  L 1709 0  L 1131 0  L 1131 3500  L 1709 3500  L 1709 2816  Q 1853 3188 2151 3386  Q 2450 3584 2859 3584  Q 3072 3584 3256 3531  Q 3441 3478 3609 3366  L 3609 2778  z \" transform=\"scale(0.015625)\"/>\n     </defs>\n     <use xlink:href=\"#DejaVuSansMono-72\"/>\n    </g>\n   </g>\n   <g id=\"text_35\">\n    <!-- a -->\n    <g style=\"fill: #444443\" transform=\"translate(228.9474 9.947031) scale(0.13 -0.13)\">\n     <defs>\n      <path id=\"DejaVuSansMono-61\" d=\"M 2194 1759  L 2003 1759  Q 1500 1759 1245 1582  Q 991 1406 991 1056  Q 991 741 1181 566  Q 1372 391 1709 391  Q 2184 391 2456 720  Q 2728 1050 2731 1631  L 2731 1759  L 2194 1759  z M 3309 1997  L 3309 0  L 2731 0  L 2731 519  Q 2547 206 2267 57  Q 1988 -91 1588 -91  Q 1053 -91 734 211  Q 416 513 416 1019  Q 416 1603 808 1906  Q 1200 2209 1959 2209  L 2731 2209  L 2731 2300  Q 2728 2719 2518 2908  Q 2309 3097 1850 3097  Q 1556 3097 1256 3012  Q 956 2928 672 2766  L 672 3341  Q 991 3463 1283 3523  Q 1575 3584 1850 3584  Q 2284 3584 2592 3456  Q 2900 3328 3091 3072  Q 3209 2916 3259 2686  Q 3309 2456 3309 1997  z \" transform=\"scale(0.015625)\"/>\n     </defs>\n     <use xlink:href=\"#DejaVuSansMono-61\"/>\n    </g>\n   </g>\n   <g id=\"text_36\">\n    <!-- d -->\n    <g style=\"fill: #444443\" transform=\"translate(235.476 9.947031) scale(0.13 -0.13)\">\n     <defs>\n      <path id=\"DejaVuSansMono-64\" d=\"M 2681 3053  L 2681 4863  L 3256 4863  L 3256 0  L 2681 0  L 2681 441  Q 2538 181 2298 45  Q 2059 -91 1747 -91  Q 1113 -91 748 401  Q 384 894 384 1759  Q 384 2613 750 3098  Q 1116 3584 1747 3584  Q 2063 3584 2303 3448  Q 2544 3313 2681 3053  z M 991 1747  Q 991 1078 1203 737  Q 1416 397 1831 397  Q 2247 397 2464 740  Q 2681 1084 2681 1747  Q 2681 2413 2464 2755  Q 2247 3097 1831 3097  Q 1416 3097 1203 2756  Q 991 2416 991 1747  z \" transform=\"scale(0.015625)\"/>\n     </defs>\n     <use xlink:href=\"#DejaVuSansMono-64\"/>\n    </g>\n   </g>\n   <g id=\"text_37\">\n    <!-- i -->\n    <g style=\"fill: #444443\" transform=\"translate(242.0046 9.947031) scale(0.13 -0.13)\">\n     <use xlink:href=\"#DejaVuSansMono-69\"/>\n    </g>\n   </g>\n   <g id=\"text_38\">\n    <!-- e -->\n    <g style=\"fill: #444443\" transform=\"translate(248.5332 9.947031) scale(0.13 -0.13)\">\n     <use xlink:href=\"#DejaVuSansMono-65\"/>\n    </g>\n   </g>\n   <g id=\"text_39\">\n    <!-- n -->\n    <g style=\"fill: #444443\" transform=\"translate(255.0618 9.947031) scale(0.13 -0.13)\">\n     <defs>\n      <path id=\"DejaVuSansMono-6e\" d=\"M 3284 2169  L 3284 0  L 2706 0  L 2706 2169  Q 2706 2641 2540 2862  Q 2375 3084 2022 3084  Q 1619 3084 1401 2798  Q 1184 2513 1184 1978  L 1184 0  L 609 0  L 609 3500  L 1184 3500  L 1184 2975  Q 1338 3275 1600 3429  Q 1863 3584 2222 3584  Q 2756 3584 3020 3232  Q 3284 2881 3284 2169  z \" transform=\"scale(0.015625)\"/>\n     </defs>\n     <use xlink:href=\"#DejaVuSansMono-6e\"/>\n    </g>\n   </g>\n   <g id=\"text_40\">\n    <!-- t -->\n    <g style=\"fill: #444443\" transform=\"translate(261.5904 9.947031) scale(0.13 -0.13)\">\n     <use xlink:href=\"#DejaVuSansMono-74\"/>\n    </g>\n   </g>\n   <g id=\"text_41\">\n    <!--   -->\n    <g style=\"fill: #444443\" transform=\"translate(268.119 9.947031) scale(0.13 -0.13)\">\n     <use xlink:href=\"#DejaVuSansMono-20\"/>\n    </g>\n   </g>\n   <g id=\"text_42\">\n    <!-- * -->\n    <g style=\"fill: #444443\" transform=\"translate(274.6476 9.947031) scale(0.13 -0.13)\">\n     <defs>\n      <path id=\"DejaVuSansMono-2a\" d=\"M 3334 3897  L 2216 3291  L 3334 2681  L 3156 2375  L 2106 3009  L 2106 1831  L 1747 1831  L 1747 3009  L 697 2375  L 519 2681  L 1638 3291  L 519 3897  L 697 4206  L 1747 3572  L 1747 4750  L 2106 4750  L 2106 3572  L 3156 4206  L 3334 3897  z \" transform=\"scale(0.015625)\"/>\n     </defs>\n     <use xlink:href=\"#DejaVuSansMono-2a\"/>\n    </g>\n   </g>\n   <g id=\"text_43\">\n    <!--   -->\n    <g style=\"fill: #444443\" transform=\"translate(281.1762 9.947031) scale(0.13 -0.13)\">\n     <use xlink:href=\"#DejaVuSansMono-20\"/>\n    </g>\n   </g>\n   <g id=\"text_44\">\n    <!-- l -->\n    <g style=\"fill: #444443\" transform=\"translate(287.7048 9.947031) scale(0.13 -0.13)\">\n     <use xlink:href=\"#DejaVuSansMono-6c\"/>\n    </g>\n   </g>\n   <g id=\"text_45\">\n    <!-- r -->\n    <g style=\"fill: #444443\" transform=\"translate(294.2334 9.947031) scale(0.13 -0.13)\">\n     <use xlink:href=\"#DejaVuSansMono-72\"/>\n    </g>\n   </g>\n   <g id=\"text_46\">\n    <!-- 2 -->\n    <g transform=\"translate(35.134841 37.897572) rotate(-90) scale(0.09 -0.09)\">\n     <defs>\n      <path id=\"DejaVuSans-32\" d=\"M 1228 531  L 3431 531  L 3431 0  L 469 0  L 469 531  Q 828 903 1448 1529  Q 2069 2156 2228 2338  Q 2531 2678 2651 2914  Q 2772 3150 2772 3378  Q 2772 3750 2511 3984  Q 2250 4219 1831 4219  Q 1534 4219 1204 4116  Q 875 4013 500 3803  L 500 4441  Q 881 4594 1212 4672  Q 1544 4750 1819 4750  Q 2544 4750 2975 4387  Q 3406 4025 3406 3419  Q 3406 3131 3298 2873  Q 3191 2616 2906 2266  Q 2828 2175 2409 1742  Q 1991 1309 1228 531  z \" transform=\"scale(0.015625)\"/>\n     </defs>\n     <use xlink:href=\"#DejaVuSans-32\"/>\n    </g>\n   </g>\n   <g id=\"text_47\">\n    <!-- 1 -->\n    <g transform=\"translate(36.754875 22.297107) scale(0.09 -0.09)\">\n     <defs>\n      <path id=\"DejaVuSans-31\" d=\"M 794 531  L 1825 531  L 1825 4091  L 703 3866  L 703 4441  L 1819 4666  L 2450 4666  L 2450 531  L 3481 531  L 3481 0  L 794 0  L 794 531  z \" transform=\"scale(0.015625)\"/>\n     </defs>\n     <use xlink:href=\"#DejaVuSans-31\"/>\n    </g>\n   </g>\n   <g id=\"text_48\">\n    <!-- &lt;${\\mathit{float64}}$&gt; -->\n    <g transform=\"translate(21.418 53.090693) scale(0.07 -0.07)\">\n     <defs>\n      <path id=\"DejaVuSans-3c\" d=\"M 4684 3150  L 1459 2003  L 4684 863  L 4684 294  L 678 1747  L 678 2266  L 4684 3719  L 4684 3150  z \" transform=\"scale(0.015625)\"/>\n      <path id=\"DejaVuSans-Oblique-66\" d=\"M 3059 4863  L 2969 4384  L 2419 4384  Q 2106 4384 1964 4261  Q 1822 4138 1753 3809  L 1691 3500  L 2638 3500  L 2553 3053  L 1606 3053  L 1013 0  L 434 0  L 1031 3053  L 481 3053  L 563 3500  L 1113 3500  L 1159 3744  Q 1278 4363 1576 4613  Q 1875 4863 2516 4863  L 3059 4863  z \" transform=\"scale(0.015625)\"/>\n      <path id=\"DejaVuSans-Oblique-6c\" d=\"M 1172 4863  L 1747 4863  L 800 0  L 225 0  L 1172 4863  z \" transform=\"scale(0.015625)\"/>\n      <path id=\"DejaVuSans-Oblique-6f\" d=\"M 1625 -91  Q 1009 -91 651 289  Q 294 669 294 1325  Q 294 1706 417 2101  Q 541 2497 738 2766  Q 1047 3184 1428 3384  Q 1809 3584 2291 3584  Q 2888 3584 3255 3212  Q 3622 2841 3622 2241  Q 3622 1825 3500 1412  Q 3378 1000 3181 728  Q 2875 309 2494 109  Q 2113 -91 1625 -91  z M 891 1344  Q 891 869 1089 633  Q 1288 397 1691 397  Q 2269 397 2648 901  Q 3028 1406 3028 2181  Q 3028 2634 2825 2865  Q 2622 3097 2228 3097  Q 1903 3097 1650 2945  Q 1397 2794 1197 2484  Q 1050 2253 970 1956  Q 891 1659 891 1344  z \" transform=\"scale(0.015625)\"/>\n      <path id=\"DejaVuSans-Oblique-61\" d=\"M 3438 1997  L 3047 0  L 2472 0  L 2578 531  Q 2325 219 2001 64  Q 1678 -91 1281 -91  Q 834 -91 548 182  Q 263 456 263 884  Q 263 1497 752 1853  Q 1241 2209 2100 2209  L 2900 2209  L 2931 2363  Q 2938 2388 2941 2417  Q 2944 2447 2944 2509  Q 2944 2788 2717 2942  Q 2491 3097 2081 3097  Q 1800 3097 1504 3025  Q 1209 2953 897 2809  L 997 3341  Q 1322 3463 1633 3523  Q 1944 3584 2234 3584  Q 2853 3584 3176 3315  Q 3500 3047 3500 2534  Q 3500 2431 3484 2292  Q 3469 2153 3438 1997  z M 2816 1759  L 2241 1759  Q 1534 1759 1195 1570  Q 856 1381 856 984  Q 856 709 1029 553  Q 1203 397 1509 397  Q 1978 397 2328 733  Q 2678 1069 2791 1631  L 2816 1759  z \" transform=\"scale(0.015625)\"/>\n      <path id=\"DejaVuSans-Oblique-74\" d=\"M 2706 3500  L 2619 3053  L 1472 3053  L 1100 1153  Q 1081 1047 1072 975  Q 1063 903 1063 863  Q 1063 663 1183 572  Q 1303 481 1569 481  L 2150 481  L 2053 0  L 1503 0  Q 991 0 739 200  Q 488 400 488 806  Q 488 878 497 964  Q 506 1050 525 1153  L 897 3053  L 409 3053  L 500 3500  L 978 3500  L 1172 4494  L 1747 4494  L 1556 3500  L 2706 3500  z \" transform=\"scale(0.015625)\"/>\n      <path id=\"DejaVuSans-36\" d=\"M 2113 2584  Q 1688 2584 1439 2293  Q 1191 2003 1191 1497  Q 1191 994 1439 701  Q 1688 409 2113 409  Q 2538 409 2786 701  Q 3034 994 3034 1497  Q 3034 2003 2786 2293  Q 2538 2584 2113 2584  z M 3366 4563  L 3366 3988  Q 3128 4100 2886 4159  Q 2644 4219 2406 4219  Q 1781 4219 1451 3797  Q 1122 3375 1075 2522  Q 1259 2794 1537 2939  Q 1816 3084 2150 3084  Q 2853 3084 3261 2657  Q 3669 2231 3669 1497  Q 3669 778 3244 343  Q 2819 -91 2113 -91  Q 1303 -91 875 529  Q 447 1150 447 2328  Q 447 3434 972 4092  Q 1497 4750 2381 4750  Q 2619 4750 2861 4703  Q 3103 4656 3366 4563  z \" transform=\"scale(0.015625)\"/>\n      <path id=\"DejaVuSans-34\" d=\"M 2419 4116  L 825 1625  L 2419 1625  L 2419 4116  z M 2253 4666  L 3047 4666  L 3047 1625  L 3713 1625  L 3713 1100  L 3047 1100  L 3047 0  L 2419 0  L 2419 1100  L 313 1100  L 313 1709  L 2253 4666  z \" transform=\"scale(0.015625)\"/>\n      <path id=\"DejaVuSans-3e\" d=\"M 678 3150  L 678 3719  L 4684 2266  L 4684 1747  L 678 294  L 678 863  L 3897 2003  L 678 3150  z \" transform=\"scale(0.015625)\"/>\n     </defs>\n     <use xlink:href=\"#DejaVuSans-3c\" transform=\"translate(0 0.015625)\"/>\n     <use xlink:href=\"#DejaVuSans-Oblique-66\" transform=\"translate(83.789062 0.015625)\"/>\n     <use xlink:href=\"#DejaVuSans-Oblique-6c\" transform=\"translate(118.994141 0.015625)\"/>\n     <use xlink:href=\"#DejaVuSans-Oblique-6f\" transform=\"translate(146.777344 0.015625)\"/>\n     <use xlink:href=\"#DejaVuSans-Oblique-61\" transform=\"translate(207.958984 0.015625)\"/>\n     <use xlink:href=\"#DejaVuSans-Oblique-74\" transform=\"translate(269.238281 0.015625)\"/>\n     <use xlink:href=\"#DejaVuSans-36\" transform=\"translate(308.447266 0.015625)\"/>\n     <use xlink:href=\"#DejaVuSans-34\" transform=\"translate(372.070312 0.015625)\"/>\n     <use xlink:href=\"#DejaVuSans-3e\" transform=\"translate(435.693359 0.015625)\"/>\n    </g>\n   </g>\n   <g id=\"text_49\">\n    <!-- 2 -->\n    <g transform=\"translate(126.535241 37.897572) rotate(-90) scale(0.09 -0.09)\">\n     <use xlink:href=\"#DejaVuSans-32\"/>\n    </g>\n   </g>\n   <g id=\"text_50\">\n    <!-- 1 -->\n    <g transform=\"translate(128.155275 22.297107) scale(0.09 -0.09)\">\n     <use xlink:href=\"#DejaVuSans-31\"/>\n    </g>\n   </g>\n   <g id=\"text_51\">\n    <!-- &lt;${\\mathit{float64}}$&gt; -->\n    <g transform=\"translate(112.8184 53.090693) scale(0.07 -0.07)\">\n     <use xlink:href=\"#DejaVuSans-3c\" transform=\"translate(0 0.015625)\"/>\n     <use xlink:href=\"#DejaVuSans-Oblique-66\" transform=\"translate(83.789062 0.015625)\"/>\n     <use xlink:href=\"#DejaVuSans-Oblique-6c\" transform=\"translate(118.994141 0.015625)\"/>\n     <use xlink:href=\"#DejaVuSans-Oblique-6f\" transform=\"translate(146.777344 0.015625)\"/>\n     <use xlink:href=\"#DejaVuSans-Oblique-61\" transform=\"translate(207.958984 0.015625)\"/>\n     <use xlink:href=\"#DejaVuSans-Oblique-74\" transform=\"translate(269.238281 0.015625)\"/>\n     <use xlink:href=\"#DejaVuSans-36\" transform=\"translate(308.447266 0.015625)\"/>\n     <use xlink:href=\"#DejaVuSans-34\" transform=\"translate(372.070312 0.015625)\"/>\n     <use xlink:href=\"#DejaVuSans-3e\" transform=\"translate(435.693359 0.015625)\"/>\n    </g>\n   </g>\n   <g id=\"text_52\">\n    <!-- 2 -->\n    <g transform=\"translate(221.199941 37.897572) rotate(-90) scale(0.09 -0.09)\">\n     <use xlink:href=\"#DejaVuSans-32\"/>\n    </g>\n   </g>\n   <g id=\"text_53\">\n    <!-- 1 -->\n    <g transform=\"translate(222.819975 22.297107) scale(0.09 -0.09)\">\n     <use xlink:href=\"#DejaVuSans-31\"/>\n    </g>\n   </g>\n   <g id=\"text_54\">\n    <!-- &lt;${\\mathit{float64}}$&gt; -->\n    <g transform=\"translate(207.4831 53.090693) scale(0.07 -0.07)\">\n     <use xlink:href=\"#DejaVuSans-3c\" transform=\"translate(0 0.015625)\"/>\n     <use xlink:href=\"#DejaVuSans-Oblique-66\" transform=\"translate(83.789062 0.015625)\"/>\n     <use xlink:href=\"#DejaVuSans-Oblique-6c\" transform=\"translate(118.994141 0.015625)\"/>\n     <use xlink:href=\"#DejaVuSans-Oblique-6f\" transform=\"translate(146.777344 0.015625)\"/>\n     <use xlink:href=\"#DejaVuSans-Oblique-61\" transform=\"translate(207.958984 0.015625)\"/>\n     <use xlink:href=\"#DejaVuSans-Oblique-74\" transform=\"translate(269.238281 0.015625)\"/>\n     <use xlink:href=\"#DejaVuSans-36\" transform=\"translate(308.447266 0.015625)\"/>\n     <use xlink:href=\"#DejaVuSans-34\" transform=\"translate(372.070312 0.015625)\"/>\n     <use xlink:href=\"#DejaVuSans-3e\" transform=\"translate(435.693359 0.015625)\"/>\n    </g>\n   </g>\n  </g>\n </g>\n <defs>\n  <clipPath id=\"p3e09687f26\">\n   <rect x=\"0\" y=\"4.901991\" width=\"300.762\" height=\"42.315395\"/>\n  </clipPath>\n </defs>\n</svg>"
          },
          "metadata": {}
        }
      ]
    },
    {
      "cell_type": "code",
      "source": [
        "l2_weights, l2_bias"
      ],
      "metadata": {
        "colab": {
          "base_uri": "https://localhost:8080/"
        },
        "id": "mFSSVeXxKaG4",
        "outputId": "fa37fa15-2d7e-4e15-e87b-138607d68388"
      },
      "execution_count": null,
      "outputs": [
        {
          "output_type": "execute_result",
          "data": {
            "text/plain": [
              "(array([[0.53824802],\n",
              "        [0.20696692]]),\n",
              " array([[5.0000525]]))"
            ]
          },
          "metadata": {},
          "execution_count": 37
        }
      ]
    },
    {
      "cell_type": "markdown",
      "source": [
        "### **Calculate Layer 1 Gradient :**"
      ],
      "metadata": {
        "id": "jKaFD92-Ks3v"
      }
    },
    {
      "cell_type": "code",
      "source": [
        "with tsensor.explain():\n",
        "  l1_activated_gradient = output_gradient @ l2_weights.T\n",
        "l1_activated_gradient"
      ],
      "metadata": {
        "colab": {
          "base_uri": "https://localhost:8080/",
          "height": 181
        },
        "id": "eRNesWVwLRKE",
        "outputId": "cc7e8101-fe34-4ac3-8bed-22e5a0600a10"
      },
      "execution_count": null,
      "outputs": [
        {
          "output_type": "display_data",
          "data": {
            "text/plain": [
              "<IPython.core.display.SVG object>"
            ],
            "image/svg+xml": "<svg xmlns:xlink=\"http://www.w3.org/1999/xlink\" xmlns=\"http://www.w3.org/2000/svg\" width=\"360.817206pt\" height=\"54.546474pt\" viewBox=\"0 0 360.817206 54.546474\" version=\"1.1\">\n <metadata>\n  <rdf:RDF xmlns:dc=\"http://purl.org/dc/elements/1.1/\" xmlns:cc=\"http://creativecommons.org/ns#\" xmlns:rdf=\"http://www.w3.org/1999/02/22-rdf-syntax-ns#\">\n   <cc:Work>\n    <dc:type rdf:resource=\"http://purl.org/dc/dcmitype/StillImage\"/>\n    <dc:date>2025-06-21T13:16:05.152323</dc:date>\n    <dc:format>image/svg+xml</dc:format>\n    <dc:creator>\n     <cc:Agent>\n      <dc:title>Matplotlib v3.10.0, https://matplotlib.org/</dc:title>\n     </cc:Agent>\n    </dc:creator>\n   </cc:Work>\n  </rdf:RDF>\n </metadata>\n <defs>\n  <style type=\"text/css\">*{stroke-linejoin: round; stroke-linecap: butt}</style>\n </defs>\n <g id=\"figure_1\">\n  <g id=\"patch_1\">\n   <path d=\"M 0 54.546474  L 360.817206 54.546474  L 360.817206 0  L 0 0  z \" style=\"fill: #ffffff\"/>\n  </g>\n  <g id=\"axes_1\">\n   <g id=\"patch_2\">\n    <path d=\"M 64.10025 46.385787  L 86.95035 46.385787  L 86.95035 23.683107  L 64.10025 23.683107  z \" clip-path=\"url(#pbdaf725ccf)\" style=\"fill: #a8e1b0; fill-opacity: 0.75; stroke: #808080; stroke-width: 0.7; stroke-linejoin: miter\"/>\n   </g>\n   <g id=\"patch_3\">\n    <path d=\"M 210.01446 46.385787  L 215.23734 46.385787  L 215.23734 23.683107  L 210.01446 23.683107  z \" clip-path=\"url(#pbdaf725ccf)\" style=\"fill: #a8e1b0; fill-opacity: 0.75; stroke: #808080; stroke-width: 0.7; stroke-linejoin: miter\"/>\n   </g>\n   <g id=\"patch_4\">\n    <path d=\"M 308.92275 28.872291  L 331.77285 28.872291  L 331.77285 23.683107  L 308.92275 23.683107  z \" clip-path=\"url(#pbdaf725ccf)\" style=\"fill: #a8e1b0; fill-opacity: 0.75; stroke: #808080; stroke-width: 0.7; stroke-linejoin: miter\"/>\n   </g>\n   <g id=\"line2d_1\">\n    <path d=\"M 6.32214 13.762608  L 144.72846 13.762608  \" clip-path=\"url(#pbdaf725ccf)\" style=\"fill: none; stroke: #c2c2c2; stroke-width: 0.5; stroke-linecap: square\"/>\n   </g>\n   <g id=\"line2d_2\">\n    <path d=\"M 163.00854 13.762608  L 262.24326 13.762608  \" clip-path=\"url(#pbdaf725ccf)\" style=\"fill: none; stroke: #c2c2c2; stroke-width: 0.5; stroke-linecap: square\"/>\n   </g>\n   <g id=\"line2d_3\">\n    <path d=\"M 280.52334 13.762608  L 360.17226 13.762608  \" clip-path=\"url(#pbdaf725ccf)\" style=\"fill: none; stroke: #c2c2c2; stroke-width: 0.5; stroke-linecap: square\"/>\n   </g>\n   <g id=\"text_1\">\n    <!-- l -->\n    <g style=\"fill: #444443\" transform=\"translate(6.975 9.947031) scale(0.13 -0.13)\">\n     <defs>\n      <path id=\"DejaVuSansMono-6c\" d=\"M 1997 1269  Q 1997 881 2139 684  Q 2281 488 2559 488  L 3231 488  L 3231 0  L 2503 0  Q 1988 0 1705 331  Q 1422 663 1422 1269  L 1422 4447  L 500 4447  L 500 4897  L 1997 4897  L 1997 1269  z \" transform=\"scale(0.015625)\"/>\n     </defs>\n     <use xlink:href=\"#DejaVuSansMono-6c\"/>\n    </g>\n   </g>\n   <g id=\"text_2\">\n    <!-- 1 -->\n    <g style=\"fill: #444443\" transform=\"translate(13.5036 9.947031) scale(0.13 -0.13)\">\n     <defs>\n      <path id=\"DejaVuSansMono-31\" d=\"M 844 531  L 1825 531  L 1825 4097  L 769 3859  L 769 4434  L 1819 4666  L 2450 4666  L 2450 531  L 3419 531  L 3419 0  L 844 0  L 844 531  z \" transform=\"scale(0.015625)\"/>\n     </defs>\n     <use xlink:href=\"#DejaVuSansMono-31\"/>\n    </g>\n   </g>\n   <g id=\"text_3\">\n    <!-- _ -->\n    <g style=\"fill: #444443\" transform=\"translate(20.0322 9.947031) scale(0.13 -0.13)\">\n     <defs>\n      <path id=\"DejaVuSansMono-5f\" d=\"M 3853 -1259  L 3853 -1509  L 0 -1509  L 0 -1259  L 3853 -1259  z \" transform=\"scale(0.015625)\"/>\n     </defs>\n     <use xlink:href=\"#DejaVuSansMono-5f\"/>\n    </g>\n   </g>\n   <g id=\"text_4\">\n    <!-- a -->\n    <g style=\"fill: #444443\" transform=\"translate(26.5608 9.947031) scale(0.13 -0.13)\">\n     <defs>\n      <path id=\"DejaVuSansMono-61\" d=\"M 2194 1759  L 2003 1759  Q 1500 1759 1245 1582  Q 991 1406 991 1056  Q 991 741 1181 566  Q 1372 391 1709 391  Q 2184 391 2456 720  Q 2728 1050 2731 1631  L 2731 1759  L 2194 1759  z M 3309 1997  L 3309 0  L 2731 0  L 2731 519  Q 2547 206 2267 57  Q 1988 -91 1588 -91  Q 1053 -91 734 211  Q 416 513 416 1019  Q 416 1603 808 1906  Q 1200 2209 1959 2209  L 2731 2209  L 2731 2300  Q 2728 2719 2518 2908  Q 2309 3097 1850 3097  Q 1556 3097 1256 3012  Q 956 2928 672 2766  L 672 3341  Q 991 3463 1283 3523  Q 1575 3584 1850 3584  Q 2284 3584 2592 3456  Q 2900 3328 3091 3072  Q 3209 2916 3259 2686  Q 3309 2456 3309 1997  z \" transform=\"scale(0.015625)\"/>\n     </defs>\n     <use xlink:href=\"#DejaVuSansMono-61\"/>\n    </g>\n   </g>\n   <g id=\"text_5\">\n    <!-- c -->\n    <g style=\"fill: #444443\" transform=\"translate(33.0894 9.947031) scale(0.13 -0.13)\">\n     <defs>\n      <path id=\"DejaVuSansMono-63\" d=\"M 3316 178  Q 3084 44 2839 -23  Q 2594 -91 2338 -91  Q 1525 -91 1067 396  Q 609 884 609 1747  Q 609 2609 1067 3096  Q 1525 3584 2338 3584  Q 2591 3584 2831 3518  Q 3072 3453 3316 3316  L 3316 2713  Q 3088 2916 2858 3006  Q 2628 3097 2338 3097  Q 1797 3097 1506 2747  Q 1216 2397 1216 1747  Q 1216 1100 1508 748  Q 1800 397 2338 397  Q 2638 397 2875 489  Q 3113 581 3316 775  L 3316 178  z \" transform=\"scale(0.015625)\"/>\n     </defs>\n     <use xlink:href=\"#DejaVuSansMono-63\"/>\n    </g>\n   </g>\n   <g id=\"text_6\">\n    <!-- t -->\n    <g style=\"fill: #444443\" transform=\"translate(39.618 9.947031) scale(0.13 -0.13)\">\n     <defs>\n      <path id=\"DejaVuSansMono-74\" d=\"M 1919 4494  L 1919 3500  L 3225 3500  L 3225 3053  L 1919 3053  L 1919 1153  Q 1919 766 2066 612  Q 2213 459 2578 459  L 3225 459  L 3225 0  L 2522 0  Q 1875 0 1609 259  Q 1344 519 1344 1153  L 1344 3053  L 409 3053  L 409 3500  L 1344 3500  L 1344 4494  L 1919 4494  z \" transform=\"scale(0.015625)\"/>\n     </defs>\n     <use xlink:href=\"#DejaVuSansMono-74\"/>\n    </g>\n   </g>\n   <g id=\"text_7\">\n    <!-- i -->\n    <g style=\"fill: #444443\" transform=\"translate(46.1466 9.947031) scale(0.13 -0.13)\">\n     <defs>\n      <path id=\"DejaVuSansMono-69\" d=\"M 800 3500  L 2272 3500  L 2272 447  L 3413 447  L 3413 0  L 556 0  L 556 447  L 1697 447  L 1697 3053  L 800 3053  L 800 3500  z M 1697 4863  L 2272 4863  L 2272 4134  L 1697 4134  L 1697 4863  z \" transform=\"scale(0.015625)\"/>\n     </defs>\n     <use xlink:href=\"#DejaVuSansMono-69\"/>\n    </g>\n   </g>\n   <g id=\"text_8\">\n    <!-- v -->\n    <g style=\"fill: #444443\" transform=\"translate(52.6752 9.947031) scale(0.13 -0.13)\">\n     <defs>\n      <path id=\"DejaVuSansMono-76\" d=\"M 313 3500  L 909 3500  L 1925 563  L 2944 3500  L 3541 3500  L 2297 0  L 1556 0  L 313 3500  z \" transform=\"scale(0.015625)\"/>\n     </defs>\n     <use xlink:href=\"#DejaVuSansMono-76\"/>\n    </g>\n   </g>\n   <g id=\"text_9\">\n    <!-- a -->\n    <g style=\"fill: #444443\" transform=\"translate(59.2038 9.947031) scale(0.13 -0.13)\">\n     <use xlink:href=\"#DejaVuSansMono-61\"/>\n    </g>\n   </g>\n   <g id=\"text_10\">\n    <!-- t -->\n    <g style=\"fill: #444443\" transform=\"translate(65.7324 9.947031) scale(0.13 -0.13)\">\n     <use xlink:href=\"#DejaVuSansMono-74\"/>\n    </g>\n   </g>\n   <g id=\"text_11\">\n    <!-- e -->\n    <g style=\"fill: #444443\" transform=\"translate(72.261 9.947031) scale(0.13 -0.13)\">\n     <defs>\n      <path id=\"DejaVuSansMono-65\" d=\"M 3475 1894  L 3475 1613  L 984 1613  L 984 1594  Q 984 1022 1282 709  Q 1581 397 2125 397  Q 2400 397 2700 484  Q 3000 572 3341 750  L 3341 178  Q 3013 44 2708 -23  Q 2403 -91 2119 -91  Q 1303 -91 843 398  Q 384 888 384 1747  Q 384 2584 834 3084  Q 1284 3584 2034 3584  Q 2703 3584 3089 3131  Q 3475 2678 3475 1894  z M 2900 2063  Q 2888 2569 2661 2833  Q 2434 3097 2009 3097  Q 1594 3097 1325 2822  Q 1056 2547 1006 2059  L 2900 2063  z \" transform=\"scale(0.015625)\"/>\n     </defs>\n     <use xlink:href=\"#DejaVuSansMono-65\"/>\n    </g>\n   </g>\n   <g id=\"text_12\">\n    <!-- d -->\n    <g style=\"fill: #444443\" transform=\"translate(78.7896 9.947031) scale(0.13 -0.13)\">\n     <defs>\n      <path id=\"DejaVuSansMono-64\" d=\"M 2681 3053  L 2681 4863  L 3256 4863  L 3256 0  L 2681 0  L 2681 441  Q 2538 181 2298 45  Q 2059 -91 1747 -91  Q 1113 -91 748 401  Q 384 894 384 1759  Q 384 2613 750 3098  Q 1116 3584 1747 3584  Q 2063 3584 2303 3448  Q 2544 3313 2681 3053  z M 991 1747  Q 991 1078 1203 737  Q 1416 397 1831 397  Q 2247 397 2464 740  Q 2681 1084 2681 1747  Q 2681 2413 2464 2755  Q 2247 3097 1831 3097  Q 1416 3097 1203 2756  Q 991 2416 991 1747  z \" transform=\"scale(0.015625)\"/>\n     </defs>\n     <use xlink:href=\"#DejaVuSansMono-64\"/>\n    </g>\n   </g>\n   <g id=\"text_13\">\n    <!-- _ -->\n    <g style=\"fill: #444443\" transform=\"translate(85.3182 9.947031) scale(0.13 -0.13)\">\n     <use xlink:href=\"#DejaVuSansMono-5f\"/>\n    </g>\n   </g>\n   <g id=\"text_14\">\n    <!-- g -->\n    <g style=\"fill: #444443\" transform=\"translate(91.8468 9.947031) scale(0.13 -0.13)\">\n     <defs>\n      <path id=\"DejaVuSansMono-67\" d=\"M 2681 1778  Q 2681 2425 2470 2761  Q 2259 3097 1856 3097  Q 1434 3097 1212 2761  Q 991 2425 991 1778  Q 991 1131 1214 792  Q 1438 453 1863 453  Q 2259 453 2470 793  Q 2681 1134 2681 1778  z M 3256 225  Q 3256 -563 2884 -969  Q 2513 -1375 1791 -1375  Q 1553 -1375 1293 -1331  Q 1034 -1288 775 -1203  L 775 -634  Q 1081 -778 1331 -847  Q 1581 -916 1791 -916  Q 2256 -916 2468 -662  Q 2681 -409 2681 141  L 2681 166  L 2681 556  Q 2544 263 2306 119  Q 2069 -25 1728 -25  Q 1116 -25 750 465  Q 384 956 384 1778  Q 384 2603 750 3093  Q 1116 3584 1728 3584  Q 2066 3584 2300 3450  Q 2534 3316 2681 3034  L 2681 3488  L 3256 3488  L 3256 225  z \" transform=\"scale(0.015625)\"/>\n     </defs>\n     <use xlink:href=\"#DejaVuSansMono-67\"/>\n    </g>\n   </g>\n   <g id=\"text_15\">\n    <!-- r -->\n    <g style=\"fill: #444443\" transform=\"translate(98.3754 9.947031) scale(0.13 -0.13)\">\n     <defs>\n      <path id=\"DejaVuSansMono-72\" d=\"M 3609 2778  Q 3425 2922 3234 2987  Q 3044 3053 2816 3053  Q 2278 3053 1993 2715  Q 1709 2378 1709 1741  L 1709 0  L 1131 0  L 1131 3500  L 1709 3500  L 1709 2816  Q 1853 3188 2151 3386  Q 2450 3584 2859 3584  Q 3072 3584 3256 3531  Q 3441 3478 3609 3366  L 3609 2778  z \" transform=\"scale(0.015625)\"/>\n     </defs>\n     <use xlink:href=\"#DejaVuSansMono-72\"/>\n    </g>\n   </g>\n   <g id=\"text_16\">\n    <!-- a -->\n    <g style=\"fill: #444443\" transform=\"translate(104.904 9.947031) scale(0.13 -0.13)\">\n     <use xlink:href=\"#DejaVuSansMono-61\"/>\n    </g>\n   </g>\n   <g id=\"text_17\">\n    <!-- d -->\n    <g style=\"fill: #444443\" transform=\"translate(111.4326 9.947031) scale(0.13 -0.13)\">\n     <use xlink:href=\"#DejaVuSansMono-64\"/>\n    </g>\n   </g>\n   <g id=\"text_18\">\n    <!-- i -->\n    <g style=\"fill: #444443\" transform=\"translate(117.9612 9.947031) scale(0.13 -0.13)\">\n     <use xlink:href=\"#DejaVuSansMono-69\"/>\n    </g>\n   </g>\n   <g id=\"text_19\">\n    <!-- e -->\n    <g style=\"fill: #444443\" transform=\"translate(124.4898 9.947031) scale(0.13 -0.13)\">\n     <use xlink:href=\"#DejaVuSansMono-65\"/>\n    </g>\n   </g>\n   <g id=\"text_20\">\n    <!-- n -->\n    <g style=\"fill: #444443\" transform=\"translate(131.0184 9.947031) scale(0.13 -0.13)\">\n     <defs>\n      <path id=\"DejaVuSansMono-6e\" d=\"M 3284 2169  L 3284 0  L 2706 0  L 2706 2169  Q 2706 2641 2540 2862  Q 2375 3084 2022 3084  Q 1619 3084 1401 2798  Q 1184 2513 1184 1978  L 1184 0  L 609 0  L 609 3500  L 1184 3500  L 1184 2975  Q 1338 3275 1600 3429  Q 1863 3584 2222 3584  Q 2756 3584 3020 3232  Q 3284 2881 3284 2169  z \" transform=\"scale(0.015625)\"/>\n     </defs>\n     <use xlink:href=\"#DejaVuSansMono-6e\"/>\n    </g>\n   </g>\n   <g id=\"text_21\">\n    <!-- t -->\n    <g style=\"fill: #444443\" transform=\"translate(137.547 9.947031) scale(0.13 -0.13)\">\n     <use xlink:href=\"#DejaVuSansMono-74\"/>\n    </g>\n   </g>\n   <g id=\"text_22\">\n    <!--   -->\n    <g style=\"fill: #444443\" transform=\"translate(144.0756 9.947031) scale(0.13 -0.13)\">\n     <defs>\n      <path id=\"DejaVuSansMono-20\" transform=\"scale(0.015625)\"/>\n     </defs>\n     <use xlink:href=\"#DejaVuSansMono-20\"/>\n    </g>\n   </g>\n   <g id=\"text_23\">\n    <!-- = -->\n    <g style=\"fill: #444443\" transform=\"translate(150.6042 9.947031) scale(0.13 -0.13)\">\n     <defs>\n      <path id=\"DejaVuSansMono-3d\" d=\"M 275 1638  L 3578 1638  L 3578 1100  L 275 1100  L 275 1638  z M 275 2906  L 3578 2906  L 3578 2375  L 275 2375  L 275 2906  z \" transform=\"scale(0.015625)\"/>\n     </defs>\n     <use xlink:href=\"#DejaVuSansMono-3d\"/>\n    </g>\n   </g>\n   <g id=\"text_24\">\n    <!--   -->\n    <g style=\"fill: #444443\" transform=\"translate(157.1328 9.947031) scale(0.13 -0.13)\">\n     <use xlink:href=\"#DejaVuSansMono-20\"/>\n    </g>\n   </g>\n   <g id=\"text_25\">\n    <!-- o -->\n    <g style=\"fill: #444443\" transform=\"translate(163.6614 9.947031) scale(0.13 -0.13)\">\n     <defs>\n      <path id=\"DejaVuSansMono-6f\" d=\"M 1925 3097  Q 1488 3097 1263 2756  Q 1038 2416 1038 1747  Q 1038 1081 1263 739  Q 1488 397 1925 397  Q 2366 397 2591 739  Q 2816 1081 2816 1747  Q 2816 2416 2591 2756  Q 2366 3097 1925 3097  z M 1925 3584  Q 2653 3584 3039 3112  Q 3425 2641 3425 1747  Q 3425 850 3040 379  Q 2656 -91 1925 -91  Q 1197 -91 812 379  Q 428 850 428 1747  Q 428 2641 812 3112  Q 1197 3584 1925 3584  z \" transform=\"scale(0.015625)\"/>\n     </defs>\n     <use xlink:href=\"#DejaVuSansMono-6f\"/>\n    </g>\n   </g>\n   <g id=\"text_26\">\n    <!-- u -->\n    <g style=\"fill: #444443\" transform=\"translate(170.19 9.947031) scale(0.13 -0.13)\">\n     <defs>\n      <path id=\"DejaVuSansMono-75\" d=\"M 609 1325  L 609 3494  L 1184 3494  L 1184 1325  Q 1184 853 1351 631  Q 1519 409 1869 409  Q 2275 409 2490 695  Q 2706 981 2706 1516  L 2706 3494  L 3284 3494  L 3284 0  L 2706 0  L 2706 525  Q 2553 222 2289 65  Q 2025 -91 1672 -91  Q 1134 -91 871 261  Q 609 613 609 1325  z \" transform=\"scale(0.015625)\"/>\n     </defs>\n     <use xlink:href=\"#DejaVuSansMono-75\"/>\n    </g>\n   </g>\n   <g id=\"text_27\">\n    <!-- t -->\n    <g style=\"fill: #444443\" transform=\"translate(176.7186 9.947031) scale(0.13 -0.13)\">\n     <use xlink:href=\"#DejaVuSansMono-74\"/>\n    </g>\n   </g>\n   <g id=\"text_28\">\n    <!-- p -->\n    <g style=\"fill: #444443\" transform=\"translate(183.2472 9.947031) scale(0.13 -0.13)\">\n     <defs>\n      <path id=\"DejaVuSansMono-70\" d=\"M 1172 441  L 1172 -1331  L 594 -1331  L 594 3500  L 1172 3500  L 1172 3053  Q 1316 3313 1555 3448  Q 1794 3584 2106 3584  Q 2741 3584 3102 3093  Q 3463 2603 3463 1734  Q 3463 881 3100 395  Q 2738 -91 2106 -91  Q 1788 -91 1548 45  Q 1309 181 1172 441  z M 2859 1747  Q 2859 2416 2648 2756  Q 2438 3097 2022 3097  Q 1603 3097 1387 2755  Q 1172 2413 1172 1747  Q 1172 1084 1387 740  Q 1603 397 2022 397  Q 2438 397 2648 737  Q 2859 1078 2859 1747  z \" transform=\"scale(0.015625)\"/>\n     </defs>\n     <use xlink:href=\"#DejaVuSansMono-70\"/>\n    </g>\n   </g>\n   <g id=\"text_29\">\n    <!-- u -->\n    <g style=\"fill: #444443\" transform=\"translate(189.7758 9.947031) scale(0.13 -0.13)\">\n     <use xlink:href=\"#DejaVuSansMono-75\"/>\n    </g>\n   </g>\n   <g id=\"text_30\">\n    <!-- t -->\n    <g style=\"fill: #444443\" transform=\"translate(196.3044 9.947031) scale(0.13 -0.13)\">\n     <use xlink:href=\"#DejaVuSansMono-74\"/>\n    </g>\n   </g>\n   <g id=\"text_31\">\n    <!-- _ -->\n    <g style=\"fill: #444443\" transform=\"translate(202.833 9.947031) scale(0.13 -0.13)\">\n     <use xlink:href=\"#DejaVuSansMono-5f\"/>\n    </g>\n   </g>\n   <g id=\"text_32\">\n    <!-- g -->\n    <g style=\"fill: #444443\" transform=\"translate(209.3616 9.947031) scale(0.13 -0.13)\">\n     <use xlink:href=\"#DejaVuSansMono-67\"/>\n    </g>\n   </g>\n   <g id=\"text_33\">\n    <!-- r -->\n    <g style=\"fill: #444443\" transform=\"translate(215.8902 9.947031) scale(0.13 -0.13)\">\n     <use xlink:href=\"#DejaVuSansMono-72\"/>\n    </g>\n   </g>\n   <g id=\"text_34\">\n    <!-- a -->\n    <g style=\"fill: #444443\" transform=\"translate(222.4188 9.947031) scale(0.13 -0.13)\">\n     <use xlink:href=\"#DejaVuSansMono-61\"/>\n    </g>\n   </g>\n   <g id=\"text_35\">\n    <!-- d -->\n    <g style=\"fill: #444443\" transform=\"translate(228.9474 9.947031) scale(0.13 -0.13)\">\n     <use xlink:href=\"#DejaVuSansMono-64\"/>\n    </g>\n   </g>\n   <g id=\"text_36\">\n    <!-- i -->\n    <g style=\"fill: #444443\" transform=\"translate(235.476 9.947031) scale(0.13 -0.13)\">\n     <use xlink:href=\"#DejaVuSansMono-69\"/>\n    </g>\n   </g>\n   <g id=\"text_37\">\n    <!-- e -->\n    <g style=\"fill: #444443\" transform=\"translate(242.0046 9.947031) scale(0.13 -0.13)\">\n     <use xlink:href=\"#DejaVuSansMono-65\"/>\n    </g>\n   </g>\n   <g id=\"text_38\">\n    <!-- n -->\n    <g style=\"fill: #444443\" transform=\"translate(248.5332 9.947031) scale(0.13 -0.13)\">\n     <use xlink:href=\"#DejaVuSansMono-6e\"/>\n    </g>\n   </g>\n   <g id=\"text_39\">\n    <!-- t -->\n    <g style=\"fill: #444443\" transform=\"translate(255.0618 9.947031) scale(0.13 -0.13)\">\n     <use xlink:href=\"#DejaVuSansMono-74\"/>\n    </g>\n   </g>\n   <g id=\"text_40\">\n    <!--   -->\n    <g style=\"fill: #444443\" transform=\"translate(261.5904 9.947031) scale(0.13 -0.13)\">\n     <use xlink:href=\"#DejaVuSansMono-20\"/>\n    </g>\n   </g>\n   <g id=\"text_41\">\n    <!-- @ -->\n    <g style=\"fill: #444443\" transform=\"translate(268.119 9.947031) scale(0.13 -0.13)\">\n     <defs>\n      <path id=\"DejaVuSansMono-40\" d=\"M 3244 1703  Q 3244 2106 3044 2348  Q 2844 2591 2509 2591  Q 2175 2591 1973 2348  Q 1772 2106 1772 1703  Q 1772 1297 1973 1055  Q 2175 813 2509 813  Q 2844 813 3044 1055  Q 3244 1297 3244 1703  z M 3681 422  L 3231 422  L 3231 769  Q 3116 572 2911 465  Q 2706 359 2450 359  Q 1947 359 1617 737  Q 1288 1116 1288 1703  Q 1288 2291 1617 2669  Q 1947 3047 2450 3047  Q 2700 3047 2909 2937  Q 3119 2828 3231 2638  L 3231 2834  Q 3231 3322 2956 3619  Q 2681 3916 2228 3916  Q 1459 3916 1004 3317  Q 550 2719 550 1697  Q 550 669 1065 59  Q 1581 -550 2438 -550  Q 2606 -550 2775 -519  Q 2944 -488 3122 -422  L 3272 -844  Q 3075 -922 2883 -959  Q 2691 -997 2509 -997  Q 1394 -997 739 -269  Q 84 459 84 1697  Q 84 2916 671 3637  Q 1259 4359 2247 4359  Q 2900 4359 3290 3943  Q 3681 3528 3681 2828  L 3681 422  z \" transform=\"scale(0.015625)\"/>\n     </defs>\n     <use xlink:href=\"#DejaVuSansMono-40\"/>\n    </g>\n   </g>\n   <g id=\"text_42\">\n    <!--   -->\n    <g style=\"fill: #444443\" transform=\"translate(274.6476 9.947031) scale(0.13 -0.13)\">\n     <use xlink:href=\"#DejaVuSansMono-20\"/>\n    </g>\n   </g>\n   <g id=\"text_43\">\n    <!-- l -->\n    <g style=\"fill: #444443\" transform=\"translate(281.1762 9.947031) scale(0.13 -0.13)\">\n     <use xlink:href=\"#DejaVuSansMono-6c\"/>\n    </g>\n   </g>\n   <g id=\"text_44\">\n    <!-- 2 -->\n    <g style=\"fill: #444443\" transform=\"translate(287.7048 9.947031) scale(0.13 -0.13)\">\n     <defs>\n      <path id=\"DejaVuSansMono-32\" d=\"M 1166 531  L 3309 531  L 3309 0  L 475 0  L 475 531  Q 1059 1147 1496 1619  Q 1934 2091 2100 2284  Q 2413 2666 2522 2902  Q 2631 3138 2631 3384  Q 2631 3775 2401 3997  Q 2172 4219 1772 4219  Q 1488 4219 1175 4116  Q 863 4013 513 3803  L 513 4441  Q 834 4594 1145 4672  Q 1456 4750 1759 4750  Q 2444 4750 2861 4386  Q 3278 4022 3278 3431  Q 3278 3131 3139 2831  Q 3000 2531 2688 2169  Q 2513 1966 2180 1606  Q 1847 1247 1166 531  z \" transform=\"scale(0.015625)\"/>\n     </defs>\n     <use xlink:href=\"#DejaVuSansMono-32\"/>\n    </g>\n   </g>\n   <g id=\"text_45\">\n    <!-- _ -->\n    <g style=\"fill: #444443\" transform=\"translate(294.2334 9.947031) scale(0.13 -0.13)\">\n     <use xlink:href=\"#DejaVuSansMono-5f\"/>\n    </g>\n   </g>\n   <g id=\"text_46\">\n    <!-- w -->\n    <g style=\"fill: #444443\" transform=\"translate(300.762 9.947031) scale(0.13 -0.13)\">\n     <defs>\n      <path id=\"DejaVuSansMono-77\" d=\"M 0 3500  L 569 3500  L 1178 672  L 1678 2478  L 2169 2478  L 2675 672  L 3284 3500  L 3853 3500  L 3034 0  L 2484 0  L 1925 1919  L 1369 0  L 819 0  L 0 3500  z \" transform=\"scale(0.015625)\"/>\n     </defs>\n     <use xlink:href=\"#DejaVuSansMono-77\"/>\n    </g>\n   </g>\n   <g id=\"text_47\">\n    <!-- e -->\n    <g style=\"fill: #444443\" transform=\"translate(307.2906 9.947031) scale(0.13 -0.13)\">\n     <use xlink:href=\"#DejaVuSansMono-65\"/>\n    </g>\n   </g>\n   <g id=\"text_48\">\n    <!-- i -->\n    <g style=\"fill: #444443\" transform=\"translate(313.8192 9.947031) scale(0.13 -0.13)\">\n     <use xlink:href=\"#DejaVuSansMono-69\"/>\n    </g>\n   </g>\n   <g id=\"text_49\">\n    <!-- g -->\n    <g style=\"fill: #444443\" transform=\"translate(320.3478 9.947031) scale(0.13 -0.13)\">\n     <use xlink:href=\"#DejaVuSansMono-67\"/>\n    </g>\n   </g>\n   <g id=\"text_50\">\n    <!-- h -->\n    <g style=\"fill: #444443\" transform=\"translate(326.8764 9.947031) scale(0.13 -0.13)\">\n     <defs>\n      <path id=\"DejaVuSansMono-68\" d=\"M 3284 2169  L 3284 0  L 2706 0  L 2706 2169  Q 2706 2641 2540 2862  Q 2375 3084 2022 3084  Q 1619 3084 1401 2798  Q 1184 2513 1184 1978  L 1184 0  L 609 0  L 609 4863  L 1184 4863  L 1184 2975  Q 1338 3275 1600 3429  Q 1863 3584 2222 3584  Q 2756 3584 3020 3232  Q 3284 2881 3284 2169  z \" transform=\"scale(0.015625)\"/>\n     </defs>\n     <use xlink:href=\"#DejaVuSansMono-68\"/>\n    </g>\n   </g>\n   <g id=\"text_51\">\n    <!-- t -->\n    <g style=\"fill: #444443\" transform=\"translate(333.405 9.947031) scale(0.13 -0.13)\">\n     <use xlink:href=\"#DejaVuSansMono-74\"/>\n    </g>\n   </g>\n   <g id=\"text_52\">\n    <!-- s -->\n    <g style=\"fill: #444443\" transform=\"translate(339.9336 9.947031) scale(0.13 -0.13)\">\n     <defs>\n      <path id=\"DejaVuSansMono-73\" d=\"M 3041 3378  L 3041 2816  Q 2794 2959 2544 3031  Q 2294 3103 2034 3103  Q 1644 3103 1451 2976  Q 1259 2850 1259 2591  Q 1259 2356 1403 2240  Q 1547 2125 2119 2016  L 2350 1972  Q 2778 1891 2998 1647  Q 3219 1403 3219 1013  Q 3219 494 2850 201  Q 2481 -91 1825 -91  Q 1566 -91 1281 -36  Q 997 19 666 128  L 666 722  Q 988 556 1281 473  Q 1575 391 1838 391  Q 2219 391 2428 545  Q 2638 700 2638 978  Q 2638 1378 1872 1531  L 1847 1538  L 1631 1581  Q 1134 1678 906 1908  Q 678 2138 678 2534  Q 678 3038 1018 3311  Q 1359 3584 1991 3584  Q 2272 3584 2531 3532  Q 2791 3481 3041 3378  z \" transform=\"scale(0.015625)\"/>\n     </defs>\n     <use xlink:href=\"#DejaVuSansMono-73\"/>\n    </g>\n   </g>\n   <g id=\"text_53\">\n    <!-- . -->\n    <g style=\"fill: #444443\" transform=\"translate(346.4622 9.947031) scale(0.13 -0.13)\">\n     <defs>\n      <path id=\"DejaVuSansMono-2e\" d=\"M 1528 953  L 2316 953  L 2316 0  L 1528 0  L 1528 953  z \" transform=\"scale(0.015625)\"/>\n     </defs>\n     <use xlink:href=\"#DejaVuSansMono-2e\"/>\n    </g>\n   </g>\n   <g id=\"text_54\">\n    <!-- T -->\n    <g style=\"fill: #444443\" transform=\"translate(352.9908 9.947031) scale(0.13 -0.13)\">\n     <defs>\n      <path id=\"DejaVuSansMono-54\" d=\"M 147 4666  L 3706 4666  L 3706 4134  L 2247 4134  L 2247 0  L 1613 0  L 1613 4134  L 147 4134  L 147 4666  z \" transform=\"scale(0.015625)\"/>\n     </defs>\n     <use xlink:href=\"#DejaVuSansMono-54\"/>\n    </g>\n   </g>\n   <g id=\"text_55\">\n    <!-- 5 -->\n    <g transform=\"translate(62.228531 37.897572) rotate(-90) scale(0.09 -0.09)\">\n     <defs>\n      <path id=\"DejaVuSans-35\" d=\"M 691 4666  L 3169 4666  L 3169 4134  L 1269 4134  L 1269 2991  Q 1406 3038 1543 3061  Q 1681 3084 1819 3084  Q 2600 3084 3056 2656  Q 3513 2228 3513 1497  Q 3513 744 3044 326  Q 2575 -91 1722 -91  Q 1428 -91 1123 -41  Q 819 9 494 109  L 494 744  Q 775 591 1075 516  Q 1375 441 1709 441  Q 2250 441 2565 725  Q 2881 1009 2881 1497  Q 2881 1984 2565 2268  Q 2250 2553 1709 2553  Q 1456 2553 1204 2497  Q 953 2441 691 2322  L 691 4666  z \" transform=\"scale(0.015625)\"/>\n     </defs>\n     <use xlink:href=\"#DejaVuSans-35\"/>\n    </g>\n   </g>\n   <g id=\"text_56\">\n    <!-- 2 -->\n    <g transform=\"translate(72.662175 22.297107) scale(0.09 -0.09)\">\n     <defs>\n      <path id=\"DejaVuSans-32\" d=\"M 1228 531  L 3431 531  L 3431 0  L 469 0  L 469 531  Q 828 903 1448 1529  Q 2069 2156 2228 2338  Q 2531 2678 2651 2914  Q 2772 3150 2772 3378  Q 2772 3750 2511 3984  Q 2250 4219 1831 4219  Q 1534 4219 1204 4116  Q 875 4013 500 3803  L 500 4441  Q 881 4594 1212 4672  Q 1544 4750 1819 4750  Q 2544 4750 2975 4387  Q 3406 4025 3406 3419  Q 3406 3131 3298 2873  Q 3191 2616 2906 2266  Q 2828 2175 2409 1742  Q 1991 1309 1228 531  z \" transform=\"scale(0.015625)\"/>\n     </defs>\n     <use xlink:href=\"#DejaVuSans-32\"/>\n    </g>\n   </g>\n   <g id=\"text_57\">\n    <!-- &lt;${\\mathit{float64}}$&gt; -->\n    <g transform=\"translate(57.3253 53.090693) scale(0.07 -0.07)\">\n     <defs>\n      <path id=\"DejaVuSans-3c\" d=\"M 4684 3150  L 1459 2003  L 4684 863  L 4684 294  L 678 1747  L 678 2266  L 4684 3719  L 4684 3150  z \" transform=\"scale(0.015625)\"/>\n      <path id=\"DejaVuSans-Oblique-66\" d=\"M 3059 4863  L 2969 4384  L 2419 4384  Q 2106 4384 1964 4261  Q 1822 4138 1753 3809  L 1691 3500  L 2638 3500  L 2553 3053  L 1606 3053  L 1013 0  L 434 0  L 1031 3053  L 481 3053  L 563 3500  L 1113 3500  L 1159 3744  Q 1278 4363 1576 4613  Q 1875 4863 2516 4863  L 3059 4863  z \" transform=\"scale(0.015625)\"/>\n      <path id=\"DejaVuSans-Oblique-6c\" d=\"M 1172 4863  L 1747 4863  L 800 0  L 225 0  L 1172 4863  z \" transform=\"scale(0.015625)\"/>\n      <path id=\"DejaVuSans-Oblique-6f\" d=\"M 1625 -91  Q 1009 -91 651 289  Q 294 669 294 1325  Q 294 1706 417 2101  Q 541 2497 738 2766  Q 1047 3184 1428 3384  Q 1809 3584 2291 3584  Q 2888 3584 3255 3212  Q 3622 2841 3622 2241  Q 3622 1825 3500 1412  Q 3378 1000 3181 728  Q 2875 309 2494 109  Q 2113 -91 1625 -91  z M 891 1344  Q 891 869 1089 633  Q 1288 397 1691 397  Q 2269 397 2648 901  Q 3028 1406 3028 2181  Q 3028 2634 2825 2865  Q 2622 3097 2228 3097  Q 1903 3097 1650 2945  Q 1397 2794 1197 2484  Q 1050 2253 970 1956  Q 891 1659 891 1344  z \" transform=\"scale(0.015625)\"/>\n      <path id=\"DejaVuSans-Oblique-61\" d=\"M 3438 1997  L 3047 0  L 2472 0  L 2578 531  Q 2325 219 2001 64  Q 1678 -91 1281 -91  Q 834 -91 548 182  Q 263 456 263 884  Q 263 1497 752 1853  Q 1241 2209 2100 2209  L 2900 2209  L 2931 2363  Q 2938 2388 2941 2417  Q 2944 2447 2944 2509  Q 2944 2788 2717 2942  Q 2491 3097 2081 3097  Q 1800 3097 1504 3025  Q 1209 2953 897 2809  L 997 3341  Q 1322 3463 1633 3523  Q 1944 3584 2234 3584  Q 2853 3584 3176 3315  Q 3500 3047 3500 2534  Q 3500 2431 3484 2292  Q 3469 2153 3438 1997  z M 2816 1759  L 2241 1759  Q 1534 1759 1195 1570  Q 856 1381 856 984  Q 856 709 1029 553  Q 1203 397 1509 397  Q 1978 397 2328 733  Q 2678 1069 2791 1631  L 2816 1759  z \" transform=\"scale(0.015625)\"/>\n      <path id=\"DejaVuSans-Oblique-74\" d=\"M 2706 3500  L 2619 3053  L 1472 3053  L 1100 1153  Q 1081 1047 1072 975  Q 1063 903 1063 863  Q 1063 663 1183 572  Q 1303 481 1569 481  L 2150 481  L 2053 0  L 1503 0  Q 991 0 739 200  Q 488 400 488 806  Q 488 878 497 964  Q 506 1050 525 1153  L 897 3053  L 409 3053  L 500 3500  L 978 3500  L 1172 4494  L 1747 4494  L 1556 3500  L 2706 3500  z \" transform=\"scale(0.015625)\"/>\n      <path id=\"DejaVuSans-36\" d=\"M 2113 2584  Q 1688 2584 1439 2293  Q 1191 2003 1191 1497  Q 1191 994 1439 701  Q 1688 409 2113 409  Q 2538 409 2786 701  Q 3034 994 3034 1497  Q 3034 2003 2786 2293  Q 2538 2584 2113 2584  z M 3366 4563  L 3366 3988  Q 3128 4100 2886 4159  Q 2644 4219 2406 4219  Q 1781 4219 1451 3797  Q 1122 3375 1075 2522  Q 1259 2794 1537 2939  Q 1816 3084 2150 3084  Q 2853 3084 3261 2657  Q 3669 2231 3669 1497  Q 3669 778 3244 343  Q 2819 -91 2113 -91  Q 1303 -91 875 529  Q 447 1150 447 2328  Q 447 3434 972 4092  Q 1497 4750 2381 4750  Q 2619 4750 2861 4703  Q 3103 4656 3366 4563  z \" transform=\"scale(0.015625)\"/>\n      <path id=\"DejaVuSans-34\" d=\"M 2419 4116  L 825 1625  L 2419 1625  L 2419 4116  z M 2253 4666  L 3047 4666  L 3047 1625  L 3713 1625  L 3713 1100  L 3047 1100  L 3047 0  L 2419 0  L 2419 1100  L 313 1100  L 313 1709  L 2253 4666  z \" transform=\"scale(0.015625)\"/>\n      <path id=\"DejaVuSans-3e\" d=\"M 678 3150  L 678 3719  L 4684 2266  L 4684 1747  L 678 294  L 678 863  L 3897 2003  L 678 3150  z \" transform=\"scale(0.015625)\"/>\n     </defs>\n     <use xlink:href=\"#DejaVuSans-3c\" transform=\"translate(0 0.015625)\"/>\n     <use xlink:href=\"#DejaVuSans-Oblique-66\" transform=\"translate(83.789062 0.015625)\"/>\n     <use xlink:href=\"#DejaVuSans-Oblique-6c\" transform=\"translate(118.994141 0.015625)\"/>\n     <use xlink:href=\"#DejaVuSans-Oblique-6f\" transform=\"translate(146.777344 0.015625)\"/>\n     <use xlink:href=\"#DejaVuSans-Oblique-61\" transform=\"translate(207.958984 0.015625)\"/>\n     <use xlink:href=\"#DejaVuSans-Oblique-74\" transform=\"translate(269.238281 0.015625)\"/>\n     <use xlink:href=\"#DejaVuSans-36\" transform=\"translate(308.447266 0.015625)\"/>\n     <use xlink:href=\"#DejaVuSans-34\" transform=\"translate(372.070312 0.015625)\"/>\n     <use xlink:href=\"#DejaVuSans-3e\" transform=\"translate(435.693359 0.015625)\"/>\n    </g>\n   </g>\n   <g id=\"text_58\">\n    <!-- 5 -->\n    <g transform=\"translate(208.142741 37.897572) rotate(-90) scale(0.09 -0.09)\">\n     <use xlink:href=\"#DejaVuSans-35\"/>\n    </g>\n   </g>\n   <g id=\"text_59\">\n    <!-- 1 -->\n    <g transform=\"translate(209.762775 22.297107) scale(0.09 -0.09)\">\n     <defs>\n      <path id=\"DejaVuSans-31\" d=\"M 794 531  L 1825 531  L 1825 4091  L 703 3866  L 703 4441  L 1819 4666  L 2450 4666  L 2450 531  L 3481 531  L 3481 0  L 794 0  L 794 531  z \" transform=\"scale(0.015625)\"/>\n     </defs>\n     <use xlink:href=\"#DejaVuSans-31\"/>\n    </g>\n   </g>\n   <g id=\"text_60\">\n    <!-- &lt;${\\mathit{float64}}$&gt; -->\n    <g transform=\"translate(194.4259 53.090693) scale(0.07 -0.07)\">\n     <use xlink:href=\"#DejaVuSans-3c\" transform=\"translate(0 0.015625)\"/>\n     <use xlink:href=\"#DejaVuSans-Oblique-66\" transform=\"translate(83.789062 0.015625)\"/>\n     <use xlink:href=\"#DejaVuSans-Oblique-6c\" transform=\"translate(118.994141 0.015625)\"/>\n     <use xlink:href=\"#DejaVuSans-Oblique-6f\" transform=\"translate(146.777344 0.015625)\"/>\n     <use xlink:href=\"#DejaVuSans-Oblique-61\" transform=\"translate(207.958984 0.015625)\"/>\n     <use xlink:href=\"#DejaVuSans-Oblique-74\" transform=\"translate(269.238281 0.015625)\"/>\n     <use xlink:href=\"#DejaVuSans-36\" transform=\"translate(308.447266 0.015625)\"/>\n     <use xlink:href=\"#DejaVuSans-34\" transform=\"translate(372.070312 0.015625)\"/>\n     <use xlink:href=\"#DejaVuSans-3e\" transform=\"translate(435.693359 0.015625)\"/>\n    </g>\n   </g>\n   <g id=\"text_61\">\n    <!-- 1 -->\n    <g transform=\"translate(307.051031 29.140824) rotate(-90) scale(0.09 -0.09)\">\n     <use xlink:href=\"#DejaVuSans-31\"/>\n    </g>\n   </g>\n   <g id=\"text_62\">\n    <!-- 2 -->\n    <g transform=\"translate(317.484675 22.297107) scale(0.09 -0.09)\">\n     <use xlink:href=\"#DejaVuSans-32\"/>\n    </g>\n   </g>\n   <g id=\"text_63\">\n    <!-- &lt;${\\mathit{float64}}$&gt; -->\n    <g transform=\"translate(302.1478 35.577197) scale(0.07 -0.07)\">\n     <use xlink:href=\"#DejaVuSans-3c\" transform=\"translate(0 0.015625)\"/>\n     <use xlink:href=\"#DejaVuSans-Oblique-66\" transform=\"translate(83.789062 0.015625)\"/>\n     <use xlink:href=\"#DejaVuSans-Oblique-6c\" transform=\"translate(118.994141 0.015625)\"/>\n     <use xlink:href=\"#DejaVuSans-Oblique-6f\" transform=\"translate(146.777344 0.015625)\"/>\n     <use xlink:href=\"#DejaVuSans-Oblique-61\" transform=\"translate(207.958984 0.015625)\"/>\n     <use xlink:href=\"#DejaVuSans-Oblique-74\" transform=\"translate(269.238281 0.015625)\"/>\n     <use xlink:href=\"#DejaVuSans-36\" transform=\"translate(308.447266 0.015625)\"/>\n     <use xlink:href=\"#DejaVuSans-34\" transform=\"translate(372.070312 0.015625)\"/>\n     <use xlink:href=\"#DejaVuSans-3e\" transform=\"translate(435.693359 0.015625)\"/>\n    </g>\n   </g>\n  </g>\n </g>\n <defs>\n  <clipPath id=\"pbdaf725ccf\">\n   <rect x=\"0\" y=\"4.901991\" width=\"359.5194\" height=\"42.315395\"/>\n  </clipPath>\n </defs>\n</svg>"
          },
          "metadata": {}
        },
        {
          "output_type": "execute_result",
          "data": {
            "text/plain": [
              "array([[-7.66572823, -2.94762287],\n",
              "       [-8.03173688, -3.08836038],\n",
              "       [-8.39774553, -3.22909789],\n",
              "       [ 6.15755729,  2.36770156],\n",
              "       [ 3.80971945,  1.46491186]])"
            ]
          },
          "metadata": {},
          "execution_count": 38
        }
      ]
    },
    {
      "cell_type": "code",
      "source": [
        "temps = np.arange(-50, 50)\n",
        "plt.plot(temps, np.maximum(0, temps), label = \"ReLU\")\n",
        "plt.legend()\n",
        "plt.show();"
      ],
      "metadata": {
        "colab": {
          "base_uri": "https://localhost:8080/",
          "height": 368
        },
        "id": "qSlk7VHnNDMD",
        "outputId": "bd7dfbf7-cd90-42de-e190-925c4c666d76"
      },
      "execution_count": null,
      "outputs": [
        {
          "output_type": "display_data",
          "data": {
            "text/plain": [
              "<Figure size 500x400 with 1 Axes>"
            ],
            "image/png": "[encoded data removed]"
          },
          "metadata": {}
        }
      ]
    },
    {
      "cell_type": "markdown",
      "source": [
        "Here the slope of the ReLU function is 0 or 1, means the gradient is 0 or 1."
      ],
      "metadata": {
        "id": "V4U4L9CtNZE3"
      }
    },
    {
      "cell_type": "code",
      "source": [
        "activation = np.maximum(0, temps)\n",
        "\n",
        "plt.plot(temps[1:], activation[1:] - np.roll(activation, 1)[1:])\n",
        "plt.show();"
      ],
      "metadata": {
        "colab": {
          "base_uri": "https://localhost:8080/",
          "height": 368
        },
        "id": "HZzvqR-0NoWZ",
        "outputId": "6b8470f7-956f-4535-a69e-4c4b092bc703"
      },
      "execution_count": null,
      "outputs": [
        {
          "output_type": "display_data",
          "data": {
            "text/plain": [
              "<Figure size 500x400 with 1 Axes>"
            ],
            "image/png": "[encoded data removed]"
          },
          "metadata": {}
        }
      ]
    },
    {
      "cell_type": "markdown",
      "source": [
        "**Note :** Derivative of the ReLU function is the Unit Step Function (np.heaviside)\n",
        "\n",
        "$$\\frac{d}{dx} \\, \\text{ReLU}(x) = H(x)$$\n",
        "\n",
        "**Unit Step Function :**\n",
        "$$H(x) =\n",
        "\\begin{cases}\n",
        "0 & \\text{if } x < 0 \\\\\n",
        "h_0 & \\text{if } x = 0 \\\\\n",
        "1 & \\text{if } x > 0\n",
        "\\end{cases}\n",
        "$$"
      ],
      "metadata": {
        "id": "krEf6VXU1V4G"
      }
    },
    {
      "cell_type": "code",
      "source": [
        "# in order to get the l1_output_gradient multiply\n",
        "# activated gradient with it's derivative for relu its heaviside(step function)\n",
        "\n",
        "with tsensor.explain():\n",
        "  l1_activated_gradient = output_gradient @ l2_weights.T\n",
        "  l1_output_gradient = l1_activated_gradient * np.heaviside(l1_output, 0)\n",
        "\n",
        "l1_output_gradient"
      ],
      "metadata": {
        "colab": {
          "base_uri": "https://localhost:8080/",
          "height": 258
        },
        "id": "JjcUftcg2qGy",
        "outputId": "346356f6-4277-4f79-9798-6e52df44057b"
      },
      "execution_count": null,
      "outputs": [
        {
          "output_type": "display_data",
          "data": {
            "text/plain": [
              "<IPython.core.display.SVG object>"
            ],
            "image/svg+xml": "<svg xmlns:xlink=\"http://www.w3.org/1999/xlink\" xmlns=\"http://www.w3.org/2000/svg\" width=\"360.817206pt\" height=\"54.546474pt\" viewBox=\"0 0 360.817206 54.546474\" version=\"1.1\">\n <metadata>\n  <rdf:RDF xmlns:dc=\"http://purl.org/dc/elements/1.1/\" xmlns:cc=\"http://creativecommons.org/ns#\" xmlns:rdf=\"http://www.w3.org/1999/02/22-rdf-syntax-ns#\">\n   <cc:Work>\n    <dc:type rdf:resource=\"http://purl.org/dc/dcmitype/StillImage\"/>\n    <dc:date>2025-06-21T13:16:05.681115</dc:date>\n    <dc:format>image/svg+xml</dc:format>\n    <dc:creator>\n     <cc:Agent>\n      <dc:title>Matplotlib v3.10.0, https://matplotlib.org/</dc:title>\n     </cc:Agent>\n    </dc:creator>\n   </cc:Work>\n  </rdf:RDF>\n </metadata>\n <defs>\n  <style type=\"text/css\">*{stroke-linejoin: round; stroke-linecap: butt}</style>\n </defs>\n <g id=\"figure_1\">\n  <g id=\"patch_1\">\n   <path d=\"M 0 54.546474  L 360.817206 54.546474  L 360.817206 0  L 0 0  z \" style=\"fill: #ffffff\"/>\n  </g>\n  <g id=\"axes_1\">\n   <g id=\"patch_2\">\n    <path d=\"M 64.10025 46.385787  L 86.95035 46.385787  L 86.95035 23.683107  L 64.10025 23.683107  z \" clip-path=\"url(#pfab099fd53)\" style=\"fill: #a8e1b0; fill-opacity: 0.75; stroke: #808080; stroke-width: 0.7; stroke-linejoin: miter\"/>\n   </g>\n   <g id=\"patch_3\">\n    <path d=\"M 210.01446 46.385787  L 215.23734 46.385787  L 215.23734 23.683107  L 210.01446 23.683107  z \" clip-path=\"url(#pfab099fd53)\" style=\"fill: #a8e1b0; fill-opacity: 0.75; stroke: #808080; stroke-width: 0.7; stroke-linejoin: miter\"/>\n   </g>\n   <g id=\"patch_4\">\n    <path d=\"M 308.92275 28.872291  L 331.77285 28.872291  L 331.77285 23.683107  L 308.92275 23.683107  z \" clip-path=\"url(#pfab099fd53)\" style=\"fill: #a8e1b0; fill-opacity: 0.75; stroke: #808080; stroke-width: 0.7; stroke-linejoin: miter\"/>\n   </g>\n   <g id=\"line2d_1\">\n    <path d=\"M 6.32214 13.762608  L 144.72846 13.762608  \" clip-path=\"url(#pfab099fd53)\" style=\"fill: none; stroke: #c2c2c2; stroke-width: 0.5; stroke-linecap: square\"/>\n   </g>\n   <g id=\"line2d_2\">\n    <path d=\"M 163.00854 13.762608  L 262.24326 13.762608  \" clip-path=\"url(#pfab099fd53)\" style=\"fill: none; stroke: #c2c2c2; stroke-width: 0.5; stroke-linecap: square\"/>\n   </g>\n   <g id=\"line2d_3\">\n    <path d=\"M 280.52334 13.762608  L 360.17226 13.762608  \" clip-path=\"url(#pfab099fd53)\" style=\"fill: none; stroke: #c2c2c2; stroke-width: 0.5; stroke-linecap: square\"/>\n   </g>\n   <g id=\"text_1\">\n    <!-- l -->\n    <g style=\"fill: #444443\" transform=\"translate(6.975 9.947031) scale(0.13 -0.13)\">\n     <defs>\n      <path id=\"DejaVuSansMono-6c\" d=\"M 1997 1269  Q 1997 881 2139 684  Q 2281 488 2559 488  L 3231 488  L 3231 0  L 2503 0  Q 1988 0 1705 331  Q 1422 663 1422 1269  L 1422 4447  L 500 4447  L 500 4897  L 1997 4897  L 1997 1269  z \" transform=\"scale(0.015625)\"/>\n     </defs>\n     <use xlink:href=\"#DejaVuSansMono-6c\"/>\n    </g>\n   </g>\n   <g id=\"text_2\">\n    <!-- 1 -->\n    <g style=\"fill: #444443\" transform=\"translate(13.5036 9.947031) scale(0.13 -0.13)\">\n     <defs>\n      <path id=\"DejaVuSansMono-31\" d=\"M 844 531  L 1825 531  L 1825 4097  L 769 3859  L 769 4434  L 1819 4666  L 2450 4666  L 2450 531  L 3419 531  L 3419 0  L 844 0  L 844 531  z \" transform=\"scale(0.015625)\"/>\n     </defs>\n     <use xlink:href=\"#DejaVuSansMono-31\"/>\n    </g>\n   </g>\n   <g id=\"text_3\">\n    <!-- _ -->\n    <g style=\"fill: #444443\" transform=\"translate(20.0322 9.947031) scale(0.13 -0.13)\">\n     <defs>\n      <path id=\"DejaVuSansMono-5f\" d=\"M 3853 -1259  L 3853 -1509  L 0 -1509  L 0 -1259  L 3853 -1259  z \" transform=\"scale(0.015625)\"/>\n     </defs>\n     <use xlink:href=\"#DejaVuSansMono-5f\"/>\n    </g>\n   </g>\n   <g id=\"text_4\">\n    <!-- a -->\n    <g style=\"fill: #444443\" transform=\"translate(26.5608 9.947031) scale(0.13 -0.13)\">\n     <defs>\n      <path id=\"DejaVuSansMono-61\" d=\"M 2194 1759  L 2003 1759  Q 1500 1759 1245 1582  Q 991 1406 991 1056  Q 991 741 1181 566  Q 1372 391 1709 391  Q 2184 391 2456 720  Q 2728 1050 2731 1631  L 2731 1759  L 2194 1759  z M 3309 1997  L 3309 0  L 2731 0  L 2731 519  Q 2547 206 2267 57  Q 1988 -91 1588 -91  Q 1053 -91 734 211  Q 416 513 416 1019  Q 416 1603 808 1906  Q 1200 2209 1959 2209  L 2731 2209  L 2731 2300  Q 2728 2719 2518 2908  Q 2309 3097 1850 3097  Q 1556 3097 1256 3012  Q 956 2928 672 2766  L 672 3341  Q 991 3463 1283 3523  Q 1575 3584 1850 3584  Q 2284 3584 2592 3456  Q 2900 3328 3091 3072  Q 3209 2916 3259 2686  Q 3309 2456 3309 1997  z \" transform=\"scale(0.015625)\"/>\n     </defs>\n     <use xlink:href=\"#DejaVuSansMono-61\"/>\n    </g>\n   </g>\n   <g id=\"text_5\">\n    <!-- c -->\n    <g style=\"fill: #444443\" transform=\"translate(33.0894 9.947031) scale(0.13 -0.13)\">\n     <defs>\n      <path id=\"DejaVuSansMono-63\" d=\"M 3316 178  Q 3084 44 2839 -23  Q 2594 -91 2338 -91  Q 1525 -91 1067 396  Q 609 884 609 1747  Q 609 2609 1067 3096  Q 1525 3584 2338 3584  Q 2591 3584 2831 3518  Q 3072 3453 3316 3316  L 3316 2713  Q 3088 2916 2858 3006  Q 2628 3097 2338 3097  Q 1797 3097 1506 2747  Q 1216 2397 1216 1747  Q 1216 1100 1508 748  Q 1800 397 2338 397  Q 2638 397 2875 489  Q 3113 581 3316 775  L 3316 178  z \" transform=\"scale(0.015625)\"/>\n     </defs>\n     <use xlink:href=\"#DejaVuSansMono-63\"/>\n    </g>\n   </g>\n   <g id=\"text_6\">\n    <!-- t -->\n    <g style=\"fill: #444443\" transform=\"translate(39.618 9.947031) scale(0.13 -0.13)\">\n     <defs>\n      <path id=\"DejaVuSansMono-74\" d=\"M 1919 4494  L 1919 3500  L 3225 3500  L 3225 3053  L 1919 3053  L 1919 1153  Q 1919 766 2066 612  Q 2213 459 2578 459  L 3225 459  L 3225 0  L 2522 0  Q 1875 0 1609 259  Q 1344 519 1344 1153  L 1344 3053  L 409 3053  L 409 3500  L 1344 3500  L 1344 4494  L 1919 4494  z \" transform=\"scale(0.015625)\"/>\n     </defs>\n     <use xlink:href=\"#DejaVuSansMono-74\"/>\n    </g>\n   </g>\n   <g id=\"text_7\">\n    <!-- i -->\n    <g style=\"fill: #444443\" transform=\"translate(46.1466 9.947031) scale(0.13 -0.13)\">\n     <defs>\n      <path id=\"DejaVuSansMono-69\" d=\"M 800 3500  L 2272 3500  L 2272 447  L 3413 447  L 3413 0  L 556 0  L 556 447  L 1697 447  L 1697 3053  L 800 3053  L 800 3500  z M 1697 4863  L 2272 4863  L 2272 4134  L 1697 4134  L 1697 4863  z \" transform=\"scale(0.015625)\"/>\n     </defs>\n     <use xlink:href=\"#DejaVuSansMono-69\"/>\n    </g>\n   </g>\n   <g id=\"text_8\">\n    <!-- v -->\n    <g style=\"fill: #444443\" transform=\"translate(52.6752 9.947031) scale(0.13 -0.13)\">\n     <defs>\n      <path id=\"DejaVuSansMono-76\" d=\"M 313 3500  L 909 3500  L 1925 563  L 2944 3500  L 3541 3500  L 2297 0  L 1556 0  L 313 3500  z \" transform=\"scale(0.015625)\"/>\n     </defs>\n     <use xlink:href=\"#DejaVuSansMono-76\"/>\n    </g>\n   </g>\n   <g id=\"text_9\">\n    <!-- a -->\n    <g style=\"fill: #444443\" transform=\"translate(59.2038 9.947031) scale(0.13 -0.13)\">\n     <use xlink:href=\"#DejaVuSansMono-61\"/>\n    </g>\n   </g>\n   <g id=\"text_10\">\n    <!-- t -->\n    <g style=\"fill: #444443\" transform=\"translate(65.7324 9.947031) scale(0.13 -0.13)\">\n     <use xlink:href=\"#DejaVuSansMono-74\"/>\n    </g>\n   </g>\n   <g id=\"text_11\">\n    <!-- e -->\n    <g style=\"fill: #444443\" transform=\"translate(72.261 9.947031) scale(0.13 -0.13)\">\n     <defs>\n      <path id=\"DejaVuSansMono-65\" d=\"M 3475 1894  L 3475 1613  L 984 1613  L 984 1594  Q 984 1022 1282 709  Q 1581 397 2125 397  Q 2400 397 2700 484  Q 3000 572 3341 750  L 3341 178  Q 3013 44 2708 -23  Q 2403 -91 2119 -91  Q 1303 -91 843 398  Q 384 888 384 1747  Q 384 2584 834 3084  Q 1284 3584 2034 3584  Q 2703 3584 3089 3131  Q 3475 2678 3475 1894  z M 2900 2063  Q 2888 2569 2661 2833  Q 2434 3097 2009 3097  Q 1594 3097 1325 2822  Q 1056 2547 1006 2059  L 2900 2063  z \" transform=\"scale(0.015625)\"/>\n     </defs>\n     <use xlink:href=\"#DejaVuSansMono-65\"/>\n    </g>\n   </g>\n   <g id=\"text_12\">\n    <!-- d -->\n    <g style=\"fill: #444443\" transform=\"translate(78.7896 9.947031) scale(0.13 -0.13)\">\n     <defs>\n      <path id=\"DejaVuSansMono-64\" d=\"M 2681 3053  L 2681 4863  L 3256 4863  L 3256 0  L 2681 0  L 2681 441  Q 2538 181 2298 45  Q 2059 -91 1747 -91  Q 1113 -91 748 401  Q 384 894 384 1759  Q 384 2613 750 3098  Q 1116 3584 1747 3584  Q 2063 3584 2303 3448  Q 2544 3313 2681 3053  z M 991 1747  Q 991 1078 1203 737  Q 1416 397 1831 397  Q 2247 397 2464 740  Q 2681 1084 2681 1747  Q 2681 2413 2464 2755  Q 2247 3097 1831 3097  Q 1416 3097 1203 2756  Q 991 2416 991 1747  z \" transform=\"scale(0.015625)\"/>\n     </defs>\n     <use xlink:href=\"#DejaVuSansMono-64\"/>\n    </g>\n   </g>\n   <g id=\"text_13\">\n    <!-- _ -->\n    <g style=\"fill: #444443\" transform=\"translate(85.3182 9.947031) scale(0.13 -0.13)\">\n     <use xlink:href=\"#DejaVuSansMono-5f\"/>\n    </g>\n   </g>\n   <g id=\"text_14\">\n    <!-- g -->\n    <g style=\"fill: #444443\" transform=\"translate(91.8468 9.947031) scale(0.13 -0.13)\">\n     <defs>\n      <path id=\"DejaVuSansMono-67\" d=\"M 2681 1778  Q 2681 2425 2470 2761  Q 2259 3097 1856 3097  Q 1434 3097 1212 2761  Q 991 2425 991 1778  Q 991 1131 1214 792  Q 1438 453 1863 453  Q 2259 453 2470 793  Q 2681 1134 2681 1778  z M 3256 225  Q 3256 -563 2884 -969  Q 2513 -1375 1791 -1375  Q 1553 -1375 1293 -1331  Q 1034 -1288 775 -1203  L 775 -634  Q 1081 -778 1331 -847  Q 1581 -916 1791 -916  Q 2256 -916 2468 -662  Q 2681 -409 2681 141  L 2681 166  L 2681 556  Q 2544 263 2306 119  Q 2069 -25 1728 -25  Q 1116 -25 750 465  Q 384 956 384 1778  Q 384 2603 750 3093  Q 1116 3584 1728 3584  Q 2066 3584 2300 3450  Q 2534 3316 2681 3034  L 2681 3488  L 3256 3488  L 3256 225  z \" transform=\"scale(0.015625)\"/>\n     </defs>\n     <use xlink:href=\"#DejaVuSansMono-67\"/>\n    </g>\n   </g>\n   <g id=\"text_15\">\n    <!-- r -->\n    <g style=\"fill: #444443\" transform=\"translate(98.3754 9.947031) scale(0.13 -0.13)\">\n     <defs>\n      <path id=\"DejaVuSansMono-72\" d=\"M 3609 2778  Q 3425 2922 3234 2987  Q 3044 3053 2816 3053  Q 2278 3053 1993 2715  Q 1709 2378 1709 1741  L 1709 0  L 1131 0  L 1131 3500  L 1709 3500  L 1709 2816  Q 1853 3188 2151 3386  Q 2450 3584 2859 3584  Q 3072 3584 3256 3531  Q 3441 3478 3609 3366  L 3609 2778  z \" transform=\"scale(0.015625)\"/>\n     </defs>\n     <use xlink:href=\"#DejaVuSansMono-72\"/>\n    </g>\n   </g>\n   <g id=\"text_16\">\n    <!-- a -->\n    <g style=\"fill: #444443\" transform=\"translate(104.904 9.947031) scale(0.13 -0.13)\">\n     <use xlink:href=\"#DejaVuSansMono-61\"/>\n    </g>\n   </g>\n   <g id=\"text_17\">\n    <!-- d -->\n    <g style=\"fill: #444443\" transform=\"translate(111.4326 9.947031) scale(0.13 -0.13)\">\n     <use xlink:href=\"#DejaVuSansMono-64\"/>\n    </g>\n   </g>\n   <g id=\"text_18\">\n    <!-- i -->\n    <g style=\"fill: #444443\" transform=\"translate(117.9612 9.947031) scale(0.13 -0.13)\">\n     <use xlink:href=\"#DejaVuSansMono-69\"/>\n    </g>\n   </g>\n   <g id=\"text_19\">\n    <!-- e -->\n    <g style=\"fill: #444443\" transform=\"translate(124.4898 9.947031) scale(0.13 -0.13)\">\n     <use xlink:href=\"#DejaVuSansMono-65\"/>\n    </g>\n   </g>\n   <g id=\"text_20\">\n    <!-- n -->\n    <g style=\"fill: #444443\" transform=\"translate(131.0184 9.947031) scale(0.13 -0.13)\">\n     <defs>\n      <path id=\"DejaVuSansMono-6e\" d=\"M 3284 2169  L 3284 0  L 2706 0  L 2706 2169  Q 2706 2641 2540 2862  Q 2375 3084 2022 3084  Q 1619 3084 1401 2798  Q 1184 2513 1184 1978  L 1184 0  L 609 0  L 609 3500  L 1184 3500  L 1184 2975  Q 1338 3275 1600 3429  Q 1863 3584 2222 3584  Q 2756 3584 3020 3232  Q 3284 2881 3284 2169  z \" transform=\"scale(0.015625)\"/>\n     </defs>\n     <use xlink:href=\"#DejaVuSansMono-6e\"/>\n    </g>\n   </g>\n   <g id=\"text_21\">\n    <!-- t -->\n    <g style=\"fill: #444443\" transform=\"translate(137.547 9.947031) scale(0.13 -0.13)\">\n     <use xlink:href=\"#DejaVuSansMono-74\"/>\n    </g>\n   </g>\n   <g id=\"text_22\">\n    <!--   -->\n    <g style=\"fill: #444443\" transform=\"translate(144.0756 9.947031) scale(0.13 -0.13)\">\n     <defs>\n      <path id=\"DejaVuSansMono-20\" transform=\"scale(0.015625)\"/>\n     </defs>\n     <use xlink:href=\"#DejaVuSansMono-20\"/>\n    </g>\n   </g>\n   <g id=\"text_23\">\n    <!-- = -->\n    <g style=\"fill: #444443\" transform=\"translate(150.6042 9.947031) scale(0.13 -0.13)\">\n     <defs>\n      <path id=\"DejaVuSansMono-3d\" d=\"M 275 1638  L 3578 1638  L 3578 1100  L 275 1100  L 275 1638  z M 275 2906  L 3578 2906  L 3578 2375  L 275 2375  L 275 2906  z \" transform=\"scale(0.015625)\"/>\n     </defs>\n     <use xlink:href=\"#DejaVuSansMono-3d\"/>\n    </g>\n   </g>\n   <g id=\"text_24\">\n    <!--   -->\n    <g style=\"fill: #444443\" transform=\"translate(157.1328 9.947031) scale(0.13 -0.13)\">\n     <use xlink:href=\"#DejaVuSansMono-20\"/>\n    </g>\n   </g>\n   <g id=\"text_25\">\n    <!-- o -->\n    <g style=\"fill: #444443\" transform=\"translate(163.6614 9.947031) scale(0.13 -0.13)\">\n     <defs>\n      <path id=\"DejaVuSansMono-6f\" d=\"M 1925 3097  Q 1488 3097 1263 2756  Q 1038 2416 1038 1747  Q 1038 1081 1263 739  Q 1488 397 1925 397  Q 2366 397 2591 739  Q 2816 1081 2816 1747  Q 2816 2416 2591 2756  Q 2366 3097 1925 3097  z M 1925 3584  Q 2653 3584 3039 3112  Q 3425 2641 3425 1747  Q 3425 850 3040 379  Q 2656 -91 1925 -91  Q 1197 -91 812 379  Q 428 850 428 1747  Q 428 2641 812 3112  Q 1197 3584 1925 3584  z \" transform=\"scale(0.015625)\"/>\n     </defs>\n     <use xlink:href=\"#DejaVuSansMono-6f\"/>\n    </g>\n   </g>\n   <g id=\"text_26\">\n    <!-- u -->\n    <g style=\"fill: #444443\" transform=\"translate(170.19 9.947031) scale(0.13 -0.13)\">\n     <defs>\n      <path id=\"DejaVuSansMono-75\" d=\"M 609 1325  L 609 3494  L 1184 3494  L 1184 1325  Q 1184 853 1351 631  Q 1519 409 1869 409  Q 2275 409 2490 695  Q 2706 981 2706 1516  L 2706 3494  L 3284 3494  L 3284 0  L 2706 0  L 2706 525  Q 2553 222 2289 65  Q 2025 -91 1672 -91  Q 1134 -91 871 261  Q 609 613 609 1325  z \" transform=\"scale(0.015625)\"/>\n     </defs>\n     <use xlink:href=\"#DejaVuSansMono-75\"/>\n    </g>\n   </g>\n   <g id=\"text_27\">\n    <!-- t -->\n    <g style=\"fill: #444443\" transform=\"translate(176.7186 9.947031) scale(0.13 -0.13)\">\n     <use xlink:href=\"#DejaVuSansMono-74\"/>\n    </g>\n   </g>\n   <g id=\"text_28\">\n    <!-- p -->\n    <g style=\"fill: #444443\" transform=\"translate(183.2472 9.947031) scale(0.13 -0.13)\">\n     <defs>\n      <path id=\"DejaVuSansMono-70\" d=\"M 1172 441  L 1172 -1331  L 594 -1331  L 594 3500  L 1172 3500  L 1172 3053  Q 1316 3313 1555 3448  Q 1794 3584 2106 3584  Q 2741 3584 3102 3093  Q 3463 2603 3463 1734  Q 3463 881 3100 395  Q 2738 -91 2106 -91  Q 1788 -91 1548 45  Q 1309 181 1172 441  z M 2859 1747  Q 2859 2416 2648 2756  Q 2438 3097 2022 3097  Q 1603 3097 1387 2755  Q 1172 2413 1172 1747  Q 1172 1084 1387 740  Q 1603 397 2022 397  Q 2438 397 2648 737  Q 2859 1078 2859 1747  z \" transform=\"scale(0.015625)\"/>\n     </defs>\n     <use xlink:href=\"#DejaVuSansMono-70\"/>\n    </g>\n   </g>\n   <g id=\"text_29\">\n    <!-- u -->\n    <g style=\"fill: #444443\" transform=\"translate(189.7758 9.947031) scale(0.13 -0.13)\">\n     <use xlink:href=\"#DejaVuSansMono-75\"/>\n    </g>\n   </g>\n   <g id=\"text_30\">\n    <!-- t -->\n    <g style=\"fill: #444443\" transform=\"translate(196.3044 9.947031) scale(0.13 -0.13)\">\n     <use xlink:href=\"#DejaVuSansMono-74\"/>\n    </g>\n   </g>\n   <g id=\"text_31\">\n    <!-- _ -->\n    <g style=\"fill: #444443\" transform=\"translate(202.833 9.947031) scale(0.13 -0.13)\">\n     <use xlink:href=\"#DejaVuSansMono-5f\"/>\n    </g>\n   </g>\n   <g id=\"text_32\">\n    <!-- g -->\n    <g style=\"fill: #444443\" transform=\"translate(209.3616 9.947031) scale(0.13 -0.13)\">\n     <use xlink:href=\"#DejaVuSansMono-67\"/>\n    </g>\n   </g>\n   <g id=\"text_33\">\n    <!-- r -->\n    <g style=\"fill: #444443\" transform=\"translate(215.8902 9.947031) scale(0.13 -0.13)\">\n     <use xlink:href=\"#DejaVuSansMono-72\"/>\n    </g>\n   </g>\n   <g id=\"text_34\">\n    <!-- a -->\n    <g style=\"fill: #444443\" transform=\"translate(222.4188 9.947031) scale(0.13 -0.13)\">\n     <use xlink:href=\"#DejaVuSansMono-61\"/>\n    </g>\n   </g>\n   <g id=\"text_35\">\n    <!-- d -->\n    <g style=\"fill: #444443\" transform=\"translate(228.9474 9.947031) scale(0.13 -0.13)\">\n     <use xlink:href=\"#DejaVuSansMono-64\"/>\n    </g>\n   </g>\n   <g id=\"text_36\">\n    <!-- i -->\n    <g style=\"fill: #444443\" transform=\"translate(235.476 9.947031) scale(0.13 -0.13)\">\n     <use xlink:href=\"#DejaVuSansMono-69\"/>\n    </g>\n   </g>\n   <g id=\"text_37\">\n    <!-- e -->\n    <g style=\"fill: #444443\" transform=\"translate(242.0046 9.947031) scale(0.13 -0.13)\">\n     <use xlink:href=\"#DejaVuSansMono-65\"/>\n    </g>\n   </g>\n   <g id=\"text_38\">\n    <!-- n -->\n    <g style=\"fill: #444443\" transform=\"translate(248.5332 9.947031) scale(0.13 -0.13)\">\n     <use xlink:href=\"#DejaVuSansMono-6e\"/>\n    </g>\n   </g>\n   <g id=\"text_39\">\n    <!-- t -->\n    <g style=\"fill: #444443\" transform=\"translate(255.0618 9.947031) scale(0.13 -0.13)\">\n     <use xlink:href=\"#DejaVuSansMono-74\"/>\n    </g>\n   </g>\n   <g id=\"text_40\">\n    <!--   -->\n    <g style=\"fill: #444443\" transform=\"translate(261.5904 9.947031) scale(0.13 -0.13)\">\n     <use xlink:href=\"#DejaVuSansMono-20\"/>\n    </g>\n   </g>\n   <g id=\"text_41\">\n    <!-- @ -->\n    <g style=\"fill: #444443\" transform=\"translate(268.119 9.947031) scale(0.13 -0.13)\">\n     <defs>\n      <path id=\"DejaVuSansMono-40\" d=\"M 3244 1703  Q 3244 2106 3044 2348  Q 2844 2591 2509 2591  Q 2175 2591 1973 2348  Q 1772 2106 1772 1703  Q 1772 1297 1973 1055  Q 2175 813 2509 813  Q 2844 813 3044 1055  Q 3244 1297 3244 1703  z M 3681 422  L 3231 422  L 3231 769  Q 3116 572 2911 465  Q 2706 359 2450 359  Q 1947 359 1617 737  Q 1288 1116 1288 1703  Q 1288 2291 1617 2669  Q 1947 3047 2450 3047  Q 2700 3047 2909 2937  Q 3119 2828 3231 2638  L 3231 2834  Q 3231 3322 2956 3619  Q 2681 3916 2228 3916  Q 1459 3916 1004 3317  Q 550 2719 550 1697  Q 550 669 1065 59  Q 1581 -550 2438 -550  Q 2606 -550 2775 -519  Q 2944 -488 3122 -422  L 3272 -844  Q 3075 -922 2883 -959  Q 2691 -997 2509 -997  Q 1394 -997 739 -269  Q 84 459 84 1697  Q 84 2916 671 3637  Q 1259 4359 2247 4359  Q 2900 4359 3290 3943  Q 3681 3528 3681 2828  L 3681 422  z \" transform=\"scale(0.015625)\"/>\n     </defs>\n     <use xlink:href=\"#DejaVuSansMono-40\"/>\n    </g>\n   </g>\n   <g id=\"text_42\">\n    <!--   -->\n    <g style=\"fill: #444443\" transform=\"translate(274.6476 9.947031) scale(0.13 -0.13)\">\n     <use xlink:href=\"#DejaVuSansMono-20\"/>\n    </g>\n   </g>\n   <g id=\"text_43\">\n    <!-- l -->\n    <g style=\"fill: #444443\" transform=\"translate(281.1762 9.947031) scale(0.13 -0.13)\">\n     <use xlink:href=\"#DejaVuSansMono-6c\"/>\n    </g>\n   </g>\n   <g id=\"text_44\">\n    <!-- 2 -->\n    <g style=\"fill: #444443\" transform=\"translate(287.7048 9.947031) scale(0.13 -0.13)\">\n     <defs>\n      <path id=\"DejaVuSansMono-32\" d=\"M 1166 531  L 3309 531  L 3309 0  L 475 0  L 475 531  Q 1059 1147 1496 1619  Q 1934 2091 2100 2284  Q 2413 2666 2522 2902  Q 2631 3138 2631 3384  Q 2631 3775 2401 3997  Q 2172 4219 1772 4219  Q 1488 4219 1175 4116  Q 863 4013 513 3803  L 513 4441  Q 834 4594 1145 4672  Q 1456 4750 1759 4750  Q 2444 4750 2861 4386  Q 3278 4022 3278 3431  Q 3278 3131 3139 2831  Q 3000 2531 2688 2169  Q 2513 1966 2180 1606  Q 1847 1247 1166 531  z \" transform=\"scale(0.015625)\"/>\n     </defs>\n     <use xlink:href=\"#DejaVuSansMono-32\"/>\n    </g>\n   </g>\n   <g id=\"text_45\">\n    <!-- _ -->\n    <g style=\"fill: #444443\" transform=\"translate(294.2334 9.947031) scale(0.13 -0.13)\">\n     <use xlink:href=\"#DejaVuSansMono-5f\"/>\n    </g>\n   </g>\n   <g id=\"text_46\">\n    <!-- w -->\n    <g style=\"fill: #444443\" transform=\"translate(300.762 9.947031) scale(0.13 -0.13)\">\n     <defs>\n      <path id=\"DejaVuSansMono-77\" d=\"M 0 3500  L 569 3500  L 1178 672  L 1678 2478  L 2169 2478  L 2675 672  L 3284 3500  L 3853 3500  L 3034 0  L 2484 0  L 1925 1919  L 1369 0  L 819 0  L 0 3500  z \" transform=\"scale(0.015625)\"/>\n     </defs>\n     <use xlink:href=\"#DejaVuSansMono-77\"/>\n    </g>\n   </g>\n   <g id=\"text_47\">\n    <!-- e -->\n    <g style=\"fill: #444443\" transform=\"translate(307.2906 9.947031) scale(0.13 -0.13)\">\n     <use xlink:href=\"#DejaVuSansMono-65\"/>\n    </g>\n   </g>\n   <g id=\"text_48\">\n    <!-- i -->\n    <g style=\"fill: #444443\" transform=\"translate(313.8192 9.947031) scale(0.13 -0.13)\">\n     <use xlink:href=\"#DejaVuSansMono-69\"/>\n    </g>\n   </g>\n   <g id=\"text_49\">\n    <!-- g -->\n    <g style=\"fill: #444443\" transform=\"translate(320.3478 9.947031) scale(0.13 -0.13)\">\n     <use xlink:href=\"#DejaVuSansMono-67\"/>\n    </g>\n   </g>\n   <g id=\"text_50\">\n    <!-- h -->\n    <g style=\"fill: #444443\" transform=\"translate(326.8764 9.947031) scale(0.13 -0.13)\">\n     <defs>\n      <path id=\"DejaVuSansMono-68\" d=\"M 3284 2169  L 3284 0  L 2706 0  L 2706 2169  Q 2706 2641 2540 2862  Q 2375 3084 2022 3084  Q 1619 3084 1401 2798  Q 1184 2513 1184 1978  L 1184 0  L 609 0  L 609 4863  L 1184 4863  L 1184 2975  Q 1338 3275 1600 3429  Q 1863 3584 2222 3584  Q 2756 3584 3020 3232  Q 3284 2881 3284 2169  z \" transform=\"scale(0.015625)\"/>\n     </defs>\n     <use xlink:href=\"#DejaVuSansMono-68\"/>\n    </g>\n   </g>\n   <g id=\"text_51\">\n    <!-- t -->\n    <g style=\"fill: #444443\" transform=\"translate(333.405 9.947031) scale(0.13 -0.13)\">\n     <use xlink:href=\"#DejaVuSansMono-74\"/>\n    </g>\n   </g>\n   <g id=\"text_52\">\n    <!-- s -->\n    <g style=\"fill: #444443\" transform=\"translate(339.9336 9.947031) scale(0.13 -0.13)\">\n     <defs>\n      <path id=\"DejaVuSansMono-73\" d=\"M 3041 3378  L 3041 2816  Q 2794 2959 2544 3031  Q 2294 3103 2034 3103  Q 1644 3103 1451 2976  Q 1259 2850 1259 2591  Q 1259 2356 1403 2240  Q 1547 2125 2119 2016  L 2350 1972  Q 2778 1891 2998 1647  Q 3219 1403 3219 1013  Q 3219 494 2850 201  Q 2481 -91 1825 -91  Q 1566 -91 1281 -36  Q 997 19 666 128  L 666 722  Q 988 556 1281 473  Q 1575 391 1838 391  Q 2219 391 2428 545  Q 2638 700 2638 978  Q 2638 1378 1872 1531  L 1847 1538  L 1631 1581  Q 1134 1678 906 1908  Q 678 2138 678 2534  Q 678 3038 1018 3311  Q 1359 3584 1991 3584  Q 2272 3584 2531 3532  Q 2791 3481 3041 3378  z \" transform=\"scale(0.015625)\"/>\n     </defs>\n     <use xlink:href=\"#DejaVuSansMono-73\"/>\n    </g>\n   </g>\n   <g id=\"text_53\">\n    <!-- . -->\n    <g style=\"fill: #444443\" transform=\"translate(346.4622 9.947031) scale(0.13 -0.13)\">\n     <defs>\n      <path id=\"DejaVuSansMono-2e\" d=\"M 1528 953  L 2316 953  L 2316 0  L 1528 0  L 1528 953  z \" transform=\"scale(0.015625)\"/>\n     </defs>\n     <use xlink:href=\"#DejaVuSansMono-2e\"/>\n    </g>\n   </g>\n   <g id=\"text_54\">\n    <!-- T -->\n    <g style=\"fill: #444443\" transform=\"translate(352.9908 9.947031) scale(0.13 -0.13)\">\n     <defs>\n      <path id=\"DejaVuSansMono-54\" d=\"M 147 4666  L 3706 4666  L 3706 4134  L 2247 4134  L 2247 0  L 1613 0  L 1613 4134  L 147 4134  L 147 4666  z \" transform=\"scale(0.015625)\"/>\n     </defs>\n     <use xlink:href=\"#DejaVuSansMono-54\"/>\n    </g>\n   </g>\n   <g id=\"text_55\">\n    <!-- 5 -->\n    <g transform=\"translate(62.228531 37.897572) rotate(-90) scale(0.09 -0.09)\">\n     <defs>\n      <path id=\"DejaVuSans-35\" d=\"M 691 4666  L 3169 4666  L 3169 4134  L 1269 4134  L 1269 2991  Q 1406 3038 1543 3061  Q 1681 3084 1819 3084  Q 2600 3084 3056 2656  Q 3513 2228 3513 1497  Q 3513 744 3044 326  Q 2575 -91 1722 -91  Q 1428 -91 1123 -41  Q 819 9 494 109  L 494 744  Q 775 591 1075 516  Q 1375 441 1709 441  Q 2250 441 2565 725  Q 2881 1009 2881 1497  Q 2881 1984 2565 2268  Q 2250 2553 1709 2553  Q 1456 2553 1204 2497  Q 953 2441 691 2322  L 691 4666  z \" transform=\"scale(0.015625)\"/>\n     </defs>\n     <use xlink:href=\"#DejaVuSans-35\"/>\n    </g>\n   </g>\n   <g id=\"text_56\">\n    <!-- 2 -->\n    <g transform=\"translate(72.662175 22.297107) scale(0.09 -0.09)\">\n     <defs>\n      <path id=\"DejaVuSans-32\" d=\"M 1228 531  L 3431 531  L 3431 0  L 469 0  L 469 531  Q 828 903 1448 1529  Q 2069 2156 2228 2338  Q 2531 2678 2651 2914  Q 2772 3150 2772 3378  Q 2772 3750 2511 3984  Q 2250 4219 1831 4219  Q 1534 4219 1204 4116  Q 875 4013 500 3803  L 500 4441  Q 881 4594 1212 4672  Q 1544 4750 1819 4750  Q 2544 4750 2975 4387  Q 3406 4025 3406 3419  Q 3406 3131 3298 2873  Q 3191 2616 2906 2266  Q 2828 2175 2409 1742  Q 1991 1309 1228 531  z \" transform=\"scale(0.015625)\"/>\n     </defs>\n     <use xlink:href=\"#DejaVuSans-32\"/>\n    </g>\n   </g>\n   <g id=\"text_57\">\n    <!-- &lt;${\\mathit{float64}}$&gt; -->\n    <g transform=\"translate(57.3253 53.090693) scale(0.07 -0.07)\">\n     <defs>\n      <path id=\"DejaVuSans-3c\" d=\"M 4684 3150  L 1459 2003  L 4684 863  L 4684 294  L 678 1747  L 678 2266  L 4684 3719  L 4684 3150  z \" transform=\"scale(0.015625)\"/>\n      <path id=\"DejaVuSans-Oblique-66\" d=\"M 3059 4863  L 2969 4384  L 2419 4384  Q 2106 4384 1964 4261  Q 1822 4138 1753 3809  L 1691 3500  L 2638 3500  L 2553 3053  L 1606 3053  L 1013 0  L 434 0  L 1031 3053  L 481 3053  L 563 3500  L 1113 3500  L 1159 3744  Q 1278 4363 1576 4613  Q 1875 4863 2516 4863  L 3059 4863  z \" transform=\"scale(0.015625)\"/>\n      <path id=\"DejaVuSans-Oblique-6c\" d=\"M 1172 4863  L 1747 4863  L 800 0  L 225 0  L 1172 4863  z \" transform=\"scale(0.015625)\"/>\n      <path id=\"DejaVuSans-Oblique-6f\" d=\"M 1625 -91  Q 1009 -91 651 289  Q 294 669 294 1325  Q 294 1706 417 2101  Q 541 2497 738 2766  Q 1047 3184 1428 3384  Q 1809 3584 2291 3584  Q 2888 3584 3255 3212  Q 3622 2841 3622 2241  Q 3622 1825 3500 1412  Q 3378 1000 3181 728  Q 2875 309 2494 109  Q 2113 -91 1625 -91  z M 891 1344  Q 891 869 1089 633  Q 1288 397 1691 397  Q 2269 397 2648 901  Q 3028 1406 3028 2181  Q 3028 2634 2825 2865  Q 2622 3097 2228 3097  Q 1903 3097 1650 2945  Q 1397 2794 1197 2484  Q 1050 2253 970 1956  Q 891 1659 891 1344  z \" transform=\"scale(0.015625)\"/>\n      <path id=\"DejaVuSans-Oblique-61\" d=\"M 3438 1997  L 3047 0  L 2472 0  L 2578 531  Q 2325 219 2001 64  Q 1678 -91 1281 -91  Q 834 -91 548 182  Q 263 456 263 884  Q 263 1497 752 1853  Q 1241 2209 2100 2209  L 2900 2209  L 2931 2363  Q 2938 2388 2941 2417  Q 2944 2447 2944 2509  Q 2944 2788 2717 2942  Q 2491 3097 2081 3097  Q 1800 3097 1504 3025  Q 1209 2953 897 2809  L 997 3341  Q 1322 3463 1633 3523  Q 1944 3584 2234 3584  Q 2853 3584 3176 3315  Q 3500 3047 3500 2534  Q 3500 2431 3484 2292  Q 3469 2153 3438 1997  z M 2816 1759  L 2241 1759  Q 1534 1759 1195 1570  Q 856 1381 856 984  Q 856 709 1029 553  Q 1203 397 1509 397  Q 1978 397 2328 733  Q 2678 1069 2791 1631  L 2816 1759  z \" transform=\"scale(0.015625)\"/>\n      <path id=\"DejaVuSans-Oblique-74\" d=\"M 2706 3500  L 2619 3053  L 1472 3053  L 1100 1153  Q 1081 1047 1072 975  Q 1063 903 1063 863  Q 1063 663 1183 572  Q 1303 481 1569 481  L 2150 481  L 2053 0  L 1503 0  Q 991 0 739 200  Q 488 400 488 806  Q 488 878 497 964  Q 506 1050 525 1153  L 897 3053  L 409 3053  L 500 3500  L 978 3500  L 1172 4494  L 1747 4494  L 1556 3500  L 2706 3500  z \" transform=\"scale(0.015625)\"/>\n      <path id=\"DejaVuSans-36\" d=\"M 2113 2584  Q 1688 2584 1439 2293  Q 1191 2003 1191 1497  Q 1191 994 1439 701  Q 1688 409 2113 409  Q 2538 409 2786 701  Q 3034 994 3034 1497  Q 3034 2003 2786 2293  Q 2538 2584 2113 2584  z M 3366 4563  L 3366 3988  Q 3128 4100 2886 4159  Q 2644 4219 2406 4219  Q 1781 4219 1451 3797  Q 1122 3375 1075 2522  Q 1259 2794 1537 2939  Q 1816 3084 2150 3084  Q 2853 3084 3261 2657  Q 3669 2231 3669 1497  Q 3669 778 3244 343  Q 2819 -91 2113 -91  Q 1303 -91 875 529  Q 447 1150 447 2328  Q 447 3434 972 4092  Q 1497 4750 2381 4750  Q 2619 4750 2861 4703  Q 3103 4656 3366 4563  z \" transform=\"scale(0.015625)\"/>\n      <path id=\"DejaVuSans-34\" d=\"M 2419 4116  L 825 1625  L 2419 1625  L 2419 4116  z M 2253 4666  L 3047 4666  L 3047 1625  L 3713 1625  L 3713 1100  L 3047 1100  L 3047 0  L 2419 0  L 2419 1100  L 313 1100  L 313 1709  L 2253 4666  z \" transform=\"scale(0.015625)\"/>\n      <path id=\"DejaVuSans-3e\" d=\"M 678 3150  L 678 3719  L 4684 2266  L 4684 1747  L 678 294  L 678 863  L 3897 2003  L 678 3150  z \" transform=\"scale(0.015625)\"/>\n     </defs>\n     <use xlink:href=\"#DejaVuSans-3c\" transform=\"translate(0 0.015625)\"/>\n     <use xlink:href=\"#DejaVuSans-Oblique-66\" transform=\"translate(83.789062 0.015625)\"/>\n     <use xlink:href=\"#DejaVuSans-Oblique-6c\" transform=\"translate(118.994141 0.015625)\"/>\n     <use xlink:href=\"#DejaVuSans-Oblique-6f\" transform=\"translate(146.777344 0.015625)\"/>\n     <use xlink:href=\"#DejaVuSans-Oblique-61\" transform=\"translate(207.958984 0.015625)\"/>\n     <use xlink:href=\"#DejaVuSans-Oblique-74\" transform=\"translate(269.238281 0.015625)\"/>\n     <use xlink:href=\"#DejaVuSans-36\" transform=\"translate(308.447266 0.015625)\"/>\n     <use xlink:href=\"#DejaVuSans-34\" transform=\"translate(372.070312 0.015625)\"/>\n     <use xlink:href=\"#DejaVuSans-3e\" transform=\"translate(435.693359 0.015625)\"/>\n    </g>\n   </g>\n   <g id=\"text_58\">\n    <!-- 5 -->\n    <g transform=\"translate(208.142741 37.897572) rotate(-90) scale(0.09 -0.09)\">\n     <use xlink:href=\"#DejaVuSans-35\"/>\n    </g>\n   </g>\n   <g id=\"text_59\">\n    <!-- 1 -->\n    <g transform=\"translate(209.762775 22.297107) scale(0.09 -0.09)\">\n     <defs>\n      <path id=\"DejaVuSans-31\" d=\"M 794 531  L 1825 531  L 1825 4091  L 703 3866  L 703 4441  L 1819 4666  L 2450 4666  L 2450 531  L 3481 531  L 3481 0  L 794 0  L 794 531  z \" transform=\"scale(0.015625)\"/>\n     </defs>\n     <use xlink:href=\"#DejaVuSans-31\"/>\n    </g>\n   </g>\n   <g id=\"text_60\">\n    <!-- &lt;${\\mathit{float64}}$&gt; -->\n    <g transform=\"translate(194.4259 53.090693) scale(0.07 -0.07)\">\n     <use xlink:href=\"#DejaVuSans-3c\" transform=\"translate(0 0.015625)\"/>\n     <use xlink:href=\"#DejaVuSans-Oblique-66\" transform=\"translate(83.789062 0.015625)\"/>\n     <use xlink:href=\"#DejaVuSans-Oblique-6c\" transform=\"translate(118.994141 0.015625)\"/>\n     <use xlink:href=\"#DejaVuSans-Oblique-6f\" transform=\"translate(146.777344 0.015625)\"/>\n     <use xlink:href=\"#DejaVuSans-Oblique-61\" transform=\"translate(207.958984 0.015625)\"/>\n     <use xlink:href=\"#DejaVuSans-Oblique-74\" transform=\"translate(269.238281 0.015625)\"/>\n     <use xlink:href=\"#DejaVuSans-36\" transform=\"translate(308.447266 0.015625)\"/>\n     <use xlink:href=\"#DejaVuSans-34\" transform=\"translate(372.070312 0.015625)\"/>\n     <use xlink:href=\"#DejaVuSans-3e\" transform=\"translate(435.693359 0.015625)\"/>\n    </g>\n   </g>\n   <g id=\"text_61\">\n    <!-- 1 -->\n    <g transform=\"translate(307.051031 29.140824) rotate(-90) scale(0.09 -0.09)\">\n     <use xlink:href=\"#DejaVuSans-31\"/>\n    </g>\n   </g>\n   <g id=\"text_62\">\n    <!-- 2 -->\n    <g transform=\"translate(317.484675 22.297107) scale(0.09 -0.09)\">\n     <use xlink:href=\"#DejaVuSans-32\"/>\n    </g>\n   </g>\n   <g id=\"text_63\">\n    <!-- &lt;${\\mathit{float64}}$&gt; -->\n    <g transform=\"translate(302.1478 35.577197) scale(0.07 -0.07)\">\n     <use xlink:href=\"#DejaVuSans-3c\" transform=\"translate(0 0.015625)\"/>\n     <use xlink:href=\"#DejaVuSans-Oblique-66\" transform=\"translate(83.789062 0.015625)\"/>\n     <use xlink:href=\"#DejaVuSans-Oblique-6c\" transform=\"translate(118.994141 0.015625)\"/>\n     <use xlink:href=\"#DejaVuSans-Oblique-6f\" transform=\"translate(146.777344 0.015625)\"/>\n     <use xlink:href=\"#DejaVuSans-Oblique-61\" transform=\"translate(207.958984 0.015625)\"/>\n     <use xlink:href=\"#DejaVuSans-Oblique-74\" transform=\"translate(269.238281 0.015625)\"/>\n     <use xlink:href=\"#DejaVuSans-36\" transform=\"translate(308.447266 0.015625)\"/>\n     <use xlink:href=\"#DejaVuSans-34\" transform=\"translate(372.070312 0.015625)\"/>\n     <use xlink:href=\"#DejaVuSans-3e\" transform=\"translate(435.693359 0.015625)\"/>\n    </g>\n   </g>\n  </g>\n </g>\n <defs>\n  <clipPath id=\"pfab099fd53\">\n   <rect x=\"0\" y=\"4.901991\" width=\"359.5194\" height=\"42.315395\"/>\n  </clipPath>\n </defs>\n</svg>"
          },
          "metadata": {}
        },
        {
          "output_type": "display_data",
          "data": {
            "text/plain": [
              "<IPython.core.display.SVG object>"
            ],
            "image/svg+xml": "<svg xmlns:xlink=\"http://www.w3.org/1999/xlink\" xmlns=\"http://www.w3.org/2000/svg\" width=\"471.803406pt\" height=\"54.546474pt\" viewBox=\"0 0 471.803406 54.546474\" version=\"1.1\">\n <metadata>\n  <rdf:RDF xmlns:dc=\"http://purl.org/dc/elements/1.1/\" xmlns:cc=\"http://creativecommons.org/ns#\" xmlns:rdf=\"http://www.w3.org/1999/02/22-rdf-syntax-ns#\">\n   <cc:Work>\n    <dc:type rdf:resource=\"http://purl.org/dc/dcmitype/StillImage\"/>\n    <dc:date>2025-06-21T13:16:05.851662</dc:date>\n    <dc:format>image/svg+xml</dc:format>\n    <dc:creator>\n     <cc:Agent>\n      <dc:title>Matplotlib v3.10.0, https://matplotlib.org/</dc:title>\n     </cc:Agent>\n    </dc:creator>\n   </cc:Work>\n  </rdf:RDF>\n </metadata>\n <defs>\n  <style type=\"text/css\">*{stroke-linejoin: round; stroke-linecap: butt}</style>\n </defs>\n <g id=\"figure_1\">\n  <g id=\"patch_1\">\n   <path d=\"M 0 54.546474  L 471.803406 54.546474  L 471.803406 0  L 0 0  z \" style=\"fill: #ffffff\"/>\n  </g>\n  <g id=\"axes_1\">\n   <g id=\"patch_2\">\n    <path d=\"M 54.30735 46.385787  L 77.15745 46.385787  L 77.15745 23.683107  L 54.30735 23.683107  z \" clip-path=\"url(#p63a914360b)\" style=\"fill: #a8e1b0; fill-opacity: 0.75; stroke: #808080; stroke-width: 0.7; stroke-linejoin: miter\"/>\n   </g>\n   <g id=\"patch_3\">\n    <path d=\"M 201.20085 46.385787  L 224.05095 46.385787  L 224.05095 23.683107  L 201.20085 23.683107  z \" clip-path=\"url(#p63a914360b)\" style=\"fill: #a8e1b0; fill-opacity: 0.75; stroke: #808080; stroke-width: 0.7; stroke-linejoin: miter\"/>\n   </g>\n   <g id=\"patch_4\">\n    <path d=\"M 403.58745 46.385787  L 426.43755 46.385787  L 426.43755 23.683107  L 403.58745 23.683107  z \" clip-path=\"url(#p63a914360b)\" style=\"fill: #a8e1b0; fill-opacity: 0.75; stroke: #808080; stroke-width: 0.7; stroke-linejoin: miter\"/>\n   </g>\n   <g id=\"line2d_1\">\n    <path d=\"M 6.32214 13.762608  L 125.14266 13.762608  \" clip-path=\"url(#p63a914360b)\" style=\"fill: none; stroke: #c2c2c2; stroke-width: 0.5; stroke-linecap: square\"/>\n   </g>\n   <g id=\"line2d_2\">\n    <path d=\"M 143.42274 13.762608  L 281.82906 13.762608  \" clip-path=\"url(#p63a914360b)\" style=\"fill: none; stroke: #c2c2c2; stroke-width: 0.5; stroke-linecap: square\"/>\n   </g>\n   <g id=\"line2d_3\">\n    <path d=\"M 384.98094 13.762608  L 445.04406 13.762608  \" clip-path=\"url(#p63a914360b)\" style=\"fill: none; stroke: #c2c2c2; stroke-width: 0.5; stroke-linecap: square\"/>\n   </g>\n   <g id=\"text_1\">\n    <!-- l -->\n    <g style=\"fill: #444443\" transform=\"translate(6.975 9.947031) scale(0.13 -0.13)\">\n     <defs>\n      <path id=\"DejaVuSansMono-6c\" d=\"M 1997 1269  Q 1997 881 2139 684  Q 2281 488 2559 488  L 3231 488  L 3231 0  L 2503 0  Q 1988 0 1705 331  Q 1422 663 1422 1269  L 1422 4447  L 500 4447  L 500 4897  L 1997 4897  L 1997 1269  z \" transform=\"scale(0.015625)\"/>\n     </defs>\n     <use xlink:href=\"#DejaVuSansMono-6c\"/>\n    </g>\n   </g>\n   <g id=\"text_2\">\n    <!-- 1 -->\n    <g style=\"fill: #444443\" transform=\"translate(13.5036 9.947031) scale(0.13 -0.13)\">\n     <defs>\n      <path id=\"DejaVuSansMono-31\" d=\"M 844 531  L 1825 531  L 1825 4097  L 769 3859  L 769 4434  L 1819 4666  L 2450 4666  L 2450 531  L 3419 531  L 3419 0  L 844 0  L 844 531  z \" transform=\"scale(0.015625)\"/>\n     </defs>\n     <use xlink:href=\"#DejaVuSansMono-31\"/>\n    </g>\n   </g>\n   <g id=\"text_3\">\n    <!-- _ -->\n    <g style=\"fill: #444443\" transform=\"translate(20.0322 9.947031) scale(0.13 -0.13)\">\n     <defs>\n      <path id=\"DejaVuSansMono-5f\" d=\"M 3853 -1259  L 3853 -1509  L 0 -1509  L 0 -1259  L 3853 -1259  z \" transform=\"scale(0.015625)\"/>\n     </defs>\n     <use xlink:href=\"#DejaVuSansMono-5f\"/>\n    </g>\n   </g>\n   <g id=\"text_4\">\n    <!-- o -->\n    <g style=\"fill: #444443\" transform=\"translate(26.5608 9.947031) scale(0.13 -0.13)\">\n     <defs>\n      <path id=\"DejaVuSansMono-6f\" d=\"M 1925 3097  Q 1488 3097 1263 2756  Q 1038 2416 1038 1747  Q 1038 1081 1263 739  Q 1488 397 1925 397  Q 2366 397 2591 739  Q 2816 1081 2816 1747  Q 2816 2416 2591 2756  Q 2366 3097 1925 3097  z M 1925 3584  Q 2653 3584 3039 3112  Q 3425 2641 3425 1747  Q 3425 850 3040 379  Q 2656 -91 1925 -91  Q 1197 -91 812 379  Q 428 850 428 1747  Q 428 2641 812 3112  Q 1197 3584 1925 3584  z \" transform=\"scale(0.015625)\"/>\n     </defs>\n     <use xlink:href=\"#DejaVuSansMono-6f\"/>\n    </g>\n   </g>\n   <g id=\"text_5\">\n    <!-- u -->\n    <g style=\"fill: #444443\" transform=\"translate(33.0894 9.947031) scale(0.13 -0.13)\">\n     <defs>\n      <path id=\"DejaVuSansMono-75\" d=\"M 609 1325  L 609 3494  L 1184 3494  L 1184 1325  Q 1184 853 1351 631  Q 1519 409 1869 409  Q 2275 409 2490 695  Q 2706 981 2706 1516  L 2706 3494  L 3284 3494  L 3284 0  L 2706 0  L 2706 525  Q 2553 222 2289 65  Q 2025 -91 1672 -91  Q 1134 -91 871 261  Q 609 613 609 1325  z \" transform=\"scale(0.015625)\"/>\n     </defs>\n     <use xlink:href=\"#DejaVuSansMono-75\"/>\n    </g>\n   </g>\n   <g id=\"text_6\">\n    <!-- t -->\n    <g style=\"fill: #444443\" transform=\"translate(39.618 9.947031) scale(0.13 -0.13)\">\n     <defs>\n      <path id=\"DejaVuSansMono-74\" d=\"M 1919 4494  L 1919 3500  L 3225 3500  L 3225 3053  L 1919 3053  L 1919 1153  Q 1919 766 2066 612  Q 2213 459 2578 459  L 3225 459  L 3225 0  L 2522 0  Q 1875 0 1609 259  Q 1344 519 1344 1153  L 1344 3053  L 409 3053  L 409 3500  L 1344 3500  L 1344 4494  L 1919 4494  z \" transform=\"scale(0.015625)\"/>\n     </defs>\n     <use xlink:href=\"#DejaVuSansMono-74\"/>\n    </g>\n   </g>\n   <g id=\"text_7\">\n    <!-- p -->\n    <g style=\"fill: #444443\" transform=\"translate(46.1466 9.947031) scale(0.13 -0.13)\">\n     <defs>\n      <path id=\"DejaVuSansMono-70\" d=\"M 1172 441  L 1172 -1331  L 594 -1331  L 594 3500  L 1172 3500  L 1172 3053  Q 1316 3313 1555 3448  Q 1794 3584 2106 3584  Q 2741 3584 3102 3093  Q 3463 2603 3463 1734  Q 3463 881 3100 395  Q 2738 -91 2106 -91  Q 1788 -91 1548 45  Q 1309 181 1172 441  z M 2859 1747  Q 2859 2416 2648 2756  Q 2438 3097 2022 3097  Q 1603 3097 1387 2755  Q 1172 2413 1172 1747  Q 1172 1084 1387 740  Q 1603 397 2022 397  Q 2438 397 2648 737  Q 2859 1078 2859 1747  z \" transform=\"scale(0.015625)\"/>\n     </defs>\n     <use xlink:href=\"#DejaVuSansMono-70\"/>\n    </g>\n   </g>\n   <g id=\"text_8\">\n    <!-- u -->\n    <g style=\"fill: #444443\" transform=\"translate(52.6752 9.947031) scale(0.13 -0.13)\">\n     <use xlink:href=\"#DejaVuSansMono-75\"/>\n    </g>\n   </g>\n   <g id=\"text_9\">\n    <!-- t -->\n    <g style=\"fill: #444443\" transform=\"translate(59.2038 9.947031) scale(0.13 -0.13)\">\n     <use xlink:href=\"#DejaVuSansMono-74\"/>\n    </g>\n   </g>\n   <g id=\"text_10\">\n    <!-- _ -->\n    <g style=\"fill: #444443\" transform=\"translate(65.7324 9.947031) scale(0.13 -0.13)\">\n     <use xlink:href=\"#DejaVuSansMono-5f\"/>\n    </g>\n   </g>\n   <g id=\"text_11\">\n    <!-- g -->\n    <g style=\"fill: #444443\" transform=\"translate(72.261 9.947031) scale(0.13 -0.13)\">\n     <defs>\n      <path id=\"DejaVuSansMono-67\" d=\"M 2681 1778  Q 2681 2425 2470 2761  Q 2259 3097 1856 3097  Q 1434 3097 1212 2761  Q 991 2425 991 1778  Q 991 1131 1214 792  Q 1438 453 1863 453  Q 2259 453 2470 793  Q 2681 1134 2681 1778  z M 3256 225  Q 3256 -563 2884 -969  Q 2513 -1375 1791 -1375  Q 1553 -1375 1293 -1331  Q 1034 -1288 775 -1203  L 775 -634  Q 1081 -778 1331 -847  Q 1581 -916 1791 -916  Q 2256 -916 2468 -662  Q 2681 -409 2681 141  L 2681 166  L 2681 556  Q 2544 263 2306 119  Q 2069 -25 1728 -25  Q 1116 -25 750 465  Q 384 956 384 1778  Q 384 2603 750 3093  Q 1116 3584 1728 3584  Q 2066 3584 2300 3450  Q 2534 3316 2681 3034  L 2681 3488  L 3256 3488  L 3256 225  z \" transform=\"scale(0.015625)\"/>\n     </defs>\n     <use xlink:href=\"#DejaVuSansMono-67\"/>\n    </g>\n   </g>\n   <g id=\"text_12\">\n    <!-- r -->\n    <g style=\"fill: #444443\" transform=\"translate(78.7896 9.947031) scale(0.13 -0.13)\">\n     <defs>\n      <path id=\"DejaVuSansMono-72\" d=\"M 3609 2778  Q 3425 2922 3234 2987  Q 3044 3053 2816 3053  Q 2278 3053 1993 2715  Q 1709 2378 1709 1741  L 1709 0  L 1131 0  L 1131 3500  L 1709 3500  L 1709 2816  Q 1853 3188 2151 3386  Q 2450 3584 2859 3584  Q 3072 3584 3256 3531  Q 3441 3478 3609 3366  L 3609 2778  z \" transform=\"scale(0.015625)\"/>\n     </defs>\n     <use xlink:href=\"#DejaVuSansMono-72\"/>\n    </g>\n   </g>\n   <g id=\"text_13\">\n    <!-- a -->\n    <g style=\"fill: #444443\" transform=\"translate(85.3182 9.947031) scale(0.13 -0.13)\">\n     <defs>\n      <path id=\"DejaVuSansMono-61\" d=\"M 2194 1759  L 2003 1759  Q 1500 1759 1245 1582  Q 991 1406 991 1056  Q 991 741 1181 566  Q 1372 391 1709 391  Q 2184 391 2456 720  Q 2728 1050 2731 1631  L 2731 1759  L 2194 1759  z M 3309 1997  L 3309 0  L 2731 0  L 2731 519  Q 2547 206 2267 57  Q 1988 -91 1588 -91  Q 1053 -91 734 211  Q 416 513 416 1019  Q 416 1603 808 1906  Q 1200 2209 1959 2209  L 2731 2209  L 2731 2300  Q 2728 2719 2518 2908  Q 2309 3097 1850 3097  Q 1556 3097 1256 3012  Q 956 2928 672 2766  L 672 3341  Q 991 3463 1283 3523  Q 1575 3584 1850 3584  Q 2284 3584 2592 3456  Q 2900 3328 3091 3072  Q 3209 2916 3259 2686  Q 3309 2456 3309 1997  z \" transform=\"scale(0.015625)\"/>\n     </defs>\n     <use xlink:href=\"#DejaVuSansMono-61\"/>\n    </g>\n   </g>\n   <g id=\"text_14\">\n    <!-- d -->\n    <g style=\"fill: #444443\" transform=\"translate(91.8468 9.947031) scale(0.13 -0.13)\">\n     <defs>\n      <path id=\"DejaVuSansMono-64\" d=\"M 2681 3053  L 2681 4863  L 3256 4863  L 3256 0  L 2681 0  L 2681 441  Q 2538 181 2298 45  Q 2059 -91 1747 -91  Q 1113 -91 748 401  Q 384 894 384 1759  Q 384 2613 750 3098  Q 1116 3584 1747 3584  Q 2063 3584 2303 3448  Q 2544 3313 2681 3053  z M 991 1747  Q 991 1078 1203 737  Q 1416 397 1831 397  Q 2247 397 2464 740  Q 2681 1084 2681 1747  Q 2681 2413 2464 2755  Q 2247 3097 1831 3097  Q 1416 3097 1203 2756  Q 991 2416 991 1747  z \" transform=\"scale(0.015625)\"/>\n     </defs>\n     <use xlink:href=\"#DejaVuSansMono-64\"/>\n    </g>\n   </g>\n   <g id=\"text_15\">\n    <!-- i -->\n    <g style=\"fill: #444443\" transform=\"translate(98.3754 9.947031) scale(0.13 -0.13)\">\n     <defs>\n      <path id=\"DejaVuSansMono-69\" d=\"M 800 3500  L 2272 3500  L 2272 447  L 3413 447  L 3413 0  L 556 0  L 556 447  L 1697 447  L 1697 3053  L 800 3053  L 800 3500  z M 1697 4863  L 2272 4863  L 2272 4134  L 1697 4134  L 1697 4863  z \" transform=\"scale(0.015625)\"/>\n     </defs>\n     <use xlink:href=\"#DejaVuSansMono-69\"/>\n    </g>\n   </g>\n   <g id=\"text_16\">\n    <!-- e -->\n    <g style=\"fill: #444443\" transform=\"translate(104.904 9.947031) scale(0.13 -0.13)\">\n     <defs>\n      <path id=\"DejaVuSansMono-65\" d=\"M 3475 1894  L 3475 1613  L 984 1613  L 984 1594  Q 984 1022 1282 709  Q 1581 397 2125 397  Q 2400 397 2700 484  Q 3000 572 3341 750  L 3341 178  Q 3013 44 2708 -23  Q 2403 -91 2119 -91  Q 1303 -91 843 398  Q 384 888 384 1747  Q 384 2584 834 3084  Q 1284 3584 2034 3584  Q 2703 3584 3089 3131  Q 3475 2678 3475 1894  z M 2900 2063  Q 2888 2569 2661 2833  Q 2434 3097 2009 3097  Q 1594 3097 1325 2822  Q 1056 2547 1006 2059  L 2900 2063  z \" transform=\"scale(0.015625)\"/>\n     </defs>\n     <use xlink:href=\"#DejaVuSansMono-65\"/>\n    </g>\n   </g>\n   <g id=\"text_17\">\n    <!-- n -->\n    <g style=\"fill: #444443\" transform=\"translate(111.4326 9.947031) scale(0.13 -0.13)\">\n     <defs>\n      <path id=\"DejaVuSansMono-6e\" d=\"M 3284 2169  L 3284 0  L 2706 0  L 2706 2169  Q 2706 2641 2540 2862  Q 2375 3084 2022 3084  Q 1619 3084 1401 2798  Q 1184 2513 1184 1978  L 1184 0  L 609 0  L 609 3500  L 1184 3500  L 1184 2975  Q 1338 3275 1600 3429  Q 1863 3584 2222 3584  Q 2756 3584 3020 3232  Q 3284 2881 3284 2169  z \" transform=\"scale(0.015625)\"/>\n     </defs>\n     <use xlink:href=\"#DejaVuSansMono-6e\"/>\n    </g>\n   </g>\n   <g id=\"text_18\">\n    <!-- t -->\n    <g style=\"fill: #444443\" transform=\"translate(117.9612 9.947031) scale(0.13 -0.13)\">\n     <use xlink:href=\"#DejaVuSansMono-74\"/>\n    </g>\n   </g>\n   <g id=\"text_19\">\n    <!--   -->\n    <g style=\"fill: #444443\" transform=\"translate(124.4898 9.947031) scale(0.13 -0.13)\">\n     <defs>\n      <path id=\"DejaVuSansMono-20\" transform=\"scale(0.015625)\"/>\n     </defs>\n     <use xlink:href=\"#DejaVuSansMono-20\"/>\n    </g>\n   </g>\n   <g id=\"text_20\">\n    <!-- = -->\n    <g style=\"fill: #444443\" transform=\"translate(131.0184 9.947031) scale(0.13 -0.13)\">\n     <defs>\n      <path id=\"DejaVuSansMono-3d\" d=\"M 275 1638  L 3578 1638  L 3578 1100  L 275 1100  L 275 1638  z M 275 2906  L 3578 2906  L 3578 2375  L 275 2375  L 275 2906  z \" transform=\"scale(0.015625)\"/>\n     </defs>\n     <use xlink:href=\"#DejaVuSansMono-3d\"/>\n    </g>\n   </g>\n   <g id=\"text_21\">\n    <!--   -->\n    <g style=\"fill: #444443\" transform=\"translate(137.547 9.947031) scale(0.13 -0.13)\">\n     <use xlink:href=\"#DejaVuSansMono-20\"/>\n    </g>\n   </g>\n   <g id=\"text_22\">\n    <!-- l -->\n    <g style=\"fill: #444443\" transform=\"translate(144.0756 9.947031) scale(0.13 -0.13)\">\n     <use xlink:href=\"#DejaVuSansMono-6c\"/>\n    </g>\n   </g>\n   <g id=\"text_23\">\n    <!-- 1 -->\n    <g style=\"fill: #444443\" transform=\"translate(150.6042 9.947031) scale(0.13 -0.13)\">\n     <use xlink:href=\"#DejaVuSansMono-31\"/>\n    </g>\n   </g>\n   <g id=\"text_24\">\n    <!-- _ -->\n    <g style=\"fill: #444443\" transform=\"translate(157.1328 9.947031) scale(0.13 -0.13)\">\n     <use xlink:href=\"#DejaVuSansMono-5f\"/>\n    </g>\n   </g>\n   <g id=\"text_25\">\n    <!-- a -->\n    <g style=\"fill: #444443\" transform=\"translate(163.6614 9.947031) scale(0.13 -0.13)\">\n     <use xlink:href=\"#DejaVuSansMono-61\"/>\n    </g>\n   </g>\n   <g id=\"text_26\">\n    <!-- c -->\n    <g style=\"fill: #444443\" transform=\"translate(170.19 9.947031) scale(0.13 -0.13)\">\n     <defs>\n      <path id=\"DejaVuSansMono-63\" d=\"M 3316 178  Q 3084 44 2839 -23  Q 2594 -91 2338 -91  Q 1525 -91 1067 396  Q 609 884 609 1747  Q 609 2609 1067 3096  Q 1525 3584 2338 3584  Q 2591 3584 2831 3518  Q 3072 3453 3316 3316  L 3316 2713  Q 3088 2916 2858 3006  Q 2628 3097 2338 3097  Q 1797 3097 1506 2747  Q 1216 2397 1216 1747  Q 1216 1100 1508 748  Q 1800 397 2338 397  Q 2638 397 2875 489  Q 3113 581 3316 775  L 3316 178  z \" transform=\"scale(0.015625)\"/>\n     </defs>\n     <use xlink:href=\"#DejaVuSansMono-63\"/>\n    </g>\n   </g>\n   <g id=\"text_27\">\n    <!-- t -->\n    <g style=\"fill: #444443\" transform=\"translate(176.7186 9.947031) scale(0.13 -0.13)\">\n     <use xlink:href=\"#DejaVuSansMono-74\"/>\n    </g>\n   </g>\n   <g id=\"text_28\">\n    <!-- i -->\n    <g style=\"fill: #444443\" transform=\"translate(183.2472 9.947031) scale(0.13 -0.13)\">\n     <use xlink:href=\"#DejaVuSansMono-69\"/>\n    </g>\n   </g>\n   <g id=\"text_29\">\n    <!-- v -->\n    <g style=\"fill: #444443\" transform=\"translate(189.7758 9.947031) scale(0.13 -0.13)\">\n     <defs>\n      <path id=\"DejaVuSansMono-76\" d=\"M 313 3500  L 909 3500  L 1925 563  L 2944 3500  L 3541 3500  L 2297 0  L 1556 0  L 313 3500  z \" transform=\"scale(0.015625)\"/>\n     </defs>\n     <use xlink:href=\"#DejaVuSansMono-76\"/>\n    </g>\n   </g>\n   <g id=\"text_30\">\n    <!-- a -->\n    <g style=\"fill: #444443\" transform=\"translate(196.3044 9.947031) scale(0.13 -0.13)\">\n     <use xlink:href=\"#DejaVuSansMono-61\"/>\n    </g>\n   </g>\n   <g id=\"text_31\">\n    <!-- t -->\n    <g style=\"fill: #444443\" transform=\"translate(202.833 9.947031) scale(0.13 -0.13)\">\n     <use xlink:href=\"#DejaVuSansMono-74\"/>\n    </g>\n   </g>\n   <g id=\"text_32\">\n    <!-- e -->\n    <g style=\"fill: #444443\" transform=\"translate(209.3616 9.947031) scale(0.13 -0.13)\">\n     <use xlink:href=\"#DejaVuSansMono-65\"/>\n    </g>\n   </g>\n   <g id=\"text_33\">\n    <!-- d -->\n    <g style=\"fill: #444443\" transform=\"translate(215.8902 9.947031) scale(0.13 -0.13)\">\n     <use xlink:href=\"#DejaVuSansMono-64\"/>\n    </g>\n   </g>\n   <g id=\"text_34\">\n    <!-- _ -->\n    <g style=\"fill: #444443\" transform=\"translate(222.4188 9.947031) scale(0.13 -0.13)\">\n     <use xlink:href=\"#DejaVuSansMono-5f\"/>\n    </g>\n   </g>\n   <g id=\"text_35\">\n    <!-- g -->\n    <g style=\"fill: #444443\" transform=\"translate(228.9474 9.947031) scale(0.13 -0.13)\">\n     <use xlink:href=\"#DejaVuSansMono-67\"/>\n    </g>\n   </g>\n   <g id=\"text_36\">\n    <!-- r -->\n    <g style=\"fill: #444443\" transform=\"translate(235.476 9.947031) scale(0.13 -0.13)\">\n     <use xlink:href=\"#DejaVuSansMono-72\"/>\n    </g>\n   </g>\n   <g id=\"text_37\">\n    <!-- a -->\n    <g style=\"fill: #444443\" transform=\"translate(242.0046 9.947031) scale(0.13 -0.13)\">\n     <use xlink:href=\"#DejaVuSansMono-61\"/>\n    </g>\n   </g>\n   <g id=\"text_38\">\n    <!-- d -->\n    <g style=\"fill: #444443\" transform=\"translate(248.5332 9.947031) scale(0.13 -0.13)\">\n     <use xlink:href=\"#DejaVuSansMono-64\"/>\n    </g>\n   </g>\n   <g id=\"text_39\">\n    <!-- i -->\n    <g style=\"fill: #444443\" transform=\"translate(255.0618 9.947031) scale(0.13 -0.13)\">\n     <use xlink:href=\"#DejaVuSansMono-69\"/>\n    </g>\n   </g>\n   <g id=\"text_40\">\n    <!-- e -->\n    <g style=\"fill: #444443\" transform=\"translate(261.5904 9.947031) scale(0.13 -0.13)\">\n     <use xlink:href=\"#DejaVuSansMono-65\"/>\n    </g>\n   </g>\n   <g id=\"text_41\">\n    <!-- n -->\n    <g style=\"fill: #444443\" transform=\"translate(268.119 9.947031) scale(0.13 -0.13)\">\n     <use xlink:href=\"#DejaVuSansMono-6e\"/>\n    </g>\n   </g>\n   <g id=\"text_42\">\n    <!-- t -->\n    <g style=\"fill: #444443\" transform=\"translate(274.6476 9.947031) scale(0.13 -0.13)\">\n     <use xlink:href=\"#DejaVuSansMono-74\"/>\n    </g>\n   </g>\n   <g id=\"text_43\">\n    <!--   -->\n    <g style=\"fill: #444443\" transform=\"translate(281.1762 9.947031) scale(0.13 -0.13)\">\n     <use xlink:href=\"#DejaVuSansMono-20\"/>\n    </g>\n   </g>\n   <g id=\"text_44\">\n    <!-- * -->\n    <g style=\"fill: #444443\" transform=\"translate(287.7048 9.947031) scale(0.13 -0.13)\">\n     <defs>\n      <path id=\"DejaVuSansMono-2a\" d=\"M 3334 3897  L 2216 3291  L 3334 2681  L 3156 2375  L 2106 3009  L 2106 1831  L 1747 1831  L 1747 3009  L 697 2375  L 519 2681  L 1638 3291  L 519 3897  L 697 4206  L 1747 3572  L 1747 4750  L 2106 4750  L 2106 3572  L 3156 4206  L 3334 3897  z \" transform=\"scale(0.015625)\"/>\n     </defs>\n     <use xlink:href=\"#DejaVuSansMono-2a\"/>\n    </g>\n   </g>\n   <g id=\"text_45\">\n    <!--   -->\n    <g style=\"fill: #444443\" transform=\"translate(294.2334 9.947031) scale(0.13 -0.13)\">\n     <use xlink:href=\"#DejaVuSansMono-20\"/>\n    </g>\n   </g>\n   <g id=\"text_46\">\n    <!-- n -->\n    <g style=\"fill: #444443\" transform=\"translate(300.762 9.947031) scale(0.13 -0.13)\">\n     <use xlink:href=\"#DejaVuSansMono-6e\"/>\n    </g>\n   </g>\n   <g id=\"text_47\">\n    <!-- p -->\n    <g style=\"fill: #444443\" transform=\"translate(307.2906 9.947031) scale(0.13 -0.13)\">\n     <use xlink:href=\"#DejaVuSansMono-70\"/>\n    </g>\n   </g>\n   <g id=\"text_48\">\n    <!-- . -->\n    <g style=\"fill: #444443\" transform=\"translate(313.8192 9.947031) scale(0.13 -0.13)\">\n     <defs>\n      <path id=\"DejaVuSansMono-2e\" d=\"M 1528 953  L 2316 953  L 2316 0  L 1528 0  L 1528 953  z \" transform=\"scale(0.015625)\"/>\n     </defs>\n     <use xlink:href=\"#DejaVuSansMono-2e\"/>\n    </g>\n   </g>\n   <g id=\"text_49\">\n    <!-- h -->\n    <g style=\"fill: #444443\" transform=\"translate(320.3478 9.947031) scale(0.13 -0.13)\">\n     <defs>\n      <path id=\"DejaVuSansMono-68\" d=\"M 3284 2169  L 3284 0  L 2706 0  L 2706 2169  Q 2706 2641 2540 2862  Q 2375 3084 2022 3084  Q 1619 3084 1401 2798  Q 1184 2513 1184 1978  L 1184 0  L 609 0  L 609 4863  L 1184 4863  L 1184 2975  Q 1338 3275 1600 3429  Q 1863 3584 2222 3584  Q 2756 3584 3020 3232  Q 3284 2881 3284 2169  z \" transform=\"scale(0.015625)\"/>\n     </defs>\n     <use xlink:href=\"#DejaVuSansMono-68\"/>\n    </g>\n   </g>\n   <g id=\"text_50\">\n    <!-- e -->\n    <g style=\"fill: #444443\" transform=\"translate(326.8764 9.947031) scale(0.13 -0.13)\">\n     <use xlink:href=\"#DejaVuSansMono-65\"/>\n    </g>\n   </g>\n   <g id=\"text_51\">\n    <!-- a -->\n    <g style=\"fill: #444443\" transform=\"translate(333.405 9.947031) scale(0.13 -0.13)\">\n     <use xlink:href=\"#DejaVuSansMono-61\"/>\n    </g>\n   </g>\n   <g id=\"text_52\">\n    <!-- v -->\n    <g style=\"fill: #444443\" transform=\"translate(339.9336 9.947031) scale(0.13 -0.13)\">\n     <use xlink:href=\"#DejaVuSansMono-76\"/>\n    </g>\n   </g>\n   <g id=\"text_53\">\n    <!-- i -->\n    <g style=\"fill: #444443\" transform=\"translate(346.4622 9.947031) scale(0.13 -0.13)\">\n     <use xlink:href=\"#DejaVuSansMono-69\"/>\n    </g>\n   </g>\n   <g id=\"text_54\">\n    <!-- s -->\n    <g style=\"fill: #444443\" transform=\"translate(352.9908 9.947031) scale(0.13 -0.13)\">\n     <defs>\n      <path id=\"DejaVuSansMono-73\" d=\"M 3041 3378  L 3041 2816  Q 2794 2959 2544 3031  Q 2294 3103 2034 3103  Q 1644 3103 1451 2976  Q 1259 2850 1259 2591  Q 1259 2356 1403 2240  Q 1547 2125 2119 2016  L 2350 1972  Q 2778 1891 2998 1647  Q 3219 1403 3219 1013  Q 3219 494 2850 201  Q 2481 -91 1825 -91  Q 1566 -91 1281 -36  Q 997 19 666 128  L 666 722  Q 988 556 1281 473  Q 1575 391 1838 391  Q 2219 391 2428 545  Q 2638 700 2638 978  Q 2638 1378 1872 1531  L 1847 1538  L 1631 1581  Q 1134 1678 906 1908  Q 678 2138 678 2534  Q 678 3038 1018 3311  Q 1359 3584 1991 3584  Q 2272 3584 2531 3532  Q 2791 3481 3041 3378  z \" transform=\"scale(0.015625)\"/>\n     </defs>\n     <use xlink:href=\"#DejaVuSansMono-73\"/>\n    </g>\n   </g>\n   <g id=\"text_55\">\n    <!-- i -->\n    <g style=\"fill: #444443\" transform=\"translate(359.5194 9.947031) scale(0.13 -0.13)\">\n     <use xlink:href=\"#DejaVuSansMono-69\"/>\n    </g>\n   </g>\n   <g id=\"text_56\">\n    <!-- d -->\n    <g style=\"fill: #444443\" transform=\"translate(366.048 9.947031) scale(0.13 -0.13)\">\n     <use xlink:href=\"#DejaVuSansMono-64\"/>\n    </g>\n   </g>\n   <g id=\"text_57\">\n    <!-- e -->\n    <g style=\"fill: #444443\" transform=\"translate(372.5766 9.947031) scale(0.13 -0.13)\">\n     <use xlink:href=\"#DejaVuSansMono-65\"/>\n    </g>\n   </g>\n   <g id=\"text_58\">\n    <!-- ( -->\n    <g style=\"fill: #444443\" transform=\"translate(379.1052 9.947031) scale(0.13 -0.13)\">\n     <defs>\n      <path id=\"DejaVuSansMono-28\" d=\"M 2766 4856  Q 2350 4144 2145 3436  Q 1941 2728 1941 2009  Q 1941 1294 2145 584  Q 2350 -125 2766 -844  L 2266 -844  Q 1794 -100 1562 604  Q 1331 1309 1331 2009  Q 1331 2706 1562 3412  Q 1794 4119 2266 4856  L 2766 4856  z \" transform=\"scale(0.015625)\"/>\n     </defs>\n     <use xlink:href=\"#DejaVuSansMono-28\"/>\n    </g>\n   </g>\n   <g id=\"text_59\">\n    <!-- l -->\n    <g style=\"fill: #444443\" transform=\"translate(385.6338 9.947031) scale(0.13 -0.13)\">\n     <use xlink:href=\"#DejaVuSansMono-6c\"/>\n    </g>\n   </g>\n   <g id=\"text_60\">\n    <!-- 1 -->\n    <g style=\"fill: #444443\" transform=\"translate(392.1624 9.947031) scale(0.13 -0.13)\">\n     <use xlink:href=\"#DejaVuSansMono-31\"/>\n    </g>\n   </g>\n   <g id=\"text_61\">\n    <!-- _ -->\n    <g style=\"fill: #444443\" transform=\"translate(398.691 9.947031) scale(0.13 -0.13)\">\n     <use xlink:href=\"#DejaVuSansMono-5f\"/>\n    </g>\n   </g>\n   <g id=\"text_62\">\n    <!-- o -->\n    <g style=\"fill: #444443\" transform=\"translate(405.2196 9.947031) scale(0.13 -0.13)\">\n     <use xlink:href=\"#DejaVuSansMono-6f\"/>\n    </g>\n   </g>\n   <g id=\"text_63\">\n    <!-- u -->\n    <g style=\"fill: #444443\" transform=\"translate(411.7482 9.947031) scale(0.13 -0.13)\">\n     <use xlink:href=\"#DejaVuSansMono-75\"/>\n    </g>\n   </g>\n   <g id=\"text_64\">\n    <!-- t -->\n    <g style=\"fill: #444443\" transform=\"translate(418.2768 9.947031) scale(0.13 -0.13)\">\n     <use xlink:href=\"#DejaVuSansMono-74\"/>\n    </g>\n   </g>\n   <g id=\"text_65\">\n    <!-- p -->\n    <g style=\"fill: #444443\" transform=\"translate(424.8054 9.947031) scale(0.13 -0.13)\">\n     <use xlink:href=\"#DejaVuSansMono-70\"/>\n    </g>\n   </g>\n   <g id=\"text_66\">\n    <!-- u -->\n    <g style=\"fill: #444443\" transform=\"translate(431.334 9.947031) scale(0.13 -0.13)\">\n     <use xlink:href=\"#DejaVuSansMono-75\"/>\n    </g>\n   </g>\n   <g id=\"text_67\">\n    <!-- t -->\n    <g style=\"fill: #444443\" transform=\"translate(437.8626 9.947031) scale(0.13 -0.13)\">\n     <use xlink:href=\"#DejaVuSansMono-74\"/>\n    </g>\n   </g>\n   <g id=\"text_68\">\n    <!-- , -->\n    <g style=\"fill: #444443\" transform=\"translate(444.3912 9.947031) scale(0.13 -0.13)\">\n     <defs>\n      <path id=\"DejaVuSansMono-2c\" d=\"M 1569 947  L 2356 947  L 2356 300  L 1741 -897  L 1259 -897  L 1569 300  L 1569 947  z \" transform=\"scale(0.015625)\"/>\n     </defs>\n     <use xlink:href=\"#DejaVuSansMono-2c\"/>\n    </g>\n   </g>\n   <g id=\"text_69\">\n    <!--   -->\n    <g style=\"fill: #444443\" transform=\"translate(450.9198 9.947031) scale(0.13 -0.13)\">\n     <use xlink:href=\"#DejaVuSansMono-20\"/>\n    </g>\n   </g>\n   <g id=\"text_70\">\n    <!-- 0 -->\n    <g style=\"fill: #444443\" transform=\"translate(457.4484 9.947031) scale(0.13 -0.13)\">\n     <defs>\n      <path id=\"DejaVuSansMono-30\" d=\"M 1509 2344  Q 1509 2516 1629 2641  Q 1750 2766 1919 2766  Q 2094 2766 2219 2641  Q 2344 2516 2344 2344  Q 2344 2169 2220 2047  Q 2097 1925 1919 1925  Q 1744 1925 1626 2044  Q 1509 2163 1509 2344  z M 1925 4250  Q 1484 4250 1267 3775  Q 1050 3300 1050 2328  Q 1050 1359 1267 884  Q 1484 409 1925 409  Q 2369 409 2586 884  Q 2803 1359 2803 2328  Q 2803 3300 2586 3775  Q 2369 4250 1925 4250  z M 1925 4750  Q 2672 4750 3055 4137  Q 3438 3525 3438 2328  Q 3438 1134 3055 521  Q 2672 -91 1925 -91  Q 1178 -91 797 521  Q 416 1134 416 2328  Q 416 3525 797 4137  Q 1178 4750 1925 4750  z \" transform=\"scale(0.015625)\"/>\n     </defs>\n     <use xlink:href=\"#DejaVuSansMono-30\"/>\n    </g>\n   </g>\n   <g id=\"text_71\">\n    <!-- ) -->\n    <g style=\"fill: #444443\" transform=\"translate(463.977 9.947031) scale(0.13 -0.13)\">\n     <defs>\n      <path id=\"DejaVuSansMono-29\" d=\"M 1088 4856  L 1588 4856  Q 2059 4119 2290 3412  Q 2522 2706 2522 2009  Q 2522 1306 2290 600  Q 2059 -106 1588 -844  L 1088 -844  Q 1503 -119 1708 590  Q 1913 1300 1913 2009  Q 1913 2722 1708 3431  Q 1503 4141 1088 4856  z \" transform=\"scale(0.015625)\"/>\n     </defs>\n     <use xlink:href=\"#DejaVuSansMono-29\"/>\n    </g>\n   </g>\n   <g id=\"text_72\">\n    <!-- 5 -->\n    <g transform=\"translate(52.435631 37.897572) rotate(-90) scale(0.09 -0.09)\">\n     <defs>\n      <path id=\"DejaVuSans-35\" d=\"M 691 4666  L 3169 4666  L 3169 4134  L 1269 4134  L 1269 2991  Q 1406 3038 1543 3061  Q 1681 3084 1819 3084  Q 2600 3084 3056 2656  Q 3513 2228 3513 1497  Q 3513 744 3044 326  Q 2575 -91 1722 -91  Q 1428 -91 1123 -41  Q 819 9 494 109  L 494 744  Q 775 591 1075 516  Q 1375 441 1709 441  Q 2250 441 2565 725  Q 2881 1009 2881 1497  Q 2881 1984 2565 2268  Q 2250 2553 1709 2553  Q 1456 2553 1204 2497  Q 953 2441 691 2322  L 691 4666  z \" transform=\"scale(0.015625)\"/>\n     </defs>\n     <use xlink:href=\"#DejaVuSans-35\"/>\n    </g>\n   </g>\n   <g id=\"text_73\">\n    <!-- 2 -->\n    <g transform=\"translate(62.869275 22.297107) scale(0.09 -0.09)\">\n     <defs>\n      <path id=\"DejaVuSans-32\" d=\"M 1228 531  L 3431 531  L 3431 0  L 469 0  L 469 531  Q 828 903 1448 1529  Q 2069 2156 2228 2338  Q 2531 2678 2651 2914  Q 2772 3150 2772 3378  Q 2772 3750 2511 3984  Q 2250 4219 1831 4219  Q 1534 4219 1204 4116  Q 875 4013 500 3803  L 500 4441  Q 881 4594 1212 4672  Q 1544 4750 1819 4750  Q 2544 4750 2975 4387  Q 3406 4025 3406 3419  Q 3406 3131 3298 2873  Q 3191 2616 2906 2266  Q 2828 2175 2409 1742  Q 1991 1309 1228 531  z \" transform=\"scale(0.015625)\"/>\n     </defs>\n     <use xlink:href=\"#DejaVuSans-32\"/>\n    </g>\n   </g>\n   <g id=\"text_74\">\n    <!-- &lt;${\\mathit{float64}}$&gt; -->\n    <g transform=\"translate(47.5324 53.090693) scale(0.07 -0.07)\">\n     <defs>\n      <path id=\"DejaVuSans-3c\" d=\"M 4684 3150  L 1459 2003  L 4684 863  L 4684 294  L 678 1747  L 678 2266  L 4684 3719  L 4684 3150  z \" transform=\"scale(0.015625)\"/>\n      <path id=\"DejaVuSans-Oblique-66\" d=\"M 3059 4863  L 2969 4384  L 2419 4384  Q 2106 4384 1964 4261  Q 1822 4138 1753 3809  L 1691 3500  L 2638 3500  L 2553 3053  L 1606 3053  L 1013 0  L 434 0  L 1031 3053  L 481 3053  L 563 3500  L 1113 3500  L 1159 3744  Q 1278 4363 1576 4613  Q 1875 4863 2516 4863  L 3059 4863  z \" transform=\"scale(0.015625)\"/>\n      <path id=\"DejaVuSans-Oblique-6c\" d=\"M 1172 4863  L 1747 4863  L 800 0  L 225 0  L 1172 4863  z \" transform=\"scale(0.015625)\"/>\n      <path id=\"DejaVuSans-Oblique-6f\" d=\"M 1625 -91  Q 1009 -91 651 289  Q 294 669 294 1325  Q 294 1706 417 2101  Q 541 2497 738 2766  Q 1047 3184 1428 3384  Q 1809 3584 2291 3584  Q 2888 3584 3255 3212  Q 3622 2841 3622 2241  Q 3622 1825 3500 1412  Q 3378 1000 3181 728  Q 2875 309 2494 109  Q 2113 -91 1625 -91  z M 891 1344  Q 891 869 1089 633  Q 1288 397 1691 397  Q 2269 397 2648 901  Q 3028 1406 3028 2181  Q 3028 2634 2825 2865  Q 2622 3097 2228 3097  Q 1903 3097 1650 2945  Q 1397 2794 1197 2484  Q 1050 2253 970 1956  Q 891 1659 891 1344  z \" transform=\"scale(0.015625)\"/>\n      <path id=\"DejaVuSans-Oblique-61\" d=\"M 3438 1997  L 3047 0  L 2472 0  L 2578 531  Q 2325 219 2001 64  Q 1678 -91 1281 -91  Q 834 -91 548 182  Q 263 456 263 884  Q 263 1497 752 1853  Q 1241 2209 2100 2209  L 2900 2209  L 2931 2363  Q 2938 2388 2941 2417  Q 2944 2447 2944 2509  Q 2944 2788 2717 2942  Q 2491 3097 2081 3097  Q 1800 3097 1504 3025  Q 1209 2953 897 2809  L 997 3341  Q 1322 3463 1633 3523  Q 1944 3584 2234 3584  Q 2853 3584 3176 3315  Q 3500 3047 3500 2534  Q 3500 2431 3484 2292  Q 3469 2153 3438 1997  z M 2816 1759  L 2241 1759  Q 1534 1759 1195 1570  Q 856 1381 856 984  Q 856 709 1029 553  Q 1203 397 1509 397  Q 1978 397 2328 733  Q 2678 1069 2791 1631  L 2816 1759  z \" transform=\"scale(0.015625)\"/>\n      <path id=\"DejaVuSans-Oblique-74\" d=\"M 2706 3500  L 2619 3053  L 1472 3053  L 1100 1153  Q 1081 1047 1072 975  Q 1063 903 1063 863  Q 1063 663 1183 572  Q 1303 481 1569 481  L 2150 481  L 2053 0  L 1503 0  Q 991 0 739 200  Q 488 400 488 806  Q 488 878 497 964  Q 506 1050 525 1153  L 897 3053  L 409 3053  L 500 3500  L 978 3500  L 1172 4494  L 1747 4494  L 1556 3500  L 2706 3500  z \" transform=\"scale(0.015625)\"/>\n      <path id=\"DejaVuSans-36\" d=\"M 2113 2584  Q 1688 2584 1439 2293  Q 1191 2003 1191 1497  Q 1191 994 1439 701  Q 1688 409 2113 409  Q 2538 409 2786 701  Q 3034 994 3034 1497  Q 3034 2003 2786 2293  Q 2538 2584 2113 2584  z M 3366 4563  L 3366 3988  Q 3128 4100 2886 4159  Q 2644 4219 2406 4219  Q 1781 4219 1451 3797  Q 1122 3375 1075 2522  Q 1259 2794 1537 2939  Q 1816 3084 2150 3084  Q 2853 3084 3261 2657  Q 3669 2231 3669 1497  Q 3669 778 3244 343  Q 2819 -91 2113 -91  Q 1303 -91 875 529  Q 447 1150 447 2328  Q 447 3434 972 4092  Q 1497 4750 2381 4750  Q 2619 4750 2861 4703  Q 3103 4656 3366 4563  z \" transform=\"scale(0.015625)\"/>\n      <path id=\"DejaVuSans-34\" d=\"M 2419 4116  L 825 1625  L 2419 1625  L 2419 4116  z M 2253 4666  L 3047 4666  L 3047 1625  L 3713 1625  L 3713 1100  L 3047 1100  L 3047 0  L 2419 0  L 2419 1100  L 313 1100  L 313 1709  L 2253 4666  z \" transform=\"scale(0.015625)\"/>\n      <path id=\"DejaVuSans-3e\" d=\"M 678 3150  L 678 3719  L 4684 2266  L 4684 1747  L 678 294  L 678 863  L 3897 2003  L 678 3150  z \" transform=\"scale(0.015625)\"/>\n     </defs>\n     <use xlink:href=\"#DejaVuSans-3c\" transform=\"translate(0 0.015625)\"/>\n     <use xlink:href=\"#DejaVuSans-Oblique-66\" transform=\"translate(83.789062 0.015625)\"/>\n     <use xlink:href=\"#DejaVuSans-Oblique-6c\" transform=\"translate(118.994141 0.015625)\"/>\n     <use xlink:href=\"#DejaVuSans-Oblique-6f\" transform=\"translate(146.777344 0.015625)\"/>\n     <use xlink:href=\"#DejaVuSans-Oblique-61\" transform=\"translate(207.958984 0.015625)\"/>\n     <use xlink:href=\"#DejaVuSans-Oblique-74\" transform=\"translate(269.238281 0.015625)\"/>\n     <use xlink:href=\"#DejaVuSans-36\" transform=\"translate(308.447266 0.015625)\"/>\n     <use xlink:href=\"#DejaVuSans-34\" transform=\"translate(372.070312 0.015625)\"/>\n     <use xlink:href=\"#DejaVuSans-3e\" transform=\"translate(435.693359 0.015625)\"/>\n    </g>\n   </g>\n   <g id=\"text_75\">\n    <!-- 5 -->\n    <g transform=\"translate(199.329131 37.897572) rotate(-90) scale(0.09 -0.09)\">\n     <use xlink:href=\"#DejaVuSans-35\"/>\n    </g>\n   </g>\n   <g id=\"text_76\">\n    <!-- 2 -->\n    <g transform=\"translate(209.762775 22.297107) scale(0.09 -0.09)\">\n     <use xlink:href=\"#DejaVuSans-32\"/>\n    </g>\n   </g>\n   <g id=\"text_77\">\n    <!-- &lt;${\\mathit{float64}}$&gt; -->\n    <g transform=\"translate(194.4259 53.090693) scale(0.07 -0.07)\">\n     <use xlink:href=\"#DejaVuSans-3c\" transform=\"translate(0 0.015625)\"/>\n     <use xlink:href=\"#DejaVuSans-Oblique-66\" transform=\"translate(83.789062 0.015625)\"/>\n     <use xlink:href=\"#DejaVuSans-Oblique-6c\" transform=\"translate(118.994141 0.015625)\"/>\n     <use xlink:href=\"#DejaVuSans-Oblique-6f\" transform=\"translate(146.777344 0.015625)\"/>\n     <use xlink:href=\"#DejaVuSans-Oblique-61\" transform=\"translate(207.958984 0.015625)\"/>\n     <use xlink:href=\"#DejaVuSans-Oblique-74\" transform=\"translate(269.238281 0.015625)\"/>\n     <use xlink:href=\"#DejaVuSans-36\" transform=\"translate(308.447266 0.015625)\"/>\n     <use xlink:href=\"#DejaVuSans-34\" transform=\"translate(372.070312 0.015625)\"/>\n     <use xlink:href=\"#DejaVuSans-3e\" transform=\"translate(435.693359 0.015625)\"/>\n    </g>\n   </g>\n   <g id=\"text_78\">\n    <!-- 5 -->\n    <g transform=\"translate(401.715731 37.897572) rotate(-90) scale(0.09 -0.09)\">\n     <use xlink:href=\"#DejaVuSans-35\"/>\n    </g>\n   </g>\n   <g id=\"text_79\">\n    <!-- 2 -->\n    <g transform=\"translate(412.149375 22.297107) scale(0.09 -0.09)\">\n     <use xlink:href=\"#DejaVuSans-32\"/>\n    </g>\n   </g>\n   <g id=\"text_80\">\n    <!-- &lt;${\\mathit{float64}}$&gt; -->\n    <g transform=\"translate(396.8125 53.090693) scale(0.07 -0.07)\">\n     <use xlink:href=\"#DejaVuSans-3c\" transform=\"translate(0 0.015625)\"/>\n     <use xlink:href=\"#DejaVuSans-Oblique-66\" transform=\"translate(83.789062 0.015625)\"/>\n     <use xlink:href=\"#DejaVuSans-Oblique-6c\" transform=\"translate(118.994141 0.015625)\"/>\n     <use xlink:href=\"#DejaVuSans-Oblique-6f\" transform=\"translate(146.777344 0.015625)\"/>\n     <use xlink:href=\"#DejaVuSans-Oblique-61\" transform=\"translate(207.958984 0.015625)\"/>\n     <use xlink:href=\"#DejaVuSans-Oblique-74\" transform=\"translate(269.238281 0.015625)\"/>\n     <use xlink:href=\"#DejaVuSans-36\" transform=\"translate(308.447266 0.015625)\"/>\n     <use xlink:href=\"#DejaVuSans-34\" transform=\"translate(372.070312 0.015625)\"/>\n     <use xlink:href=\"#DejaVuSans-3e\" transform=\"translate(435.693359 0.015625)\"/>\n    </g>\n   </g>\n  </g>\n </g>\n <defs>\n  <clipPath id=\"p63a914360b\">\n   <rect x=\"0\" y=\"4.901991\" width=\"470.5056\" height=\"42.315395\"/>\n  </clipPath>\n </defs>\n</svg>"
          },
          "metadata": {}
        },
        {
          "output_type": "execute_result",
          "data": {
            "text/plain": [
              "array([[-7.66572823, -2.94762287],\n",
              "       [-8.03173688, -3.08836038],\n",
              "       [-8.39774553, -3.22909789],\n",
              "       [ 0.        ,  2.36770156],\n",
              "       [ 3.80971945,  1.46491186]])"
            ]
          },
          "metadata": {},
          "execution_count": 41
        }
      ]
    },
    {
      "cell_type": "code",
      "source": [
        "# back propagation instance\n",
        "l1_w_gradient = input_.T @ l1_output_gradient\n",
        "l1_b_gradient = np.mean(l1_output_gradient)\n",
        "\n",
        "# gradient descent instance\n",
        "l1_weights -= l1_w_gradient * lr\n",
        "l1_bias -= l1_b_gradient * lr\n",
        "\n",
        "# updated weights and biases\n",
        "l1_weights, l1_bias"
      ],
      "metadata": {
        "colab": {
          "base_uri": "https://localhost:8080/"
        },
        "id": "Q_ntLQCf337C",
        "outputId": "3d1de97f-a4db-492e-877e-999d0bdad68a"
      },
      "execution_count": null,
      "outputs": [
        {
          "output_type": "execute_result",
          "data": {
            "text/plain": [
              "(array([[0.84213986, 0.10898675]]), array([[11.99002572, 10.00002572]]))"
            ]
          },
          "metadata": {},
          "execution_count": 42
        }
      ]
    },
    {
      "cell_type": "markdown",
      "source": [
        "### **Rough Algorithm We Followed Up Until Now :**\n",
        "\n",
        "1. Run the network forward pass, and get the output.\n",
        "2. Compute gradient w.r.t the outputs of the network. (`mse_gradient()`)\n",
        "3. For each layer in the network:\n",
        "  * Compute the gradient with respect to the pre-nonlinearity output (if layer has non-linearity).\n",
        "  * Compute the gradient with respect to the weights.\n",
        "  * Compute the gradient with respect to the biases.\n",
        "  * Compute the gradient with respect to the inputs of the layers.\n",
        "4. Update the parameters in the network using gradient descent.\n",
        "\n"
      ],
      "metadata": {
        "id": "eI12AQq_41rm"
      }
    },
    {
      "cell_type": "markdown",
      "source": [
        "### **Batch Size :**\n",
        "\n",
        "1. Number of input rows we feed to the neural network at once to update parameters on.\n",
        "2. The larger the batch size the faster the network process all the data.\n",
        "3. The larger the batch size the less effective it makes the gradient descent algorithm beacause in the end it gives less epochs to update/ descend the parameters.\n",
        "4. In our example we pass 5 rows at a time making our batch_size = 5."
      ],
      "metadata": {
        "id": "NNREIG_M6iBt"
      }
    },
    {
      "cell_type": "code",
      "source": [
        "# implement the training algorithm\n",
        "\n",
        "# necessary imports\n",
        "import numpy as np\n",
        "from sklearn.preprocessing import StandardScaler\n",
        "\n",
        "# constants\n",
        "PREDICTORS = [\"tmax\", \"tmin\", \"rain\"]\n",
        "TARGET = \"tmax_tomorrow\"\n",
        "\n",
        "# transformations\n",
        "scaler = StandardScaler()\n",
        "data[PREDICTORS] = scaler.fit_transform(data[PREDICTORS])\n",
        "\n",
        "# splitting data into 3 sets\n",
        "split_data = np.split(data, [int(.7 * len(data)), int(.85 * len(data))])\n",
        "(train_x, train_y), (valid_x, valid_y), (test_x, test_y) = [[d[PREDICTORS].to_numpy(),\n",
        "            d[[TARGET]].to_numpy()] for d in split_data]"
      ],
      "metadata": {
        "id": "sHSVwdwT7i4g"
      },
      "execution_count": null,
      "outputs": []
    },
    {
      "cell_type": "code",
      "source": [
        "# initialize the layers\n",
        "\n",
        "def init_layers(inputs):\n",
        "  layers = []\n",
        "  np.random.seed(42)\n",
        "  for i in range(1, len(inputs)):\n",
        "    layers.append([\n",
        "        np.random.rand(inputs[i-1], inputs[i]) / 5 - .1, # range(-0.1, 0.1)\n",
        "        np.ones((1, inputs[i]))\n",
        "    ])\n",
        "  return layers\n",
        "\n",
        "layers_conf = [3, 10, 10, 1]\n",
        "\n",
        "layers = init_layers(layers_conf)"
      ],
      "metadata": {
        "id": "icmvCkJI9rhp"
      },
      "execution_count": null,
      "outputs": []
    },
    {
      "cell_type": "code",
      "source": [
        "for w, b in layers:\n",
        "  print(w.shape)\n",
        "  print(b.shape)\n",
        "  print()"
      ],
      "metadata": {
        "id": "FWVxFkivCore",
        "colab": {
          "base_uri": "https://localhost:8080/"
        },
        "outputId": "9d0c53e0-5dc6-4bb5-8267-038a8d172a01"
      },
      "execution_count": null,
      "outputs": [
        {
          "output_type": "stream",
          "name": "stdout",
          "text": [
            "(3, 10)\n",
            "(1, 10)\n",
            "\n",
            "(10, 10)\n",
            "(1, 10)\n",
            "\n",
            "(10, 1)\n",
            "(1, 1)\n",
            "\n"
          ]
        }
      ]
    },
    {
      "cell_type": "code",
      "source": [
        "# impelemnt the forward pass of the nn\n",
        "\n",
        "def forward(batch, layers):\n",
        "  hidden = [batch.copy()]\n",
        "  for i in range(len(layers)):\n",
        "    batch = np.matmul(batch, layers[i][0]) + layers[i][1]\n",
        "    if i < len(layers) - 1:\n",
        "      batch = np.maximum(0, batch)\n",
        "    hidden.append(batch.copy())\n",
        "  return batch, hidden"
      ],
      "metadata": {
        "id": "BZGP7UdgvkMf"
      },
      "execution_count": null,
      "outputs": []
    },
    {
      "cell_type": "code",
      "source": [
        "# implement loss function of nn\n",
        "\n",
        "def mse(y_true, y_pred):\n",
        "  return np.square(y_true - y_pred)\n",
        "\n",
        "def mse_gradient(y_true, y_pred):\n",
        "  return (2 / y_true.shape[0]) * (y_pred - y_true)"
      ],
      "metadata": {
        "id": "bZ5kN5QEwGCq"
      },
      "execution_count": null,
      "outputs": []
    },
    {
      "cell_type": "code",
      "source": [
        "# implement the backward pass function of nn\n",
        "\n",
        "def backward(layers, hidden, grad, lr):\n",
        "  for i in range(len(layers)-1, -1, -1):\n",
        "    if i != len(layers)-1:\n",
        "      # undo the relu function\n",
        "      grad = np.multiply(grad, np.heaviside(hidden[i+1], 0))\n",
        "\n",
        "    w_grad = hidden[i].T @ grad\n",
        "    b_grad = np.mean(grad, axis = 0)\n",
        "\n",
        "    layers[i][0] -= w_grad * lr\n",
        "    layers[i][1] -= b_grad * lr\n",
        "\n",
        "    grad = grad @ layers[i][0].T\n",
        "\n",
        "  return layers"
      ],
      "metadata": {
        "id": "4t-bc03Kzd1c"
      },
      "execution_count": null,
      "outputs": []
    },
    {
      "cell_type": "code",
      "source": [
        "# implement the training loop\n",
        "\n",
        "lr = 1e-4\n",
        "epochs = 200\n",
        "batch_size = 8\n",
        "# for verbose\n",
        "n = epochs - 1\n",
        "\n",
        "input_dim = train_x.shape[1]\n",
        "\n",
        "# simple 1 Hidden layer\n",
        "layers_conf = [input_dim, 32, 1]  # input: 32 → hidden: 64 → output: 1\n",
        "# deep 2 hidden layer\n",
        "# layers_conf = [input_dim, 128, 64, 1]  # input: 32 → 128 → 64 → 1\n",
        "# deeper 3 hidden layers\n",
        "# layers_conf = [input_dim, 256, 128, 64, 1]\n",
        "\n",
        "\n",
        "layers = init_layers(layers_conf)\n",
        "\n",
        "print(\"Training Neural Network :\")\n",
        "\n",
        "for epoch in range(epochs):\n",
        "  epoch_loss = []\n",
        "\n",
        "  for i in range(0, train_x.shape[0], batch_size):\n",
        "    # initialize the batch\n",
        "    x_batch = train_x[i : (i + batch_size)]\n",
        "    y_batch = train_y[i : (i + batch_size)]\n",
        "\n",
        "    # make predictions using existing parameters\n",
        "    pred, hidden = forward(x_batch, layers)\n",
        "\n",
        "    # calculate the loss and gradient\n",
        "    loss_grad = mse_gradient(y_batch, pred)\n",
        "    epoch_loss.append(np.mean(np.square(y_batch - pred)))\n",
        "\n",
        "    # update parameters using gradient descent\n",
        "    layers = backward(layers, hidden, loss_grad, lr)\n",
        "\n",
        "  # calculate validation loss for verbose\n",
        "  valid_preds, _ = forward(valid_x, layers)\n",
        "  valid_loss = np.mean(np.square(valid_y - valid_preds))\n",
        "\n",
        "  # learning rate decay\n",
        "  # if epoch % 5 == 0:\n",
        "  #   lr *= 0.9  # decay every 5 epochs\n",
        "\n",
        "  # verbose\n",
        "  if epoch % 20 == 0 or epoch == n:\n",
        "    print(\n",
        "      f\"for epoch {epoch} train loss: \"\n",
        "      f\"{np.mean(epoch_loss):.2f}, \"\n",
        "      f\"valid loss: {valid_loss:.2f}\"\n",
        "    )\n"
      ],
      "metadata": {
        "colab": {
          "base_uri": "https://localhost:8080/"
        },
        "id": "AlMlT3zk0V6j",
        "outputId": "7506518e-7df3-4710-c7e6-eb16b66e49e6"
      },
      "execution_count": null,
      "outputs": [
        {
          "output_type": "stream",
          "name": "stdout",
          "text": [
            "Training Neural Network :\n",
            "for epoch 0 train loss: 262.95, valid loss: 20.68\n",
            "for epoch 20 train loss: 21.98, valid loss: 20.62\n",
            "for epoch 40 train loss: 21.96, valid loss: 20.59\n",
            "for epoch 60 train loss: 21.94, valid loss: 20.58\n",
            "for epoch 80 train loss: 21.92, valid loss: 20.58\n",
            "for epoch 100 train loss: 21.91, valid loss: 20.58\n",
            "for epoch 120 train loss: 21.91, valid loss: 20.58\n",
            "for epoch 140 train loss: 21.91, valid loss: 20.58\n",
            "for epoch 160 train loss: 21.90, valid loss: 20.58\n",
            "for epoch 180 train loss: 21.90, valid loss: 20.57\n",
            "for epoch 199 train loss: 21.90, valid loss: 20.57\n"
          ]
        }
      ]
    },
    {
      "cell_type": "markdown",
      "source": [
        "This is the best we can reach for now.\n",
        "\n",
        "We are hitting learning limitation here with the data and model architecture."
      ],
      "metadata": {
        "id": "GgnDmNfL9fMy"
      }
    },
    {
      "cell_type": "markdown",
      "source": [
        "### **Full Neural Network Code :**"
      ],
      "metadata": {
        "id": "PQq7mjtpFkwj"
      }
    },
    {
      "cell_type": "code",
      "source": [
        "# implement the training algorithm\n",
        "\n",
        "# necessary imports\n",
        "import numpy as np\n",
        "from sklearn.preprocessing import StandardScaler\n",
        "\n",
        "# constants\n",
        "PREDICTORS = [\"tmax\", \"tmin\", \"rain\"]\n",
        "TARGET = [\"tmax_tomorrow\"]\n",
        "\n",
        "# transformations\n",
        "scaler = StandardScaler()\n",
        "data[PREDICTORS] = scaler.fit_transform(data[PREDICTORS])\n",
        "\n",
        "# splitting data into 3 sets\n",
        "split_data = np.split(data, [int(.7 * len(data)), int(.85 * len(data))])\n",
        "(train_x, train_y), (valid_x, valid_y), (test_x, test_y) = [[d[PREDICTORS].to_numpy(),\n",
        "            d[TARGET].to_numpy()] for d in split_data]\n",
        "\n",
        "# implement the forward pass of the nn\n",
        "def forward(batch, layers):\n",
        "  hidden = [batch.copy()]\n",
        "  for i in range(len(layers)):\n",
        "    batch = np.matmul(batch, layers[i][0]) + layers[i][1]\n",
        "    if i < len(layers) - 1:\n",
        "      batch = np.maximum(0, batch)\n",
        "    hidden.append(batch.copy())\n",
        "  return batch, hidden\n",
        "\n",
        "# implement loss function of nn\n",
        "def mse(y_true, y_pred):\n",
        "  return np.square(y_true - y_pred)\n",
        "\n",
        "def mse_gradient(y_true, y_pred):\n",
        "  return (2 / y_true.shape[0]) * (y_pred - y_true)\n",
        "\n",
        "# implement the backward pass function of nn\n",
        "def backward(layers, hidden, grad, lr):\n",
        "  for i in range(len(layers)-1, -1, -1):\n",
        "    if i != len(layers)-1:\n",
        "      # undo the relu function\n",
        "      grad = np.multiply(grad, np.heaviside(hidden[i+1], 0))\n",
        "\n",
        "    w_grad = hidden[i].T @ grad\n",
        "    b_grad = np.mean(grad, axis = 0)\n",
        "\n",
        "    layers[i][0] -= w_grad * lr\n",
        "    layers[i][1] -= b_grad * lr\n",
        "\n",
        "    grad = grad @ layers[i][0].T\n",
        "\n",
        "  return layers\n",
        "\n",
        "# implement the training loop\n",
        "\n",
        "lr = 1e-4\n",
        "epochs = 200\n",
        "batch_size = 16\n",
        "# for verbose\n",
        "n = epochs - 1\n",
        "\n",
        "input_dim = train_x.shape[1]\n",
        "\n",
        "# simple 1 Hidden layer\n",
        "layers_conf = [input_dim, 32, 1]  # input: 32 → hidden: 64 → output: 1\n",
        "# deep 2 hidden layer\n",
        "# layers_conf = [input_dim, 128, 64, 1]  # input: 32 → 128 → 64 → 1\n",
        "# deeper 3 hidden layers\n",
        "# layers_conf = [input_dim, 256, 128, 64, 1]\n",
        "\n",
        "\n",
        "layers = init_layers(layers_conf)\n",
        "\n",
        "print(\"Training Neural Network :\")\n",
        "\n",
        "for epoch in range(epochs):\n",
        "  epoch_loss = []\n",
        "\n",
        "  for i in range(0, train_x.shape[0], batch_size):\n",
        "    # initialize the batch\n",
        "    x_batch = train_x[i : (i + batch_size)]\n",
        "    y_batch = train_y[i : (i + batch_size)]\n",
        "\n",
        "    # make predictions using existing parameters\n",
        "    pred, hidden = forward(x_batch, layers)\n",
        "\n",
        "    # calculate the loss and gradient\n",
        "    loss_grad = mse_gradient(y_batch, pred)\n",
        "    epoch_loss.append(np.mean(np.square(y_batch - pred)))\n",
        "\n",
        "    # update parameters using gradient descent\n",
        "    layers = backward(layers, hidden, loss_grad, lr)\n",
        "\n",
        "  # calculate validation loss for verbose\n",
        "  valid_preds, _ = forward(valid_x, layers)\n",
        "  valid_loss = np.mean(np.square(valid_y - valid_preds))\n",
        "\n",
        "  # learning rate decay\n",
        "  # if epoch % 5 == 0:\n",
        "  #   lr *= 0.9  # decay every 5 epochs\n",
        "\n",
        "  # verbose\n",
        "  if epoch % 20 == 0 or epoch == n:\n",
        "    print(\n",
        "      f\"for epoch {epoch} train loss: \"\n",
        "      f\"{np.mean(epoch_loss):.2f}, \"\n",
        "      f\"valid loss: {valid_loss:.2f}\"\n",
        "    )\n"
      ],
      "metadata": {
        "colab": {
          "base_uri": "https://localhost:8080/"
        },
        "id": "HAiLzlErEctX",
        "outputId": "4f8fefd0-b7a0-4ad5-b16a-d1406bce7666"
      },
      "execution_count": null,
      "outputs": [
        {
          "output_type": "stream",
          "name": "stdout",
          "text": [
            "Training Neural Network :\n",
            "for epoch 0 train loss: 533.44, valid loss: 21.46\n",
            "for epoch 20 train loss: 22.02, valid loss: 20.70\n",
            "for epoch 40 train loss: 22.00, valid loss: 20.67\n",
            "for epoch 60 train loss: 21.98, valid loss: 20.66\n",
            "for epoch 80 train loss: 21.96, valid loss: 20.65\n",
            "for epoch 100 train loss: 21.95, valid loss: 20.65\n",
            "for epoch 120 train loss: 21.94, valid loss: 20.64\n",
            "for epoch 140 train loss: 21.94, valid loss: 20.64\n",
            "for epoch 160 train loss: 21.93, valid loss: 20.64\n",
            "for epoch 180 train loss: 21.93, valid loss: 20.65\n",
            "for epoch 199 train loss: 21.92, valid loss: 20.65\n"
          ]
        }
      ]
    },
    {
      "cell_type": "markdown",
      "source": [
        "### **More Optimization Techniques :**\n",
        "\n",
        "* **Learning rate scheduling** (to fine-tune convergence)\n",
        "\n",
        "* **Regularization** (L2 weight decay to reduce overfitting)\n",
        "\n",
        "* **Early stopping** (stop when validation loss stops improving)\n",
        "\n",
        "* **Gradient clipping** (to stabilize training if needed)\n",
        "\n",
        "* **Batch shuffling** (improves generalization)\n",
        "\n",
        "* **Experiment with optimizer** (Adam often helps convergence even in regression)\n",
        "\n",
        "* **Feature engineering & normalization** (we already used standard scaling here)"
      ],
      "metadata": {
        "id": "rd2VjmF3FiIq"
      }
    },
    {
      "cell_type": "code",
      "source": [
        "# load in the data\n",
        "data = pd.read_csv(\"/content/drive/MyDrive/NLP_from_scratch/data/clean_weather.csv\",\n",
        "                   index_col = 0)\n",
        "data.ffill(axis = 0, inplace = True)\n",
        "\n",
        "data.head()"
      ],
      "metadata": {
        "colab": {
          "base_uri": "https://localhost:8080/",
          "height": 206
        },
        "id": "0PNpIY0Cgpbs",
        "outputId": "a54f503b-9ced-45d7-da0a-5b6b74926d96"
      },
      "execution_count": null,
      "outputs": [
        {
          "output_type": "execute_result",
          "data": {
            "text/plain": [
              "            tmax  tmin  rain  tmax_tomorrow\n",
              "1970-01-01  60.0  35.0   0.0           52.0\n",
              "1970-01-02  52.0  39.0   0.0           52.0\n",
              "1970-01-03  52.0  35.0   0.0           53.0\n",
              "1970-01-04  53.0  36.0   0.0           52.0\n",
              "1970-01-05  52.0  35.0   0.0           50.0"
            ],
            "text/html": [
              "\n",
              "  <div id=\"df-b585a1b9-a32b-46f9-976b-ea389f11deaa\" class=\"colab-df-container\">\n",
              "    <div>\n",
              "<style scoped>\n",
              "    .dataframe tbody tr th:only-of-type {\n",
              "        vertical-align: middle;\n",
              "    }\n",
              "\n",
              "    .dataframe tbody tr th {\n",
              "        vertical-align: top;\n",
              "    }\n",
              "\n",
              "    .dataframe thead th {\n",
              "        text-align: right;\n",
              "    }\n",
              "</style>\n",
              "<table border=\"1\" class=\"dataframe\">\n",
              "  <thead>\n",
              "    <tr style=\"text-align: right;\">\n",
              "      <th></th>\n",
              "      <th>tmax</th>\n",
              "      <th>tmin</th>\n",
              "      <th>rain</th>\n",
              "      <th>tmax_tomorrow</th>\n",
              "    </tr>\n",
              "  </thead>\n",
              "  <tbody>\n",
              "    <tr>\n",
              "      <th>1970-01-01</th>\n",
              "      <td>60.0</td>\n",
              "      <td>35.0</td>\n",
              "      <td>0.0</td>\n",
              "      <td>52.0</td>\n",
              "    </tr>\n",
              "    <tr>\n",
              "      <th>1970-01-02</th>\n",
              "      <td>52.0</td>\n",
              "      <td>39.0</td>\n",
              "      <td>0.0</td>\n",
              "      <td>52.0</td>\n",
              "    </tr>\n",
              "    <tr>\n",
              "      <th>1970-01-03</th>\n",
              "      <td>52.0</td>\n",
              "      <td>35.0</td>\n",
              "      <td>0.0</td>\n",
              "      <td>53.0</td>\n",
              "    </tr>\n",
              "    <tr>\n",
              "      <th>1970-01-04</th>\n",
              "      <td>53.0</td>\n",
              "      <td>36.0</td>\n",
              "      <td>0.0</td>\n",
              "      <td>52.0</td>\n",
              "    </tr>\n",
              "    <tr>\n",
              "      <th>1970-01-05</th>\n",
              "      <td>52.0</td>\n",
              "      <td>35.0</td>\n",
              "      <td>0.0</td>\n",
              "      <td>50.0</td>\n",
              "    </tr>\n",
              "  </tbody>\n",
              "</table>\n",
              "</div>\n",
              "    <div class=\"colab-df-buttons\">\n",
              "\n",
              "  <div class=\"colab-df-container\">\n",
              "    <button class=\"colab-df-convert\" onclick=\"convertToInteractive('df-b585a1b9-a32b-46f9-976b-ea389f11deaa')\"\n",
              "            title=\"Convert this dataframe to an interactive table.\"\n",
              "            style=\"display:none;\">\n",
              "\n",
              "  <svg xmlns=\"http://www.w3.org/2000/svg\" height=\"24px\" viewBox=\"0 -960 960 960\">\n",
              "    <path d=\"M120-120v-720h720v720H120Zm60-500h600v-160H180v160Zm220 220h160v-160H400v160Zm0 220h160v-160H400v160ZM180-400h160v-160H180v160Zm440 0h160v-160H620v160ZM180-180h160v-160H180v160Zm440 0h160v-160H620v160Z\"/>\n",
              "  </svg>\n",
              "    </button>\n",
              "\n",
              "  <style>\n",
              "    .colab-df-container {\n",
              "      display:flex;\n",
              "      gap: 12px;\n",
              "    }\n",
              "\n",
              "    .colab-df-convert {\n",
              "      background-color: #E8F0FE;\n",
              "      border: none;\n",
              "      border-radius: 50%;\n",
              "      cursor: pointer;\n",
              "      display: none;\n",
              "      fill: #1967D2;\n",
              "      height: 32px;\n",
              "      padding: 0 0 0 0;\n",
              "      width: 32px;\n",
              "    }\n",
              "\n",
              "    .colab-df-convert:hover {\n",
              "      background-color: #E2EBFA;\n",
              "      box-shadow: 0px 1px 2px rgba(60, 64, 67, 0.3), 0px 1px 3px 1px rgba(60, 64, 67, 0.15);\n",
              "      fill: #174EA6;\n",
              "    }\n",
              "\n",
              "    .colab-df-buttons div {\n",
              "      margin-bottom: 4px;\n",
              "    }\n",
              "\n",
              "    [theme=dark] .colab-df-convert {\n",
              "      background-color: #3B4455;\n",
              "      fill: #D2E3FC;\n",
              "    }\n",
              "\n",
              "    [theme=dark] .colab-df-convert:hover {\n",
              "      background-color: #434B5C;\n",
              "      box-shadow: 0px 1px 3px 1px rgba(0, 0, 0, 0.15);\n",
              "      filter: drop-shadow(0px 1px 2px rgba(0, 0, 0, 0.3));\n",
              "      fill: #FFFFFF;\n",
              "    }\n",
              "  </style>\n",
              "\n",
              "    <script>\n",
              "      const buttonEl =\n",
              "        document.querySelector('#df-b585a1b9-a32b-46f9-976b-ea389f11deaa button.colab-df-convert');\n",
              "      buttonEl.style.display =\n",
              "        google.colab.kernel.accessAllowed ? 'block' : 'none';\n",
              "\n",
              "      async function convertToInteractive(key) {\n",
              "        const element = document.querySelector('#df-b585a1b9-a32b-46f9-976b-ea389f11deaa');\n",
              "        const dataTable =\n",
              "          await google.colab.kernel.invokeFunction('convertToInteractive',\n",
              "                                                    [key], {});\n",
              "        if (!dataTable) return;\n",
              "\n",
              "        const docLinkHtml = 'Like what you see? Visit the ' +\n",
              "          '<a target=\"_blank\" href=https://colab.research.google.com/notebooks/data_table.ipynb>data table notebook</a>'\n",
              "          + ' to learn more about interactive tables.';\n",
              "        element.innerHTML = '';\n",
              "        dataTable['output_type'] = 'display_data';\n",
              "        await google.colab.output.renderOutput(dataTable, element);\n",
              "        const docLink = document.createElement('div');\n",
              "        docLink.innerHTML = docLinkHtml;\n",
              "        element.appendChild(docLink);\n",
              "      }\n",
              "    </script>\n",
              "  </div>\n",
              "\n",
              "\n",
              "    <div id=\"df-5d3c2dfc-417e-43d2-8cd1-2dfb8fa8eaee\">\n",
              "      <button class=\"colab-df-quickchart\" onclick=\"quickchart('df-5d3c2dfc-417e-43d2-8cd1-2dfb8fa8eaee')\"\n",
              "                title=\"Suggest charts\"\n",
              "                style=\"display:none;\">\n",
              "\n",
              "<svg xmlns=\"http://www.w3.org/2000/svg\" height=\"24px\"viewBox=\"0 0 24 24\"\n",
              "     width=\"24px\">\n",
              "    <g>\n",
              "        <path d=\"M19 3H5c-1.1 0-2 .9-2 2v14c0 1.1.9 2 2 2h14c1.1 0 2-.9 2-2V5c0-1.1-.9-2-2-2zM9 17H7v-7h2v7zm4 0h-2V7h2v10zm4 0h-2v-4h2v4z\"/>\n",
              "    </g>\n",
              "</svg>\n",
              "      </button>\n",
              "\n",
              "<style>\n",
              "  .colab-df-quickchart {\n",
              "      --bg-color: #E8F0FE;\n",
              "      --fill-color: #1967D2;\n",
              "      --hover-bg-color: #E2EBFA;\n",
              "      --hover-fill-color: #174EA6;\n",
              "      --disabled-fill-color: #AAA;\n",
              "      --disabled-bg-color: #DDD;\n",
              "  }\n",
              "\n",
              "  [theme=dark] .colab-df-quickchart {\n",
              "      --bg-color: #3B4455;\n",
              "      --fill-color: #D2E3FC;\n",
              "      --hover-bg-color: #434B5C;\n",
              "      --hover-fill-color: #FFFFFF;\n",
              "      --disabled-bg-color: #3B4455;\n",
              "      --disabled-fill-color: #666;\n",
              "  }\n",
              "\n",
              "  .colab-df-quickchart {\n",
              "    background-color: var(--bg-color);\n",
              "    border: none;\n",
              "    border-radius: 50%;\n",
              "    cursor: pointer;\n",
              "    display: none;\n",
              "    fill: var(--fill-color);\n",
              "    height: 32px;\n",
              "    padding: 0;\n",
              "    width: 32px;\n",
              "  }\n",
              "\n",
              "  .colab-df-quickchart:hover {\n",
              "    background-color: var(--hover-bg-color);\n",
              "    box-shadow: 0 1px 2px rgba(60, 64, 67, 0.3), 0 1px 3px 1px rgba(60, 64, 67, 0.15);\n",
              "    fill: var(--button-hover-fill-color);\n",
              "  }\n",
              "\n",
              "  .colab-df-quickchart-complete:disabled,\n",
              "  .colab-df-quickchart-complete:disabled:hover {\n",
              "    background-color: var(--disabled-bg-color);\n",
              "    fill: var(--disabled-fill-color);\n",
              "    box-shadow: none;\n",
              "  }\n",
              "\n",
              "  .colab-df-spinner {\n",
              "    border: 2px solid var(--fill-color);\n",
              "    border-color: transparent;\n",
              "    border-bottom-color: var(--fill-color);\n",
              "    animation:\n",
              "      spin 1s steps(1) infinite;\n",
              "  }\n",
              "\n",
              "  @keyframes spin {\n",
              "    0% {\n",
              "      border-color: transparent;\n",
              "      border-bottom-color: var(--fill-color);\n",
              "      border-left-color: var(--fill-color);\n",
              "    }\n",
              "    20% {\n",
              "      border-color: transparent;\n",
              "      border-left-color: var(--fill-color);\n",
              "      border-top-color: var(--fill-color);\n",
              "    }\n",
              "    30% {\n",
              "      border-color: transparent;\n",
              "      border-left-color: var(--fill-color);\n",
              "      border-top-color: var(--fill-color);\n",
              "      border-right-color: var(--fill-color);\n",
              "    }\n",
              "    40% {\n",
              "      border-color: transparent;\n",
              "      border-right-color: var(--fill-color);\n",
              "      border-top-color: var(--fill-color);\n",
              "    }\n",
              "    60% {\n",
              "      border-color: transparent;\n",
              "      border-right-color: var(--fill-color);\n",
              "    }\n",
              "    80% {\n",
              "      border-color: transparent;\n",
              "      border-right-color: var(--fill-color);\n",
              "      border-bottom-color: var(--fill-color);\n",
              "    }\n",
              "    90% {\n",
              "      border-color: transparent;\n",
              "      border-bottom-color: var(--fill-color);\n",
              "    }\n",
              "  }\n",
              "</style>\n",
              "\n",
              "      <script>\n",
              "        async function quickchart(key) {\n",
              "          const quickchartButtonEl =\n",
              "            document.querySelector('#' + key + ' button');\n",
              "          quickchartButtonEl.disabled = true;  // To prevent multiple clicks.\n",
              "          quickchartButtonEl.classList.add('colab-df-spinner');\n",
              "          try {\n",
              "            const charts = await google.colab.kernel.invokeFunction(\n",
              "                'suggestCharts', [key], {});\n",
              "          } catch (error) {\n",
              "            console.error('Error during call to suggestCharts:', error);\n",
              "          }\n",
              "          quickchartButtonEl.classList.remove('colab-df-spinner');\n",
              "          quickchartButtonEl.classList.add('colab-df-quickchart-complete');\n",
              "        }\n",
              "        (() => {\n",
              "          let quickchartButtonEl =\n",
              "            document.querySelector('#df-5d3c2dfc-417e-43d2-8cd1-2dfb8fa8eaee button');\n",
              "          quickchartButtonEl.style.display =\n",
              "            google.colab.kernel.accessAllowed ? 'block' : 'none';\n",
              "        })();\n",
              "      </script>\n",
              "    </div>\n",
              "\n",
              "    </div>\n",
              "  </div>\n"
            ],
            "application/vnd.google.colaboratory.intrinsic+json": {
              "type": "dataframe",
              "variable_name": "data",
              "summary": "{\n  \"name\": \"data\",\n  \"rows\": 13509,\n  \"fields\": [\n    {\n      \"column\": \"tmax\",\n      \"properties\": {\n        \"dtype\": \"number\",\n        \"std\": 8.328976736053626,\n        \"min\": 38.0,\n        \"max\": 122.0,\n        \"num_unique_values\": 66,\n        \"samples\": [\n          43.0,\n          122.0,\n          60.0\n        ],\n        \"semantic_type\": \"\",\n        \"description\": \"\"\n      }\n    },\n    {\n      \"column\": \"tmin\",\n      \"properties\": {\n        \"dtype\": \"number\",\n        \"std\": 6.792530879740785,\n        \"min\": 1.0,\n        \"max\": 69.0,\n        \"num_unique_values\": 48,\n        \"samples\": [\n          37.0,\n          68.0,\n          40.0\n        ],\n        \"semantic_type\": \"\",\n        \"description\": \"\"\n      }\n    },\n    {\n      \"column\": \"rain\",\n      \"properties\": {\n        \"dtype\": \"number\",\n        \"std\": 0.1805763898947246,\n        \"min\": 0.0,\n        \"max\": 3.58,\n        \"num_unique_values\": 161,\n        \"samples\": [\n          1.29,\n          0.61,\n          1.52\n        ],\n        \"semantic_type\": \"\",\n        \"description\": \"\"\n      }\n    },\n    {\n      \"column\": \"tmax_tomorrow\",\n      \"properties\": {\n        \"dtype\": \"number\",\n        \"std\": 8.328832488077406,\n        \"min\": 38.0,\n        \"max\": 122.0,\n        \"num_unique_values\": 66,\n        \"samples\": [\n          43.0,\n          122.0,\n          52.0\n        ],\n        \"semantic_type\": \"\",\n        \"description\": \"\"\n      }\n    }\n  ]\n}"
            }
          },
          "metadata": {},
          "execution_count": 30
        }
      ]
    },
    {
      "cell_type": "code",
      "source": [
        "# more structured\n",
        "\n",
        "import numpy as np\n",
        "from sklearn.preprocessing import StandardScaler\n",
        "\n",
        "PREDICTORS = ['tmax', 'tmin', 'rain']\n",
        "TARGET = ['tmax_tomorrow']\n",
        "\n",
        "# split the data\n",
        "split_data = np.split(data, [int(.7 * len(data)), int(.85 * len(data))])\n",
        "train_data, valid_data, test_data = split_data\n",
        "\n",
        "# transform the features\n",
        "scaler_x = StandardScaler()\n",
        "scaler_x.fit(train_data[PREDICTORS])\n",
        "\n",
        "train_x = scaler_x.transform(train_data[PREDICTORS])\n",
        "valid_x = scaler_x.transform(valid_data[PREDICTORS])\n",
        "test_x = scaler_x.transform(test_data[PREDICTORS])\n",
        "\n",
        "# without scaling y values\n",
        "train_y = train_data[TARGET].values\n",
        "valid_y = valid_data[TARGET].values\n",
        "test_y = test_data[TARGET].values\n",
        "\n",
        "# parameters(w, b) initialization\n",
        "def init_layers(layers_conf):\n",
        "    layers = []\n",
        "    np.random.seed(42)\n",
        "    for i in range(1, len(layers_conf)):\n",
        "        layers.append([\n",
        "            np.random.rand(layers_conf[i-1], layers_conf[i]) / 5 - 0.1,\n",
        "            np.ones((1, layers_conf[i]))\n",
        "        ])\n",
        "    return layers\n",
        "\n",
        "# forward pass\n",
        "def forward(batch, layers):\n",
        "    hidden = [batch.copy()]\n",
        "    for i in range(len(layers)):\n",
        "        batch = np.matmul(batch, layers[i][0]) + layers[i][1]\n",
        "        if i < len(layers) - 1:\n",
        "            batch = np.maximum(0, batch)  # ReLU activation\n",
        "        hidden.append(batch)\n",
        "    return batch, hidden\n",
        "\n",
        "# define loss function\n",
        "def mse(y_true, y_pred):\n",
        "    return np.mean(np.square(y_true - y_pred))\n",
        "\n",
        "# define the gradient function\n",
        "def mse_gradient(y_true, y_pred):\n",
        "    return (2 / y_true.shape[0]) * (y_pred - y_true)\n",
        "\n",
        "# parameter updation or gradient descent\n",
        "def backward(layers, hidden, grad, lr):\n",
        "    for i in range(len(layers)-1, -1, -1):\n",
        "        if i != len(layers) - 1:\n",
        "            grad = np.multiply(grad, np.heaviside(hidden[i+1], 0))  # ReLU derivative\n",
        "\n",
        "        w_grad = hidden[i].T @ grad\n",
        "        b_grad = np.mean(grad, axis=0, keepdims=True)\n",
        "\n",
        "        layers[i][0] -= w_grad * lr\n",
        "        layers[i][1] -= b_grad * lr\n",
        "\n",
        "        if i > 0:  # only compute grad for next iteration if not at first layer\n",
        "            grad = grad @ layers[i][0].T\n",
        "\n",
        "    return layers\n",
        "\n",
        "# Training parameters\n",
        "lr = 1e-4\n",
        "epochs = 200\n",
        "batch_size = 16\n",
        "n = epochs - 1\n",
        "\n",
        "input_dim = train_x.shape[1]\n",
        "layers_conf = [input_dim, 32, 1]\n",
        "\n",
        "layers = init_layers(layers_conf)\n",
        "\n",
        "print(\"Training Neural Network:\")\n",
        "\n",
        "for epoch in range(epochs):\n",
        "    epoch_loss = []\n",
        "    for i in range(0, train_x.shape[0], batch_size):\n",
        "        x_batch = train_x[i: i+batch_size]\n",
        "        y_batch = train_y[i: i+batch_size]\n",
        "\n",
        "        pred, hidden = forward(x_batch, layers)\n",
        "\n",
        "        grad = mse_gradient(y_batch, pred)\n",
        "\n",
        "        epoch_loss.append(mse(y_batch, pred))\n",
        "\n",
        "        layers = backward(layers, hidden, grad, lr)\n",
        "\n",
        "    valid_preds, _ = forward(valid_x, layers)\n",
        "    valid_loss = mse(valid_y, valid_preds)\n",
        "\n",
        "    if epoch % 20 == 0 or epoch == n:\n",
        "        print(\n",
        "            f\"Epoch {epoch}: \"\n",
        "            f\"Train Loss: {np.mean(epoch_loss):.4f}, \"\n",
        "            f\"Valid Loss: {valid_loss:.4f}\"\n",
        "        )"
      ],
      "metadata": {
        "colab": {
          "base_uri": "https://localhost:8080/"
        },
        "id": "agS3DE0wn9fg",
        "outputId": "4b3c9671-b59d-4391-f512-4481872ee1e3"
      },
      "execution_count": 4,
      "outputs": [
        {
          "output_type": "stream",
          "name": "stdout",
          "text": [
            "Training Neural Network:\n",
            "Epoch 0: Train Loss: 529.2819, Valid Loss: 21.2002\n",
            "Epoch 20: Train Loss: 22.0153, Valid Loss: 20.6996\n",
            "Epoch 40: Train Loss: 21.9979, Valid Loss: 20.6781\n",
            "Epoch 60: Train Loss: 21.9830, Valid Loss: 20.6672\n",
            "Epoch 80: Train Loss: 21.9595, Valid Loss: 20.6597\n",
            "Epoch 100: Train Loss: 21.9475, Valid Loss: 20.6571\n",
            "Epoch 120: Train Loss: 21.9414, Valid Loss: 20.6564\n",
            "Epoch 140: Train Loss: 21.9359, Valid Loss: 20.6545\n",
            "Epoch 160: Train Loss: 21.9309, Valid Loss: 20.6550\n",
            "Epoch 180: Train Loss: 21.9277, Valid Loss: 20.6545\n",
            "Epoch 199: Train Loss: 21.9253, Valid Loss: 20.6546\n"
          ]
        }
      ]
    },
    {
      "cell_type": "code",
      "source": [
        "test_preds, _ = forward(test_x, layers)\n",
        "\n",
        "test_mse = mse(test_y, test_preds)\n",
        "test_mae = np.mean(np.abs(test_y - test_preds))\n",
        "\n",
        "def r2_score(y_true, y_pred):\n",
        "    ss_res = np.sum((y_true - y_pred) ** 2)\n",
        "    ss_tot = np.sum((y_true - np.mean(y_true)) ** 2)\n",
        "    return 1 - ss_res / ss_tot\n",
        "\n",
        "test_r2 = r2_score(test_y, test_preds)\n",
        "\n",
        "print(\"\\nModel Evaluation on Test Data:\")\n",
        "print(f\"Test MSE: {test_mse:.4f}\")\n",
        "print(f\"Test MAE: {test_mae:.4f}\")\n",
        "print(f\"Test R² Score: {test_r2:.4f}\")\n"
      ],
      "metadata": {
        "colab": {
          "base_uri": "https://localhost:8080/"
        },
        "id": "KAvszx7cXP3d",
        "outputId": "a0c4a8bd-e472-4413-8f5e-38cadf356318"
      },
      "execution_count": 15,
      "outputs": [
        {
          "output_type": "stream",
          "name": "stdout",
          "text": [
            "\n",
            "Model Evaluation on Test Data:\n",
            "Test MSE: 22.1020\n",
            "Test MAE: 3.4234\n",
            "Test R² Score: 0.6846\n"
          ]
        }
      ]
    },
    {
      "cell_type": "code",
      "source": [],
      "metadata": {
        "id": "qvDtu3XJXR30"
      },
      "execution_count": null,
      "outputs": []
    }
  ]
}